{
  "cells": [
    {
      "cell_type": "code",
      "execution_count": 1,
      "metadata": {
        "id": "5sI4ZQzZKXy5"
      },
      "outputs": [],
      "source": [
        "### Imports\n",
        "\n",
        "import os\n",
        "import torch\n",
        "import random\n",
        "\n",
        "import numpy as np\n",
        "import pandas as pd\n",
        "import matplotlib.pyplot as plt\n",
        "from torch.utils.data import Dataset, DataLoader\n",
        "from torch.utils.data import RandomSampler, Sampler\n",
        "from torchvision import transforms, utils\n",
        "import torch.nn as nn\n",
        "\n",
        "import tensorflow as tf\n",
        "from sklearn.model_selection import train_test_split\n",
        "\n",
        "from torch.utils.data import Dataset, TensorDataset, DataLoader\n",
        "from typing import Iterator, Callable, List, Tuple\n",
        "import torch.optim as optim\n",
        "from sklearn.metrics import accuracy_score\n",
        "from tqdm import tqdm\n",
        "import random\n",
        "import collections"
      ]
    },
    {
      "cell_type": "markdown",
      "source": [
        "# PENTRU MODEL - TARAM TEODORA"
      ],
      "metadata": {
        "id": "vWNd27_TxZiV"
      }
    },
    {
      "cell_type": "code",
      "source": [
        "bert_used = 'readerbench/RoBERT-base'"
      ],
      "metadata": {
        "id": "So2_dcqExesC"
      },
      "execution_count": 2,
      "outputs": []
    },
    {
      "cell_type": "code",
      "source": [
        "BATCH_SIZE = 8"
      ],
      "metadata": {
        "id": "r-teL4_Rx2jZ"
      },
      "execution_count": 3,
      "outputs": []
    },
    {
      "cell_type": "code",
      "source": [
        "USED_TYPE = 0\n",
        "#### 0 for TITLE\n",
        "#### 1 for CONTENT"
      ],
      "metadata": {
        "id": "usxlQGn2x85A"
      },
      "execution_count": 4,
      "outputs": []
    },
    {
      "cell_type": "code",
      "source": [
        "MAX_TITLE_LEN = 180\n",
        "MAX_CONTENT_LEN = 2048"
      ],
      "metadata": {
        "id": "HwdvcAjNyDOe"
      },
      "execution_count": 5,
      "outputs": []
    },
    {
      "cell_type": "code",
      "execution_count": 6,
      "metadata": {
        "id": "p-FVcgq0w_Ft",
        "colab": {
          "base_uri": "https://localhost:8080/"
        },
        "outputId": "fab509cf-5a72-4a15-abe0-185d82607716"
      },
      "outputs": [
        {
          "output_type": "stream",
          "name": "stdout",
          "text": [
            "NumPy random seed set with value: 7757\n",
            "TensorFlow random seed set with value: 7757\n",
            "PyTorch random seed set with value: 7757\n"
          ]
        }
      ],
      "source": [
        "import random\n",
        "\n",
        "\n",
        "def reset_numpy_seed(seed_value=42):\n",
        "  try:\n",
        "    # Set NumPy random seed\n",
        "    import numpy as np\n",
        "    np.random.seed(seed_value)\n",
        "    print(f'NumPy random seed set with value: {seed_value}')\n",
        "  except Exception as e:\n",
        "    print(f'NumPy random seed was not set: {e}')\n",
        "  return\n",
        "\n",
        "\n",
        "def reset_tensorflow_seed(seed_value=42):\n",
        "  try:\n",
        "    # Set TensorFlow random seed\n",
        "    import tensorflow as tf\n",
        "    success = False\n",
        "    # Here we have 2 different ways to set the seed\n",
        "    # depending on the version of TensorFlow\n",
        "    try:\n",
        "      tf.random.set_seed(seed_value)\n",
        "      success = True\n",
        "    except Exception as e:\n",
        "      pass\n",
        "    try:\n",
        "      tf.set_random_seed(seed_value)\n",
        "      success = True\n",
        "    except Exception as e:\n",
        "      pass\n",
        "    if success:\n",
        "      print(f'TensorFlow random seed set with value: {seed_value}')\n",
        "    else:\n",
        "      print(f'TensorFlow random seed was not set')\n",
        "  except Exception as e:\n",
        "    print(f'TensorFlow random seed was not set: {e}')\n",
        "  return\n",
        "\n",
        "\n",
        "def reset_torch_seed(seed_value=42):\n",
        "  try:\n",
        "    # Set PyTorch random seed\n",
        "    import torch\n",
        "    torch.manual_seed(seed_value)\n",
        "    if torch.cuda.is_available():\n",
        "      torch.cuda.manual_seed(seed_value)\n",
        "      torch.cuda.manual_seed_all(seed_value)  # if you are using multiple GPUs\n",
        "    print(f'PyTorch random seed set with value: {seed_value}')\n",
        "  except Exception as e:\n",
        "    print(f'PyTorch random seed was not set: {e}')\n",
        "  return\n",
        "\n",
        "\n",
        "def set_random_seeds(seed_value=42):\n",
        "  # Set Python random seed\n",
        "  random.seed(seed_value)\n",
        "  reset_numpy_seed(seed_value)\n",
        "  reset_tensorflow_seed(seed_value)\n",
        "  reset_torch_seed(seed_value)\n",
        "  return\n",
        "\n",
        "\n",
        "if __name__ == '__main__':\n",
        "  # Set the desired seed value\n",
        "  seed = 7757\n",
        "\n",
        "  # Set random seeds\n",
        "  set_random_seeds(seed)"
      ]
    },
    {
      "cell_type": "markdown",
      "source": [
        "# GATA TARAM"
      ],
      "metadata": {
        "id": "MNKgUmQAyeEk"
      }
    },
    {
      "cell_type": "code",
      "execution_count": 7,
      "metadata": {
        "colab": {
          "base_uri": "https://localhost:8080/"
        },
        "id": "jjOBsPGaLlfy",
        "outputId": "d6ab17fc-9f45-4110-affb-b56307100520"
      },
      "outputs": [
        {
          "output_type": "stream",
          "name": "stdout",
          "text": [
            "Drive already mounted at /content/drive; to attempt to forcibly remount, call drive.mount(\"/content/drive\", force_remount=True).\n"
          ]
        }
      ],
      "source": [
        "from google.colab import drive\n",
        "drive.mount('/content/drive')"
      ]
    },
    {
      "cell_type": "code",
      "execution_count": 8,
      "metadata": {
        "id": "ymgbQxvc5UJO"
      },
      "outputs": [],
      "source": [
        "read_data = pd.read_csv(\n",
        "    \"/content/drive/MyDrive/NLP3/train.csv\")\n"
      ]
    },
    {
      "cell_type": "code",
      "source": [
        "print(read_data[read_data['class'] == False].shape)\n",
        "print(read_data[read_data['class'] == True].shape)"
      ],
      "metadata": {
        "colab": {
          "base_uri": "https://localhost:8080/"
        },
        "id": "UY11bKPycvTn",
        "outputId": "a6454691-db7f-4924-e0ad-9325013755b7"
      },
      "execution_count": 9,
      "outputs": [
        {
          "output_type": "stream",
          "name": "stdout",
          "text": [
            "(25307, 4)\n",
            "(45268, 4)\n"
          ]
        }
      ]
    },
    {
      "cell_type": "code",
      "source": [
        "read_data[\"content\"][41508]"
      ],
      "metadata": {
        "id": "Z7B1-aDBdYDJ"
      },
      "execution_count": null,
      "outputs": []
    },
    {
      "cell_type": "markdown",
      "source": [
        "Pregatirea datelor:\n",
        "- Scoatem spatii multiple\n",
        "- Url, email?\n",
        "- greseli gramaticale?\n",
        "- non-utf8\n",
        "- procente?"
      ],
      "metadata": {
        "id": "WPpVMBObht7I"
      }
    },
    {
      "cell_type": "code",
      "source": [
        "X_train, X_test, y_train, y_test = train_test_split(read_data[['title', 'content']], read_data['class'], test_size=0.20)\n",
        "\n",
        "df_train = pd.concat([X_train, y_train], axis=1)\n",
        "df_test = pd.concat([X_test, y_test], axis=1)"
      ],
      "metadata": {
        "id": "CVPOQkqtd4zB"
      },
      "execution_count": 10,
      "outputs": []
    },
    {
      "cell_type": "code",
      "source": [
        "print(df_train.shape)\n",
        "print(df_test.shape)"
      ],
      "metadata": {
        "colab": {
          "base_uri": "https://localhost:8080/"
        },
        "id": "he6aJznbedas",
        "outputId": "0b3224c7-a26f-4974-c12c-62140a7c5ac8"
      },
      "execution_count": 11,
      "outputs": [
        {
          "output_type": "stream",
          "name": "stdout",
          "text": [
            "(56460, 3)\n",
            "(14115, 3)\n"
          ]
        }
      ]
    },
    {
      "cell_type": "code",
      "execution_count": 12,
      "metadata": {
        "id": "-yw0TEtMAoXf",
        "colab": {
          "base_uri": "https://localhost:8080/"
        },
        "outputId": "20bd39f0-f89f-4bfd-a83c-5b1a0ab21395"
      },
      "outputs": [
        {
          "output_type": "stream",
          "name": "stdout",
          "text": [
            "device =  cpu\n"
          ]
        }
      ],
      "source": [
        "device = torch.device('cuda') if torch.cuda.is_available() else torch.device('cpu')\n",
        "device = torch.device('cpu')\n",
        "print(\"device = \", device)"
      ]
    },
    {
      "cell_type": "code",
      "source": [
        "#Sursa: https://towardsdatascience.com/text-classification-with-bert-in-pytorch-887965e5820f\n",
        "from transformers import BertTokenizer\n",
        "\n",
        "tokenizer = BertTokenizer.from_pretrained(bert_used)\n",
        "\n",
        "class Dataset(torch.utils.data.Dataset):\n",
        "\n",
        "    def __init__(self, df):\n",
        "        self.labels = [label for label in df['class']]\n",
        "        self.titles = [tokenizer(str(text),\n",
        "                                 padding='max_length', max_length = MAX_TITLE_LEN, truncation=True,\n",
        "                                return_tensors=\"pt\") for text in df['title']]\n",
        "\n",
        "    def classes(self):\n",
        "        return self.labels\n",
        "\n",
        "    def __len__(self):\n",
        "        return len(self.labels)\n",
        "\n",
        "    def get_batch_labels(self, idx):\n",
        "        # Fetch a batch of labels\n",
        "        return np.array(self.labels[idx])\n",
        "\n",
        "    def get_batch_title(self, idx):\n",
        "        # Fetch a batch of inputs\n",
        "        return self.titles[idx]\n",
        "\n",
        "    def __getitem__(self, idx):\n",
        "\n",
        "        batch_title = self.get_batch_title(idx)\n",
        "        batch_y = self.get_batch_labels(idx)\n",
        "\n",
        "        return batch_title, batch_y"
      ],
      "metadata": {
        "id": "1TDPD6UHttUH",
        "colab": {
          "base_uri": "https://localhost:8080/"
        },
        "outputId": "0afa2c81-1b84-41d3-c26e-d4ab4ecd5776"
      },
      "execution_count": 13,
      "outputs": [
        {
          "output_type": "stream",
          "name": "stderr",
          "text": [
            "/usr/local/lib/python3.10/dist-packages/huggingface_hub/utils/_token.py:88: UserWarning: \n",
            "The secret `HF_TOKEN` does not exist in your Colab secrets.\n",
            "To authenticate with the Hugging Face Hub, create a token in your settings tab (https://huggingface.co/settings/tokens), set it as secret in your Google Colab and restart your session.\n",
            "You will be able to reuse this secret in all of your notebooks.\n",
            "Please note that authentication is recommended but still optional to access public models or datasets.\n",
            "  warnings.warn(\n"
          ]
        }
      ]
    },
    {
      "cell_type": "code",
      "source": [
        "train_dataset = Dataset(df_train) # 11 min"
      ],
      "metadata": {
        "id": "HDcZDZNurKjW"
      },
      "execution_count": 14,
      "outputs": []
    },
    {
      "cell_type": "code",
      "source": [
        "validation_dataset = Dataset(df_test)"
      ],
      "metadata": {
        "id": "c5lZ6P0Y0UtU"
      },
      "execution_count": 15,
      "outputs": []
    },
    {
      "cell_type": "code",
      "source": [
        "train_dataloader = torch.utils.data.DataLoader(\n",
        "    train_dataset,\n",
        "    batch_size=BATCH_SIZE,\n",
        "    shuffle=True)"
      ],
      "metadata": {
        "id": "mRIIOUss0XR0"
      },
      "execution_count": 16,
      "outputs": []
    },
    {
      "cell_type": "code",
      "source": [
        "val_dataloader = torch.utils.data.DataLoader(\n",
        "    validation_dataset,\n",
        "    batch_size=BATCH_SIZE,\n",
        "    shuffle=True)"
      ],
      "metadata": {
        "id": "V-5Chk0X0Ync"
      },
      "execution_count": 17,
      "outputs": []
    },
    {
      "cell_type": "code",
      "execution_count": 24,
      "metadata": {
        "id": "2uq2eA5KAenh"
      },
      "outputs": [],
      "source": [
        "from transformers import BertModel\n",
        "\n",
        "class SatireClassifier(nn.Module):\n",
        "    def __init__(self,\n",
        "                 input_size: int,\n",
        "                 hidden_size_1: int,\n",
        "                 hidden_size_2: int,\n",
        "                 hidden_size_3: int,\n",
        "                 device: torch.device,\n",
        "                 activation_fn: Callable,\n",
        "                 dropout_rate: float):\n",
        "        super(SatireClassifier, self).__init__()\n",
        "        self.bert = BertModel.from_pretrained(bert_used)\n",
        "        self.input_size = input_size\n",
        "        self.hidden_size = hidden_size_1\n",
        "        self.hidden_size_2 = hidden_size_2\n",
        "        self.hidden_size_3 = hidden_size_3\n",
        "        self.hidden_layer_1 = nn.Linear(768, 1)\n",
        "        #self.hidden_layer_2 = nn.Linear(hidden_size_1, hidden_size_2)\n",
        "        #self.hidden_layer_3 = nn.Linear(hidden_size_2, hidden_size_3)\n",
        "        #self.output_layer = nn.Linear(hidden_size_2, 1) ####### Nu fi proasta si modifica\n",
        "        self.activation_fn = activation_fn\n",
        "        self.dropout = nn.Dropout(p=dropout_rate)\n",
        "        self.device = device\n",
        "\n",
        "    def forward(self, x, mask):\n",
        "        #x = x.to(torch.float32)\n",
        "        _, pooled_output = self.bert(input_ids= x, attention_mask=mask,return_dict=False)\n",
        "        h1 = self.hidden_layer_1(pooled_output)\n",
        "        #h2 = self.activation_fn(self.hidden_layer_2(h1))\n",
        "        #h3 = self.activation_fn(self.hidden_layer_3(h2))\n",
        "        #h = self.activation_fn(self.dropout(self.hidden_layer(x)))\n",
        "        #out = self.output_layer(h2)\n",
        "\n",
        "        return h1"
      ]
    },
    {
      "cell_type": "code",
      "source": [
        "def get_num_features():\n",
        "  if USED_TYPE == 0:\n",
        "    return MAX_TITLE_LEN\n",
        "  else: return MAX_CONTENT_LEN"
      ],
      "metadata": {
        "id": "41wHhcpmyyVC"
      },
      "execution_count": 19,
      "outputs": []
    },
    {
      "cell_type": "code",
      "execution_count": 25,
      "metadata": {
        "id": "CSAFQf8AD-tU"
      },
      "outputs": [],
      "source": [
        "model = SatireClassifier(\n",
        "    input_size=get_num_features,\n",
        "    hidden_size_1=256,\n",
        "    hidden_size_2=512,\n",
        "    hidden_size_3=512,\n",
        "    device=device,\n",
        "    activation_fn=nn.ReLU(),\n",
        "    dropout_rate=0.2\n",
        ")\n",
        "#model.to(device)\n",
        "optimizer = optim.Adam(model.parameters(), lr=3e-4)"
      ]
    },
    {
      "cell_type": "code",
      "execution_count": null,
      "metadata": {
        "id": "ngPhCBNCEy64"
      },
      "outputs": [],
      "source": [
        "for param in model. parameters ():\n",
        "  print(param)"
      ]
    },
    {
      "cell_type": "code",
      "execution_count": 26,
      "metadata": {
        "id": "espZ2L_kFuj6"
      },
      "outputs": [],
      "source": [
        "loss_crt = nn.BCEWithLogitsLoss(\n",
        "\n",
        ")"
      ]
    },
    {
      "cell_type": "code",
      "execution_count": null,
      "metadata": {
        "id": "n8JsO9rnJhpy"
      },
      "outputs": [],
      "source": [
        "loss_crt = nn.CrossEntropyLoss()"
      ]
    },
    {
      "cell_type": "code",
      "execution_count": null,
      "metadata": {
        "colab": {
          "base_uri": "https://localhost:8080/"
        },
        "id": "I5mzs8o4GdS3",
        "outputId": "37c52122-5a83-4230-b383-6796503d2c41"
      },
      "outputs": [
        {
          "output_type": "stream",
          "name": "stderr",
          "text": [
            "  2%|▏         | 136/7058 [32:06<27:01:40, 14.06s/it]"
          ]
        }
      ],
      "source": [
        "num_train_batches = len(train_dataloader)\n",
        "num_val_batches = len(val_dataloader)\n",
        "\n",
        "epoch_loss = 0.0\n",
        "train_losses, val_losses = [], []\n",
        "train_predictions, val_predictions = [], []\n",
        "train_labels, val_labels = [], []\n",
        "train_accuracies, val_accuracies = [], []\n",
        "\n",
        "NUM_EPOCHS = 2\n",
        "\n",
        "for epoch_idx in range(NUM_EPOCHS):\n",
        "    train_labels = []\n",
        "    val_labels = []\n",
        "    train_preds = []\n",
        "    val_preds = []\n",
        "\n",
        "    train_epoch_loss = 0.0\n",
        "    model.train()\n",
        "    for batch_titles, batch_labels in tqdm(train_dataloader):\n",
        "        model.zero_grad()\n",
        "\n",
        "        batch_labels = batch_labels \\\n",
        "                  .type(torch.FloatTensor) \\\n",
        "                  .reshape((batch_labels.shape[0], 1)).to(device)\n",
        "\n",
        "        mask = batch_titles['attention_mask'].to(device)\n",
        "        input_id = batch_titles['input_ids'].squeeze(1).to(device)\n",
        "        # feedforward\n",
        "        out = model(input_id, mask)\n",
        "\n",
        "        probabilities = torch.sigmoid(out.squeeze())  # Apply sigmoid activation\n",
        "        batch_predictions = (probabilities >= 0.5).long()\n",
        "\n",
        "        # compute loss\n",
        "        loss = loss_crt(out, batch_labels)\n",
        "        loss.backward()\n",
        "        optimizer.step()\n",
        "        train_epoch_loss += loss.item()\n",
        "        train_labels += batch_labels.to(int).tolist()\n",
        "        train_preds += batch_predictions.tolist()\n",
        "\n",
        "    val_preds = []\n",
        "    with torch.no_grad():\n",
        "        model.eval()\n",
        "        val_epoch_loss = 0.0\n",
        "        for batch_titles, batch_labels in tqdm(val_dataloader):\n",
        "            batch_labels = batch_labels \\\n",
        "                  .type(torch.FloatTensor) \\\n",
        "                  .reshape((batch_labels.shape[0], 1)).to(device)\n",
        "\n",
        "            mask = batch_titles['attention_mask'].to(device)\n",
        "            input_id = batch_titles['input_ids'].squeeze(1).to(device)\n",
        "            # batch_size x 10\n",
        "            # feedforward\n",
        "            out = model(input_id, mask)\n",
        "            probabilities = torch.sigmoid(out.squeeze())  # Apply sigmoid activation\n",
        "            batch_predictions = (probabilities >= 0.5).long()\n",
        "\n",
        "            # compute loss\n",
        "            loss = loss_crt(out, batch_labels).item()\n",
        "            val_epoch_loss += loss\n",
        "            val_labels += batch_labels.to(int).tolist()\n",
        "            val_preds += batch_predictions.tolist()\n",
        "\n",
        "    train_epoch_loss /= num_train_batches\n",
        "    val_epoch_loss /= num_val_batches\n",
        "    train_acc = accuracy_score(train_labels, train_preds)\n",
        "    valid_acc = accuracy_score(val_labels, val_preds)\n",
        "\n",
        "    train_losses.append(train_epoch_loss)\n",
        "    val_losses.append(val_epoch_loss)\n",
        "    train_accuracies.append(train_acc)\n",
        "    val_accuracies.append(valid_acc)\n",
        "\n",
        "    print(\"epoch %d, train loss=%f, val loss=%f, train acc=%f, val acc=%f\" % (\n",
        "        epoch_idx, train_epoch_loss, val_epoch_loss, train_acc, valid_acc\n",
        "    ))"
      ]
    },
    {
      "cell_type": "code",
      "execution_count": null,
      "metadata": {
        "id": "IIFwCYDNhlyO"
      },
      "outputs": [],
      "source": []
    },
    {
      "cell_type": "code",
      "execution_count": null,
      "metadata": {
        "colab": {
          "base_uri": "https://localhost:8080/",
          "height": 472
        },
        "id": "l-OVYe3vKRBo",
        "outputId": "dcf0d2b9-f30a-47e4-edb4-8ca42d0a5680"
      },
      "outputs": [
        {
          "data": {
            "image/png": "[encoded data removed]",
            "text/plain": [
              "<Figure size 640x480 with 1 Axes>"
            ]
          },
          "metadata": {},
          "output_type": "display_data"
        }
      ],
      "source": [
        "%matplotlib inline\n",
        "plt.plot(range(0,len(train_losses)), train_losses, 'g', label='Training loss')\n",
        "plt.plot(range(0,len(train_losses)), val_losses, 'b', label='Validation loss')\n",
        "plt.title('Training and Validation loss')\n",
        "plt.xlabel('Epochs')\n",
        "plt.ylabel('Loss')\n",
        "plt.legend()\n",
        "plt.show()"
      ]
    },
    {
      "cell_type": "code",
      "execution_count": null,
      "metadata": {
        "colab": {
          "base_uri": "https://localhost:8080/",
          "height": 472
        },
        "id": "knTkc-oMNxGN",
        "outputId": "9fd03730-78f3-44b1-d6d2-241a6a26769c"
      },
      "outputs": [
        {
          "data": {
            "image/png": "[encoded data removed]",
            "text/plain": [
              "<Figure size 640x480 with 1 Axes>"
            ]
          },
          "metadata": {},
          "output_type": "display_data"
        }
      ],
      "source": [
        "plt.plot(range(0,len(train_accuracies)), train_accuracies, 'g', label='Training accuracy')\n",
        "plt.plot(range(0,len(train_accuracies)), val_accuracies, 'b', label='Validation accuracy')\n",
        "plt.title('Training and Validation accuracies')\n",
        "plt.xlabel('Epochs')\n",
        "plt.ylabel('Loss')\n",
        "plt.legend()\n",
        "plt.show()"
      ]
    },
    {
      "cell_type": "code",
      "execution_count": null,
      "metadata": {
        "id": "G0RJdVtQOD4x"
      },
      "outputs": [],
      "source": [
        "def compute_confusion_matrix(predictions: List[int], labels:List[int]) -> Tuple[int]:\n",
        "    \"\"\"\n",
        "    Compute the confusion matrix.\n",
        "    Arguments:\n",
        "        predictions: list of model predictions (0 for cats or 1 for dogs)\n",
        "        labels: list of ground truth labels (0 or 1)\n",
        "    \"\"\"\n",
        "    correct_cats = 0\n",
        "    correct_dogs = 0\n",
        "    wrong_cats = 0\n",
        "    wrong_dogs = 0\n",
        "    for (p,l) in zip(predictions, labels):\n",
        "        if p == 0 and l == 0:\n",
        "            correct_cats += 1\n",
        "        elif p == 0 and l == 1:\n",
        "            wrong_cats += 1\n",
        "        elif p == 1 and l == 1:\n",
        "            correct_dogs += 1\n",
        "        else:\n",
        "            wrong_dogs += 1\n",
        "\n",
        "    return (correct_cats, wrong_cats, correct_dogs, wrong_dogs)"
      ]
    },
    {
      "cell_type": "code",
      "execution_count": null,
      "metadata": {
        "id": "JW6GMLpuPJvA"
      },
      "outputs": [],
      "source": [
        "def eval_epoch(model, val_dataloader, loss_crt, device):\n",
        "    \"\"\"\n",
        "    model: Model object\n",
        "    val_dataloader: DataLoader over the validation dataset\n",
        "    loss_crt: loss function object\n",
        "    device: torch.device('cpu) or torch.device('cuda')\n",
        "\n",
        "    The function returns:\n",
        "     - the epoch validation loss, which is an average over the individual batch\n",
        "       losses\n",
        "     - the predictions made by the model\n",
        "     - the labels\n",
        "    \"\"\"\n",
        "    model.eval()\n",
        "    epoch_loss = 0.0\n",
        "    num_batches = len(val_dataloader)\n",
        "    predictions = []\n",
        "    labels = []\n",
        "    with torch.no_grad():\n",
        "        for batch_titles, batch_content, batch_labels in tqdm(val_dataloader):\n",
        "            batch_labels = batch_labels \\\n",
        "                  .type(torch.FloatTensor) \\\n",
        "                  .reshape((batch_labels.shape[0], 1))\n",
        "            batch_labels = batch_labels.to(device)\n",
        "\n",
        "            to_use = batch_content\n",
        "            if USED_TYPE == 0:\n",
        "              to_use = batch_titles\n",
        "\n",
        "            mask = to_use['attention_mask'].to(device)\n",
        "            input_id = to_use['input_ids'].squeeze(1).to(device)\n",
        "            # batch_size x 10\n",
        "            # feedforward\n",
        "            out = model(input_id, mask)\n",
        "            probabilities = torch.sigmoid(out.squeeze())  # Apply sigmoid activation\n",
        "            batch_predictions = (probabilities >= 0.5).long()\n",
        "\n",
        "            predictions += batch_predictions.squeeze().tolist()\n",
        "            labels += batch_labels.squeeze().tolist()\n",
        "\n",
        "            loss = loss_crt(out, batch_labels)\n",
        "            loss_scalar = loss.item()\n",
        "\n",
        "            epoch_loss += loss_scalar\n",
        "\n",
        "    epoch_loss = epoch_loss/num_batches\n",
        "\n",
        "    return epoch_loss, predictions, labels"
      ]
    },
    {
      "cell_type": "code",
      "execution_count": null,
      "metadata": {
        "colab": {
          "base_uri": "https://localhost:8080/"
        },
        "id": "AapZlSVMPL-D",
        "outputId": "f950e759-4108-40b0-9114-ae3baabc9cd8"
      },
      "outputs": [
        {
          "name": "stderr",
          "output_type": "stream",
          "text": [
            "90it [00:00, 1288.09it/s]\n"
          ]
        }
      ],
      "source": [
        "fin_loss, preds, labels = eval_epoch(\n",
        "    model, val_dataloader, loss_crt, device)"
      ]
    },
    {
      "cell_type": "code",
      "execution_count": null,
      "metadata": {
        "colab": {
          "base_uri": "https://localhost:8080/"
        },
        "id": "qAhsT4VHurIN",
        "outputId": "fa7b1b19-704d-4236-df01-c409fc79ecbc"
      },
      "outputs": [
        {
          "data": {
            "text/plain": [
              "714"
            ]
          },
          "execution_count": 85,
          "metadata": {},
          "output_type": "execute_result"
        }
      ],
      "source": [
        "len(preds)"
      ]
    },
    {
      "cell_type": "code",
      "execution_count": null,
      "metadata": {
        "colab": {
          "background_save": true,
          "base_uri": "https://localhost:8080/",
          "height": 530
        },
        "id": "KFxWDSv6N6gI",
        "outputId": "7d374cd5-9511-4b54-e373-0bb940a5959d"
      },
      "outputs": [
        {
          "name": "stderr",
          "output_type": "stream",
          "text": [
            "357it [00:00, 1368.10it/s]\n"
          ]
        },
        {
          "data": {
            "image/png": "[encoded data removed]",
            "text/plain": [
              "<Figure size 640x480 with 2 Axes>"
            ]
          },
          "metadata": {},
          "output_type": "display_data"
        }
      ],
      "source": [
        "fin_loss, preds, labels = eval_epoch(\n",
        "    model, val_dataloader, loss_crt, device)\n",
        "\n",
        "\n",
        "correct_cats, wrong_cats, correct_dogs, wrong_dogs = compute_confusion_matrix(\n",
        "    preds,\n",
        "    labels\n",
        ")\n",
        "cf_matrix = [\n",
        "    [correct_cats, wrong_cats],\n",
        "    [wrong_dogs, correct_dogs]\n",
        "]\n",
        "import seaborn as sns\n",
        "\n",
        "ax = sns.heatmap(cf_matrix, annot=True, cmap='Blues', fmt='d')\n",
        "\n",
        "ax.set_title('Confusion Matrix\\n\\n');\n",
        "ax.set_xlabel('Actual Values')\n",
        "ax.set_ylabel('Predicted Values ');\n",
        "\n",
        "## Ticket labels - List must be in alphabetical order\n",
        "ax.xaxis.set_ticklabels(['0','1'])\n",
        "ax.yaxis.set_ticklabels(['0','1'])\n",
        "\n",
        "## Display the visualization of the Confusion Matrix.\n",
        "plt.show()"
      ]
    },
    {
      "cell_type": "code",
      "execution_count": null,
      "metadata": {
        "colab": {
          "base_uri": "https://localhost:8080/"
        },
        "id": "iwtqQ5GSqlcH",
        "outputId": "66a43157-6459-448a-dd2a-c0d57706d268"
      },
      "outputs": [
        {
          "data": {
            "text/plain": [
              "180"
            ]
          },
          "execution_count": 44,
          "metadata": {},
          "output_type": "execute_result"
        }
      ],
      "source": [
        "len(preds)"
      ]
    },
    {
      "cell_type": "code",
      "execution_count": null,
      "metadata": {
        "id": "vDtbWdBxb2gG"
      },
      "outputs": [],
      "source": [
        "model1 = model"
      ]
    },
    {
      "cell_type": "code",
      "execution_count": null,
      "metadata": {
        "colab": {
          "base_uri": "https://localhost:8080/"
        },
        "id": "DbanWdtzigiL",
        "outputId": "72ce9e60-0b98-480d-ecaa-6e7b2f38aa09"
      },
      "outputs": [
        {
          "name": "stderr",
          "output_type": "stream",
          "text": [
            "45it [00:00, 957.53it/s]\n"
          ]
        }
      ],
      "source": [
        "fin_loss, val_predictions, val_labels = eval_epoch(\n",
        "    model1, val_dataloader, loss_crt, device)"
      ]
    },
    {
      "cell_type": "code",
      "execution_count": null,
      "metadata": {
        "id": "3W6rxIwydF8i"
      },
      "outputs": [],
      "source": [
        "model2 = model ##### overfit nebun, 512, 1024, 1025 ---//----"
      ]
    },
    {
      "cell_type": "code",
      "execution_count": null,
      "metadata": {
        "id": "pX2ix_STeNHL"
      },
      "outputs": [],
      "source": [
        "model3 = model ###### 12 epoci, 256, 256, 256,      ...... , 20 376...."
      ]
    },
    {
      "cell_type": "code",
      "execution_count": null,
      "metadata": {
        "colab": {
          "base_uri": "https://localhost:8080/"
        },
        "id": "CF_3VmCjz0Hi",
        "outputId": "144ca222-4bec-4802-e89f-c7b993ee721b"
      },
      "outputs": [
        {
          "name": "stdout",
          "output_type": "stream",
          "text": [
            "tensor([2696,  156])\n"
          ]
        }
      ],
      "source": [
        "print(torch.bincount(y_train))"
      ]
    }
  ],
  "metadata": {
    "accelerator": "GPU",
    "colab": {
      "gpuType": "T4",
      "provenance": []
    },
    "kernelspec": {
      "display_name": "Python 3",
      "name": "python3"
    },
    "language_info": {
      "name": "python"
    }
  },
  "nbformat": 4,
  "nbformat_minor": 0
}