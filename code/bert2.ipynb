{
  "cells": [
    {
      "cell_type": "code",
      "execution_count": 1,
      "metadata": {
        "id": "5sI4ZQzZKXy5"
      },
      "outputs": [],
      "source": [
        "### Imports\n",
        "\n",
        "import os\n",
        "import torch\n",
        "import random\n",
        "\n",
        "import numpy as np\n",
        "import pandas as pd\n",
        "import matplotlib.pyplot as plt\n",
        "from torch.utils.data import Dataset, DataLoader\n",
        "from torch.utils.data import RandomSampler, Sampler\n",
        "from torchvision import transforms, utils\n",
        "import torch.nn as nn\n",
        "\n",
        "import tensorflow as tf\n",
        "from sklearn.model_selection import train_test_split\n",
        "\n",
        "from torch.utils.data import Dataset, TensorDataset, DataLoader\n",
        "from typing import Iterator, Callable, List, Tuple\n",
        "import torch.optim as optim\n",
        "from sklearn.metrics import accuracy_score\n",
        "from tqdm import tqdm\n",
        "import random\n",
        "import collections"
      ]
    },
    {
      "cell_type": "markdown",
      "source": [
        "# PENTRU MODEL - TARAM TEODORA"
      ],
      "metadata": {
        "id": "vWNd27_TxZiV"
      }
    },
    {
      "cell_type": "code",
      "source": [
        "bert_used = 'readerbench/RoBERT-base'"
      ],
      "metadata": {
        "id": "So2_dcqExesC"
      },
      "execution_count": 2,
      "outputs": []
    },
    {
      "cell_type": "code",
      "source": [
        "BATCH_SIZE = 16"
      ],
      "metadata": {
        "id": "r-teL4_Rx2jZ"
      },
      "execution_count": 3,
      "outputs": []
    },
    {
      "cell_type": "code",
      "source": [
        "USED_TYPE = 0\n",
        "#### 0 for TITLE\n",
        "#### 1 for CONTENT"
      ],
      "metadata": {
        "id": "usxlQGn2x85A"
      },
      "execution_count": 4,
      "outputs": []
    },
    {
      "cell_type": "code",
      "source": [
        "MAX_TITLE_LEN = 180\n",
        "MAX_CONTENT_LEN = 2048"
      ],
      "metadata": {
        "id": "HwdvcAjNyDOe"
      },
      "execution_count": 5,
      "outputs": []
    },
    {
      "cell_type": "code",
      "execution_count": 6,
      "metadata": {
        "id": "p-FVcgq0w_Ft",
        "colab": {
          "base_uri": "https://localhost:8080/"
        },
        "outputId": "0bf84160-0d89-403f-a1f0-3c97db4587fd"
      },
      "outputs": [
        {
          "output_type": "stream",
          "name": "stdout",
          "text": [
            "NumPy random seed set with value: 7757\n",
            "TensorFlow random seed set with value: 7757\n",
            "PyTorch random seed set with value: 7757\n"
          ]
        }
      ],
      "source": [
        "import random\n",
        "\n",
        "\n",
        "def reset_numpy_seed(seed_value=42):\n",
        "  try:\n",
        "    # Set NumPy random seed\n",
        "    import numpy as np\n",
        "    np.random.seed(seed_value)\n",
        "    print(f'NumPy random seed set with value: {seed_value}')\n",
        "  except Exception as e:\n",
        "    print(f'NumPy random seed was not set: {e}')\n",
        "  return\n",
        "\n",
        "\n",
        "def reset_tensorflow_seed(seed_value=42):\n",
        "  try:\n",
        "    # Set TensorFlow random seed\n",
        "    import tensorflow as tf\n",
        "    success = False\n",
        "    # Here we have 2 different ways to set the seed\n",
        "    # depending on the version of TensorFlow\n",
        "    try:\n",
        "      tf.random.set_seed(seed_value)\n",
        "      success = True\n",
        "    except Exception as e:\n",
        "      pass\n",
        "    try:\n",
        "      tf.set_random_seed(seed_value)\n",
        "      success = True\n",
        "    except Exception as e:\n",
        "      pass\n",
        "    if success:\n",
        "      print(f'TensorFlow random seed set with value: {seed_value}')\n",
        "    else:\n",
        "      print(f'TensorFlow random seed was not set')\n",
        "  except Exception as e:\n",
        "    print(f'TensorFlow random seed was not set: {e}')\n",
        "  return\n",
        "\n",
        "\n",
        "def reset_torch_seed(seed_value=42):\n",
        "  try:\n",
        "    # Set PyTorch random seed\n",
        "    import torch\n",
        "    torch.manual_seed(seed_value)\n",
        "    if torch.cuda.is_available():\n",
        "      torch.cuda.manual_seed(seed_value)\n",
        "      torch.cuda.manual_seed_all(seed_value)  # if you are using multiple GPUs\n",
        "    print(f'PyTorch random seed set with value: {seed_value}')\n",
        "  except Exception as e:\n",
        "    print(f'PyTorch random seed was not set: {e}')\n",
        "  return\n",
        "\n",
        "\n",
        "def set_random_seeds(seed_value=42):\n",
        "  # Set Python random seed\n",
        "  random.seed(seed_value)\n",
        "  reset_numpy_seed(seed_value)\n",
        "  reset_tensorflow_seed(seed_value)\n",
        "  reset_torch_seed(seed_value)\n",
        "  return\n",
        "\n",
        "\n",
        "if __name__ == '__main__':\n",
        "  # Set the desired seed value\n",
        "  seed = 7757\n",
        "\n",
        "  # Set random seeds\n",
        "  set_random_seeds(seed)"
      ]
    },
    {
      "cell_type": "markdown",
      "source": [
        "# GATA TARAM"
      ],
      "metadata": {
        "id": "MNKgUmQAyeEk"
      }
    },
    {
      "cell_type": "code",
      "execution_count": 7,
      "metadata": {
        "colab": {
          "base_uri": "https://localhost:8080/"
        },
        "id": "jjOBsPGaLlfy",
        "outputId": "61928a1b-8635-4263-d9d7-7c9b95309b28"
      },
      "outputs": [
        {
          "output_type": "stream",
          "name": "stdout",
          "text": [
            "Mounted at /content/drive\n"
          ]
        }
      ],
      "source": [
        "from google.colab import drive\n",
        "drive.mount('/content/drive')"
      ]
    },
    {
      "cell_type": "code",
      "execution_count": 8,
      "metadata": {
        "id": "ymgbQxvc5UJO"
      },
      "outputs": [],
      "source": [
        "read_data = pd.read_csv(\n",
        "    \"/content/drive/MyDrive/NLP3/train.csv\")\n"
      ]
    },
    {
      "cell_type": "code",
      "source": [
        "print(read_data[read_data['class'] == False].shape)\n",
        "print(read_data[read_data['class'] == True].shape)"
      ],
      "metadata": {
        "colab": {
          "base_uri": "https://localhost:8080/"
        },
        "id": "UY11bKPycvTn",
        "outputId": "15335852-aaeb-4966-f05a-335fcd8e3b9d"
      },
      "execution_count": 9,
      "outputs": [
        {
          "output_type": "stream",
          "name": "stdout",
          "text": [
            "(25307, 4)\n",
            "(45268, 4)\n"
          ]
        }
      ]
    },
    {
      "cell_type": "code",
      "source": [
        "read_data[\"content\"][41508]"
      ],
      "metadata": {
        "id": "Z7B1-aDBdYDJ",
        "colab": {
          "base_uri": "https://localhost:8080/",
          "height": 123
        },
        "outputId": "06e009dc-b022-4fa4-f6ce-6546a04b2f33"
      },
      "execution_count": 10,
      "outputs": [
        {
          "output_type": "execute_result",
          "data": {
            "text/plain": [
              "'Redăm integral interviul: Ion Cristoiu: Bine v-am găsit stimaţi telespectatori din postura de invitat şi comentator. Sunt acum într-o, nu o nouă postură pentru că e obişnuită la mine, cea de autor de interviuri. Invitatul meu este domnul general Silviu Predoiu. Bine aţi venit domnule general. De mult voiam să fac cu domnul general un interviu, sunt preocupat de Serviciile secrete, nu la nivel de roman poliţist, ci la nivel de specialist. Şi domnul Silviu Predoiu, după ce a trecut în rezervă la termen, a fost unul dintre puţinii dacă nu singurul ofiţer de excepţie care a rămas în spaţiul public şi a dat interviuri şi dă interviuri. Ceilalţi, când trec în rezervă, dispar. Daţi-mi voie domnule general să citesc, pentru că în cazul unui ofiţer de informaţii ca dumneavoastră este importantă şi biografia, cea oficială. Silviu Predoiu, citesc de pe Wikipedia, 5 august 1958, general cu patru stele, român. Asta îmi place, există şi cu cinci stele? Vezi mai multe articole din categoria social Silviu Predoiu: Nu. Patru stele e maxim. Dacă era posibil cu cinci aveam cinci. Ion Cristoiu: Ofiţer în Serviciul de Informaţii Externe, de mai multe ori a îndeplinit funcţia de director interimar al Serviciului de Informaţii Externe, cunoscut sub numele de SIE. S-a născut la data de 5 august 1958 şi, o să vedeţi aici o ciudăţenie, a studiat la facultatea de Geologie-Geografie din cadrul Universităţii Bucureşti, 79-84, a devenit inginer geolog, a lucrat ca inginer geolog la ICG 1984-1985, la Întreprinderea de metale rare, 1985-1990. O să-l întrebăm dacă chiar era inginer geolog sau era sub acoperire. Între 87-89 a urmat un curs de informaţii externe la Şcoala de ofiţeri de securitate de la Brăneşti, care aparţinea de DIE, de la început domnia sa a fost pe extern, apoi a fost încadrat la SIE în 1990, după Revoluţie, cu gradul de locotenent major. Între anii 90-93 a lucrat ca ofiţer operativ de contra-spionaj extern, a fost înaintat la gradul de căpitan, în 93 a absolvit un curs post-universitar de jurnalism. Suntem colegi, mai ales că se spune că între jurnalişti şi spioni nu e prea mare diferenţă. Un moment, pe care o să-l explice, a fost într-o misiune de lungă durată, 93-97, detaşat ca secretar trei la Lagos, Nigeria, bănuiesc că sub acoperire… Silviu Predoiu: Ataşat de presă. Ion Cristoiu: Sub acoperire, da. Şi este avansat, revine, e foarte important din această biografie că domnul general a avansat toate treptele, adică nu l-a făcut nimeni peste noapte director interimar, şef operativ, deci şeful, cum ar veni, partea operativă a unui serviciu. Aţi fost în 2005, 18 noiembrie 2005, şi aţi fost de câteva ori şi director interimar. Domnule general, spuneţi-mi şi mie cum… aţi vrut să vă faceţi geolog şi aţi ajuns la informaţii externe sau aţi ajuns întâi la informaţii şi apoi aţi hotărât să fiţi geolog? Silviu Predoiu: Aş fi vrut să fiu ofiţer de informaţii, dar am ajuns geolog pe bune. Am fost atras, literatură, mediul în care am crescut, de ideea de militar, nu neapărat de ofiţer de informaţii, de ideea de militar, probabil că mai toţi copiii din generaţia mea, băieţii, visau să fie fie piloţi, fie tanchişti, fie miliţieni inspiraţi de scrierile Rodicăi Ojog Braşoveanu şi aşa mai departe. Am făcut geologia, am absolvit în 84, Wikipedia pe care o citaţi, după cum ştiţi, e făcută din contribuţii, sunt o serie de erori acolo. Ion Cristoiu: Mie îmi spuneţi? Uneori sunt erori dinadins. Silviu Predoiu: Am terminat într-adevăr facultatea de geologie în 84, am lucrat trei ani de zile la metale rare, nu la Geomin, cum spune acolo, până în 87 am fost inginer geolog la exploatare-explorare uraniu. În 87-89, am urmat cursul DIE, după aceea am fost la acoperire la Geomin, pentru că se menţionează acolo Geomin şi ulterior am fost adus în centrala SIE, după Revoluţie. Ion Cristoiu: Ce înseamnă momentul recrutării? Nu e vorba de recrutare ca informator sau colaborator, ci ca să faceţi şcoală, ca ofiţer. Silviu Predoiu: Istoria fiecăruia dintre noi e diferită. În cazul meu, lucram la o exploatare minieră şi cred că o acţiune a mea a fost interpretată greşit, nu cred, în mod sigur a fost interpretată greşit, respectiv aveam câţiva colegi care sustrăgeau motorină în mod sistematic, i-am avertizat, asta era atunci, în 84, pentru că puneau în pericol pe ceilalţi. Şi după ce i-am avertizat de câteva ori şi nu… m-am dus, nu pe ascuns, m-am dus şi am informat „vedeţi că se întâmplă ceva, avem colegi care sustrag motorină”. Gestul meu a fost interpretat greşit în momentul respectiv, mi s-a propus o colaborare, am avut o reacţie destul de virulentă cu organele de Miliţie la momentul respectiv. Ion Cristoiu: La Miliţie, nu la Securitate. Silviu Predoiu: La miliţie, păi nu, era pur şi simplu o chestie la şeful de post, nu era o chestiune de importanţă naţională. Pentru că după un timp am fost căutat de cineva de la organul de contra-informaţii, care răspundea de obiectivul de exploatări miniere speciale, cum era exploatarea de uraniu, şi care m-a întrebat dacă nu aş fi interesat să fac pasul din geolog de subteran, în cel de ofiţer de contrainformaţii pe zona de protecţie a obiectivelor speciale miniere. Respectivul, pe lângă faptul că era destul de convingător, dar mi-a adus şi nişte argumente credibile, în sensul că „domnule, astea sunt obiective de importanţă naţională”, exploatările de uraniu din zonă, că nu era singura aceea unde lucram eu. „Avem nevoie de specialişti care să cunoască problematica aceasta, cum sunteţi dumneavoastră geolog”, cred că mi-a zis la momentul respectiv, dumnealui era filolog – „Eu sunt filolog, răspund de o tematică pe care nu o înţeleg nu ştiu ce înseamnă, ce e secret, ce nu e secret, ce trebuie protejat, ce nu trebuie protejat”. Acesta a fost începutul discuţiei. Cred că a durat vreun an de zile până când am spus că aş fi interesat. Au contribuit mai mulţi factori atunci, dar… aşa am ajuns în discuţie, că întrebaţi cum a arătat primul pas. Ion Cristoiu: Înainte de 89 era mândria de a lucra la Servicii, era mai mare atunci, e mai mică acum, cum e? Adică un tânăr la ora actuală ar fi tentat să… Silviu Predoiu: Aş spune că sunt tentaţi şi acum, ca şi atunci. Tentaţia e mare, e adevărat că imaginea pe care o ai dinafară este cu totul alta decât cea pe care o găseşti înăuntru. Recunosc, repet, eram influenţat de literatură, de poveşti, de filme, de tot felul de istorii, despre ce înseamnă a fi ofiţer de miliţie, ofiţer de securitate, a te lupta cu spionii şi alte chestii de acest gen, lucrul arată cu totul altfel din interior. Ca diferenţă între atunci şi acum, aş spune că atunci se cultiva confuzia. Te lăsa să descoperi pe parcurs, ţi se încuraja, atunci când sesiza că ai o imagine idealistă, „da, aşa este, aşa va fi, va fi foarte interesant”. Mie nu mi s-a spus nicio clipă că va fi vorba de aparatul extern. Mie mi s-a spus să vin ofiţer de contra-informaţii pentru zona de lucrări miniere, să protejez secretul în aceste lucrări. Pe parcursul documentării s-a ajuns la concluzia că aş avea aptitudini pentru o altă zonă şi eu am aflat, practic, în ziua când m-am prezentat să depun jurământul că sunt pentru cu totul altceva, nu se făceau comentarii. Faţă de atunci când se cultivau cumva confuziile, în prezent, noi încercăm să oferim o imagine cât mai reală, atât cât ne permite… Ion Cristoiu: Înainte de a-l recruta. Silviu Predoiu: Înainte de a-l recruta, astfel încât să fim siguri că ştie la ce se îmbarcă. Eu vorbesc de perioada cât am fost în funcţie. Ion Cristoiu: Asta voiam să vă întreb, am stat de vorbă cu cineva din Servicii şi făcea observaţia, nu ştiu dacă şi dumneavoastră o confirmaţi, că campaniile astea care s-au dus în România, care se mai duc împotriva Serviciilor, că sunt implicate, cum se vorbeşte în general despre Servicii, fac rău imaginii serviciului şi că mulţi dintre cei care lucrează acolo se simt afectaţi. Aşa este? Adică au nevoie să fie mai… Silviu Predoiu: Este şi să ştiţi că vedeam acest lucru, domnule Cristoiu. După câte o campanie de acest gen, vreau să spun că nu toate erau gratuite, unele erau cumva justificate, indiferent că erau amplificate sau…, dar după câte o campanie puteam să constat o scădere drastică, de multe ori, în numărul de cereri de încadrare, în interesul pentru serviciu, în nivelul de mobilizare al cadrelor care se simţeau cumva aruncate într-o zonă pe care nu şi-au dorit-o, „vii aici să serveşti ţara şi ajungi să fii ruşinea” şi aşa mai departe. Da, au o influenţă toate aceste campanii. Ion Cristoiu: Sper că Wikipedia nu greşeşte, aţi lucrat pe extern, dar la contra-spionaj tot timpul? Silviu Predoiu: Nu, prima parte a carierei, primii zece ani am fost ofiţer de contra-spionaj. Ion Cristoiu: Şi apoi de spionaj. Silviu Predoiu: Şi apoi am început să lucrez pe alte linii de muncă, pe crimă organizată, pe terorism… Ion Cristoiu: Am înţeles, spuneţi-mi, e mai greu să fii la contraspionaj decât la spionaj? Silviu Predoiu: E mai greu, inclusiv în aparat, pentru că te confrunţi cu o mentalitate a colegilor care au o reţinere faţă de contraspionaj, o dată, pentru că se confundă cu protecţia, chiar şi în aparat există o zonă de confuzie între protecţia internă, ce vedem în serialele americane, internal affairs, şi contraspionaj. Contra-spionajul este segmentul de activitate care vizează recrutarea cadrelor altui serviciu. Ştiţi ce face diferenţa între spionaj şi contraspionaj? În spionaj, un ofiţer în teren încearcă să recupereze o persoană, în realitatea bătălia este între centrala din spatele ofiţerului şi persoana respectivă. Într-o confruntare logică şi dacă ţinta e bine aleasă, nu are nicio şansă. Pentru că e vorba de unul contra unui serviciu. În contraspionaj se confruntă, în teren, doi ofiţeri, fiecare are în spate centrala lui. E o confruntare în cu totul alt raport de forţe şi bătălia este să-l faci pe cel de vis-a-vis de tine să rupă legătură cu centrala, să înceapă să-şi mintă centrala. Eficienţa unei acţiuni de acest gen este foarte importantă. Ion Cristoiu: Este ceea ce s-ar numi întoarcerea orchestrei. Iertaţi-mă, de ce am făcut această precizare, pentru că cei care nu se pricep spun aşa „contraspionajul, l-ai prins pe ăla şi l-ai dat în gat”. Nu. Care este principalul scop…cu agentul străin, ce urmăriţi? Silviu Predoiu: E cu totul altceva. Încercăm să cunoaştem intenţiile serviciului ostil, serviciului targhetat, să ştim cum să prevenim, să desfăşurăm acţiuni de dezinformare în cadrul lui, tot ce presupune apărarea intereselor naţionale. Ion Cristoiu: Deci, e bine el să nu ştie că a fost deconspirat. Silviu Predoiu: El este recrutat… Ion Cristoiu: Pentru spionaj, dar dumneavoastră la contraspionaj nu vă arătaţi, adică nu îl legitimaţi şi îl arestaţi. Ideal este ca el să nu ştie. Silviu Predoiu: Nu, nu, absolut. E bine să fie conştient, dar nu avem niciun interes să-l arestăm, aici e confruntare între noi, diferenţele majore între serviciile interne şi externe. Ei au un obiectiv, noi avem cu totul altul. Pe noi nu ne interesează arestarea, nu ne interesează… Ion Cristoiu: Dar nici la noi, nici pe plan intern, important e să-l laşi să vezi cu cine intră în legătură, nu-l arestezi a doua zi. Spuneam în această carieră a dumneavoastră că aveţi o carieră tipică a unui ofiţer de informaţii adică aţi luat aşa… până aţi ajuns în vârf şi, vă întrebam şi înainte de emisiune, totuşi generalul Florian Coldea a fost luat mic şi făcut mare. A fost o excepţie? E bine, nu e bine? Nu în legătură cu el… Silviu Predoiu: Nu, nu vorbesc de domnul Coldea. În general, revoluţia şi evoluţiile post-revoluţie au impus în Servicii o serie de abateri de la standardul consacrat al evoluţiei profesionale. Au fost eliminate nişte generaţii care au trebuit schimbate, pe criterii justificate sau nu, totul e discutabil dar, în principiu, au apărut o serie de schimbări care au eliminat generaţii întregi. Înlocuirea lor a fost cumva forţată. Aţi spus dumneavoastră, şi mă bucură că cel puţin din punct de vedere statistic am avut o evoluţie normală, am avut o evoluţie normală, însă normal accelerat faţă de o evoluţie într-o perioadă de normalitate. Inclusiv la mine sunt stadii de doi-trei ani pe o funcţie care sunt reduse. În mod normal stăteai pe o poziţie managerială medie 4, 5, 6 ani, dar dispariţia accelerată a unor generaţii cu reducerea numărului de încadrări în perioadele 2000-2006 când Serviciile au fost puternic atacate şi lumea nu s-a încadrat au obligat la apariţia unor înlocuiri şi promovări cumva peste rând. Este forţată cumva această formulă. Eu am avut colegi care au fost promovaţi accelerat, vreau să spun că nu i-am… nu ştiu cum sună şi se vor uita la interviu poate, nu i-am invidiat, i-am compătimit. Pentru că nu i-am ajutat şi din fericire colegii mei au fost realişti şi au înţeles că sunt sacrificaţi fiind promovaţi mult peste rând, înainte de a putea să se impună profesional ierarhic şi au fost nevoiţi să recurgă la tot felul de artificii ca să-şi impună autoritatea. Pentru că aşa cum ştiţi, autoritatea poate fi de mai multe feluri, în cazul lor e vorba de autoritate atribuită pe care eşti obligat să construieşti ulterior. E foarte dificil. Toţi te privesc cu suspiciune, toţi te întreabă de ce el şi nu eu... e dificil. De asta spun, nu i-am invidiat neapărat şi cred că n-ar trebui invidiaţi. De aici încolo însă ţine de fiecare cum şi-a gestionat, hai să spunem între ghilimele, şansa unei promovări. Unii au înţeles şi au încercat să fie cât mai reali, cât mai discreţi, cât mai modeşti, alţii au căzut în păcatul „meritam”, „eram menit” şi s-au purtat ca atare. Ion Cristoiu: În orice redacţie există o ierarhie, chiar şi înainte de 89, a profesioniştilor. Există şi într-un serviciu ca SIE o ierarhie, adică o recunoaştere, adică ăla e profesionist şi ăla e politruc? Că ăla are pile şi…? Silviu Predoiu: Există. Este un păcat pe care l-am întâlnit în Servicii, am încercat să corectez cât am putut atunci când am avut competenţe. Apar profesionişti de excepţie care sunt chiar aur curat pentru un serviciu, e o meserie cu abilităţile ei, cu aptitudinile ei pe care însă îi promovai pe linie managerială, în absenţa altor criterii şi în absenţa unei oferte. Ion Cristoiu: Ca şi în presă, la fel, adică îl pui redactor-şef şi pierdeai un om de teren. Silviu Predoiu: Pierdeai un ofiţer excepţional, un recrutor sau un handler foarte bun şi câştigai un şef de birou sau de serviciu, în cel mai bun caz mediocru, pentru că sunt lucruri diferite care definesc fiecare etapă sau fiecare stadiu. Era o greşeală, şi ce spuneţi, lumea ştia. Am avut colegi care aveau dificultăţi cu limba română în redactarea unor rapoarte, dar care lăsaţi, aşa cum glumeam câteodată, recrutau şi clanţa de la uşă. Deci, aveau o putere de convingere şi o abilitate în a sesiza vulnerabilităţile… e şi păcat să-i duci şi să-i pierzi. Problema la noi este că recunoaşterea stă în salariu. Noi nu avem forme, deocamdată, în legislaţie care să permită recompensarea, aşa cum am propus, a unui ofiţer foarte bun la nivel cu un şef de structură, pe direcţie să spunem, astfel încât să nu fii obligat să îl promovezi ca să îi recunoşti şi nici nu poţi să ceri cuiva să rămână ofiţer de execuţie, colonel până la pensie, cu salariu aşa, în timp ce alţii pe lângă el trec mai departe. Ion Cristoiu: Deci criteriul de apreciere la dumneavoastră la SIE este recrutarea, cu cât ai recrutat mai mult sau cu cât ai recrutat pe cineva important? Silviu Predoiu: Nu. Sistemul de apreciere ţine de cerinţele postului. Judecăm pe fiecare, totdeauna când spun… eu vorbesc la prezent, dar mă refer la SIE în care am lucrat, nu-mi permit să vorbesc despre… Fiecare e raportat la cerinţele poziţiei pe care se află. Ar fi o greşeală să judec un şef de direcţie, spre exemplu, prin raportare la câte recrutări a făcut, ca pe un subordonat al lui, pentru că ar însemna să-i pun în competiţie unul cu celălalt. Şeful de direcţie are cu totul alte obligaţii acolo. El trebuie să se asigure de coerenţă, de zona de resurse, de program, de disciplină, de o grămadă de alţi factori. Nu pot să stabilesc aceleaşi repere. Am încercat să stabilesc repere diferite de apreciere pentru fiecare treaptă, luând în calcul activităţile pe care le desfăşoară fiecare, e un cumul, dar luam cea mai importantă, iar pentru ocuparea de poziţii sunt concursuri pentru fiecare palier în care se pot înscrie toţi cei care îndeplinesc un set de criterii. Şi de la poziţia de şef de birou în sus e deschis. E o comisie, evaluează performanţele fiecăruia şi aşa mai departe. Ion Cristoiu: Domnule general, aţi fost pe teren, om de teren. O informaţie descoperită de dumneavoastră pe teren câte paliere trebuia să urce până să fie confirmată sau folosită? Silviu Predoiu: Când am fost în teren, eram convins că informaţiile mele sigur sunt pe masa preşedintelui şi dacă n-aş fi crezut asta nu m-ar fi motivat nimic. Ion Cristoiu: Pe masa preşedintelui. Silviu Predoiu: Asta voiam să cred, că informaţiile mele trimise din inima Africii de acolo ajung pe masa preşedintelui şi asta am transmis fiecărui subordonat pe care l-am avut. Ion Cristoiu: Păi nu, dar nu trece prin nişte filiere? Silviu Predoiu: Foarte multe filiere, asta constaţi pe măsură ce începi să înţelegi şi s-ar putea ca dintr-o informaţie a ta la care ai muncit săptămâni ca să o completezi, să o documentezi, asumându-ţi riscuri, să ajungă o jumătate de rând, nici măcar un rând într-o notă. Informaţiile n-au valoare în sine, valoare le dă acţiunea decidentului. Nu există informaţie de valoare în abstract dacă ea nu generează nicio acţiune post-factum. Şi aici intrăm într-o altă zonă, ce frustrări şi altele. Ion Cristoiu: Da, am văzut, am urmărit în ce aţi scris dumneavoastră şi problema relaţiei între serviciu, în cazul ăsta SIE, şi decident şi beneficiar. Spuneţi-mi şi mie, aşa didactic, cum are loc relaţia între un serviciu ca SIE şi un decident, să spunem preşedinte? I se trimit note de la dumneavoastră sau cere el? Silviu Predoiu: Ambele, este un two way communication, bilateral, raportat la competenţele funcţiei beneficiarului respectiv... apropo, preşedintele republicii nu figurează pe lista de beneficiari dintr-o scăpare a legii, dar, din fericire, figurează preşedintele CSAT, deci cu asta a scăpat…dar altfel, nu Ion Cristoiu: Asta nu o ştiam. E o ştire, da, mai avea un pic… Silviu Predoiu: Mai avea un pic şi pica de pe listă. Noi urmărim fişa postului decident, beneficiarului x, şi în funcţie de atribuţiunile acestuia trimitem informaţiile pe care noi le apreciem ca fiind de interes. În acelaşi timp, toţi beneficiarii prevăzuţi în lege au dreptul, şi eu aş spune că şi obligaţia, să ne solicite permanent informaţiile pe care le cer. Dincolo de ceea ce se regăseşte într-un document anual întocmit, Planul naţional de priorităţi informative, se vorbeşte public, că altfel nu… mă refer la chestii clasificate, se întocmeşte în avans şi care trebuie să conţină priorităţile naţionale şi reprezintă materialul de lucru al serviciilor, al tuturor serviciilor, pot fi solicitări punctuale, cum am zice peste linie, deci e un dialog în ambele sensuri. Ion Cristoiu: El are loc, din punct de vedere birocratic, cum? Dă un telefon beneficiarul sau vă trimite o adresă? E foarte important. Silviu Predoiu: Depinde de personalitatea beneficiarului. Sunt beneficiari care dau telefon sau beneficiari care trimit adrese. Ion Cristoiu: Din punct de vedere birocratic e corect să dea numai un telefon? Silviu Predoiu: E corect pentru că noi întocmim notă telefonică după fiecare discuţie. Ion Cristoiu: Am înţeles. Silviu Predoiu: Deci nu a existat solicitare, indiferent de natura… Ion Cristoiu: Înregistraţi automat? Silviu Predoiu: Atunci când înregistrăm, informăm. Deci discuţia se înregistrează. Şi am avut primiri, întâlniri în care nu s-a mai spus nimic după ce am informat că… Ion Cristoiu: Sunteţi obligat prin lege să spuneţi? Silviu Predoiu: Nu, dar mi s-a părut fair-play ca să informez, plus că mă scutea de o grămadă de discuţii neplăcute pentru că atunci când spuneam „această discuţie va fi înregistrată”… „păi n-am trecut decât să vă salut”, ceea ce era ok. Ion Cristoiu: Am înţeles. Deci sună şi dumneavoastră faceţi nota… Silviu Predoiu: Şi după aceea, eu, la rândul meu, nu pot să sun şi să dau ordine care presupun măsuri financiare, riscuri asumate de subordonaţi. Se întocmeşte o notă în care scriu „în baza ordinului, dispoziţiei, solicitării, funcţia, numele, la data de, cutare, cutare dispun” şi de aici urmează… Ion Cristoiu: Cine decide, la ce nivel se decide ca solicitarea beneficiarului peste îndatoriri să fie, să devină… că ea devine o maşinărie… Silviu Predoiu: Da, toate solicitările sunt consemnate, decizia aparţine directorului şi primului adjunct, poziţia pe care am ocupat-o. Depinde, ştiţi că noi suntem… destul de rar şi directorul şi directorul adjunct sunt în acelaşi timp în serviciu, totdeauna unul dintre noi era în mişcare din diferite motive, iar decizia ne aparţine, de fapt nici nu sunau mai jos decidenţii, era palierul la care sunau. În serviciu nu există decât trei persoane publice, în SIE, oficial, directorul şi cei doi adjuncţi adjunctul pentru operaţiuni, prim-adjunctul, şi adjunctul pentru resurse, celălalt adjunct. Nici nu aveau numere ceilalţi la care să suni. Ion Cristoiu: De regulă, preşedintele cere o informaţie înainte de a pleca la o întâlnire sau dumneavoastră, obligatoriu, nu ştiu… dacă se duce la Uniunea Europeană, la Consiliu are nevoie automat de o informare de la dumneavoastră? Silviu Predoiu: Se întocmesc cu ocazia tuturor acţiunilor… Ion Cristoiu: Automat. Silviu Predoiu: Se întocmesc automat materiale. Ion Cristoiu: Şi poate să ceară el suplimentar. Silviu Predoiu: Se pot cere suplimentar pe anumite tematici. E adevărat, depinde şi de nivelul de pregătire al decidentului şi de cunoaşterea cutumelor, adică o solicitare formulată seara pentru a doua zi, serviciul de informaţii nu lucrează aşa. Ion Cristoiu: În legătură cu o vizită… întâlnire cu o personalitate, e legal să vă ceară sau dumneavoastră să-i daţi şi amănunte de viaţă personală ale respectivului, e obligatoriu să ştie sau nu? Silviu Predoiu: Dacă nu sunt români, da, e absolut necesar, trebuie să ştii, să cunoşti nişte specificităţi. Vorbim de întâlniri de interes naţional. Ion Cristoiu: Da, întâlnire cu un alt… Silviu Predoiu: Este foarte important să cunoşti care sunt butoanele pe care să apeşi în discuţie ca să obţii o imagine favorabilă. Ion Cristoiu: Sau să nu faci gafe. Silviu Predoiu: Da, vă dau un exemplu de gafă, fără să spun cine a făcut-o „Vă salut, soţia dumneavoastră mai joacă tenis?” răspunsul ”Nu ştiu, a murit de doi ani”. Bad starter, e foarte greu să continui o discuţie după un asemenea start. Ion Cristoiu: Aţi lucrat cu atâţia beneficiari, atâţia preşedinţi, există un top, chiar dacă nu daţi nume, adică au fost preşedinţi, premieri care au fost mai puţin interesaţi sau unii care v-au bătut la cap, plec acolo, am nevoie de informaţii? Silviu Predoiu: Da, există diferenţe între beneficiari, există diferenţe care ţin de personalitate, de înţelegerea rolului Serviciilor, există diferenţe. Ion Cristoiu: Dumneavoastră am înţeles dintr-un interviu că sunteţi un serviciu către beneficiari, puteţi influenţa decizia sau îi daţi numai informaţia? Îi daţi numai informaţia sau îi daţi şi sugestia? Silviu Predoiu: Am încercat pe cât posibil să ne rezumăm strict la informaţie explicând separat. Mi se pare că este o greşeală şi mai mult decât o greşeală, un păcat, să amesteci informaţia cu concluziile tale. Întotdeauna am prezentat distinct informaţia şi am avut un punct distinct observaţia serviciului astfel încât să ajutăm. Noi am avut o situaţie specifică, în mod normal nu era nevoie, dar după cum cunoaşteţi domnule Cristoiu, la noi beneficiarii s-au schimbat cu o viteză foarte mare şi în general au stat pe funcţie unii trei luni, unii şase luni, unii opt luni, unii de-abia au aflat unde e toaleta şi garajul. Încercam să-i ajutăm pentru că erau numiţi astăzi şi după trei zile primeau o notă de la noi, se uitau şi nu ştiau exact cum să se desface plicul. Şi atunci puneam distinct informaţia şi distinct observaţiile Serviciilor, astfel încât să-l ajutăm să înţeleagă. Dar mai mult decât atât mi se pare de nepermis a încerca să-i induci soluţia, modul de acţiune. Ion Cristoiu: La nivelul conducerii, dar poate şi la nivelul serviciului, urmăriţi cu pasiune dacă se îndeplineşte informaţia dumneavoastră, dacă e luată în serios sau nu? Silviu Predoiu: Da, urmărim. Tot serviciul urmăreşte, adică atunci când am făcut câte o notă şi ştiu cei care au… lucrătorii de la analiză, spre exemplu, sunt cei mai în temă că prin ei pleacă către beneficiari, urmăresc cu sufletul la gură pentru că şi ei sunt conştienţi de anumite informaţii, de importanţa, de relevanţa lor. Există o stare de dezamăgire… Pe de altă parte, am încercat să îmi ajut colegii, să gestioneze o asemenea frustrare, pentru că era foarte periculos să se transforme într-o ostilitate. Este libertatea decidentului de a alege o cale de acţiune sau alta. Obligaţia noastră e să-i dăm credit în permanenţă. Decidentul primeşte note de la SIE, ţineţi minte, a fost un personaj politic care tot spunea „eu aveam canale alternative de informare”. Eu nu ştiu ce canale alternative are şi nici nu sunt în postura de a judeca o persoană numită de Parlament sau aleasă de popor, drept care am încercat să-i dau credit şi să plec de la premisa de bună credinţă, nu de rea credinţă cum au plecat mulţi în raport cu Serviciile. Spun e dreptul lui şi decizia lui şi răspunderea este a lui. Ţineţi minte că au fost mai multe situaţii în care serviciul a fost întrebat „aţi informat decidenţii în legătură cu...?” Şi s-au anunţat imediat după aceea, dacă vă uitaţi găsiţi sigur situaţii că au fost cel puţin patru-cinci, se va constitui o comisie de control parlamentar care va ancheta dacă SIE a informat pe … în legătură cu Roma, cu cutare, cu cutare. S-a făcut gălăgie cu această comisie şi după aia nu a mai apărut niciun follow up, nu pentru că am convins noi pe ceilalţi să nu mai facă, ci pentru că s-au convins că noi ne-am făcut treaba, mai departe… Ion Cristoiu: Din experienţa dumneavoastră, chiar dacă de doi ani nu mai lucraţi, credeţi că în această perioadă SIE, mai ales, a dat decidenţilor informaţii pe care noi nu le ştim în legătură cu pandemia? Sau le-a dat pe alea din surse deschise pe care le ştie toată lumea? Silviu Predoiu: Mi-este foarte greu, pot să presupun cunoscându-mi colegii că şi-au făcut datoria. Mai departe… Ion Cristoiu: Cum obţineţi acum la SIE în afară de sursele deschise, care e raportul de informaţii între sursele deschise şi sursele proprii? Silviu Predoiu: Mă raportez iarăşi la activitatea mea de cadru activ. Nu putem vorbi de un raport între una şi alta. Dacă ne gândim la ce pleca din serviciu pentru decident, evident că făceam şi o informare din surse publice, surse publice însemnând nu doar presa, cum îşi închipuie unii, ci tot ce înseamnă surse neclasificate: internet, căutat, în sfârşit. Din punct de vedere al decidentului, raportul era, evident, mult în favoarea celor din surse publice, mă refer la volumul mapei. Pentru cei din serviciu, sursele publice nu reprezintă o informare, reprezintă punctul de plecare pentru spionaj. De acolo începem cu operaţiunile, ar fi culmea să cheltuim banii contribuabilului ca să aflăm ce scrie în surse publice, ar fi inacceptabil. Pentru mine, informaţiile publice reprezintă punctul de plecare în căutarea informaţiilor clasificate. Ion Cristoiu: Da, capul de ştire. Spuneţi-mi, a circulat un zvon în legătură cu preşedintele Traian Băsescu şi anume că nu lucra cu directorii politici, ci lucra cu dumneavoastră, operativii. E posibil ca un preşedinte să sară peste directorul politic? Silviu Predoiu: Nu că e… cum e la americani să nu stea la un loc preşedintele cu vicepreşedintele. Datorită solicitărilor serviciul extern presupune foarte multă mişcare, au fost foarte rare situaţiile când mă suna pe mine, fiind în ţară şi directorul. Au fost foarte multe situaţii în care m-a căutat. Preşedintele Băsescu, de regulă, ne convoca pe amândoi. Spunea „i-al pe… şi vino la mine”. Ion Cristoiu: Da, am înţeles, ca să fiţi doi. Spuneţi-mi, aveţi o medalie „George Tennet”… Silviu Predoiu: Da, da. Ion Cristoiu: În ce împrejurări… şi o să vă spun de ce v-am întrebat. Silviu Predoiu: E o medalie la care ţin, nu pentru că e primită de la partenerul american, e o medalie primită de la CIA. Evident că e pe un palier cu totul separat faţă de Steaua României, cu care am fost recompensat în trei rânduri de statul român. Are însă o valoare deosebită pentru mine pentru că este conferită după ce n-am mai fost activ. Deci, nu a fost dată cu vreun interes pentru că în momentul în care ieşi din activitate ai rupt relaţiile. Nu mă întâlnesc cu partenerul american, nu-l mia vizitez, eu nu sunt turist sau chiar sunt un turist foarte rău, mă mişc foarte greu. Mi se pare că a fost o declaraţie de apreciere de care avem nevoie toţi… Ion Cristoiu: Ea se dă cui? Silviu Predoiu: Atunci când mi-a fost conferită mi s-a spus că sunt al patrulea beneficiar. Nu s-a dat decât pentru parteneriat, s-a dat, mi s-a spus atunci, către două organizaţii şi două persoane. În presă, dacă vă uitaţi, sunt eu şi prinţul saudit care suntem ca persoane fizice beneficiari. Ion Cristoiu: Ăsta care face jocul americanilor acum. Silviu Predoiu: Dacă veniţi o să vă arăt la birou, oricum textul pe ea este măgulitor pentru că vorbeşte de o carieră remarcabilă şi cel mai interesant despre o persoană care a inspirat generaţii succesive de ofiţeri, atât din serviciul american, cât şi din serviciul român. E o vorbă pe care mi-aş fi dorit să o aud de la decidenţii mei după 31 de ani de activitate. Ion Cristoiu: Adevărul e că puteau să vă… V-au decorat când v-au trecut în rezervă? Silviu Predoiu: Nu, deja fusesem decorat, adică nu-i vorba despre asta, nu e vorba despre asta, dar zic de vorbe pentru că noi nu recunoaştem valoarea vorbei. Ion Cristoiu: Domnule general, e o problemă care pe mine m-a preocupat şi din istorie. România are întotdeauna... a avut o relaţie cu un partener strategic, partener strategi a fost şi Germania şi URSS şi acum America. Până unde poate să meargă un serviciu, apropo de decoraţia dumneavoastră, cu deschiderea către partener? Silviu Predoiu: Un serviciu merge atât cât îi permite decidentul. Deci relaţia de parteneriat se aprobă de CSAT, nu o deschide serviciul. Ion Cristoiu: Nu, n-aţi înţeles, până unde puteţi merge dumneavoastră încât să daţi toate informaţiile partenerilor? Silviu Predoiu: Asta vă spun, eu nu dau informaţii, spre exemplu nu împărtăşesc informaţii despre surse. Domeniile pe care colaborez sunt avizate de CSAT, nu-l stabileşte serviciul şi mi se pare absolut corect, există materiale care prevăd clar pe fiecare partener, care sunt limitele şi cine le încalcă trebuie să-şi asume răspunderea. Şi mai e ceva, parteneriatul serviciului trebuie să-şi regăsească profitul în relaţia politică. Pe mandatul meu am refuzat orice fel de donaţii, orice fel de sponsorizări din partea serviciului omolog pentru că nu mi se părea corect, că nu era o colaborare pe care o făcea SIE, nu mai vorbesc de Predoiu sau de şefi, o făcea România. Iar profitul într-o colaborare în teren, faptul că avem colegi care şi-au asumat riscuri majore dezvoltând operaţiuni în comun şi nu vorbesc doar de partenerul american, vorbesc de partenerii NATO, în teren au făcut-o… noi chiar credem în asta… ştiu că sună… mulţumită unor foşti colegi, mai mult sau mai puţin, e compromisă ideea de interes naţional de patriotism, dar noi chiar am făcut-o pentru România. Ion Cristoiu: Dumneavoastră participaţi la multe operaţiuni comune cu partenerii, nu numai cu CIA şi BND… cu FSB nu cred. Silviu Predoiu: Nu. Nu e în NATO. Ion Cristoiu: Da, nu e în NATO, bun. Decizia de a participa la o operaţiune este luată de decident sau de dumneavoastră? Silviu Predoiu: Decidentul este informat. Există o scală, de la un anumit nivel ne propun o operaţiune comună. Vreau însă să vă precizez foarte clar, există situaţii în care noi le cerem lor pentru că eu am tratat relaţia întotdeauna în termeni de parteneriat, aşa sunt ăştia de Dâmboviţa, în termeni de parteneriat egal, adică dacă mi se cere, cer. Acolo am nevoie nu am avut niciodată ezitarea să cer cu aprobarea decidentului, nu de capul meu. Iar în aprobare se prevăd nişte paliere de aprobare. Au fost anumite categorii de operaţiuni parteneriale solicitate de partenerii strategici în care a trebuit să informez CSAT şi să solicit aprobare pentru că un eşec, şi noi trăim tot timpul cu preocuparea aceasta, merg mână în mână… Ion Cristoiu: La servicii, sigur, lucrurile care se reţin sunt eşecurile. Silviu Predoiu: Exact. Şi dacă eşecul e de natură a fi gestionat doar de noi, ni-l asumăm. Dacă un eşec implică repercusiuni asupra României sau intereselor României sunt obligat să informez şi să aştept aprobarea. Important în parteneriat este decidentul ce solicită la schimb, decidentul mă refer, în sensul de profitul politic al României dacă ştim să… Ion Cristoiu: Am înţeles. Domnule general, partenerii în istoria României se schimbă. Problema este a unui serviciu. Până unde există un nucleu de informaţii pe care dumneavoastră nu l-aţi da niciunui partener? Silviu Predoiu: Sigur că da, aşa cum există informaţii pe care niciun partener nu ni le dă nouă indiferent cât de utile ne-ar fi. Da, bineînţeles. Ion Cristoiu: Aveţi încredere în informaţiile pe care vi le dau ei? Silviu Predoiu: Da, odată primite e clar că sunt corecte. Pot să fie prin omisiune, adică există zone pe care fiecare serviciu şi le protejează din motive de interes naţional şi nu trebuie justificate şi le privim ca atare. Ion Cristoiu: A doua întrebare, vorbesc cu un om din Dâmboviţa, adică patriot. În relaţia cu un partener există şi o relaţie de prudenţă? Sau veniţi şi deschideţi, poftiţi… Silviu Predoiu: Nu, nu. Întotdeauna se păstra un bun simţ… Ion Cristoiu: Că nu se ştie niciodată… Silviu Predoiu: Şi mai e ceva, domnule Cristoiu, noi… aţi folosit corect că mai zice câte unul prieten, parteneri. Noi nu vorbim nici de duşmani nici de prieteni, noi vorbim de ţinte şi de parteneri, iar aceste noţiuni sunt interschimbabile, decizia aparţine politicului nu Serviciilor. Ion Cristoiu: Au fost folosiţi ofiţeri SIE sub steag străin? Adică în loc să se ducă CIA să-i prindă în nu ştiu ce ţară… Silviu Predoiu: Sigur că da, e unul din instrumentele de muncă, în mod evident, da. Ion Cristoiu: Şi se foloseşte de obicei o ţară mai mică, nu-i aşa? Silviu Predoiu: Depinde. Îţi trebuie o identitate, foloseşti identitatea care facilitează cel mai mult apărarea. Ion Cristoiu: Domnule general, e una să prindă în Malaezia un agent CIA şi una e prindă unul de la SIE care de fapt e CIA. Silviu Predoiu: Corect, da. Aşa este. Ion Cristoiu: Deci uneori este de preferat asta. Silviu Predoiu: Evident, e un mijloc de muncă şi toată lumea gândeşte aşa. Şi poate să folosească fără aprobarea partenerului, adică nu ceri totdeauna aprobarea, dacă poţi să foloseşti… Ion Cristoiu: Au existat în perioada dumneavoastră, fără să-mi daţi exemple, momente în care un serviciu partener s-a întins mai mult decât îi permite plapuma? Silviu Predoiu: Se poate întinde mai mult decât îi permite plapuma, nu se poate întinde mai mult decât permiţi tu. Ion Cristoiu: Am înţeles. Să-l recruteze undeva pe unul de-al dvs fără să vă spună. Silviu Predoiu: Sigur că da, toată lumea încearcă, până când tragi pe cineva de mânecă este… Ion Cristoiu: Este o preocupare în Serviciile noastre pentru acest patriotism? O întrebare dificilă. Silviu Predoiu: Nu, s-ar putea să pară ciudat şi de asta mă gândesc. Ştiţi, noi am băgat cursuri de istorie şi de limbă română la centrul nostru de pregătire, în perioada cât eram. Lumea vine… absolvenţi de învăţământ superior, oameni care îţi pot spune în cinci-şase limbi străine ce aşteaptă de la noi şi nu pot să zică nici măcar în română ce vor să dea, oameni care nu mai ştiu istorie, care au… nu-i vina lor. E un moment de derută şi atunci am început să băgăm cursuri de istorie, sună hilar poate, să vadă monumente istorice, să discutăm cu ei, să-i motivăm pentru că spionajul fără patriotism e o meserie foarte murdară. Ion Cristoiu: Nu-i un cuvânt prea mare? Silviu Predoiu: Nu. Nu-i un cuvânt prea mare, n-are logică… Ion Cristoiu: Cei de la CIA, ei sunt patrioţi? Silviu Predoiu: Absolut. Ion Cristoiu: Şi cei de la FSB? Silviu Predoiu: Şi cei de la FSB, sunt, sunt. Ion Cristoiu: Deci nu poţi să fi un bun lucrător de informaţii dacă nu eşti patriot. Chiar să crezi. Silviu Predoiu: Nu poţi, chiar nu poţi pentru că nu mai e nicio deosebire între un hoţ şi un spion în serviciul naţional. Amândoi fac acelaşi lucru. Tu trebuie să-l faci… trebuie să-ţi găseşti motivaţia în tine de ce o faci. Că nu-ţi aduce profit, nu va şti nimeni ce ai obţinut, ce-ai făcut, dumneavoastră tot îmi spuneţi, nu daţi exemple, nici n-o să dau exemple pentru că nu ştie lumea ce-ai făcut, recunoaşterea şi decorarea e o ceremonie foarte ciudată la noi, adică cineva a făcut o operaţiune deosebită, e chemat la director în birou, i se dă o decoraţie, numai el e prezent, iese şi la ieşire e şeful de la personal care spune „dă decoraţia, o să o vezi la pensie”. Ion Cristoiu: Interesant. Silviu Predoiu: Nu se discută pentru că sunt clasificate. Inclusiv în aparat, chestile acestea le ştie el şi încă doi-trei care au participat la operaţiune. Ai nevoie de patriotism, trebuie o motivaţie ca să faci asta. De îmbogăţit nu te îmbogăţeşti în serviciu, iar dacă te-ai îmbogăţit, înseamnă că dai de lucru protecţiei interne. Ion Cristoiu: Unde v-a prins decembrie 89? Silviu Predoiu: Eram inginer geolog la Geomin. Eram pregătit pentru o misiune pe un spaţiu ca inginer geolog în 89. Terminasem cursul de la Brăneşti în septembrie şi eram… Ion Cristoiu: Centrala s-a înfiinţat în februarie, nu-i aşa? Silviu Predoiu: Da, atunci în februarie am fost adus. Ion Cristoiu: Atunci, dar eraţi deja în evidenţele lor sau cum? Silviu Predoiu: Absolvisem cursul în septembrie şi urma... mi se pare că era o chestie inteligentă, că eu geolog de meserie mi-era foarte uşor să intru în mediul acesta fără suspiciuni pentru că la Geomin aveam deja colegi de facultate care lucrau şi aşa mai departe. Ion Cristoiu: V-a surprins că l-au numit pe Caraman atunci? Ştiaţi de Caraman? Silviu Predoiu: Evident că ştiam toţi despre domnul Caraman ca despre o legendă a spionajului. Ion Cristoiu: Există în servicii, şi la SRI şi la dumneavoastră, mă rog, mai mult decât în presă, legende vii? Silviu Predoiu: Da. Există. Ion Cristoiu: Păi în afară de Caraman nu mai văd pe cine... Silviu Predoiu: Pentru că nu puteţi, pentru că legendele din SIE o să le aflaţi peste 20 de ani, ca să facem 50 şi să putem să discutăm despre ei. Domnul Caraman era o legendă, în serviciu se preda despre domnul Caraman, adică ni se vorbea despre abilităţile profesionale. Acum, problema a fost alta, numirea dumnealui ne-a surprins prin mesajul implicit către parteneri. Ion Cristoiu: Da, că spionase NATO. Silviu Predoiu: Nu, nu-i spionase. Ştiţi că au venit parteneri care au fost în funcţie după 2005, parteneri importanţi, occidentali, care solicitau ca pe o onoare să poată să-l întâlnească pe domnul Caraman. Voiau să-l întâlnească. Spuneau „aş vrea să-l văd pe domnul Caraman”. Ion Cristoiu: Ei fiind de la Servicii. Silviu Predoiu: Ei fiind de la servicii occidentale, dar performanţa dumnealui de la nivelul anilor 60 atunci a fost cotată ca remarcabilă. Ion Cristoiu: Există şi un respect al adversarului? Silviu Predoiu: Da, există, există. Ne place să spunem că partenerii au venit în România după 90 pentru tinerii veniţi în serviciu. Au venit pentru energia tinerilor, dar pentru experienţa vârstnicilor, cei pe care i-am găsit acolo. E o meserie. Îţi iau ani buni de muncă serioasă ca să înţelegi ce înseamnă spionajul, nu e ce se vede la televizor, la televizor vedem pe James Bond cerând un martini shaken not stired, dar nu-l vezi niciodată făcând raportul justificativ ca să explice unui şef de ce a cerut un martini şi n-a luat bere. E foarte complicat totul. Ion Cristoiu: Credeţi că Ceauşescu era exemplul de beneficiar care nu ţinea cont de informaţii? Silviu Predoiu: Nu, dimpotrivă, era foarte atent la informaţii, mă refer la informaţiile pe linie… eu vorbesc din ce am văzut… pe linie externă. Pe linie internă nu am de unde să ştiu. Ştiu că nu avea încredere, asta îmi spuneau colegii pe care i-am găsit eu în aparat, fiind tânăr. Ion Cristoiu: Cât de mult contează încrederea preşedintelui în serviciu pentru binele serviciului? Silviu Predoiu: Contează foarte mult. Dar încrederea se câştigă prin muncă, adică n-am avut probleme, am avut beneficiari care ne-au privit cu foarte mare ostilitate, pe mine nu m-a dezarmant niciodată acest lucru. M-am dus, am cerut, am fost primit, am prezentat informaţia, am explicat şi sunt convins că am reuşit să obţin audienţă de la toţi beneficiarii. Ion Cristoiu: Aţi avut situaţii de preşedinţi care aveau surse alternative, care spuneau „lasă, că ştiu eu”. Silviu Predoiu: Da, foarte frecvent am auzit acest lucru. Am respectat dreptul dumnealor. Repet, suntem serviciu, nu judecăm. Eu prezentam informaţiile şi ne asumam răspunderea sută la sută odată ce trecea de palierul meu şi semnam aprob, eu răspundeam, nu colegii. Şi îmi asumam răspunderea şi garantam decidentului că această informaţie este sigură, e secretă, e utilă. A trecut prin toate aceste filtre. Decidentul avea dreptul, la noi la sfârşit era un formular de feedback, puteau să scrie inclusiv lucruri urâte acolo. Feedback-urile erau, de regulă, pozitive, acolo unde erau. Ion Cristoiu: O să trecem şi la partea de politică. Dumneavoastră, profesioniştii din Servicii, sunteţi ca şi cei din presă. Eu, cel puţin, când eram la Scânteia tineretului mi se paraşuta un redactor şef politic. Era, noi profesioniştii, ca adjuncţi eram profesionişti ca dvs, era o anumită nu suspiciune, o anumită ironie duioasă. Aţi trecut prin atâţia directori, în cât timp se adaptează un director politic la specificul dumneavoastră? Silviu Predoiu: Lăsând de-o parte diferenţele de personalitate, în principiu, îţi trebuie cel puţin un an de zile ca să poţi să gestionezi, pentru că probabil că e foarte amplă, dacă n-ai avut legătura anterior. Am cunoscut director care îmi spunea după două săptămâni „gata ştiu totul, oricum ştiam aproape 70% înainte să vă întâlnesc, acum deja ştiu absolut totul”. Ion Cristoiu: Da, am înţeles. Silviu Predoiu: Da, adică...'"
            ],
            "application/vnd.google.colaboratory.intrinsic+json": {
              "type": "string"
            }
          },
          "metadata": {},
          "execution_count": 10
        }
      ]
    },
    {
      "cell_type": "markdown",
      "source": [
        "Pregatirea datelor:\n",
        "- Scoatem spatii multiple\n",
        "- Url, email?\n",
        "- greseli gramaticale?\n",
        "- non-utf8\n",
        "- procente?"
      ],
      "metadata": {
        "id": "WPpVMBObht7I"
      }
    },
    {
      "cell_type": "code",
      "source": [
        "X_train, X_test, y_train, y_test = train_test_split(read_data[['title', 'content']], read_data['class'], test_size=0.20)\n",
        "\n",
        "df_train = pd.concat([X_train, y_train], axis=1)\n",
        "df_test = pd.concat([X_test, y_test], axis=1)"
      ],
      "metadata": {
        "id": "CVPOQkqtd4zB"
      },
      "execution_count": 11,
      "outputs": []
    },
    {
      "cell_type": "code",
      "source": [
        "print(df_train.shape)\n",
        "print(df_test.shape)"
      ],
      "metadata": {
        "colab": {
          "base_uri": "https://localhost:8080/"
        },
        "id": "he6aJznbedas",
        "outputId": "11c9f3f9-8e3d-4992-f193-8d2ebc3587a0"
      },
      "execution_count": 12,
      "outputs": [
        {
          "output_type": "stream",
          "name": "stdout",
          "text": [
            "(56460, 3)\n",
            "(14115, 3)\n"
          ]
        }
      ]
    },
    {
      "cell_type": "code",
      "execution_count": 14,
      "metadata": {
        "id": "-yw0TEtMAoXf",
        "colab": {
          "base_uri": "https://localhost:8080/"
        },
        "outputId": "affbf1e5-91f7-426a-a8c0-a587be5fb65d"
      },
      "outputs": [
        {
          "output_type": "stream",
          "name": "stdout",
          "text": [
            "device =  cuda\n"
          ]
        }
      ],
      "source": [
        "device = torch.device('cuda') if torch.cuda.is_available() else torch.device('cpu')\n",
        "print(\"device = \", device)"
      ]
    },
    {
      "cell_type": "code",
      "source": [
        "#Sursa: https://towardsdatascience.com/text-classification-with-bert-in-pytorch-887965e5820f\n",
        "from transformers import BertTokenizer\n",
        "\n",
        "tokenizer = BertTokenizer.from_pretrained(bert_used)\n",
        "\n",
        "class Dataset(torch.utils.data.Dataset):\n",
        "\n",
        "    def __init__(self, df):\n",
        "        self.labels = [label for label in df['class']]\n",
        "        self.titles = [tokenizer(str(text),\n",
        "                                 padding='max_length', max_length = MAX_TITLE_LEN, truncation=True,\n",
        "                                return_tensors=\"pt\") for text in df['title']]\n",
        "\n",
        "    def classes(self):\n",
        "        return self.labels\n",
        "\n",
        "    def __len__(self):\n",
        "        return len(self.labels)\n",
        "\n",
        "    def get_batch_labels(self, idx):\n",
        "        # Fetch a batch of labels\n",
        "        return np.array(self.labels[idx])\n",
        "\n",
        "    def get_batch_title(self, idx):\n",
        "        # Fetch a batch of inputs\n",
        "        return self.titles[idx]\n",
        "\n",
        "    def __getitem__(self, idx):\n",
        "\n",
        "        batch_title = self.get_batch_title(idx)\n",
        "        batch_y = self.get_batch_labels(idx)\n",
        "\n",
        "        return batch_title, batch_y"
      ],
      "metadata": {
        "id": "1TDPD6UHttUH",
        "colab": {
          "base_uri": "https://localhost:8080/",
          "height": 269,
          "referenced_widgets": [
            "5aecf64621fc437a90608042d133975c",
            "32d8589d599f4cf09b919baac6d411c0",
            "45ced7e375194bb7a9d0297399c03f52",
            "30e84af6ff9b4049a3707355a58b19a4",
            "cd556527fe4947a9aa26ea2dd5d720d1",
            "f5186f6c316843cdabdaa328a96ba7bb",
            "a82b14a6d79845d18f79981da06533f6",
            "ce716458368f4dbdb47749ea08f1fee9",
            "f48c9f707caf466e90d511ca62cbd0f8",
            "110c696cce2d45f89a9b692090388293",
            "f42bb6f9948449d1ab1365c3095631f8",
            "15428d84d9fb417e97cb437fb7e7e5d0",
            "e29a58b292324392afaf9d8c557d9694",
            "f239494bfc644f44a2399c6a151befeb",
            "ad3c770166a948418ecae6bce7a6175b",
            "8d571b234f894351861506344ede6320",
            "80a518c118d342ddbec879e199c17a64",
            "eeaa5ed117494247ae58f70b414e51d9",
            "e1c07d026f2b4386a5ac60d187377e3a",
            "b08d17a17b8840fcbda64d468c9245c4",
            "351c1cf3344f49baaa6a7ab65b09a2fa",
            "c77c257599434297ba922a95f469dcc1",
            "8fac81d7377b41e4b8e4933faba55d31",
            "bb0995039c9e4778ac138a899b87ba15",
            "ea47b9a99236421e82fc6a5a16696314",
            "f2a559a4aaec41e7a1a8a0a103237191",
            "e3919189cb75470496720360b9650b40",
            "cc43636f834d41d88bf46238c0847918",
            "2ef3772b595340bbbb9ef7e95c6c9c5b",
            "5fc369a5694a46a18f36dff5f869361c",
            "452159c20fd84045973b5cd0cd2c24a8",
            "822f3d35efaf45959b11464c6b084cd5",
            "c664e74bf5c04a02a34a5e1105251d8b",
            "a543b3d186bc4b6ca0b3217a298c6035",
            "ea985ef01dd14dd0a874828271bb9510",
            "97dc3c18a82943389e7242153d461bee",
            "301f160a9752490d895d1f8d9f15f9da",
            "5010925ef3b64e63a67ddf742b641f3e",
            "6a8a2c9c65ab45a2a5529ac57ac44f4b",
            "3cb8035627c345b0aa105e787a70ae60",
            "236f7c4fc02c4dc18b099fb484903dba",
            "985bcde4a71a41d8be2cc851d84014f1",
            "a07cc2a8fdcb44b8af5729a86f3cb9c5",
            "29bb68371d634f3fbb09ced83ac472bb"
          ]
        },
        "outputId": "95e03c1d-bafa-4750-b4cb-40f75f445852"
      },
      "execution_count": 15,
      "outputs": [
        {
          "output_type": "stream",
          "name": "stderr",
          "text": [
            "/usr/local/lib/python3.10/dist-packages/huggingface_hub/utils/_token.py:88: UserWarning: \n",
            "The secret `HF_TOKEN` does not exist in your Colab secrets.\n",
            "To authenticate with the Hugging Face Hub, create a token in your settings tab (https://huggingface.co/settings/tokens), set it as secret in your Google Colab and restart your session.\n",
            "You will be able to reuse this secret in all of your notebooks.\n",
            "Please note that authentication is recommended but still optional to access public models or datasets.\n",
            "  warnings.warn(\n"
          ]
        },
        {
          "output_type": "display_data",
          "data": {
            "text/plain": [
              "tokenizer_config.json:   0%|          | 0.00/366 [00:00<?, ?B/s]"
            ],
            "application/vnd.jupyter.widget-view+json": {
              "version_major": 2,
              "version_minor": 0,
              "model_id": "5aecf64621fc437a90608042d133975c"
            }
          },
          "metadata": {}
        },
        {
          "output_type": "display_data",
          "data": {
            "text/plain": [
              "vocab.txt:   0%|          | 0.00/245k [00:00<?, ?B/s]"
            ],
            "application/vnd.jupyter.widget-view+json": {
              "version_major": 2,
              "version_minor": 0,
              "model_id": "15428d84d9fb417e97cb437fb7e7e5d0"
            }
          },
          "metadata": {}
        },
        {
          "output_type": "display_data",
          "data": {
            "text/plain": [
              "special_tokens_map.json:   0%|          | 0.00/112 [00:00<?, ?B/s]"
            ],
            "application/vnd.jupyter.widget-view+json": {
              "version_major": 2,
              "version_minor": 0,
              "model_id": "8fac81d7377b41e4b8e4933faba55d31"
            }
          },
          "metadata": {}
        },
        {
          "output_type": "display_data",
          "data": {
            "text/plain": [
              "config.json:   0%|          | 0.00/468 [00:00<?, ?B/s]"
            ],
            "application/vnd.jupyter.widget-view+json": {
              "version_major": 2,
              "version_minor": 0,
              "model_id": "a543b3d186bc4b6ca0b3217a298c6035"
            }
          },
          "metadata": {}
        }
      ]
    },
    {
      "cell_type": "code",
      "source": [
        "train_dataset = Dataset(df_train) # 11 min"
      ],
      "metadata": {
        "id": "HDcZDZNurKjW"
      },
      "execution_count": 16,
      "outputs": []
    },
    {
      "cell_type": "code",
      "source": [
        "validation_dataset = Dataset(df_test)"
      ],
      "metadata": {
        "id": "c5lZ6P0Y0UtU"
      },
      "execution_count": 17,
      "outputs": []
    },
    {
      "cell_type": "code",
      "source": [
        "train_dataloader = torch.utils.data.DataLoader(\n",
        "    train_dataset,\n",
        "    batch_size=BATCH_SIZE,\n",
        "    shuffle=True)"
      ],
      "metadata": {
        "id": "mRIIOUss0XR0"
      },
      "execution_count": 18,
      "outputs": []
    },
    {
      "cell_type": "code",
      "source": [
        "val_dataloader = torch.utils.data.DataLoader(\n",
        "    validation_dataset,\n",
        "    batch_size=BATCH_SIZE,\n",
        "    shuffle=True)"
      ],
      "metadata": {
        "id": "V-5Chk0X0Ync"
      },
      "execution_count": 19,
      "outputs": []
    },
    {
      "cell_type": "code",
      "execution_count": 28,
      "metadata": {
        "id": "2uq2eA5KAenh"
      },
      "outputs": [],
      "source": [
        "from transformers import BertModel\n",
        "\n",
        "class SatireClassifier(nn.Module):\n",
        "    def __init__(self,\n",
        "                 input_size: int,\n",
        "                 hidden_size_1: int,\n",
        "                 hidden_size_2: int,\n",
        "                 hidden_size_3: int,\n",
        "                 device: torch.device,\n",
        "                 activation_fn: Callable,\n",
        "                 dropout_rate: float):\n",
        "        super(SatireClassifier, self).__init__()\n",
        "        self.bert = BertModel.from_pretrained(bert_used)\n",
        "        self.input_size = input_size\n",
        "        self.hidden_size = hidden_size_1\n",
        "        self.hidden_size_2 = hidden_size_2\n",
        "        self.hidden_size_3 = hidden_size_3\n",
        "        self.hidden_layer_1 = nn.Linear(768, 1)\n",
        "        #self.hidden_layer_2 = nn.Linear(hidden_size_1, hidden_size_2)\n",
        "        #self.hidden_layer_3 = nn.Linear(hidden_size_2, hidden_size_3)\n",
        "        #self.output_layer = nn.Linear(hidden_size_2, 1) ####### Nu fi proasta si modifica\n",
        "        self.activation_fn = activation_fn\n",
        "        self.dropout = nn.Dropout(p=dropout_rate)\n",
        "        self.device = device\n",
        "\n",
        "    def forward(self, x, mask):\n",
        "        x = x.to(device)\n",
        "        mask = mask.to(device)\n",
        "        _, pooled_output = self.bert(input_ids= x, attention_mask=mask,return_dict=False)\n",
        "        h1 = self.hidden_layer_1(pooled_output)\n",
        "        #h2 = self.activation_fn(self.hidden_layer_2(h1))\n",
        "        #h3 = self.activation_fn(self.hidden_layer_3(h2))\n",
        "        #h = self.activation_fn(self.dropout(self.hidden_layer(x)))\n",
        "        #out = self.output_layer(h2)\n",
        "\n",
        "        return h1"
      ]
    },
    {
      "cell_type": "code",
      "source": [
        "def get_num_features():\n",
        "  if USED_TYPE == 0:\n",
        "    return MAX_TITLE_LEN\n",
        "  else: return MAX_CONTENT_LEN"
      ],
      "metadata": {
        "id": "41wHhcpmyyVC"
      },
      "execution_count": 29,
      "outputs": []
    },
    {
      "cell_type": "code",
      "execution_count": 32,
      "metadata": {
        "id": "CSAFQf8AD-tU"
      },
      "outputs": [],
      "source": [
        "model = SatireClassifier(\n",
        "    input_size=get_num_features(),\n",
        "    hidden_size_1=256,\n",
        "    hidden_size_2=512,\n",
        "    hidden_size_3=512,\n",
        "    device=device,\n",
        "    activation_fn=nn.ReLU(),\n",
        "    dropout_rate=0.2\n",
        ")\n",
        "model.to(device)\n",
        "optimizer = optim.Adam(model.parameters(), lr=3e-4)"
      ]
    },
    {
      "cell_type": "code",
      "execution_count": null,
      "metadata": {
        "id": "ngPhCBNCEy64"
      },
      "outputs": [],
      "source": [
        "for param in model. parameters ():\n",
        "  print(param)"
      ]
    },
    {
      "cell_type": "code",
      "execution_count": 23,
      "metadata": {
        "id": "espZ2L_kFuj6"
      },
      "outputs": [],
      "source": [
        "loss_crt = nn.BCEWithLogitsLoss(\n",
        "\n",
        ")"
      ]
    },
    {
      "cell_type": "code",
      "execution_count": null,
      "metadata": {
        "id": "n8JsO9rnJhpy"
      },
      "outputs": [],
      "source": [
        "loss_crt = nn.CrossEntropyLoss()"
      ]
    },
    {
      "cell_type": "code",
      "execution_count": null,
      "metadata": {
        "colab": {
          "base_uri": "https://localhost:8080/"
        },
        "id": "I5mzs8o4GdS3",
        "outputId": "65a145c9-1afa-4f01-b201-4b421f76f013"
      },
      "outputs": [
        {
          "output_type": "stream",
          "name": "stderr",
          "text": [
            " 45%|████▍     | 1574/3529 [11:54<14:45,  2.21it/s]"
          ]
        }
      ],
      "source": [
        "num_train_batches = len(train_dataloader)\n",
        "num_val_batches = len(val_dataloader)\n",
        "\n",
        "epoch_loss = 0.0\n",
        "train_losses, val_losses = [], []\n",
        "train_predictions, val_predictions = [], []\n",
        "train_labels, val_labels = [], []\n",
        "train_accuracies, val_accuracies = [], []\n",
        "\n",
        "NUM_EPOCHS = 2\n",
        "\n",
        "for epoch_idx in range(NUM_EPOCHS):\n",
        "    train_labels = []\n",
        "    val_labels = []\n",
        "    train_preds = []\n",
        "    val_preds = []\n",
        "\n",
        "    train_epoch_loss = 0.0\n",
        "    model.train()\n",
        "    for batch_titles, batch_labels in tqdm(train_dataloader):\n",
        "        model.zero_grad()\n",
        "\n",
        "        batch_labels = batch_labels \\\n",
        "                  .type(torch.FloatTensor) \\\n",
        "                  .reshape((batch_labels.shape[0], 1)).to(device)\n",
        "\n",
        "        mask = batch_titles['attention_mask'].to(device)\n",
        "        input_id = batch_titles['input_ids'].squeeze(1).to(device)\n",
        "        # feedforward\n",
        "        out = model(input_id, mask)\n",
        "\n",
        "        probabilities = torch.sigmoid(out.squeeze())  # Apply sigmoid activation\n",
        "        batch_predictions = (probabilities >= 0.5).long()\n",
        "\n",
        "        # compute loss\n",
        "        loss = loss_crt(out, batch_labels)\n",
        "        loss.backward()\n",
        "        optimizer.step()\n",
        "        train_epoch_loss += loss.item()\n",
        "        train_labels += batch_labels.to(int).tolist()\n",
        "        train_preds += batch_predictions.tolist()\n",
        "\n",
        "    val_preds = []\n",
        "    with torch.no_grad():\n",
        "        model.eval()\n",
        "        val_epoch_loss = 0.0\n",
        "        for batch_titles, batch_labels in tqdm(val_dataloader):\n",
        "            batch_labels = batch_labels \\\n",
        "                  .type(torch.FloatTensor) \\\n",
        "                  .reshape((batch_labels.shape[0], 1)).to(device)\n",
        "\n",
        "            mask = batch_titles['attention_mask'].to(device)\n",
        "            input_id = batch_titles['input_ids'].squeeze(1).to(device)\n",
        "            # batch_size x 10\n",
        "            # feedforward\n",
        "            out = model(input_id, mask)\n",
        "            probabilities = torch.sigmoid(out.squeeze())  # Apply sigmoid activation\n",
        "            batch_predictions = (probabilities >= 0.5).long()\n",
        "\n",
        "            # compute loss\n",
        "            loss = loss_crt(out, batch_labels).item()\n",
        "            val_epoch_loss += loss\n",
        "            val_labels += batch_labels.to(int).tolist()\n",
        "            val_preds += batch_predictions.tolist()\n",
        "\n",
        "    train_epoch_loss /= num_train_batches\n",
        "    val_epoch_loss /= num_val_batches\n",
        "    train_acc = accuracy_score(train_labels, train_preds)\n",
        "    valid_acc = accuracy_score(val_labels, val_preds)\n",
        "\n",
        "    train_losses.append(train_epoch_loss)\n",
        "    val_losses.append(val_epoch_loss)\n",
        "    train_accuracies.append(train_acc)\n",
        "    val_accuracies.append(valid_acc)\n",
        "\n",
        "    print(\"epoch %d, train loss=%f, val loss=%f, train acc=%f, val acc=%f\" % (\n",
        "        epoch_idx, train_epoch_loss, val_epoch_loss, train_acc, valid_acc\n",
        "    ))"
      ]
    },
    {
      "cell_type": "code",
      "execution_count": null,
      "metadata": {
        "id": "IIFwCYDNhlyO"
      },
      "outputs": [],
      "source": []
    },
    {
      "cell_type": "code",
      "execution_count": null,
      "metadata": {
        "colab": {
          "base_uri": "https://localhost:8080/",
          "height": 472
        },
        "id": "l-OVYe3vKRBo",
        "outputId": "dcf0d2b9-f30a-47e4-edb4-8ca42d0a5680"
      },
      "outputs": [
        {
          "data": {
            "image/png": "[encoded data removed]",
            "text/plain": [
              "<Figure size 640x480 with 1 Axes>"
            ]
          },
          "metadata": {},
          "output_type": "display_data"
        }
      ],
      "source": [
        "%matplotlib inline\n",
        "plt.plot(range(0,len(train_losses)), train_losses, 'g', label='Training loss')\n",
        "plt.plot(range(0,len(train_losses)), val_losses, 'b', label='Validation loss')\n",
        "plt.title('Training and Validation loss')\n",
        "plt.xlabel('Epochs')\n",
        "plt.ylabel('Loss')\n",
        "plt.legend()\n",
        "plt.show()"
      ]
    },
    {
      "cell_type": "code",
      "execution_count": null,
      "metadata": {
        "colab": {
          "base_uri": "https://localhost:8080/",
          "height": 472
        },
        "id": "knTkc-oMNxGN",
        "outputId": "9fd03730-78f3-44b1-d6d2-241a6a26769c"
      },
      "outputs": [
        {
          "data": {
            "image/png": "[encoded data removed]",
            "text/plain": [
              "<Figure size 640x480 with 1 Axes>"
            ]
          },
          "metadata": {},
          "output_type": "display_data"
        }
      ],
      "source": [
        "plt.plot(range(0,len(train_accuracies)), train_accuracies, 'g', label='Training accuracy')\n",
        "plt.plot(range(0,len(train_accuracies)), val_accuracies, 'b', label='Validation accuracy')\n",
        "plt.title('Training and Validation accuracies')\n",
        "plt.xlabel('Epochs')\n",
        "plt.ylabel('Loss')\n",
        "plt.legend()\n",
        "plt.show()"
      ]
    },
    {
      "cell_type": "code",
      "execution_count": null,
      "metadata": {
        "id": "G0RJdVtQOD4x"
      },
      "outputs": [],
      "source": [
        "def compute_confusion_matrix(predictions: List[int], labels:List[int]) -> Tuple[int]:\n",
        "    \"\"\"\n",
        "    Compute the confusion matrix.\n",
        "    Arguments:\n",
        "        predictions: list of model predictions (0 for cats or 1 for dogs)\n",
        "        labels: list of ground truth labels (0 or 1)\n",
        "    \"\"\"\n",
        "    correct_cats = 0\n",
        "    correct_dogs = 0\n",
        "    wrong_cats = 0\n",
        "    wrong_dogs = 0\n",
        "    for (p,l) in zip(predictions, labels):\n",
        "        if p == 0 and l == 0:\n",
        "            correct_cats += 1\n",
        "        elif p == 0 and l == 1:\n",
        "            wrong_cats += 1\n",
        "        elif p == 1 and l == 1:\n",
        "            correct_dogs += 1\n",
        "        else:\n",
        "            wrong_dogs += 1\n",
        "\n",
        "    return (correct_cats, wrong_cats, correct_dogs, wrong_dogs)"
      ]
    },
    {
      "cell_type": "code",
      "execution_count": null,
      "metadata": {
        "id": "JW6GMLpuPJvA"
      },
      "outputs": [],
      "source": [
        "def eval_epoch(model, val_dataloader, loss_crt, device):\n",
        "    \"\"\"\n",
        "    model: Model object\n",
        "    val_dataloader: DataLoader over the validation dataset\n",
        "    loss_crt: loss function object\n",
        "    device: torch.device('cpu) or torch.device('cuda')\n",
        "\n",
        "    The function returns:\n",
        "     - the epoch validation loss, which is an average over the individual batch\n",
        "       losses\n",
        "     - the predictions made by the model\n",
        "     - the labels\n",
        "    \"\"\"\n",
        "    model.eval()\n",
        "    epoch_loss = 0.0\n",
        "    num_batches = len(val_dataloader)\n",
        "    predictions = []\n",
        "    labels = []\n",
        "    with torch.no_grad():\n",
        "        for batch_titles, batch_content, batch_labels in tqdm(val_dataloader):\n",
        "            batch_labels = batch_labels \\\n",
        "                  .type(torch.FloatTensor) \\\n",
        "                  .reshape((batch_labels.shape[0], 1))\n",
        "            batch_labels = batch_labels.to(device)\n",
        "\n",
        "            to_use = batch_content\n",
        "            if USED_TYPE == 0:\n",
        "              to_use = batch_titles\n",
        "\n",
        "            mask = to_use['attention_mask'].to(device)\n",
        "            input_id = to_use['input_ids'].squeeze(1).to(device)\n",
        "            # batch_size x 10\n",
        "            # feedforward\n",
        "            out = model(input_id, mask)\n",
        "            probabilities = torch.sigmoid(out.squeeze())  # Apply sigmoid activation\n",
        "            batch_predictions = (probabilities >= 0.5).long()\n",
        "\n",
        "            predictions += batch_predictions.squeeze().tolist()\n",
        "            labels += batch_labels.squeeze().tolist()\n",
        "\n",
        "            loss = loss_crt(out, batch_labels)\n",
        "            loss_scalar = loss.item()\n",
        "\n",
        "            epoch_loss += loss_scalar\n",
        "\n",
        "    epoch_loss = epoch_loss/num_batches\n",
        "\n",
        "    return epoch_loss, predictions, labels"
      ]
    },
    {
      "cell_type": "code",
      "execution_count": null,
      "metadata": {
        "colab": {
          "base_uri": "https://localhost:8080/"
        },
        "id": "AapZlSVMPL-D",
        "outputId": "f950e759-4108-40b0-9114-ae3baabc9cd8"
      },
      "outputs": [
        {
          "name": "stderr",
          "output_type": "stream",
          "text": [
            "90it [00:00, 1288.09it/s]\n"
          ]
        }
      ],
      "source": [
        "fin_loss, preds, labels = eval_epoch(\n",
        "    model, val_dataloader, loss_crt, device)"
      ]
    },
    {
      "cell_type": "code",
      "execution_count": null,
      "metadata": {
        "colab": {
          "base_uri": "https://localhost:8080/"
        },
        "id": "qAhsT4VHurIN",
        "outputId": "fa7b1b19-704d-4236-df01-c409fc79ecbc"
      },
      "outputs": [
        {
          "data": {
            "text/plain": [
              "714"
            ]
          },
          "execution_count": 85,
          "metadata": {},
          "output_type": "execute_result"
        }
      ],
      "source": [
        "len(preds)"
      ]
    },
    {
      "cell_type": "code",
      "execution_count": null,
      "metadata": {
        "colab": {
          "background_save": true,
          "base_uri": "https://localhost:8080/",
          "height": 530
        },
        "id": "KFxWDSv6N6gI",
        "outputId": "7d374cd5-9511-4b54-e373-0bb940a5959d"
      },
      "outputs": [
        {
          "name": "stderr",
          "output_type": "stream",
          "text": [
            "357it [00:00, 1368.10it/s]\n"
          ]
        },
        {
          "data": {
            "image/png": "[encoded data removed]",
            "text/plain": [
              "<Figure size 640x480 with 2 Axes>"
            ]
          },
          "metadata": {},
          "output_type": "display_data"
        }
      ],
      "source": [
        "fin_loss, preds, labels = eval_epoch(\n",
        "    model, val_dataloader, loss_crt, device)\n",
        "\n",
        "\n",
        "correct_cats, wrong_cats, correct_dogs, wrong_dogs = compute_confusion_matrix(\n",
        "    preds,\n",
        "    labels\n",
        ")\n",
        "cf_matrix = [\n",
        "    [correct_cats, wrong_cats],\n",
        "    [wrong_dogs, correct_dogs]\n",
        "]\n",
        "import seaborn as sns\n",
        "\n",
        "ax = sns.heatmap(cf_matrix, annot=True, cmap='Blues', fmt='d')\n",
        "\n",
        "ax.set_title('Confusion Matrix\\n\\n');\n",
        "ax.set_xlabel('Actual Values')\n",
        "ax.set_ylabel('Predicted Values ');\n",
        "\n",
        "## Ticket labels - List must be in alphabetical order\n",
        "ax.xaxis.set_ticklabels(['0','1'])\n",
        "ax.yaxis.set_ticklabels(['0','1'])\n",
        "\n",
        "## Display the visualization of the Confusion Matrix.\n",
        "plt.show()"
      ]
    },
    {
      "cell_type": "code",
      "execution_count": null,
      "metadata": {
        "colab": {
          "base_uri": "https://localhost:8080/"
        },
        "id": "iwtqQ5GSqlcH",
        "outputId": "66a43157-6459-448a-dd2a-c0d57706d268"
      },
      "outputs": [
        {
          "data": {
            "text/plain": [
              "180"
            ]
          },
          "execution_count": 44,
          "metadata": {},
          "output_type": "execute_result"
        }
      ],
      "source": [
        "len(preds)"
      ]
    },
    {
      "cell_type": "code",
      "execution_count": null,
      "metadata": {
        "id": "vDtbWdBxb2gG"
      },
      "outputs": [],
      "source": [
        "model1 = model"
      ]
    },
    {
      "cell_type": "code",
      "execution_count": null,
      "metadata": {
        "colab": {
          "base_uri": "https://localhost:8080/"
        },
        "id": "DbanWdtzigiL",
        "outputId": "72ce9e60-0b98-480d-ecaa-6e7b2f38aa09"
      },
      "outputs": [
        {
          "name": "stderr",
          "output_type": "stream",
          "text": [
            "45it [00:00, 957.53it/s]\n"
          ]
        }
      ],
      "source": [
        "fin_loss, val_predictions, val_labels = eval_epoch(\n",
        "    model1, val_dataloader, loss_crt, device)"
      ]
    },
    {
      "cell_type": "code",
      "execution_count": null,
      "metadata": {
        "id": "3W6rxIwydF8i"
      },
      "outputs": [],
      "source": [
        "model2 = model ##### overfit nebun, 512, 1024, 1025 ---//----"
      ]
    },
    {
      "cell_type": "code",
      "execution_count": null,
      "metadata": {
        "id": "pX2ix_STeNHL"
      },
      "outputs": [],
      "source": [
        "model3 = model ###### 12 epoci, 256, 256, 256,      ...... , 20 376...."
      ]
    },
    {
      "cell_type": "code",
      "execution_count": null,
      "metadata": {
        "colab": {
          "base_uri": "https://localhost:8080/"
        },
        "id": "CF_3VmCjz0Hi",
        "outputId": "144ca222-4bec-4802-e89f-c7b993ee721b"
      },
      "outputs": [
        {
          "name": "stdout",
          "output_type": "stream",
          "text": [
            "tensor([2696,  156])\n"
          ]
        }
      ],
      "source": [
        "print(torch.bincount(y_train))"
      ]
    }
  ],
  "metadata": {
    "accelerator": "GPU",
    "colab": {
      "gpuType": "T4",
      "provenance": []
    },
    "kernelspec": {
      "display_name": "Python 3",
      "name": "python3"
    },
    "language_info": {
      "name": "python"
    },
    "widgets": {
      "application/vnd.jupyter.widget-state+json": {
        "5aecf64621fc437a90608042d133975c": {
          "model_module": "@jupyter-widgets/controls",
          "model_name": "HBoxModel",
          "model_module_version": "1.5.0",
          "state": {
            "_dom_classes": [],
            "_model_module": "@jupyter-widgets/controls",
            "_model_module_version": "1.5.0",
            "_model_name": "HBoxModel",
            "_view_count": null,
            "_view_module": "@jupyter-widgets/controls",
            "_view_module_version": "1.5.0",
            "_view_name": "HBoxView",
            "box_style": "",
            "children": [
              "IPY_MODEL_32d8589d599f4cf09b919baac6d411c0",
              "IPY_MODEL_45ced7e375194bb7a9d0297399c03f52",
              "IPY_MODEL_30e84af6ff9b4049a3707355a58b19a4"
            ],
            "layout": "IPY_MODEL_cd556527fe4947a9aa26ea2dd5d720d1"
          }
        },
        "32d8589d599f4cf09b919baac6d411c0": {
          "model_module": "@jupyter-widgets/controls",
          "model_name": "HTMLModel",
          "model_module_version": "1.5.0",
          "state": {
            "_dom_classes": [],
            "_model_module": "@jupyter-widgets/controls",
            "_model_module_version": "1.5.0",
            "_model_name": "HTMLModel",
            "_view_count": null,
            "_view_module": "@jupyter-widgets/controls",
            "_view_module_version": "1.5.0",
            "_view_name": "HTMLView",
            "description": "",
            "description_tooltip": null,
            "layout": "IPY_MODEL_f5186f6c316843cdabdaa328a96ba7bb",
            "placeholder": "​",
            "style": "IPY_MODEL_a82b14a6d79845d18f79981da06533f6",
            "value": "tokenizer_config.json: 100%"
          }
        },
        "45ced7e375194bb7a9d0297399c03f52": {
          "model_module": "@jupyter-widgets/controls",
          "model_name": "FloatProgressModel",
          "model_module_version": "1.5.0",
          "state": {
            "_dom_classes": [],
            "_model_module": "@jupyter-widgets/controls",
            "_model_module_version": "1.5.0",
            "_model_name": "FloatProgressModel",
            "_view_count": null,
            "_view_module": "@jupyter-widgets/controls",
            "_view_module_version": "1.5.0",
            "_view_name": "ProgressView",
            "bar_style": "success",
            "description": "",
            "description_tooltip": null,
            "layout": "IPY_MODEL_ce716458368f4dbdb47749ea08f1fee9",
            "max": 366,
            "min": 0,
            "orientation": "horizontal",
            "style": "IPY_MODEL_f48c9f707caf466e90d511ca62cbd0f8",
            "value": 366
          }
        },
        "30e84af6ff9b4049a3707355a58b19a4": {
          "model_module": "@jupyter-widgets/controls",
          "model_name": "HTMLModel",
          "model_module_version": "1.5.0",
          "state": {
            "_dom_classes": [],
            "_model_module": "@jupyter-widgets/controls",
            "_model_module_version": "1.5.0",
            "_model_name": "HTMLModel",
            "_view_count": null,
            "_view_module": "@jupyter-widgets/controls",
            "_view_module_version": "1.5.0",
            "_view_name": "HTMLView",
            "description": "",
            "description_tooltip": null,
            "layout": "IPY_MODEL_110c696cce2d45f89a9b692090388293",
            "placeholder": "​",
            "style": "IPY_MODEL_f42bb6f9948449d1ab1365c3095631f8",
            "value": " 366/366 [00:00&lt;00:00, 24.0kB/s]"
          }
        },
        "cd556527fe4947a9aa26ea2dd5d720d1": {
          "model_module": "@jupyter-widgets/base",
          "model_name": "LayoutModel",
          "model_module_version": "1.2.0",
          "state": {
            "_model_module": "@jupyter-widgets/base",
            "_model_module_version": "1.2.0",
            "_model_name": "LayoutModel",
            "_view_count": null,
            "_view_module": "@jupyter-widgets/base",
            "_view_module_version": "1.2.0",
            "_view_name": "LayoutView",
            "align_content": null,
            "align_items": null,
            "align_self": null,
            "border": null,
            "bottom": null,
            "display": null,
            "flex": null,
            "flex_flow": null,
            "grid_area": null,
            "grid_auto_columns": null,
            "grid_auto_flow": null,
            "grid_auto_rows": null,
            "grid_column": null,
            "grid_gap": null,
            "grid_row": null,
            "grid_template_areas": null,
            "grid_template_columns": null,
            "grid_template_rows": null,
            "height": null,
            "justify_content": null,
            "justify_items": null,
            "left": null,
            "margin": null,
            "max_height": null,
            "max_width": null,
            "min_height": null,
            "min_width": null,
            "object_fit": null,
            "object_position": null,
            "order": null,
            "overflow": null,
            "overflow_x": null,
            "overflow_y": null,
            "padding": null,
            "right": null,
            "top": null,
            "visibility": null,
            "width": null
          }
        },
        "f5186f6c316843cdabdaa328a96ba7bb": {
          "model_module": "@jupyter-widgets/base",
          "model_name": "LayoutModel",
          "model_module_version": "1.2.0",
          "state": {
            "_model_module": "@jupyter-widgets/base",
            "_model_module_version": "1.2.0",
            "_model_name": "LayoutModel",
            "_view_count": null,
            "_view_module": "@jupyter-widgets/base",
            "_view_module_version": "1.2.0",
            "_view_name": "LayoutView",
            "align_content": null,
            "align_items": null,
            "align_self": null,
            "border": null,
            "bottom": null,
            "display": null,
            "flex": null,
            "flex_flow": null,
            "grid_area": null,
            "grid_auto_columns": null,
            "grid_auto_flow": null,
            "grid_auto_rows": null,
            "grid_column": null,
            "grid_gap": null,
            "grid_row": null,
            "grid_template_areas": null,
            "grid_template_columns": null,
            "grid_template_rows": null,
            "height": null,
            "justify_content": null,
            "justify_items": null,
            "left": null,
            "margin": null,
            "max_height": null,
            "max_width": null,
            "min_height": null,
            "min_width": null,
            "object_fit": null,
            "object_position": null,
            "order": null,
            "overflow": null,
            "overflow_x": null,
            "overflow_y": null,
            "padding": null,
            "right": null,
            "top": null,
            "visibility": null,
            "width": null
          }
        },
        "a82b14a6d79845d18f79981da06533f6": {
          "model_module": "@jupyter-widgets/controls",
          "model_name": "DescriptionStyleModel",
          "model_module_version": "1.5.0",
          "state": {
            "_model_module": "@jupyter-widgets/controls",
            "_model_module_version": "1.5.0",
            "_model_name": "DescriptionStyleModel",
            "_view_count": null,
            "_view_module": "@jupyter-widgets/base",
            "_view_module_version": "1.2.0",
            "_view_name": "StyleView",
            "description_width": ""
          }
        },
        "ce716458368f4dbdb47749ea08f1fee9": {
          "model_module": "@jupyter-widgets/base",
          "model_name": "LayoutModel",
          "model_module_version": "1.2.0",
          "state": {
            "_model_module": "@jupyter-widgets/base",
            "_model_module_version": "1.2.0",
            "_model_name": "LayoutModel",
            "_view_count": null,
            "_view_module": "@jupyter-widgets/base",
            "_view_module_version": "1.2.0",
            "_view_name": "LayoutView",
            "align_content": null,
            "align_items": null,
            "align_self": null,
            "border": null,
            "bottom": null,
            "display": null,
            "flex": null,
            "flex_flow": null,
            "grid_area": null,
            "grid_auto_columns": null,
            "grid_auto_flow": null,
            "grid_auto_rows": null,
            "grid_column": null,
            "grid_gap": null,
            "grid_row": null,
            "grid_template_areas": null,
            "grid_template_columns": null,
            "grid_template_rows": null,
            "height": null,
            "justify_content": null,
            "justify_items": null,
            "left": null,
            "margin": null,
            "max_height": null,
            "max_width": null,
            "min_height": null,
            "min_width": null,
            "object_fit": null,
            "object_position": null,
            "order": null,
            "overflow": null,
            "overflow_x": null,
            "overflow_y": null,
            "padding": null,
            "right": null,
            "top": null,
            "visibility": null,
            "width": null
          }
        },
        "f48c9f707caf466e90d511ca62cbd0f8": {
          "model_module": "@jupyter-widgets/controls",
          "model_name": "ProgressStyleModel",
          "model_module_version": "1.5.0",
          "state": {
            "_model_module": "@jupyter-widgets/controls",
            "_model_module_version": "1.5.0",
            "_model_name": "ProgressStyleModel",
            "_view_count": null,
            "_view_module": "@jupyter-widgets/base",
            "_view_module_version": "1.2.0",
            "_view_name": "StyleView",
            "bar_color": null,
            "description_width": ""
          }
        },
        "110c696cce2d45f89a9b692090388293": {
          "model_module": "@jupyter-widgets/base",
          "model_name": "LayoutModel",
          "model_module_version": "1.2.0",
          "state": {
            "_model_module": "@jupyter-widgets/base",
            "_model_module_version": "1.2.0",
            "_model_name": "LayoutModel",
            "_view_count": null,
            "_view_module": "@jupyter-widgets/base",
            "_view_module_version": "1.2.0",
            "_view_name": "LayoutView",
            "align_content": null,
            "align_items": null,
            "align_self": null,
            "border": null,
            "bottom": null,
            "display": null,
            "flex": null,
            "flex_flow": null,
            "grid_area": null,
            "grid_auto_columns": null,
            "grid_auto_flow": null,
            "grid_auto_rows": null,
            "grid_column": null,
            "grid_gap": null,
            "grid_row": null,
            "grid_template_areas": null,
            "grid_template_columns": null,
            "grid_template_rows": null,
            "height": null,
            "justify_content": null,
            "justify_items": null,
            "left": null,
            "margin": null,
            "max_height": null,
            "max_width": null,
            "min_height": null,
            "min_width": null,
            "object_fit": null,
            "object_position": null,
            "order": null,
            "overflow": null,
            "overflow_x": null,
            "overflow_y": null,
            "padding": null,
            "right": null,
            "top": null,
            "visibility": null,
            "width": null
          }
        },
        "f42bb6f9948449d1ab1365c3095631f8": {
          "model_module": "@jupyter-widgets/controls",
          "model_name": "DescriptionStyleModel",
          "model_module_version": "1.5.0",
          "state": {
            "_model_module": "@jupyter-widgets/controls",
            "_model_module_version": "1.5.0",
            "_model_name": "DescriptionStyleModel",
            "_view_count": null,
            "_view_module": "@jupyter-widgets/base",
            "_view_module_version": "1.2.0",
            "_view_name": "StyleView",
            "description_width": ""
          }
        },
        "15428d84d9fb417e97cb437fb7e7e5d0": {
          "model_module": "@jupyter-widgets/controls",
          "model_name": "HBoxModel",
          "model_module_version": "1.5.0",
          "state": {
            "_dom_classes": [],
            "_model_module": "@jupyter-widgets/controls",
            "_model_module_version": "1.5.0",
            "_model_name": "HBoxModel",
            "_view_count": null,
            "_view_module": "@jupyter-widgets/controls",
            "_view_module_version": "1.5.0",
            "_view_name": "HBoxView",
            "box_style": "",
            "children": [
              "IPY_MODEL_e29a58b292324392afaf9d8c557d9694",
              "IPY_MODEL_f239494bfc644f44a2399c6a151befeb",
              "IPY_MODEL_ad3c770166a948418ecae6bce7a6175b"
            ],
            "layout": "IPY_MODEL_8d571b234f894351861506344ede6320"
          }
        },
        "e29a58b292324392afaf9d8c557d9694": {
          "model_module": "@jupyter-widgets/controls",
          "model_name": "HTMLModel",
          "model_module_version": "1.5.0",
          "state": {
            "_dom_classes": [],
            "_model_module": "@jupyter-widgets/controls",
            "_model_module_version": "1.5.0",
            "_model_name": "HTMLModel",
            "_view_count": null,
            "_view_module": "@jupyter-widgets/controls",
            "_view_module_version": "1.5.0",
            "_view_name": "HTMLView",
            "description": "",
            "description_tooltip": null,
            "layout": "IPY_MODEL_80a518c118d342ddbec879e199c17a64",
            "placeholder": "​",
            "style": "IPY_MODEL_eeaa5ed117494247ae58f70b414e51d9",
            "value": "vocab.txt: 100%"
          }
        },
        "f239494bfc644f44a2399c6a151befeb": {
          "model_module": "@jupyter-widgets/controls",
          "model_name": "FloatProgressModel",
          "model_module_version": "1.5.0",
          "state": {
            "_dom_classes": [],
            "_model_module": "@jupyter-widgets/controls",
            "_model_module_version": "1.5.0",
            "_model_name": "FloatProgressModel",
            "_view_count": null,
            "_view_module": "@jupyter-widgets/controls",
            "_view_module_version": "1.5.0",
            "_view_name": "ProgressView",
            "bar_style": "success",
            "description": "",
            "description_tooltip": null,
            "layout": "IPY_MODEL_e1c07d026f2b4386a5ac60d187377e3a",
            "max": 244937,
            "min": 0,
            "orientation": "horizontal",
            "style": "IPY_MODEL_b08d17a17b8840fcbda64d468c9245c4",
            "value": 244937
          }
        },
        "ad3c770166a948418ecae6bce7a6175b": {
          "model_module": "@jupyter-widgets/controls",
          "model_name": "HTMLModel",
          "model_module_version": "1.5.0",
          "state": {
            "_dom_classes": [],
            "_model_module": "@jupyter-widgets/controls",
            "_model_module_version": "1.5.0",
            "_model_name": "HTMLModel",
            "_view_count": null,
            "_view_module": "@jupyter-widgets/controls",
            "_view_module_version": "1.5.0",
            "_view_name": "HTMLView",
            "description": "",
            "description_tooltip": null,
            "layout": "IPY_MODEL_351c1cf3344f49baaa6a7ab65b09a2fa",
            "placeholder": "​",
            "style": "IPY_MODEL_c77c257599434297ba922a95f469dcc1",
            "value": " 245k/245k [00:00&lt;00:00, 3.16MB/s]"
          }
        },
        "8d571b234f894351861506344ede6320": {
          "model_module": "@jupyter-widgets/base",
          "model_name": "LayoutModel",
          "model_module_version": "1.2.0",
          "state": {
            "_model_module": "@jupyter-widgets/base",
            "_model_module_version": "1.2.0",
            "_model_name": "LayoutModel",
            "_view_count": null,
            "_view_module": "@jupyter-widgets/base",
            "_view_module_version": "1.2.0",
            "_view_name": "LayoutView",
            "align_content": null,
            "align_items": null,
            "align_self": null,
            "border": null,
            "bottom": null,
            "display": null,
            "flex": null,
            "flex_flow": null,
            "grid_area": null,
            "grid_auto_columns": null,
            "grid_auto_flow": null,
            "grid_auto_rows": null,
            "grid_column": null,
            "grid_gap": null,
            "grid_row": null,
            "grid_template_areas": null,
            "grid_template_columns": null,
            "grid_template_rows": null,
            "height": null,
            "justify_content": null,
            "justify_items": null,
            "left": null,
            "margin": null,
            "max_height": null,
            "max_width": null,
            "min_height": null,
            "min_width": null,
            "object_fit": null,
            "object_position": null,
            "order": null,
            "overflow": null,
            "overflow_x": null,
            "overflow_y": null,
            "padding": null,
            "right": null,
            "top": null,
            "visibility": null,
            "width": null
          }
        },
        "80a518c118d342ddbec879e199c17a64": {
          "model_module": "@jupyter-widgets/base",
          "model_name": "LayoutModel",
          "model_module_version": "1.2.0",
          "state": {
            "_model_module": "@jupyter-widgets/base",
            "_model_module_version": "1.2.0",
            "_model_name": "LayoutModel",
            "_view_count": null,
            "_view_module": "@jupyter-widgets/base",
            "_view_module_version": "1.2.0",
            "_view_name": "LayoutView",
            "align_content": null,
            "align_items": null,
            "align_self": null,
            "border": null,
            "bottom": null,
            "display": null,
            "flex": null,
            "flex_flow": null,
            "grid_area": null,
            "grid_auto_columns": null,
            "grid_auto_flow": null,
            "grid_auto_rows": null,
            "grid_column": null,
            "grid_gap": null,
            "grid_row": null,
            "grid_template_areas": null,
            "grid_template_columns": null,
            "grid_template_rows": null,
            "height": null,
            "justify_content": null,
            "justify_items": null,
            "left": null,
            "margin": null,
            "max_height": null,
            "max_width": null,
            "min_height": null,
            "min_width": null,
            "object_fit": null,
            "object_position": null,
            "order": null,
            "overflow": null,
            "overflow_x": null,
            "overflow_y": null,
            "padding": null,
            "right": null,
            "top": null,
            "visibility": null,
            "width": null
          }
        },
        "eeaa5ed117494247ae58f70b414e51d9": {
          "model_module": "@jupyter-widgets/controls",
          "model_name": "DescriptionStyleModel",
          "model_module_version": "1.5.0",
          "state": {
            "_model_module": "@jupyter-widgets/controls",
            "_model_module_version": "1.5.0",
            "_model_name": "DescriptionStyleModel",
            "_view_count": null,
            "_view_module": "@jupyter-widgets/base",
            "_view_module_version": "1.2.0",
            "_view_name": "StyleView",
            "description_width": ""
          }
        },
        "e1c07d026f2b4386a5ac60d187377e3a": {
          "model_module": "@jupyter-widgets/base",
          "model_name": "LayoutModel",
          "model_module_version": "1.2.0",
          "state": {
            "_model_module": "@jupyter-widgets/base",
            "_model_module_version": "1.2.0",
            "_model_name": "LayoutModel",
            "_view_count": null,
            "_view_module": "@jupyter-widgets/base",
            "_view_module_version": "1.2.0",
            "_view_name": "LayoutView",
            "align_content": null,
            "align_items": null,
            "align_self": null,
            "border": null,
            "bottom": null,
            "display": null,
            "flex": null,
            "flex_flow": null,
            "grid_area": null,
            "grid_auto_columns": null,
            "grid_auto_flow": null,
            "grid_auto_rows": null,
            "grid_column": null,
            "grid_gap": null,
            "grid_row": null,
            "grid_template_areas": null,
            "grid_template_columns": null,
            "grid_template_rows": null,
            "height": null,
            "justify_content": null,
            "justify_items": null,
            "left": null,
            "margin": null,
            "max_height": null,
            "max_width": null,
            "min_height": null,
            "min_width": null,
            "object_fit": null,
            "object_position": null,
            "order": null,
            "overflow": null,
            "overflow_x": null,
            "overflow_y": null,
            "padding": null,
            "right": null,
            "top": null,
            "visibility": null,
            "width": null
          }
        },
        "b08d17a17b8840fcbda64d468c9245c4": {
          "model_module": "@jupyter-widgets/controls",
          "model_name": "ProgressStyleModel",
          "model_module_version": "1.5.0",
          "state": {
            "_model_module": "@jupyter-widgets/controls",
            "_model_module_version": "1.5.0",
            "_model_name": "ProgressStyleModel",
            "_view_count": null,
            "_view_module": "@jupyter-widgets/base",
            "_view_module_version": "1.2.0",
            "_view_name": "StyleView",
            "bar_color": null,
            "description_width": ""
          }
        },
        "351c1cf3344f49baaa6a7ab65b09a2fa": {
          "model_module": "@jupyter-widgets/base",
          "model_name": "LayoutModel",
          "model_module_version": "1.2.0",
          "state": {
            "_model_module": "@jupyter-widgets/base",
            "_model_module_version": "1.2.0",
            "_model_name": "LayoutModel",
            "_view_count": null,
            "_view_module": "@jupyter-widgets/base",
            "_view_module_version": "1.2.0",
            "_view_name": "LayoutView",
            "align_content": null,
            "align_items": null,
            "align_self": null,
            "border": null,
            "bottom": null,
            "display": null,
            "flex": null,
            "flex_flow": null,
            "grid_area": null,
            "grid_auto_columns": null,
            "grid_auto_flow": null,
            "grid_auto_rows": null,
            "grid_column": null,
            "grid_gap": null,
            "grid_row": null,
            "grid_template_areas": null,
            "grid_template_columns": null,
            "grid_template_rows": null,
            "height": null,
            "justify_content": null,
            "justify_items": null,
            "left": null,
            "margin": null,
            "max_height": null,
            "max_width": null,
            "min_height": null,
            "min_width": null,
            "object_fit": null,
            "object_position": null,
            "order": null,
            "overflow": null,
            "overflow_x": null,
            "overflow_y": null,
            "padding": null,
            "right": null,
            "top": null,
            "visibility": null,
            "width": null
          }
        },
        "c77c257599434297ba922a95f469dcc1": {
          "model_module": "@jupyter-widgets/controls",
          "model_name": "DescriptionStyleModel",
          "model_module_version": "1.5.0",
          "state": {
            "_model_module": "@jupyter-widgets/controls",
            "_model_module_version": "1.5.0",
            "_model_name": "DescriptionStyleModel",
            "_view_count": null,
            "_view_module": "@jupyter-widgets/base",
            "_view_module_version": "1.2.0",
            "_view_name": "StyleView",
            "description_width": ""
          }
        },
        "8fac81d7377b41e4b8e4933faba55d31": {
          "model_module": "@jupyter-widgets/controls",
          "model_name": "HBoxModel",
          "model_module_version": "1.5.0",
          "state": {
            "_dom_classes": [],
            "_model_module": "@jupyter-widgets/controls",
            "_model_module_version": "1.5.0",
            "_model_name": "HBoxModel",
            "_view_count": null,
            "_view_module": "@jupyter-widgets/controls",
            "_view_module_version": "1.5.0",
            "_view_name": "HBoxView",
            "box_style": "",
            "children": [
              "IPY_MODEL_bb0995039c9e4778ac138a899b87ba15",
              "IPY_MODEL_ea47b9a99236421e82fc6a5a16696314",
              "IPY_MODEL_f2a559a4aaec41e7a1a8a0a103237191"
            ],
            "layout": "IPY_MODEL_e3919189cb75470496720360b9650b40"
          }
        },
        "bb0995039c9e4778ac138a899b87ba15": {
          "model_module": "@jupyter-widgets/controls",
          "model_name": "HTMLModel",
          "model_module_version": "1.5.0",
          "state": {
            "_dom_classes": [],
            "_model_module": "@jupyter-widgets/controls",
            "_model_module_version": "1.5.0",
            "_model_name": "HTMLModel",
            "_view_count": null,
            "_view_module": "@jupyter-widgets/controls",
            "_view_module_version": "1.5.0",
            "_view_name": "HTMLView",
            "description": "",
            "description_tooltip": null,
            "layout": "IPY_MODEL_cc43636f834d41d88bf46238c0847918",
            "placeholder": "​",
            "style": "IPY_MODEL_2ef3772b595340bbbb9ef7e95c6c9c5b",
            "value": "special_tokens_map.json: 100%"
          }
        },
        "ea47b9a99236421e82fc6a5a16696314": {
          "model_module": "@jupyter-widgets/controls",
          "model_name": "FloatProgressModel",
          "model_module_version": "1.5.0",
          "state": {
            "_dom_classes": [],
            "_model_module": "@jupyter-widgets/controls",
            "_model_module_version": "1.5.0",
            "_model_name": "FloatProgressModel",
            "_view_count": null,
            "_view_module": "@jupyter-widgets/controls",
            "_view_module_version": "1.5.0",
            "_view_name": "ProgressView",
            "bar_style": "success",
            "description": "",
            "description_tooltip": null,
            "layout": "IPY_MODEL_5fc369a5694a46a18f36dff5f869361c",
            "max": 112,
            "min": 0,
            "orientation": "horizontal",
            "style": "IPY_MODEL_452159c20fd84045973b5cd0cd2c24a8",
            "value": 112
          }
        },
        "f2a559a4aaec41e7a1a8a0a103237191": {
          "model_module": "@jupyter-widgets/controls",
          "model_name": "HTMLModel",
          "model_module_version": "1.5.0",
          "state": {
            "_dom_classes": [],
            "_model_module": "@jupyter-widgets/controls",
            "_model_module_version": "1.5.0",
            "_model_name": "HTMLModel",
            "_view_count": null,
            "_view_module": "@jupyter-widgets/controls",
            "_view_module_version": "1.5.0",
            "_view_name": "HTMLView",
            "description": "",
            "description_tooltip": null,
            "layout": "IPY_MODEL_822f3d35efaf45959b11464c6b084cd5",
            "placeholder": "​",
            "style": "IPY_MODEL_c664e74bf5c04a02a34a5e1105251d8b",
            "value": " 112/112 [00:00&lt;00:00, 9.08kB/s]"
          }
        },
        "e3919189cb75470496720360b9650b40": {
          "model_module": "@jupyter-widgets/base",
          "model_name": "LayoutModel",
          "model_module_version": "1.2.0",
          "state": {
            "_model_module": "@jupyter-widgets/base",
            "_model_module_version": "1.2.0",
            "_model_name": "LayoutModel",
            "_view_count": null,
            "_view_module": "@jupyter-widgets/base",
            "_view_module_version": "1.2.0",
            "_view_name": "LayoutView",
            "align_content": null,
            "align_items": null,
            "align_self": null,
            "border": null,
            "bottom": null,
            "display": null,
            "flex": null,
            "flex_flow": null,
            "grid_area": null,
            "grid_auto_columns": null,
            "grid_auto_flow": null,
            "grid_auto_rows": null,
            "grid_column": null,
            "grid_gap": null,
            "grid_row": null,
            "grid_template_areas": null,
            "grid_template_columns": null,
            "grid_template_rows": null,
            "height": null,
            "justify_content": null,
            "justify_items": null,
            "left": null,
            "margin": null,
            "max_height": null,
            "max_width": null,
            "min_height": null,
            "min_width": null,
            "object_fit": null,
            "object_position": null,
            "order": null,
            "overflow": null,
            "overflow_x": null,
            "overflow_y": null,
            "padding": null,
            "right": null,
            "top": null,
            "visibility": null,
            "width": null
          }
        },
        "cc43636f834d41d88bf46238c0847918": {
          "model_module": "@jupyter-widgets/base",
          "model_name": "LayoutModel",
          "model_module_version": "1.2.0",
          "state": {
            "_model_module": "@jupyter-widgets/base",
            "_model_module_version": "1.2.0",
            "_model_name": "LayoutModel",
            "_view_count": null,
            "_view_module": "@jupyter-widgets/base",
            "_view_module_version": "1.2.0",
            "_view_name": "LayoutView",
            "align_content": null,
            "align_items": null,
            "align_self": null,
            "border": null,
            "bottom": null,
            "display": null,
            "flex": null,
            "flex_flow": null,
            "grid_area": null,
            "grid_auto_columns": null,
            "grid_auto_flow": null,
            "grid_auto_rows": null,
            "grid_column": null,
            "grid_gap": null,
            "grid_row": null,
            "grid_template_areas": null,
            "grid_template_columns": null,
            "grid_template_rows": null,
            "height": null,
            "justify_content": null,
            "justify_items": null,
            "left": null,
            "margin": null,
            "max_height": null,
            "max_width": null,
            "min_height": null,
            "min_width": null,
            "object_fit": null,
            "object_position": null,
            "order": null,
            "overflow": null,
            "overflow_x": null,
            "overflow_y": null,
            "padding": null,
            "right": null,
            "top": null,
            "visibility": null,
            "width": null
          }
        },
        "2ef3772b595340bbbb9ef7e95c6c9c5b": {
          "model_module": "@jupyter-widgets/controls",
          "model_name": "DescriptionStyleModel",
          "model_module_version": "1.5.0",
          "state": {
            "_model_module": "@jupyter-widgets/controls",
            "_model_module_version": "1.5.0",
            "_model_name": "DescriptionStyleModel",
            "_view_count": null,
            "_view_module": "@jupyter-widgets/base",
            "_view_module_version": "1.2.0",
            "_view_name": "StyleView",
            "description_width": ""
          }
        },
        "5fc369a5694a46a18f36dff5f869361c": {
          "model_module": "@jupyter-widgets/base",
          "model_name": "LayoutModel",
          "model_module_version": "1.2.0",
          "state": {
            "_model_module": "@jupyter-widgets/base",
            "_model_module_version": "1.2.0",
            "_model_name": "LayoutModel",
            "_view_count": null,
            "_view_module": "@jupyter-widgets/base",
            "_view_module_version": "1.2.0",
            "_view_name": "LayoutView",
            "align_content": null,
            "align_items": null,
            "align_self": null,
            "border": null,
            "bottom": null,
            "display": null,
            "flex": null,
            "flex_flow": null,
            "grid_area": null,
            "grid_auto_columns": null,
            "grid_auto_flow": null,
            "grid_auto_rows": null,
            "grid_column": null,
            "grid_gap": null,
            "grid_row": null,
            "grid_template_areas": null,
            "grid_template_columns": null,
            "grid_template_rows": null,
            "height": null,
            "justify_content": null,
            "justify_items": null,
            "left": null,
            "margin": null,
            "max_height": null,
            "max_width": null,
            "min_height": null,
            "min_width": null,
            "object_fit": null,
            "object_position": null,
            "order": null,
            "overflow": null,
            "overflow_x": null,
            "overflow_y": null,
            "padding": null,
            "right": null,
            "top": null,
            "visibility": null,
            "width": null
          }
        },
        "452159c20fd84045973b5cd0cd2c24a8": {
          "model_module": "@jupyter-widgets/controls",
          "model_name": "ProgressStyleModel",
          "model_module_version": "1.5.0",
          "state": {
            "_model_module": "@jupyter-widgets/controls",
            "_model_module_version": "1.5.0",
            "_model_name": "ProgressStyleModel",
            "_view_count": null,
            "_view_module": "@jupyter-widgets/base",
            "_view_module_version": "1.2.0",
            "_view_name": "StyleView",
            "bar_color": null,
            "description_width": ""
          }
        },
        "822f3d35efaf45959b11464c6b084cd5": {
          "model_module": "@jupyter-widgets/base",
          "model_name": "LayoutModel",
          "model_module_version": "1.2.0",
          "state": {
            "_model_module": "@jupyter-widgets/base",
            "_model_module_version": "1.2.0",
            "_model_name": "LayoutModel",
            "_view_count": null,
            "_view_module": "@jupyter-widgets/base",
            "_view_module_version": "1.2.0",
            "_view_name": "LayoutView",
            "align_content": null,
            "align_items": null,
            "align_self": null,
            "border": null,
            "bottom": null,
            "display": null,
            "flex": null,
            "flex_flow": null,
            "grid_area": null,
            "grid_auto_columns": null,
            "grid_auto_flow": null,
            "grid_auto_rows": null,
            "grid_column": null,
            "grid_gap": null,
            "grid_row": null,
            "grid_template_areas": null,
            "grid_template_columns": null,
            "grid_template_rows": null,
            "height": null,
            "justify_content": null,
            "justify_items": null,
            "left": null,
            "margin": null,
            "max_height": null,
            "max_width": null,
            "min_height": null,
            "min_width": null,
            "object_fit": null,
            "object_position": null,
            "order": null,
            "overflow": null,
            "overflow_x": null,
            "overflow_y": null,
            "padding": null,
            "right": null,
            "top": null,
            "visibility": null,
            "width": null
          }
        },
        "c664e74bf5c04a02a34a5e1105251d8b": {
          "model_module": "@jupyter-widgets/controls",
          "model_name": "DescriptionStyleModel",
          "model_module_version": "1.5.0",
          "state": {
            "_model_module": "@jupyter-widgets/controls",
            "_model_module_version": "1.5.0",
            "_model_name": "DescriptionStyleModel",
            "_view_count": null,
            "_view_module": "@jupyter-widgets/base",
            "_view_module_version": "1.2.0",
            "_view_name": "StyleView",
            "description_width": ""
          }
        },
        "a543b3d186bc4b6ca0b3217a298c6035": {
          "model_module": "@jupyter-widgets/controls",
          "model_name": "HBoxModel",
          "model_module_version": "1.5.0",
          "state": {
            "_dom_classes": [],
            "_model_module": "@jupyter-widgets/controls",
            "_model_module_version": "1.5.0",
            "_model_name": "HBoxModel",
            "_view_count": null,
            "_view_module": "@jupyter-widgets/controls",
            "_view_module_version": "1.5.0",
            "_view_name": "HBoxView",
            "box_style": "",
            "children": [
              "IPY_MODEL_ea985ef01dd14dd0a874828271bb9510",
              "IPY_MODEL_97dc3c18a82943389e7242153d461bee",
              "IPY_MODEL_301f160a9752490d895d1f8d9f15f9da"
            ],
            "layout": "IPY_MODEL_5010925ef3b64e63a67ddf742b641f3e"
          }
        },
        "ea985ef01dd14dd0a874828271bb9510": {
          "model_module": "@jupyter-widgets/controls",
          "model_name": "HTMLModel",
          "model_module_version": "1.5.0",
          "state": {
            "_dom_classes": [],
            "_model_module": "@jupyter-widgets/controls",
            "_model_module_version": "1.5.0",
            "_model_name": "HTMLModel",
            "_view_count": null,
            "_view_module": "@jupyter-widgets/controls",
            "_view_module_version": "1.5.0",
            "_view_name": "HTMLView",
            "description": "",
            "description_tooltip": null,
            "layout": "IPY_MODEL_6a8a2c9c65ab45a2a5529ac57ac44f4b",
            "placeholder": "​",
            "style": "IPY_MODEL_3cb8035627c345b0aa105e787a70ae60",
            "value": "config.json: 100%"
          }
        },
        "97dc3c18a82943389e7242153d461bee": {
          "model_module": "@jupyter-widgets/controls",
          "model_name": "FloatProgressModel",
          "model_module_version": "1.5.0",
          "state": {
            "_dom_classes": [],
            "_model_module": "@jupyter-widgets/controls",
            "_model_module_version": "1.5.0",
            "_model_name": "FloatProgressModel",
            "_view_count": null,
            "_view_module": "@jupyter-widgets/controls",
            "_view_module_version": "1.5.0",
            "_view_name": "ProgressView",
            "bar_style": "success",
            "description": "",
            "description_tooltip": null,
            "layout": "IPY_MODEL_236f7c4fc02c4dc18b099fb484903dba",
            "max": 468,
            "min": 0,
            "orientation": "horizontal",
            "style": "IPY_MODEL_985bcde4a71a41d8be2cc851d84014f1",
            "value": 468
          }
        },
        "301f160a9752490d895d1f8d9f15f9da": {
          "model_module": "@jupyter-widgets/controls",
          "model_name": "HTMLModel",
          "model_module_version": "1.5.0",
          "state": {
            "_dom_classes": [],
            "_model_module": "@jupyter-widgets/controls",
            "_model_module_version": "1.5.0",
            "_model_name": "HTMLModel",
            "_view_count": null,
            "_view_module": "@jupyter-widgets/controls",
            "_view_module_version": "1.5.0",
            "_view_name": "HTMLView",
            "description": "",
            "description_tooltip": null,
            "layout": "IPY_MODEL_a07cc2a8fdcb44b8af5729a86f3cb9c5",
            "placeholder": "​",
            "style": "IPY_MODEL_29bb68371d634f3fbb09ced83ac472bb",
            "value": " 468/468 [00:00&lt;00:00, 27.5kB/s]"
          }
        },
        "5010925ef3b64e63a67ddf742b641f3e": {
          "model_module": "@jupyter-widgets/base",
          "model_name": "LayoutModel",
          "model_module_version": "1.2.0",
          "state": {
            "_model_module": "@jupyter-widgets/base",
            "_model_module_version": "1.2.0",
            "_model_name": "LayoutModel",
            "_view_count": null,
            "_view_module": "@jupyter-widgets/base",
            "_view_module_version": "1.2.0",
            "_view_name": "LayoutView",
            "align_content": null,
            "align_items": null,
            "align_self": null,
            "border": null,
            "bottom": null,
            "display": null,
            "flex": null,
            "flex_flow": null,
            "grid_area": null,
            "grid_auto_columns": null,
            "grid_auto_flow": null,
            "grid_auto_rows": null,
            "grid_column": null,
            "grid_gap": null,
            "grid_row": null,
            "grid_template_areas": null,
            "grid_template_columns": null,
            "grid_template_rows": null,
            "height": null,
            "justify_content": null,
            "justify_items": null,
            "left": null,
            "margin": null,
            "max_height": null,
            "max_width": null,
            "min_height": null,
            "min_width": null,
            "object_fit": null,
            "object_position": null,
            "order": null,
            "overflow": null,
            "overflow_x": null,
            "overflow_y": null,
            "padding": null,
            "right": null,
            "top": null,
            "visibility": null,
            "width": null
          }
        },
        "6a8a2c9c65ab45a2a5529ac57ac44f4b": {
          "model_module": "@jupyter-widgets/base",
          "model_name": "LayoutModel",
          "model_module_version": "1.2.0",
          "state": {
            "_model_module": "@jupyter-widgets/base",
            "_model_module_version": "1.2.0",
            "_model_name": "LayoutModel",
            "_view_count": null,
            "_view_module": "@jupyter-widgets/base",
            "_view_module_version": "1.2.0",
            "_view_name": "LayoutView",
            "align_content": null,
            "align_items": null,
            "align_self": null,
            "border": null,
            "bottom": null,
            "display": null,
            "flex": null,
            "flex_flow": null,
            "grid_area": null,
            "grid_auto_columns": null,
            "grid_auto_flow": null,
            "grid_auto_rows": null,
            "grid_column": null,
            "grid_gap": null,
            "grid_row": null,
            "grid_template_areas": null,
            "grid_template_columns": null,
            "grid_template_rows": null,
            "height": null,
            "justify_content": null,
            "justify_items": null,
            "left": null,
            "margin": null,
            "max_height": null,
            "max_width": null,
            "min_height": null,
            "min_width": null,
            "object_fit": null,
            "object_position": null,
            "order": null,
            "overflow": null,
            "overflow_x": null,
            "overflow_y": null,
            "padding": null,
            "right": null,
            "top": null,
            "visibility": null,
            "width": null
          }
        },
        "3cb8035627c345b0aa105e787a70ae60": {
          "model_module": "@jupyter-widgets/controls",
          "model_name": "DescriptionStyleModel",
          "model_module_version": "1.5.0",
          "state": {
            "_model_module": "@jupyter-widgets/controls",
            "_model_module_version": "1.5.0",
            "_model_name": "DescriptionStyleModel",
            "_view_count": null,
            "_view_module": "@jupyter-widgets/base",
            "_view_module_version": "1.2.0",
            "_view_name": "StyleView",
            "description_width": ""
          }
        },
        "236f7c4fc02c4dc18b099fb484903dba": {
          "model_module": "@jupyter-widgets/base",
          "model_name": "LayoutModel",
          "model_module_version": "1.2.0",
          "state": {
            "_model_module": "@jupyter-widgets/base",
            "_model_module_version": "1.2.0",
            "_model_name": "LayoutModel",
            "_view_count": null,
            "_view_module": "@jupyter-widgets/base",
            "_view_module_version": "1.2.0",
            "_view_name": "LayoutView",
            "align_content": null,
            "align_items": null,
            "align_self": null,
            "border": null,
            "bottom": null,
            "display": null,
            "flex": null,
            "flex_flow": null,
            "grid_area": null,
            "grid_auto_columns": null,
            "grid_auto_flow": null,
            "grid_auto_rows": null,
            "grid_column": null,
            "grid_gap": null,
            "grid_row": null,
            "grid_template_areas": null,
            "grid_template_columns": null,
            "grid_template_rows": null,
            "height": null,
            "justify_content": null,
            "justify_items": null,
            "left": null,
            "margin": null,
            "max_height": null,
            "max_width": null,
            "min_height": null,
            "min_width": null,
            "object_fit": null,
            "object_position": null,
            "order": null,
            "overflow": null,
            "overflow_x": null,
            "overflow_y": null,
            "padding": null,
            "right": null,
            "top": null,
            "visibility": null,
            "width": null
          }
        },
        "985bcde4a71a41d8be2cc851d84014f1": {
          "model_module": "@jupyter-widgets/controls",
          "model_name": "ProgressStyleModel",
          "model_module_version": "1.5.0",
          "state": {
            "_model_module": "@jupyter-widgets/controls",
            "_model_module_version": "1.5.0",
            "_model_name": "ProgressStyleModel",
            "_view_count": null,
            "_view_module": "@jupyter-widgets/base",
            "_view_module_version": "1.2.0",
            "_view_name": "StyleView",
            "bar_color": null,
            "description_width": ""
          }
        },
        "a07cc2a8fdcb44b8af5729a86f3cb9c5": {
          "model_module": "@jupyter-widgets/base",
          "model_name": "LayoutModel",
          "model_module_version": "1.2.0",
          "state": {
            "_model_module": "@jupyter-widgets/base",
            "_model_module_version": "1.2.0",
            "_model_name": "LayoutModel",
            "_view_count": null,
            "_view_module": "@jupyter-widgets/base",
            "_view_module_version": "1.2.0",
            "_view_name": "LayoutView",
            "align_content": null,
            "align_items": null,
            "align_self": null,
            "border": null,
            "bottom": null,
            "display": null,
            "flex": null,
            "flex_flow": null,
            "grid_area": null,
            "grid_auto_columns": null,
            "grid_auto_flow": null,
            "grid_auto_rows": null,
            "grid_column": null,
            "grid_gap": null,
            "grid_row": null,
            "grid_template_areas": null,
            "grid_template_columns": null,
            "grid_template_rows": null,
            "height": null,
            "justify_content": null,
            "justify_items": null,
            "left": null,
            "margin": null,
            "max_height": null,
            "max_width": null,
            "min_height": null,
            "min_width": null,
            "object_fit": null,
            "object_position": null,
            "order": null,
            "overflow": null,
            "overflow_x": null,
            "overflow_y": null,
            "padding": null,
            "right": null,
            "top": null,
            "visibility": null,
            "width": null
          }
        },
        "29bb68371d634f3fbb09ced83ac472bb": {
          "model_module": "@jupyter-widgets/controls",
          "model_name": "DescriptionStyleModel",
          "model_module_version": "1.5.0",
          "state": {
            "_model_module": "@jupyter-widgets/controls",
            "_model_module_version": "1.5.0",
            "_model_name": "DescriptionStyleModel",
            "_view_count": null,
            "_view_module": "@jupyter-widgets/base",
            "_view_module_version": "1.2.0",
            "_view_name": "StyleView",
            "description_width": ""
          }
        }
      }
    }
  },
  "nbformat": 4,
  "nbformat_minor": 0
}