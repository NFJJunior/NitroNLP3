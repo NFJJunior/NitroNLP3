{
 "cells": [
  {
   "cell_type": "markdown",
   "source": "Domeniu Cristina",
   "metadata": {
    "id": "FiJ5Wg7igK5f"
   }
  },
  {
   "cell_type": "code",
   "source": [
    "def functiaCristinei(array):\n",
    "  print(array)"
   ],
   "metadata": {
    "id": "MY7svjgggPsB"
   },
   "execution_count": null,
   "outputs": []
  },
  {
   "cell_type": "markdown",
   "source": [],
   "metadata": {
    "id": "KA8JK3nP2fUn"
   }
  },
  {
   "cell_type": "code",
   "source": [
    "def scoateDiacritice(text):\n",
    "  diacritice = 'âăîțţșşÎĂȚȘÂ'\n",
    "  normale = 'aaittssiatsa'\n",
    "  for i in range(len(diacritice)):\n",
    "    text = text.replace(diacritice[i], normale[i])\n",
    "  return text"
   ],
   "metadata": {
    "id": "fvv7YND4hEeq"
   },
   "execution_count": null,
   "outputs": []
  },
  {
   "cell_type": "code",
   "source": [
    "def scoatePuncte(text):\n",
    "  text = text.replace('.', '')\n",
    "  return text"
   ],
   "metadata": {
    "id": "QdAnkNheivsZ"
   },
   "execution_count": null,
   "outputs": []
  },
  {
   "cell_type": "code",
   "source": [
    "def scoatePunctuatie(text):\n",
    "  semne = \".,!?\\'\\\"><:()[]{}\"\n",
    "  return ''.join(c for c in text if c not in semne)\n",
    "  return text"
   ],
   "metadata": {
    "id": "JJJhOcqwi49C"
   },
   "execution_count": null,
   "outputs": []
  },
  {
   "cell_type": "code",
   "source": [
    "def scoateLiniute_spatiu(text):\n",
    "  text = text.replace('-', ' ')\n",
    "  return text"
   ],
   "metadata": {
    "id": "pajVTGcWo8l6"
   },
   "execution_count": null,
   "outputs": []
  },
  {
   "cell_type": "code",
   "source": [
    "def scoateLiniute_nimic(text):\n",
    "  text = text.replace('-', '')\n",
    "  return text"
   ],
   "metadata": {
    "id": "UOyVR3q2pDzd"
   },
   "execution_count": null,
   "outputs": []
  },
  {
   "cell_type": "code",
   "source": [
    "array"
   ],
   "metadata": {
    "colab": {
     "base_uri": "https://localhost:8080/",
     "height": 145
    },
    "id": "TUDfdAENs3sR",
    "outputId": "0b65d903-4be2-4cfc-dd91-a74dade8fb24"
   },
   "execution_count": null,
   "outputs": [
    {
     "output_type": "execute_result",
     "data": {
      "text/plain": [
       "'!>? Noi veşti de la Institutul Român de Studiere a Limbii Române. După o minuţioasă cercetare a mai multor texte s-a descoperit că semnul exclamării ridică mai multe semne de întrebare decît semnul întrebării. „?“ este folosit întotdeauna corect, însă „!“ apare unde te aştepţi mai puţin. De unde soare iepurele O reţea de schimbători de bancnote aniversare a fost anihilată de poliţiştii timişoreni. Infractorii colecţionau bancnote cu eclipsa de 2.000 de lei vechi pe care le transportau în Germania şi le schimbau în euro ca şi cum ar fi lei noi. O singură bancnotă cu eclipsa era schimbată cu o hîrtie de 500 de euro la mai multe case de schimb valutar germane afiliate reţelei. Acestea le revindeau apoi la preţ dublu turiştilor creduli. Luceafărul s-a prelungit Au mai fost descoperite încă patru strofe din „Luceafărul“, căzute în spatele unui sertar din scrinul poetului. Criticii au susţinut, pe bună dreptate, că „Luceafărul“ trebuia să aibă mai multe strofe, însă ele n-au fost de găsit pînă săptămîna trecută. Două din cele patru aduc lămuriri suplimentare în legătură cu provenienţa Demiurgului, iar celelalte două oferă cititorului o surpriză: pînă la urmă, Lucea\\xadfă\\xadrul şi fata rămîn împreună. 3G şi toţi 3 OPC anuntă că va amenda orice comerciant de mobilier din metal după ce s-a aflat că mesele, comodele şi dulapurile metalice preiau şi amplifică semnalul GSM la niveluri periculoase pentru să\\xadnă\\xadtate. Oricine are sau cumpără dulapuri din metal reprezintă un pericol pentru el şi pentru societate. Salonul de inventar În perioada 2-7 septembrie, întreaga staţiune Neptun va fi închisă pentru inventar. Turiştii sînt rugaţi să folo\\xadseas\\xadcă una din celelalte staţiuni asemănătoare de pe litoral, în special Jupiter şi Venus.'"
      ],
      "application/vnd.google.colaboratory.intrinsic+json": {
       "type": "string"
      }
     },
     "metadata": {},
     "execution_count": 54
    }
   ]
  },
  {
   "cell_type": "code",
   "source": [
    "remove_stopwords(array)"
   ],
   "metadata": {
    "colab": {
     "base_uri": "https://localhost:8080/",
     "height": 145
    },
    "id": "J58T7_FZtps-",
    "outputId": "388c96ca-3f33-4f71-ceb7-f31199da36f7"
   },
   "execution_count": null,
   "outputs": [
    {
     "output_type": "execute_result",
     "data": {
      "text/plain": [
       "'!>? Noi veşti Institutul Român Studiere Limbii Române. După minuţioasă cercetare multor texte s-a descoperit semnul exclamării ridică semne întrebare decît semnul întrebării. „?“ folosit întotdeauna corect, însă „!“ apare aştepţi puţin. De soare iepurele O reţea schimbători bancnote aniversare anihilată poliţiştii timişoreni. Infractorii colecţionau bancnote eclipsa 2.000 lei vechi transportau Germania schimbau euro lei noi. O singură bancnotă eclipsa schimbată hîrtie 500 euro case schimb valutar germane afiliate reţelei. Acestea revindeau preţ dublu turiştilor creduli. Luceafărul s-a prelungit Au descoperite încă strofe „Luceafărul“, căzute spatele sertar scrinul poetului. Criticii susţinut, bună dreptate, „Luceafărul“ trebuia strofe, însă n-au găsit săptămîna trecută. Două aduc lămuriri suplimentare legătură provenienţa Demiurgului, celelalte oferă cititorului surpriză: urmă, Lucea\\xadfă\\xadrul rămîn împreună. 3G 3 OPC anuntă amenda comerciant mobilier metal s-a aflat mesele, comodele dulapurile metalice preiau amplifică semnalul GSM niveluri periculoase să\\xadnă\\xadtate. Oricine cumpără dulapuri metal reprezintă pericol societate. Salonul inventar În perioada 2-7 septembrie, întreaga staţiune Neptun închisă inventar. Turiştii sînt rugaţi folo\\xadseas\\xadcă celelalte staţiuni asemănătoare litoral, special Jupiter Venus.'"
      ],
      "application/vnd.google.colaboratory.intrinsic+json": {
       "type": "string"
      }
     },
     "metadata": {},
     "execution_count": 61
    }
   ]
  },
  {
   "cell_type": "code",
   "source": [
    "remove_stopwords(scoateLiniute_nimic(array))"
   ],
   "metadata": {
    "colab": {
     "base_uri": "https://localhost:8080/",
     "height": 145
    },
    "id": "uMgoeiQTj77J",
    "outputId": "693a088f-00cc-4ebc-bcaf-aa0d21179b04"
   },
   "execution_count": null,
   "outputs": [
    {
     "output_type": "execute_result",
     "data": {
      "text/plain": [
       "'!>? Noi veşti Institutul Român Studiere Limbii Române. După minuţioasă cercetare multor texte descoperit semnul exclamării ridică semne întrebare decît semnul întrebării. „?“ folosit întotdeauna corect, însă „!“ apare aştepţi puţin. De soare iepurele O reţea schimbători bancnote aniversare anihilată poliţiştii timişoreni. Infractorii colecţionau bancnote eclipsa 2.000 lei vechi transportau Germania schimbau euro lei noi. O singură bancnotă eclipsa schimbată hîrtie 500 euro case schimb valutar germane afiliate reţelei. Acestea revindeau preţ dublu turiştilor creduli. Luceafărul prelungit Au descoperite încă strofe „Luceafărul“, căzute spatele sertar scrinul poetului. Criticii susţinut, bună dreptate, „Luceafărul“ trebuia strofe, însă nau găsit săptămîna trecută. Două aduc lămuriri suplimentare legătură provenienţa Demiurgului, celelalte oferă cititorului surpriză: urmă, Lucea\\xadfă\\xadrul rămîn împreună. 3G 3 OPC anuntă amenda comerciant mobilier metal aflat mesele, comodele dulapurile metalice preiau amplifică semnalul GSM niveluri periculoase să\\xadnă\\xadtate. Oricine cumpără dulapuri metal reprezintă pericol societate. Salonul inventar În perioada 27 septembrie, întreaga staţiune Neptun închisă inventar. Turiştii sînt rugaţi folo\\xadseas\\xadcă celelalte staţiuni asemănătoare litoral, special Jupiter Venus.'"
      ],
      "application/vnd.google.colaboratory.intrinsic+json": {
       "type": "string"
      }
     },
     "metadata": {},
     "execution_count": 59
    }
   ]
  },
  {
   "cell_type": "code",
   "source": [
    "remove_stopwords(scoateLiniute_spatiu(array))"
   ],
   "metadata": {
    "colab": {
     "base_uri": "https://localhost:8080/",
     "height": 145
    },
    "id": "DCcp5bD0tI4L",
    "outputId": "84d8e930-6296-4b4c-8c83-9e35e73279cc"
   },
   "execution_count": null,
   "outputs": [
    {
     "output_type": "execute_result",
     "data": {
      "text/plain": [
       "'!>? Noi veşti Institutul Român Studiere Limbii Române. După minuţioasă cercetare multor texte s descoperit semnul exclamării ridică semne întrebare decît semnul întrebării. „?“ folosit întotdeauna corect, însă „!“ apare aştepţi puţin. De soare iepurele O reţea schimbători bancnote aniversare anihilată poliţiştii timişoreni. Infractorii colecţionau bancnote eclipsa 2.000 lei vechi transportau Germania schimbau euro lei noi. O singură bancnotă eclipsa schimbată hîrtie 500 euro case schimb valutar germane afiliate reţelei. Acestea revindeau preţ dublu turiştilor creduli. Luceafărul s prelungit Au descoperite încă strofe „Luceafărul“, căzute spatele sertar scrinul poetului. Criticii susţinut, bună dreptate, „Luceafărul“ trebuia strofe, însă n găsit săptămîna trecută. Două aduc lămuriri suplimentare legătură provenienţa Demiurgului, celelalte oferă cititorului surpriză: urmă, Lucea\\xadfă\\xadrul rămîn împreună. 3G 3 OPC anuntă amenda comerciant mobilier metal s aflat mesele, comodele dulapurile metalice preiau amplifică semnalul GSM niveluri periculoase să\\xadnă\\xadtate. Oricine cumpără dulapuri metal reprezintă pericol societate. Salonul inventar În perioada 2 7 septembrie, întreaga staţiune Neptun închisă inventar. Turiştii sînt rugaţi folo\\xadseas\\xadcă celelalte staţiuni asemănătoare litoral, special Jupiter Venus.'"
      ],
      "application/vnd.google.colaboratory.intrinsic+json": {
       "type": "string"
      }
     },
     "metadata": {},
     "execution_count": 60
    }
   ]
  },
  {
   "cell_type": "code",
   "source": [
    "import nltk\n",
    "from nltk.stem.snowball import stopwords\n",
    "nltk.download('stopwords')\n",
    "\n",
    "\n",
    "def remove_stopwords(text):\n",
    "  return ' '.join([x for x in text.strip().split() if x not in stopwords.words('romanian')]).strip()"
   ],
   "metadata": {
    "colab": {
     "base_uri": "https://localhost:8080/"
    },
    "id": "Ng8AJtDqhEbp",
    "outputId": "0cf096f1-0441-4057-b395-6147ba2e93bc"
   },
   "execution_count": null,
   "outputs": [
    {
     "output_type": "stream",
     "name": "stderr",
     "text": [
      "[nltk_data] Downloading package stopwords to /root/nltk_data...\n",
      "[nltk_data]   Unzipping corpora/stopwords.zip.\n"
     ]
    }
   ]
  },
  {
   "cell_type": "code",
   "source": [
    "array = read_data[\"content\"][2136]"
   ],
   "metadata": {
    "id": "y6wnyfD_gpZ0"
   },
   "execution_count": null,
   "outputs": []
  },
  {
   "cell_type": "code",
   "source": [
    "print(array)"
   ],
   "metadata": {
    "colab": {
     "base_uri": "https://localhost:8080/"
    },
    "id": "mYr369HPhyQt",
    "outputId": "107e0d1f-d792-480a-e333-2b4f2b746360"
   },
   "execution_count": null,
   "outputs": [
    {
     "output_type": "stream",
     "name": "stdout",
     "text": [
      "!>? Noi veşti de la Institutul Român de Studiere a Limbii Române. După o minuţioasă cercetare a mai multor texte s-a descoperit că semnul exclamării ridică mai multe semne de întrebare decît semnul întrebării. „?“ este folosit întotdeauna corect, însă „!“ apare unde te aştepţi mai puţin. De unde soare iepurele O reţea de schimbători de bancnote aniversare a fost anihilată de poliţiştii timişoreni. Infractorii colecţionau bancnote cu eclipsa de 2.000 de lei vechi pe care le transportau în Germania şi le schimbau în euro ca şi cum ar fi lei noi. O singură bancnotă cu eclipsa era schimbată cu o hîrtie de 500 de euro la mai multe case de schimb valutar germane afiliate reţelei. Acestea le revindeau apoi la preţ dublu turiştilor creduli. Luceafărul s-a prelungit Au mai fost descoperite încă patru strofe din „Luceafărul“, căzute în spatele unui sertar din scrinul poetului. Criticii au susţinut, pe bună dreptate, că „Luceafărul“ trebuia să aibă mai multe strofe, însă ele n-au fost de găsit pînă săptămîna trecută. Două din cele patru aduc lămuriri suplimentare în legătură cu provenienţa Demiurgului, iar celelalte două oferă cititorului o surpriză: pînă la urmă, Lucea­fă­rul şi fata rămîn împreună. 3G şi toţi 3 OPC anuntă că va amenda orice comerciant de mobilier din metal după ce s-a aflat că mesele, comodele şi dulapurile metalice preiau şi amplifică semnalul GSM la niveluri periculoase pentru să­nă­tate. Oricine are sau cumpără dulapuri din metal reprezintă un pericol pentru el şi pentru societate. Salonul de inventar În perioada 2-7 septembrie, întreaga staţiune Neptun va fi închisă pentru inventar. Turiştii sînt rugaţi să folo­seas­că una din celelalte staţiuni asemănătoare de pe litoral, în special Jupiter şi Venus.\n"
     ]
    }
   ]
  },
  {
   "cell_type": "code",
   "source": [
    "remove_stopwords(array)"
   ],
   "metadata": {
    "colab": {
     "base_uri": "https://localhost:8080/",
     "height": 145
    },
    "id": "rARQTtrNgpV4",
    "outputId": "09746b39-7ca1-4f95-a91d-7a868b65c455"
   },
   "execution_count": null,
   "outputs": [
    {
     "output_type": "execute_result",
     "data": {
      "text/plain": [
       "'!>? Noi veşti Institutul Român Studiere Limbii Române. După minuţioasă cercetare multor texte s-a descoperit semnul exclamării ridică semne întrebare decît semnul întrebării. „?“ folosit întotdeauna corect, însă „!“ apare aştepţi puţin. De soare iepurele O reţea schimbători bancnote aniversare anihilată poliţiştii timişoreni. Infractorii colecţionau bancnote eclipsa 2.000 lei vechi transportau Germania schimbau euro lei noi. O singură bancnotă eclipsa schimbată hîrtie 500 euro case schimb valutar germane afiliate reţelei. Acestea revindeau preţ dublu turiştilor creduli. Luceafărul s-a prelungit Au descoperite încă strofe „Luceafărul“, căzute spatele sertar scrinul poetului. Criticii susţinut, bună dreptate, „Luceafărul“ trebuia strofe, însă n-au găsit săptămîna trecută. Două aduc lămuriri suplimentare legătură provenienţa Demiurgului, celelalte oferă cititorului surpriză: urmă, Lucea\\xadfă\\xadrul rămîn împreună. 3G 3 OPC anuntă amenda comerciant mobilier metal s-a aflat mesele, comodele dulapurile metalice preiau amplifică semnalul GSM niveluri periculoase să\\xadnă\\xadtate. Oricine cumpără dulapuri metal reprezintă pericol societate. Salonul inventar În perioada 2-7 septembrie, întreaga staţiune Neptun închisă inventar. Turiştii sînt rugaţi folo\\xadseas\\xadcă celelalte staţiuni asemănătoare litoral, special Jupiter Venus.'"
      ],
      "application/vnd.google.colaboratory.intrinsic+json": {
       "type": "string"
      }
     },
     "metadata": {},
     "execution_count": 23
    }
   ]
  },
  {
   "cell_type": "code",
   "source": [],
   "metadata": {
    "id": "ZCyqPchUgpUu"
   },
   "execution_count": null,
   "outputs": []
  },
  {
   "cell_type": "markdown",
   "source": [
    "Sfarsit Domeniu Cristina"
   ],
   "metadata": {
    "id": "NdUA2ySRgQHZ"
   }
  },
  {
   "cell_type": "code",
   "execution_count": null,
   "metadata": {
    "id": "5sI4ZQzZKXy5"
   },
   "outputs": [],
   "source": [
    "### Imports\n",
    "\n",
    "import os\n",
    "import torch\n",
    "import random\n",
    "\n",
    "import numpy as np\n",
    "import pandas as pd\n",
    "import matplotlib.pyplot as plt\n",
    "from torch.utils.data import Dataset, DataLoader\n",
    "from torch.utils.data import RandomSampler, Sampler\n",
    "from torchvision import transforms, utils\n",
    "import torch.nn as nn\n",
    "\n",
    "import tensorflow as tf\n",
    "from sklearn.model_selection import train_test_split\n",
    "\n",
    "from torch.utils.data import Dataset, TensorDataset, DataLoader\n",
    "from typing import Iterator, Callable, List, Tuple\n",
    "import torch.optim as optim\n",
    "from sklearn.metrics import accuracy_score\n",
    "from tqdm import tqdm\n",
    "import random\n",
    "import collections"
   ]
  },
  {
   "cell_type": "code",
   "source": [
    "import random\n",
    "\n",
    "\n",
    "def reset_numpy_seed(seed_value=42):\n",
    "  try:\n",
    "    # Set NumPy random seed\n",
    "    import numpy as np\n",
    "    np.random.seed(seed_value)\n",
    "    print(f'NumPy random seed set with value: {seed_value}')\n",
    "  except Exception as e:\n",
    "    print(f'NumPy random seed was not set: {e}')\n",
    "  return\n",
    "\n",
    "\n",
    "def reset_tensorflow_seed(seed_value=42):\n",
    "  try:\n",
    "    # Set TensorFlow random seed\n",
    "    import tensorflow as tf\n",
    "    success = False\n",
    "    # Here we have 2 different ways to set the seed\n",
    "    # depending on the version of TensorFlow\n",
    "    try:\n",
    "      tf.random.set_seed(seed_value)\n",
    "      success = True\n",
    "    except Exception as e:\n",
    "      pass\n",
    "    try:\n",
    "      tf.set_random_seed(seed_value)\n",
    "      success = True\n",
    "    except Exception as e:\n",
    "      pass\n",
    "    if success:\n",
    "      print(f'TensorFlow random seed set with value: {seed_value}')\n",
    "    else:\n",
    "      print(f'TensorFlow random seed was not set')\n",
    "  except Exception as e:\n",
    "    print(f'TensorFlow random seed was not set: {e}')\n",
    "  return\n",
    "\n",
    "\n",
    "def reset_torch_seed(seed_value=42):\n",
    "  try:\n",
    "    # Set PyTorch random seed\n",
    "    import torch\n",
    "    torch.manual_seed(seed_value)\n",
    "    if torch.cuda.is_available():\n",
    "      torch.cuda.manual_seed(seed_value)\n",
    "      torch.cuda.manual_seed_all(seed_value)  # if you are using multiple GPUs\n",
    "    print(f'PyTorch random seed set with value: {seed_value}')\n",
    "  except Exception as e:\n",
    "    print(f'PyTorch random seed was not set: {e}')\n",
    "  return\n",
    "\n",
    "\n",
    "def set_random_seeds(seed_value=42):\n",
    "  # Set Python random seed\n",
    "  random.seed(seed_value)\n",
    "  reset_numpy_seed(seed_value)\n",
    "  reset_tensorflow_seed(seed_value)\n",
    "  reset_torch_seed(seed_value)\n",
    "  return\n",
    "\n",
    "\n",
    "if __name__ == '__main__':\n",
    "  # Set the desired seed value\n",
    "  seed = 7757\n",
    "\n",
    "  # Set random seeds\n",
    "  set_random_seeds(seed)"
   ],
   "metadata": {
    "id": "Flr73aIauW6u"
   },
   "execution_count": null,
   "outputs": []
  },
  {
   "cell_type": "code",
   "execution_count": null,
   "metadata": {
    "colab": {
     "base_uri": "https://localhost:8080/"
    },
    "id": "jjOBsPGaLlfy",
    "outputId": "92f0d252-9764-4db2-dc2f-3f034ed37b52"
   },
   "outputs": [
    {
     "output_type": "stream",
     "name": "stdout",
     "text": [
      "Mounted at /content/drive\n"
     ]
    }
   ],
   "source": [
    "from google.colab import drive\n",
    "drive.mount('/content/drive')"
   ]
  },
  {
   "cell_type": "code",
   "execution_count": null,
   "metadata": {
    "id": "ymgbQxvc5UJO"
   },
   "outputs": [],
   "source": [
    "read_data = pd.read_csv(\n",
    "    \"/content/drive/MyDrive/NLP3/train.csv\")\n"
   ]
  },
  {
   "cell_type": "code",
   "source": [
    "read_data"
   ],
   "metadata": {
    "colab": {
     "base_uri": "https://localhost:8080/",
     "height": 423
    },
    "id": "UY11bKPycvTn",
    "outputId": "08606a6a-3d8a-4f0e-b8b0-273218ba482c"
   },
   "execution_count": null,
   "outputs": [
    {
     "output_type": "execute_result",
     "data": {
      "text/plain": [
       "          id                                              title  \\\n",
       "0          0                                      PSD în alertă   \n",
       "1          1  În amintirea Vioricăi, milioane de români beau...   \n",
       "2          2  Dramă! Când credea că nu se poate mai rău, un ...   \n",
       "3          3  Spania - România, 5-0. „Tricolorii”, îngenunch...   \n",
       "4          4              Campanie electorală, veselie generală   \n",
       "...      ...                                                ...   \n",
       "70570  70570  Spații de cazare la mare înălțime. Refugiul Ie...   \n",
       "70571  70571  Sfântul Vali, colanții de la mall și miorița n...   \n",
       "70572  70572  Banii sănătății unde e, banii sănătății ce-ați...   \n",
       "70573  70573  Pentru că nu poate da o lege să nu mai bată vâ...   \n",
       "70574  70574               Ascuțiți Facebook-ul, vin alegerile!   \n",
       "\n",
       "                                                 content  class  \n",
       "0      Prăbușirea PSD de la altitudinea sigură a celo...   True  \n",
       "1      Moțiunea de cenzură care a doborât guvernul Dă...   True  \n",
       "2      Credeai că ai ajuns la fundul sacului? Înseamn...   True  \n",
       "3      Echipa națională a României a fost umilită, lu...  False  \n",
       "4      Toate cresc în campania electorală, cît n-au c...   True  \n",
       "...                                                  ...    ...  \n",
       "70570  Pentru drumeția de azi, un echipaj de interven...   True  \n",
       "70571  Pe Mădălin nu l-a lăsat tac-su să termine opt ...   True  \n",
       "70572  Reforma sănătății a început, în România, pe vr...   True  \n",
       "70573  Premierul Mihai Tudose a fost, din nou, deranj...   True  \n",
       "70574  Visul oricărui politician, fie el local sau aj...   True  \n",
       "\n",
       "[70575 rows x 4 columns]"
      ],
      "text/html": [
       "\n",
       "  <div id=\"df-bb9f0303-f6eb-4b07-b9f2-39dffc350be7\" class=\"colab-df-container\">\n",
       "    <div>\n",
       "<style scoped>\n",
       "    .dataframe tbody tr th:only-of-type {\n",
       "        vertical-align: middle;\n",
       "    }\n",
       "\n",
       "    .dataframe tbody tr th {\n",
       "        vertical-align: top;\n",
       "    }\n",
       "\n",
       "    .dataframe thead th {\n",
       "        text-align: right;\n",
       "    }\n",
       "</style>\n",
       "<table border=\"1\" class=\"dataframe\">\n",
       "  <thead>\n",
       "    <tr style=\"text-align: right;\">\n",
       "      <th></th>\n",
       "      <th>id</th>\n",
       "      <th>title</th>\n",
       "      <th>content</th>\n",
       "      <th>class</th>\n",
       "    </tr>\n",
       "  </thead>\n",
       "  <tbody>\n",
       "    <tr>\n",
       "      <th>0</th>\n",
       "      <td>0</td>\n",
       "      <td>PSD în alertă</td>\n",
       "      <td>Prăbușirea PSD de la altitudinea sigură a celo...</td>\n",
       "      <td>True</td>\n",
       "    </tr>\n",
       "    <tr>\n",
       "      <th>1</th>\n",
       "      <td>1</td>\n",
       "      <td>În amintirea Vioricăi, milioane de români beau...</td>\n",
       "      <td>Moțiunea de cenzură care a doborât guvernul Dă...</td>\n",
       "      <td>True</td>\n",
       "    </tr>\n",
       "    <tr>\n",
       "      <th>2</th>\n",
       "      <td>2</td>\n",
       "      <td>Dramă! Când credea că nu se poate mai rău, un ...</td>\n",
       "      <td>Credeai că ai ajuns la fundul sacului? Înseamn...</td>\n",
       "      <td>True</td>\n",
       "    </tr>\n",
       "    <tr>\n",
       "      <th>3</th>\n",
       "      <td>3</td>\n",
       "      <td>Spania - România, 5-0. „Tricolorii”, îngenunch...</td>\n",
       "      <td>Echipa națională a României a fost umilită, lu...</td>\n",
       "      <td>False</td>\n",
       "    </tr>\n",
       "    <tr>\n",
       "      <th>4</th>\n",
       "      <td>4</td>\n",
       "      <td>Campanie electorală, veselie generală</td>\n",
       "      <td>Toate cresc în campania electorală, cît n-au c...</td>\n",
       "      <td>True</td>\n",
       "    </tr>\n",
       "    <tr>\n",
       "      <th>...</th>\n",
       "      <td>...</td>\n",
       "      <td>...</td>\n",
       "      <td>...</td>\n",
       "      <td>...</td>\n",
       "    </tr>\n",
       "    <tr>\n",
       "      <th>70570</th>\n",
       "      <td>70570</td>\n",
       "      <td>Spații de cazare la mare înălțime. Refugiul Ie...</td>\n",
       "      <td>Pentru drumeția de azi, un echipaj de interven...</td>\n",
       "      <td>True</td>\n",
       "    </tr>\n",
       "    <tr>\n",
       "      <th>70571</th>\n",
       "      <td>70571</td>\n",
       "      <td>Sfântul Vali, colanții de la mall și miorița n...</td>\n",
       "      <td>Pe Mădălin nu l-a lăsat tac-su să termine opt ...</td>\n",
       "      <td>True</td>\n",
       "    </tr>\n",
       "    <tr>\n",
       "      <th>70572</th>\n",
       "      <td>70572</td>\n",
       "      <td>Banii sănătății unde e, banii sănătății ce-ați...</td>\n",
       "      <td>Reforma sănătății a început, în România, pe vr...</td>\n",
       "      <td>True</td>\n",
       "    </tr>\n",
       "    <tr>\n",
       "      <th>70573</th>\n",
       "      <td>70573</td>\n",
       "      <td>Pentru că nu poate da o lege să nu mai bată vâ...</td>\n",
       "      <td>Premierul Mihai Tudose a fost, din nou, deranj...</td>\n",
       "      <td>True</td>\n",
       "    </tr>\n",
       "    <tr>\n",
       "      <th>70574</th>\n",
       "      <td>70574</td>\n",
       "      <td>Ascuțiți Facebook-ul, vin alegerile!</td>\n",
       "      <td>Visul oricărui politician, fie el local sau aj...</td>\n",
       "      <td>True</td>\n",
       "    </tr>\n",
       "  </tbody>\n",
       "</table>\n",
       "<p>70575 rows × 4 columns</p>\n",
       "</div>\n",
       "    <div class=\"colab-df-buttons\">\n",
       "\n",
       "  <div class=\"colab-df-container\">\n",
       "    <button class=\"colab-df-convert\" onclick=\"convertToInteractive('df-bb9f0303-f6eb-4b07-b9f2-39dffc350be7')\"\n",
       "            title=\"Convert this dataframe to an interactive table.\"\n",
       "            style=\"display:none;\">\n",
       "\n",
       "  <svg xmlns=\"http://www.w3.org/2000/svg\" height=\"24px\" viewBox=\"0 -960 960 960\">\n",
       "    <path d=\"M120-120v-720h720v720H120Zm60-500h600v-160H180v160Zm220 220h160v-160H400v160Zm0 220h160v-160H400v160ZM180-400h160v-160H180v160Zm440 0h160v-160H620v160ZM180-180h160v-160H180v160Zm440 0h160v-160H620v160Z\"/>\n",
       "  </svg>\n",
       "    </button>\n",
       "\n",
       "  <style>\n",
       "    .colab-df-container {\n",
       "      display:flex;\n",
       "      gap: 12px;\n",
       "    }\n",
       "\n",
       "    .colab-df-convert {\n",
       "      background-color: #E8F0FE;\n",
       "      border: none;\n",
       "      border-radius: 50%;\n",
       "      cursor: pointer;\n",
       "      display: none;\n",
       "      fill: #1967D2;\n",
       "      height: 32px;\n",
       "      padding: 0 0 0 0;\n",
       "      width: 32px;\n",
       "    }\n",
       "\n",
       "    .colab-df-convert:hover {\n",
       "      background-color: #E2EBFA;\n",
       "      box-shadow: 0px 1px 2px rgba(60, 64, 67, 0.3), 0px 1px 3px 1px rgba(60, 64, 67, 0.15);\n",
       "      fill: #174EA6;\n",
       "    }\n",
       "\n",
       "    .colab-df-buttons div {\n",
       "      margin-bottom: 4px;\n",
       "    }\n",
       "\n",
       "    [theme=dark] .colab-df-convert {\n",
       "      background-color: #3B4455;\n",
       "      fill: #D2E3FC;\n",
       "    }\n",
       "\n",
       "    [theme=dark] .colab-df-convert:hover {\n",
       "      background-color: #434B5C;\n",
       "      box-shadow: 0px 1px 3px 1px rgba(0, 0, 0, 0.15);\n",
       "      filter: drop-shadow(0px 1px 2px rgba(0, 0, 0, 0.3));\n",
       "      fill: #FFFFFF;\n",
       "    }\n",
       "  </style>\n",
       "\n",
       "    <script>\n",
       "      const buttonEl =\n",
       "        document.querySelector('#df-bb9f0303-f6eb-4b07-b9f2-39dffc350be7 button.colab-df-convert');\n",
       "      buttonEl.style.display =\n",
       "        google.colab.kernel.accessAllowed ? 'block' : 'none';\n",
       "\n",
       "      async function convertToInteractive(key) {\n",
       "        const element = document.querySelector('#df-bb9f0303-f6eb-4b07-b9f2-39dffc350be7');\n",
       "        const dataTable =\n",
       "          await google.colab.kernel.invokeFunction('convertToInteractive',\n",
       "                                                    [key], {});\n",
       "        if (!dataTable) return;\n",
       "\n",
       "        const docLinkHtml = 'Like what you see? Visit the ' +\n",
       "          '<a target=\"_blank\" href=https://colab.research.google.com/notebooks/data_table.ipynb>data table notebook</a>'\n",
       "          + ' to learn more about interactive tables.';\n",
       "        element.innerHTML = '';\n",
       "        dataTable['output_type'] = 'display_data';\n",
       "        await google.colab.output.renderOutput(dataTable, element);\n",
       "        const docLink = document.createElement('div');\n",
       "        docLink.innerHTML = docLinkHtml;\n",
       "        element.appendChild(docLink);\n",
       "      }\n",
       "    </script>\n",
       "  </div>\n",
       "\n",
       "\n",
       "<div id=\"df-eb98ddba-03d0-4bd4-bdd1-b5ed5c7957c8\">\n",
       "  <button class=\"colab-df-quickchart\" onclick=\"quickchart('df-eb98ddba-03d0-4bd4-bdd1-b5ed5c7957c8')\"\n",
       "            title=\"Suggest charts\"\n",
       "            style=\"display:none;\">\n",
       "\n",
       "<svg xmlns=\"http://www.w3.org/2000/svg\" height=\"24px\"viewBox=\"0 0 24 24\"\n",
       "     width=\"24px\">\n",
       "    <g>\n",
       "        <path d=\"M19 3H5c-1.1 0-2 .9-2 2v14c0 1.1.9 2 2 2h14c1.1 0 2-.9 2-2V5c0-1.1-.9-2-2-2zM9 17H7v-7h2v7zm4 0h-2V7h2v10zm4 0h-2v-4h2v4z\"/>\n",
       "    </g>\n",
       "</svg>\n",
       "  </button>\n",
       "\n",
       "<style>\n",
       "  .colab-df-quickchart {\n",
       "      --bg-color: #E8F0FE;\n",
       "      --fill-color: #1967D2;\n",
       "      --hover-bg-color: #E2EBFA;\n",
       "      --hover-fill-color: #174EA6;\n",
       "      --disabled-fill-color: #AAA;\n",
       "      --disabled-bg-color: #DDD;\n",
       "  }\n",
       "\n",
       "  [theme=dark] .colab-df-quickchart {\n",
       "      --bg-color: #3B4455;\n",
       "      --fill-color: #D2E3FC;\n",
       "      --hover-bg-color: #434B5C;\n",
       "      --hover-fill-color: #FFFFFF;\n",
       "      --disabled-bg-color: #3B4455;\n",
       "      --disabled-fill-color: #666;\n",
       "  }\n",
       "\n",
       "  .colab-df-quickchart {\n",
       "    background-color: var(--bg-color);\n",
       "    border: none;\n",
       "    border-radius: 50%;\n",
       "    cursor: pointer;\n",
       "    display: none;\n",
       "    fill: var(--fill-color);\n",
       "    height: 32px;\n",
       "    padding: 0;\n",
       "    width: 32px;\n",
       "  }\n",
       "\n",
       "  .colab-df-quickchart:hover {\n",
       "    background-color: var(--hover-bg-color);\n",
       "    box-shadow: 0 1px 2px rgba(60, 64, 67, 0.3), 0 1px 3px 1px rgba(60, 64, 67, 0.15);\n",
       "    fill: var(--button-hover-fill-color);\n",
       "  }\n",
       "\n",
       "  .colab-df-quickchart-complete:disabled,\n",
       "  .colab-df-quickchart-complete:disabled:hover {\n",
       "    background-color: var(--disabled-bg-color);\n",
       "    fill: var(--disabled-fill-color);\n",
       "    box-shadow: none;\n",
       "  }\n",
       "\n",
       "  .colab-df-spinner {\n",
       "    border: 2px solid var(--fill-color);\n",
       "    border-color: transparent;\n",
       "    border-bottom-color: var(--fill-color);\n",
       "    animation:\n",
       "      spin 1s steps(1) infinite;\n",
       "  }\n",
       "\n",
       "  @keyframes spin {\n",
       "    0% {\n",
       "      border-color: transparent;\n",
       "      border-bottom-color: var(--fill-color);\n",
       "      border-left-color: var(--fill-color);\n",
       "    }\n",
       "    20% {\n",
       "      border-color: transparent;\n",
       "      border-left-color: var(--fill-color);\n",
       "      border-top-color: var(--fill-color);\n",
       "    }\n",
       "    30% {\n",
       "      border-color: transparent;\n",
       "      border-left-color: var(--fill-color);\n",
       "      border-top-color: var(--fill-color);\n",
       "      border-right-color: var(--fill-color);\n",
       "    }\n",
       "    40% {\n",
       "      border-color: transparent;\n",
       "      border-right-color: var(--fill-color);\n",
       "      border-top-color: var(--fill-color);\n",
       "    }\n",
       "    60% {\n",
       "      border-color: transparent;\n",
       "      border-right-color: var(--fill-color);\n",
       "    }\n",
       "    80% {\n",
       "      border-color: transparent;\n",
       "      border-right-color: var(--fill-color);\n",
       "      border-bottom-color: var(--fill-color);\n",
       "    }\n",
       "    90% {\n",
       "      border-color: transparent;\n",
       "      border-bottom-color: var(--fill-color);\n",
       "    }\n",
       "  }\n",
       "</style>\n",
       "\n",
       "  <script>\n",
       "    async function quickchart(key) {\n",
       "      const quickchartButtonEl =\n",
       "        document.querySelector('#' + key + ' button');\n",
       "      quickchartButtonEl.disabled = true;  // To prevent multiple clicks.\n",
       "      quickchartButtonEl.classList.add('colab-df-spinner');\n",
       "      try {\n",
       "        const charts = await google.colab.kernel.invokeFunction(\n",
       "            'suggestCharts', [key], {});\n",
       "      } catch (error) {\n",
       "        console.error('Error during call to suggestCharts:', error);\n",
       "      }\n",
       "      quickchartButtonEl.classList.remove('colab-df-spinner');\n",
       "      quickchartButtonEl.classList.add('colab-df-quickchart-complete');\n",
       "    }\n",
       "    (() => {\n",
       "      let quickchartButtonEl =\n",
       "        document.querySelector('#df-eb98ddba-03d0-4bd4-bdd1-b5ed5c7957c8 button');\n",
       "      quickchartButtonEl.style.display =\n",
       "        google.colab.kernel.accessAllowed ? 'block' : 'none';\n",
       "    })();\n",
       "  </script>\n",
       "</div>\n",
       "    </div>\n",
       "  </div>\n"
      ],
      "application/vnd.google.colaboratory.intrinsic+json": {
       "type": "dataframe",
       "variable_name": "read_data",
       "summary": "{\n  \"name\": \"read_data\",\n  \"rows\": 70575,\n  \"fields\": [\n    {\n      \"column\": \"id\",\n      \"properties\": {\n        \"dtype\": \"number\",\n        \"std\": 20373,\n        \"min\": 0,\n        \"max\": 70574,\n        \"num_unique_values\": 70575,\n        \"samples\": [\n          46970,\n          50114,\n          53163\n        ],\n        \"semantic_type\": \"\",\n        \"description\": \"\"\n      }\n    },\n    {\n      \"column\": \"title\",\n      \"properties\": {\n        \"dtype\": \"string\",\n        \"num_unique_values\": 69997,\n        \"samples\": [\n          \"Orban: Aeronava cu medicul de la Piatra Neam\\u021b r\\u0103nit \\u00een timp ce \\u00eencerca s\\u0103 salveze pacien\\u0163ii a sosit la Bucure\\u015fti. \\u00cen cursul acestei dimine\\u0163i va fi transportat \\u00een Belgia cu aeronav\\u0103 militar\\u0103\",\n          \"Cum adic\\u0103 MJC?\",\n          \"Fudulul m\\u0103runt\"\n        ],\n        \"semantic_type\": \"\",\n        \"description\": \"\"\n      }\n    },\n    {\n      \"column\": \"content\",\n      \"properties\": {\n        \"dtype\": \"string\",\n        \"num_unique_values\": 68885,\n        \"samples\": [\n          \"O sut\\u0103 de institu\\u021bii media din Fran\\u021ba au lansat un apel la mobilizare \\u00een favoarea libert\\u0103\\u021bii de expresie, dup\\u0103 ce s\\u0103pt\\u0103m\\u00e2nalul Charlie Hebdo a fost din nou amenin\\u021bat de Al Qaida, dup\\u0103 retip\\u0103rirea unor caricaturi cu profetul Mahomed, informeaz\\u0103 Agerpres. Directoarea de resurse umane al publica\\u0163iei Charlie Hebdo, Marika Bret, a spus la \\u00eenceputul s\\u0103pt\\u0103m\\u00e2nii c\\u0103 a trebuit s\\u0103 fie evacuat\\u0103 de la domiciliul s\\u0103u din cauza amenin\\u0163\\u0103rilor considerate serioase. \\u00centre timp, are loc procesul, preconizat s\\u0103 dureze p\\u00e2n\\u0103 la 10 noiembrie, \\u00een cazul atacului asupra redac\\u0163iei Charlie Hebdo, soldat cu 12 mor\\u0163i, la 7 ianuarie 2015. \\u201eDup\\u0103 republicarea caricaturilor cu Mahomed la 2 septembrie 2020, Charlie Hebdo a fost din nou amenin\\u0163at de organiza\\u0163iile teroriste. Amenin\\u0163\\u0103ri care constituie o adev\\u0103rat\\u0103 provocare \\u00een plin proces al atentatelor din ianuarie 2015. Amenin\\u0163\\u0103ri care merg dincolo de Charlie, \\u00eentruc\\u00e2t vizeaz\\u0103 toate mass-media \\u015fi chiar pe pre\\u015fedintele Republicii\\u201d, afirm\\u0103 Laurent Sourisseau, cunoscut sub numele de Riss, directorul Charlie Hebdo, \\u00eentr-o declara\\u0163ie pentru France Presse. \\u201eNi s-a p\\u0103rut necesar s\\u0103 invit\\u0103m mass-media s\\u0103 reflecteze la un r\\u0103spuns colectiv care merit\\u0103 s\\u0103 fie dat acestei situa\\u0163ii\\u201d, a spus acesta, f\\u0103r\\u0103 a specifica natura amenin\\u0163\\u0103rilor. \\u201eGra\\u0163ie unei mobiliz\\u0103ri istorice a mass-media franceze, care public\\u0103 \\u00eempreun\\u0103 ast\\u0103zi aceast\\u0103 scrisoare adresat\\u0103 concet\\u0103\\u0163enilor no\\u015ftri, dorim s\\u0103 transmitem un mesaj puternic pentru a ne ap\\u0103ra concep\\u0163ia despre libertatea de expresie dar, dincolo de aceasta, libertatea tuturor cet\\u0103\\u0163enilor francezi\\u201d, explic\\u0103 directorul s\\u0103pt\\u0103m\\u00e2nalului, care public\\u0103 aceast\\u0103 scrisoare pe pagina \\u00eent\\u00e2i. \\u201eAst\\u0103zi, \\u00een 2020, unii dintre voi sunt amenin\\u0163a\\u0163i cu moartea pe re\\u0163elele sociale c\\u00e2nd expune\\u0163i opinii. Mass-media sunt desemnate deschis ca \\u0163inte de organiza\\u0163iile teroriste interna\\u0163ionale. Statele exercit\\u0103 presiuni asupra jurnali\\u015ftilor francezi 'vinova\\u0163i' c\\u0103 au publicat articole critice\\u201d, subliniaz\\u0103 scrisoarea deschis\\u0103 intitulat\\u0103 \\u201e\\u00cempreun\\u0103 s\\u0103 ap\\u0103r\\u0103m libertatea\\u201d. \\u201e\\u00centregul edificiu legal, dezvoltat timp de peste dou\\u0103 secole pentru a v\\u0103 proteja libertatea de exprimare, este atacat a\\u015fa cum nu a fost niciodat\\u0103 \\u00een 75 de ani. \\u015ei de data aceasta de ideologii totalitare noi, pretinz\\u00e2nd uneori c\\u0103 sunt inspirate din texte religioase\\u201d, continu\\u0103 textul. \\u201eAvem nevoie de voi. De mobilizarea voastr\\u0103. De puterea con\\u015ftiin\\u0163elor voastre. Trebuie ca inamicii libert\\u0103\\u0163ii s\\u0103 \\u00een\\u0163eleag\\u0103 c\\u0103 suntem cu to\\u0163ii adversarii lor hot\\u0103r\\u00e2\\u0163i, indiferent de opiniile noastre diferite sau de credin\\u0163e\\u201d, \\u00eendeamn\\u0103 semnatarii (presa na\\u0163ional\\u0103 \\u015fi regional\\u0103, principalele canale de televiziune, s\\u0103pt\\u0103m\\u00e2nale \\u015fi posturi de radio). Editor : M.L.\",\n          \"Mul\\u021bi dintre voi se \\u00eentreab\\u0103 cum era pe vremea aia, c\\u00e2nd era\\u021bi voi mici \\u0219i Ceau\\u015fescu mare. Iat\\u0103 \\u00een continuare, diferen\\u021bele \\u00eentre Atunci, pe vremea comuni\\u0219tilor, \\u0219i Acum, \\u00een vremea noastr\\u0103. Deci:- Atunci, mamele noastre st\\u0103teau ore \\u00eentregi la coad\\u0103, pentru un kil de banane, \\u00een frig \\u0219i ploaie. Acum, fetele primesc c\\u00e2te banane vor, iar la final strig\\u0103 dup\\u0103 tine \\\"O sut\\u0103 de lei ora! \\u0218i s\\u0103 pl\\u0103te\\u0219ti camera la hotel!\\\"- Atunci, magazinele erau goale. Nu exista carne. Toat\\u0103 lumea se b\\u0103tea pentru un salam. Acum, \\u00een multe case exist\\u0103 salam. Iar locatarii dau volumul la maxim, \\\"ca s\\u0103 se-aude bine manelile.\\\"- Atunci, Constantin Noica a primit 20 de ani de \\u00eenchisoare pentru c\\u0103 a scris c\\u0103r\\u021bi. Acum, Adrian Nastase iese din \\u00eenchisoare foarte repede, pentru c\\u0103 a scris c\\u0103r\\u021bi.- Atunci, existau multe bancuri cu mili\\u021bienii. Acum, exist\\u0103 foarte, foarte multe cu poli\\u021bi\\u0219ti.- Atunci, Rom\\u00e2nia era gr\\u00e2narul Europei. Gr\\u00e2ul \\u0219i porumbul aveau mare valoare. Acum, la mare valoare e Mazare. Edilul.- Atunci, noi eram condu\\u0219i de c\\u0103tre Ceau\\u015fescu. Acum, Ceau\\u015fescu \\u0219i-a schimbat doar numele.- Atunci, nu existau televiziuni care s\\u0103 manipuleze rom\\u00e2nii. Acum, da, exist\\u0103 Antena 3 sau B1 Tv.- Atunci, la u\\u0219\\u0103 b\\u0103tea Securitatea \\u0219i nu deschideam de fric\\u0103. Acum, tot de fric\\u0103 nu deschidem, c\\u00e2nd vine cu factura la Lumin\\u0103 sau Gaz.- Atunci, p\\u0103rin\\u021bii \\u00ee\\u0219i pl\\u00e2ngeau copiii lua\\u021bi de Securitate. Acum, p\\u0103rin\\u021bii \\u00ee\\u0219i pl\\u00e2ng copiii pleca\\u021bi din \\u021bar\\u0103, \\u00een Spania sau Italia, la munc\\u0103.- Atunci, Ilie Nastase era pe primul loc mondial la tenis iar Nadia Com\\u0103neci era pe primul loc mondial la gimnastic\\u0103. Acum, doar se ascult\\u0103 'Pe primul loc'. Interpret: Copilul de Aur. Vizualiz\\u0103ri YouTube: c\\u00e2teva milioane. Tr\\u0103iasc\\u0103 cultura!- Atunci, Mircea Badea era mic \\u0219i... Acum, el e mare.\",\n          \"\\u00cemi doream c\\u00e2teva zile tihnite, cu disperarea pe care numai iure\\u015ful vie\\u0163ii \\u00een Bucure\\u015fti mi-o poate da. Eram, deci, preg\\u0103tit\\u0103 pentru o poveste rural\\u0103, cu miresme de f\\u00e2n cald \\u015fi m\\u0103m\\u0103lig\\u0103 cu lapte. Mai mult, eram dispus\\u0103 pentru o comuniune total\\u0103 cu natura, s\\u0103 renun\\u0163 la cele 3 creme de fa\\u0163\\u0103, 4 lo\\u0163iuni de corp, la gelurile de du\\u015f cu toate aromele pe care le po\\u0163i g\\u0103si \\u00eentr-o pia\\u0163\\u0103, precum \\u015fi la toate instala\\u0163iile \\u015fi pomezile care compun un arsenal ce-mi pare \\u00eentr-at\\u00e2t de indispensabil \\u00eenc\\u00e2t s\\u0103-l car \\u00eentotdeauna dup\\u0103 mine, dar din care, dintr-un ata\\u015fament absurd fa\\u0163\\u0103 de unele componente, folosesc doar c\\u00e2teva. G\\u00e2ndul c\\u0103 \\u00eent\\u00e2lnirea cu ra\\u0163ele sau cu puii, ar fi putut fi compromis\\u0103 de \\u0163inuta mea necorespunzatoare, mi s-a p\\u0103rut de nesuportat \\u015fi astfel am ajuns la \\u0163ar\\u0103 cu bagajul potrivit pentru un sejur de 3 s\\u0103pt\\u0103m\\u00e2ni, de\\u015fi urma s\\u0103 stau doar 4 zile. \\u00cenc\\u0103 din prima zi, contactul cu aerul lipsit de praf, gaze de e\\u015fapament \\u015fi asfalt \\u00eencins, mi-a declan\\u015fat o foame care, nu numai c\\u0103 m-a f\\u0103cut s\\u0103 uit de Montignac cu toata familia lui de nutri\\u0163ioni\\u015fti, dar mi-a speriat \\u015fi gazdele care cur\\u00e2nd au \\u00eenceput s\\u0103 ascund\\u0103, pe la vecini, toate animalele importante, de fric\\u0103 s\\u0103 nu m\\u0103 n\\u0103pustesc asupra lor. Pe c\\u00e2nd to\\u0163i erau extazia\\u0163i \\u00een fa\\u0163a frumuse\\u0163ilor naturii \\u015fi se minunau duios de fiecare fir de iarb\\u0103, dar \\u015fi de insensibilitatea mea la toate acestea, ochii min\\u0163ii mele n\\u0103ucite, vedeau doar un a\\u015fternut alb fo\\u015fn\\u0103ind \\u015fi somnul meu lung c\\u00e2t s\\u0103pt\\u0103m\\u00e2na de dinaintea salariului. \\u00cen prima noapte n-am \\u00eenchis un ochi din pricina patului. Salteaua \\u00eemi p\\u0103rea f\\u0103cut\\u0103 din coji de nuc\\u0103 \\u015fi ori de c\\u00e2te ori m\\u0103 r\\u0103suceam c\\u0103ut\\u00e2nd un col\\u0163 mai bl\\u00e2nd, sc\\u00e2r\\u0163\\u00e2ieturi fantomatice \\u00eei trezeau pe to\\u0163i ai casei, a\\u015fa \\u00eenc\\u00e2t am \\u00een\\u0163epenit cu ochii in tavan p\\u00e2n\\u0103 pe la 5, c\\u00e2nd un c\\u00e2ntec de coco\\u015f isteric, repetat din 10 in 10 minute, m-a f\\u0103cut s\\u0103 urlu mocnit, \\u00een sinea mea. Pe la 6 am \\u00eenteles c\\u0103 pierdusem lupta \\u015fi am cobor\\u00e2t s\\u0103 preg\\u0103tesc cafeaua pentru toat\\u0103 lumea. \\u00cen a doua noapte, de\\u015fi m\\u0103 \\u00eemprietenisem cu patul, mi-am petrecut timpul lupt\\u00e2ndu-m\\u0103 cu un purice nemilos, luat pesemne de la pisica pe care c\\u0103zusem pe la amiaz\\u0103, dobor\\u00e2t\\u0103 de nesomn , de c\\u0103\\u0163\\u0103ratul pe dealuri \\u015fi de discu\\u0163iile despre p\\u0103m\\u00e2ntul din Cuculie. Primul c\\u00e2ntec al nenorocitului m-a g\\u0103sit sleit\\u0103 de puteri \\u015fi m-a trimis la buc\\u0103tarie, unde, p\\u00e2n\\u0103 s-au trezit ceilal\\u0163i, am avut timp suficient s\\u0103 pl\\u0103m\\u0103desc \\u015fi s\\u0103 coc niste cozonaci cu nuc\\u0103 M-am pl\\u00e2ns tuturor \\u015fi am f\\u0103cut trimiteri subtile la o ciorb\\u0103 acr\\u0103 de coco\\u015f, cu mult zarzavat, dar n-am reu\\u015fit dec\\u00e2t s\\u0103 fiu luat\\u0103 de urechi, pentru c\\u0103 nu m\\u0103 mai bucur de frumuse\\u0163ea vie\\u0163ii la \\u0163ar\\u0103 \\u015fi c\\u0103 ura mea violenta fa\\u0163\\u0103 de un biet coco\\u015f era de r\\u00e2sul curcilor. Cu ochii ro\\u015fii de nesomn, am ticluit un plan de supravie\\u0163uire. Am a\\u015fteptat sp\\u0103\\u015fit\\u0103 seara, am r\\u0103pit coco\\u015ful \\u015fi l-am \\u00eencuiat \\u00een portbagajul ma\\u015finii, eram sigur\\u0103 c\\u0103 de acolo nu mai putea razbate c\\u00e2ntecul odios! Apoi, am f\\u0103cut un pact cu puricele ( eu i-am promis c\\u0103 nu aveam s\\u0103-l mai vanez \\u015fi el a promis s\\u0103 m\\u0103 mu\\u015fte mai cu mila \\u015fi mai rar) \\u015fi mi-am \\u00eencropit un pat, direct pe podea! Toat\\u0103 noaptea m-a mustrat con\\u015ftiin\\u0163a \\u015fi mi-a fost fric\\u0103 s\\u0103 nu se sufoce nefericitul \\u00een portbagaj. Tocmai \\u00eemi \\u00eemi spuneam s\\u0103 stau lini\\u015ftit\\u0103 c\\u0103 fusesem \\u00een legitim\\u0103 ap\\u0103rare, c\\u0103 pe la 5 si 25 de minute, o g\\u0103ina a \\u00eenceput s\\u0103 urle \\u2018\\u2018S-a furat cocosul, s-a furat cocosul!\\u2019\\u2018 Acum nu-mi doresc dec\\u00e2t sa ajung acas\\u0103, s\\u0103 deschid larg geamul \\u015fi s\\u0103 adorm, \\u00een pace, \\u00een miros de motorin\\u0103 ars\\u0103 \\u015fi \\u00een sunet de claxoane, motoare turate, motociclete turbate, camioane duduitoare, l\\u0103trat de c\\u00e2ini \\u015fi miorl\\u0103ituri de pisici \\u00eendr\\u0103gostite! Ca orice s-ar zice, nic\\u0103ieri nu e mai bine ca acas\\u0103!\"\n        ],\n        \"semantic_type\": \"\",\n        \"description\": \"\"\n      }\n    },\n    {\n      \"column\": \"class\",\n      \"properties\": {\n        \"dtype\": \"boolean\",\n        \"num_unique_values\": 2,\n        \"samples\": [\n          false,\n          true\n        ],\n        \"semantic_type\": \"\",\n        \"description\": \"\"\n      }\n    }\n  ]\n}"
      }
     },
     "metadata": {},
     "execution_count": 10
    }
   ]
  },
  {
   "cell_type": "code",
   "source": [
    "read_data[\"content\"][2136]"
   ],
   "metadata": {
    "colab": {
     "base_uri": "https://localhost:8080/",
     "height": 145
    },
    "id": "Z7B1-aDBdYDJ",
    "outputId": "e26987bd-a905-489b-90fd-4845b4eca783"
   },
   "execution_count": null,
   "outputs": [
    {
     "output_type": "execute_result",
     "data": {
      "text/plain": [
       "'!>? Noi veşti de la Institutul Român de Studiere a Limbii Române. După o minuţioasă cercetare a mai multor texte s-a descoperit că semnul exclamării ridică mai multe semne de întrebare decît semnul întrebării. „?“ este folosit întotdeauna corect, însă „!“ apare unde te aştepţi mai puţin. De unde soare iepurele O reţea de schimbători de bancnote aniversare a fost anihilată de poliţiştii timişoreni. Infractorii colecţionau bancnote cu eclipsa de 2.000 de lei vechi pe care le transportau în Germania şi le schimbau în euro ca şi cum ar fi lei noi. O singură bancnotă cu eclipsa era schimbată cu o hîrtie de 500 de euro la mai multe case de schimb valutar germane afiliate reţelei. Acestea le revindeau apoi la preţ dublu turiştilor creduli. Luceafărul s-a prelungit Au mai fost descoperite încă patru strofe din „Luceafărul“, căzute în spatele unui sertar din scrinul poetului. Criticii au susţinut, pe bună dreptate, că „Luceafărul“ trebuia să aibă mai multe strofe, însă ele n-au fost de găsit pînă săptămîna trecută. Două din cele patru aduc lămuriri suplimentare în legătură cu provenienţa Demiurgului, iar celelalte două oferă cititorului o surpriză: pînă la urmă, Lucea\\xadfă\\xadrul şi fata rămîn împreună. 3G şi toţi 3 OPC anuntă că va amenda orice comerciant de mobilier din metal după ce s-a aflat că mesele, comodele şi dulapurile metalice preiau şi amplifică semnalul GSM la niveluri periculoase pentru să\\xadnă\\xadtate. Oricine are sau cumpără dulapuri din metal reprezintă un pericol pentru el şi pentru societate. Salonul de inventar În perioada 2-7 septembrie, întreaga staţiune Neptun va fi închisă pentru inventar. Turiştii sînt rugaţi să folo\\xadseas\\xadcă una din celelalte staţiuni asemănătoare de pe litoral, în special Jupiter şi Venus.'"
      ],
      "application/vnd.google.colaboratory.intrinsic+json": {
       "type": "string"
      }
     },
     "metadata": {},
     "execution_count": 11
    }
   ]
  },
  {
   "cell_type": "code",
   "source": [
    "X_train, X_test, y_train, y_test = train_test_split(read_data[['title', 'content']], read_data['class'], test_size=0.20)\n",
    "\n",
    "df_train = pd.concat([X_train, y_train], axis=1)\n",
    "df_test = pd.concat([X_test, y_test], axis=1)"
   ],
   "metadata": {
    "id": "CVPOQkqtd4zB"
   },
   "execution_count": null,
   "outputs": []
  },
  {
   "cell_type": "code",
   "source": [
    "print(df_train.shape)\n",
    "print(df_test.shape)"
   ],
   "metadata": {
    "colab": {
     "base_uri": "https://localhost:8080/"
    },
    "id": "he6aJznbedas",
    "executionInfo": {
     "status": "ok",
     "timestamp": 1711805680866,
     "user_tz": -120,
     "elapsed": 613,
     "user": {
      "displayName": "Iancu Ivasciuc",
      "userId": "11132101042389010096"
     }
    },
    "outputId": "72627df0-bc90-4d80-9226-7e7930ca88d8"
   },
   "execution_count": null,
   "outputs": [
    {
     "output_type": "stream",
     "name": "stdout",
     "text": [
      "(56460, 3)\n",
      "(14115, 3)\n"
     ]
    }
   ]
  },
  {
   "cell_type": "code",
   "execution_count": null,
   "metadata": {
    "executionInfo": {
     "status": "ok",
     "timestamp": 1711804845399,
     "user_tz": -120,
     "elapsed": 7,
     "user": {
      "displayName": "Iancu Ivasciuc",
      "userId": "11132101042389010096"
     }
    },
    "colab": {
     "base_uri": "https://localhost:8080/"
    },
    "outputId": "96e6e236-f968-4930-be9f-e783895d8196",
    "id": "e02PnKnow0j9"
   },
   "outputs": [
    {
     "output_type": "stream",
     "name": "stdout",
     "text": [
      "device =  cpu\n"
     ]
    }
   ],
   "source": [
    "device = torch.device('cuda') if torch.cuda.is_available() else torch.device('cpu')\n",
    "device = torch.device('cpu')\n",
    "print(\"device = \", device)"
   ]
  },
  {
   "cell_type": "code",
   "execution_count": null,
   "metadata": {
    "id": "lGk2ppReAX72"
   },
   "outputs": [],
   "source": [
    "BATCH_SIZE=128\n",
    "NUM_FEATURE=2"
   ]
  },
  {
   "cell_type": "markdown",
   "source": [],
   "metadata": {
    "id": "pB9Nn2h2f6eA"
   }
  },
  {
   "cell_type": "code",
   "source": [
    "df_train = {}\n",
    "df_test = {}\n",
    "df_train['title'] = []\n",
    "df_train['content'] = []\n",
    "df_train['class'] = []\n",
    "df_test['title'] = []\n",
    "df_test['content'] = []\n",
    "df_test['class'] = []\n",
    "\n",
    "for i in range(len(X_train)):\n",
    "  df_train['title'].append(X_train[i][0])\n",
    "  df_train['content'].append(X_train[i][1])\n",
    "  df_train['class'].append(y_train[i])\n",
    "\n",
    "for i in range(len(X_test)):\n",
    "  df_test['title'].append(X_test[i][0])\n",
    "  df_test['content'].append(X_test[i][1])\n",
    "  df_test['class'].append(y_test[i])\n",
    "\n",
    "print(len(df_train['title']), len(df_test))"
   ],
   "metadata": {
    "colab": {
     "base_uri": "https://localhost:8080/"
    },
    "id": "X8RoWoxnqLec",
    "outputId": "95abb924-6307-4d02-f818-dce3df5a1db8"
   },
   "execution_count": null,
   "outputs": [
    {
     "output_type": "stream",
     "name": "stdout",
     "text": [
      "56460 3\n"
     ]
    }
   ]
  },
  {
   "cell_type": "markdown",
   "source": [
    "# domeniul cristinei 2"
   ],
   "metadata": {
    "id": "LA_UifHYokUj"
   }
  },
  {
   "cell_type": "code",
   "source": [
    "df_train = {}\n",
    "df_test = {}\n",
    "df_train['title'] = []\n",
    "df_train['content'] = []\n",
    "df_train['class'] = []\n",
    "df_test['title'] = []\n",
    "df_test['content'] = []\n",
    "df_test['class'] = []\n",
    "\n",
    "for i in range(len(X_train)):\n",
    "  df_train['title'].append(scoatePuncte(X_train[i][0]))\n",
    "  df_train['content'].append(scoatePuncte(X_train[i][1]))\n",
    "  df_train['class'].append(scoatePuncte(y_train[i]))\n",
    "\n",
    "for i in range(len(X_test)):\n",
    "  df_test['title'].append(scoatePuncte(X_test[i][0]))\n",
    "  df_test['content'].append(scoatePuncte(X_test[i][1]))\n",
    "  df_test['class'].append(scoatePuncte(y_test[i]))\n",
    "\n",
    "print(len(df_train['title']), len(df_test))"
   ],
   "metadata": {
    "id": "KB3PurVfoj11"
   },
   "execution_count": null,
   "outputs": []
  },
  {
   "cell_type": "code",
   "source": [],
   "metadata": {
    "id": "JFBlH-g_ojy0"
   },
   "execution_count": null,
   "outputs": []
  },
  {
   "cell_type": "code",
   "source": [],
   "metadata": {
    "id": "zDNnpRyhojrs"
   },
   "execution_count": null,
   "outputs": []
  },
  {
   "cell_type": "code",
   "source": [
    "(df_test['title'])"
   ],
   "metadata": {
    "id": "AyEcqj9asrBh",
    "colab": {
     "base_uri": "https://localhost:8080/"
    },
    "outputId": "0fc8afc6-2d43-4621-f40c-62f7669a274b"
   },
   "execution_count": null,
   "outputs": [
    {
     "output_type": "execute_result",
     "data": {
      "text/plain": [
       "['Biroul Electoral Municipal, despre renumărarea voturilor: Se impune interpretarea unitară a legii de către BEC',\n",
       " 'Borcea i-a garantat lui Iohannis că, dacă îl grațiază, îi face un copil și lui Carmen',\n",
       " 'Ambasadorul SUA: Am cerut Parlamentului să acţioneze în combaterea traficului de persoane. Este foarte dezamăgitor că liderul PSD Ciolacu a răspuns spunând că legile româneşti curente sunt suficiente. Nu sunt!',\n",
       " 'Primăria sectorului 4 a încheiat anul trecut cu un program adiționall-inclusive',\n",
       " 'Idei de subiecte pentru examenul de Bac (2)',\n",
       " 'Gabriela Firea, scrisoare deschisă către membrii PSD: Partidul a propulsat în poziții importante oameni care nu ne fac cinste. Conducerea concentrată în mâinile unui singur om nu ne poate duce decât într-o fundătură.',\n",
       " 'Invazia sosiilor adevărate',\n",
       " 'Curtea Constituţională a Cocalarilor tranşează azi conflictul între Abi şi Velea',\n",
       " 'Numele lui Daniel Florea pe toate gardurile',\n",
       " 'Un pesedist e atât de speriat de nevastă, că nu i-a spus nici acum că PSD-ul nu mai e la ...',\n",
       " 'Poliția a confiscat doi ponei care erau închiriați turiștilor pentru plimbări pe plajă',\n",
       " 'Nelu Tătaru, întrebat dacă s-ar putea renunța la regula măștii în clasă, ca în alte țări: Nu facem experimente pe copii!',\n",
       " 'DNA să vină să mai stea',\n",
       " 'Concursul Internaţional „George Enescu”, deschis prin concertul de gală de pe scena Ateneului Român',\n",
       " 'Guvernul a adoptat OUG prin care persoanele cu COVID-19 asimptomatice sau cu forme ușoare vor putea fi tratate la domiciliu. Medicii de familie vor primi 105 lei pentru fiecare caz tratat',\n",
       " 'De ce nu e în regulă ce-a pățit Alexandra Stan',\n",
       " 'Miracol uitat! Isus a fost și la o nuntă gay și a transformat apa în prosecco',\n",
       " 'Dacă un covrigar poate ajunge manager de teatru, Caramitru e calificat să conducă o covrigărie?',\n",
       " 'Unde s-a ajuns! Ferma lui Dragnea nu mai vinde porci vii, ca să nu-l toarne pe patron',\n",
       " 'Singura soluție pentru a nu purta mască în spații deschise, mai ales pe caniculă. Explicațiile lui Alexandru Rafila',\n",
       " 'ADVERTORIAL Ioana Constantin (PMP): Salvarea locurilor de muncă și sprijinirea mediului de afaceri sunt prioritate, după sănătate și educație',\n",
       " 'Tanti Viorica, jurnal de buget',\n",
       " 'Elena Lasconi a câştigat alegerile locale 2020 pentru Primăria din Câmpulung Muscel',\n",
       " 'Burnei Pop operează învățământul românesc',\n",
       " '„Răscoala” de la Vrancea, înăbușită de Ciolacu. Oprișan, scos de pe lista de senatori pe care s-a pus singur',\n",
       " 'Aşa da! Câţiva români sătui să aştepte autorităţile au furat ei nişte bani europeni',\n",
       " 'Arbitrii se aliază împotriva Serenei Williams. Aceștia ar putea boicota toate meciurile americancei',\n",
       " 'Jandarmii montani au recuperat patru turişti care s-au rătăcit după ce au folosit o aplicaţie telefonică',\n",
       " 'Buenos Aires | Alertă de securitate lângă stadion',\n",
       " 'TOP 7 abuzuri ale lui Pleşu asupra vânzătoarelor de la Humanitas',\n",
       " 'Garda de onoare a Cristinei',\n",
       " 'Întâlnire de gradul 3,5 pe kilometru',\n",
       " 'Dosarul lui Liviu Dragnea: 5 termene, 5 amânări',\n",
       " 'Donald Trump, despre explozia din Beirut: „Arată ca un atac teribil, un fel de bombă\". Oficialii de la Pentagon îl contrazic',\n",
       " 'Facebook este despre patentul lui nea Fane.',\n",
       " 'Proiectul de lege privind carantinarea intră joi în dezbaterea Camerei Deputaților',\n",
       " 'Momente esențiale din istoria afacerilor lui Dragnea în Brazilia',\n",
       " 'Un premier curat constituțional',\n",
       " 'MAE a transmis AEP propuneri de organizare a 748 de secții de votare în străinătate la alegerile parlamentare/ Cele mai multe vor fi în Spania, Italia și Germania. Malta și Nigeria nu vor permite înființarea de secții de votare',\n",
       " 'Mobilizare de urgenţă la nivelul G7 privind impactul epidemiei de coronavirus. \"Trebuie să acţionăm. Va fi o acţiune concertată\"',\n",
       " 'Comisia Europeană amendează cu 110 milioane de euro Asus, Philips, Denon & Marantz și Pioneer, pentru practici anticoncurențiale.',\n",
       " 'Broșura de admitere la liceu 2020. Toate broșurile din cele 41 de județe și București',\n",
       " 'Angajații TVR au fost rugați să vină pe rând la serviciu, că nu încap toți în clădire',\n",
       " 'Dalai Lama, acuzat că şi-a luat şase case cu banii câştigaţi din meditaţie',\n",
       " 'Regele Cioabă a mâncat tot Covid-ul din spitalul unde era internat!',\n",
       " 'Antena 3 comunică: suntem alături de cel care l-a scuipat pe Băsescu!',\n",
       " 'Milioane de vasluieni au emigrat la Polul Nord, de teamă să nu fie puşi la muncă de Iohannis',\n",
       " 'Bunătăți cu gust din copilărie',\n",
       " 'Cele mai importante idei despre legea afișului antiincendiu',\n",
       " 'Controlul capitalului şi în România! Nu poţi scoate mai mult de 60 de lei pe zi de la păcănele',\n",
       " 'Gabi Firea îndeamnă bucureştenii să aibă mereu 100 de lei la ei, să se poată adăposti ...',\n",
       " 'Un film inspirat din viața lui Don See It Corleone: Nășica',\n",
       " 'Planeta maimuțelor prietenoase',\n",
       " 'Ponta pe autostrada Damascului',\n",
       " 'Fotogalerie! #10yearchallenge cu 10 vedete de la noi',\n",
       " 'Cheile Bicazului, raiul/iadul căţărătorilor',\n",
       " 'Tesla va concedia 7% dintre angajați. Elon Musk: Disponibilizările sunt necesare deoarece trebuie să producem variante mai ieftine ale Modelului 3.',\n",
       " 'Femeile din viața lui Ponta',\n",
       " 'De ce nu aveau dacii inscripţii? Un dacolog face lumină: comunicau pe chat, Facetime şi Skype',\n",
       " 'Remus Vișan: „Aș pune un grup de studenți să țină contul de Facebook al României”',\n",
       " 'Filme românești mai puțin cunoscute',\n",
       " 'Pace cu Olanda',\n",
       " 'Politico, despre rezultatul alegerilor din Capitală: ”Un matematician este pe cale să devină primarul Bucureștiului”',\n",
       " 'Daniel Tudorache spune că așteaptă ca BEC să îi ia în discuție contestația privind imaginile din sala cu sacii de voturi/ BEM a respins cererea de renumărare a voturilor',\n",
       " 'VIDEO. Simona Halep, colindată de Ștefan Hrușcă: O seară de Ajun de neuitat',\n",
       " 'Încă două săptămâni de carantină: Restricţiile, prelungite pentru 14 zile în comuna Iveşti din judeţul Galaţi',\n",
       " 'Analiză FT. Lipsa personalului medical, o problemă mai mare decât lipsa echipamentelor în Europa Centrală și de Est. România a pierdut o treime din medicii calificați în țară. Probleme și în Ungaria, Polonia, Slovacia.',\n",
       " 'Grapini, moment rar de onestitate: „Îmi cer scuze că am scris Tela Viv fără ...',\n",
       " 'Ziua Intendenței – episodul 15 –',\n",
       " 'Iohannis la dentist',\n",
       " 'Educație moartă, cu dric la poartă și cai mascați',\n",
       " 'Nea Costel, solidar cu vedetele cărora le-au ars vilele din Malibu: ”Dă-vă-n p… mea!”',\n",
       " 'Unde sînt creștinii simpli, de altădat’?',\n",
       " 'Bianca Andreescu a pierdut prima finală a carierei în fața Juliei Goerges, dar nu a cedat ușor',\n",
       " 'Unșpe glume despre barba lui Adrian Năstase',\n",
       " 'Parlamentarul ucrainean Andrii Derkaci, considerat agent al Rusiei, a fost sancționat de SUA pentru tentativă de ingerință în alegerile prezidențiale americane din 3 noiembrie',\n",
       " 'Risc de coliziune în spațiu. Un satelit rusesc dezafectat va trece astăzi la doar 25 de metri de resturile unei rachete chinezești. Experții spun că, deși există doar 20% șanse ca acestea să se ciocnească, explozia de resturi care ar urma poate amenința sateliții aflați în uz.',\n",
       " 'Monica Anisie: În momentul de față nu sunt suficienți medici sau asistente în cabinetele medicale',\n",
       " 'Căpitanul Băsescu putea salva naveta Challenger',\n",
       " 'Învățătorii din Sibiu spun că preferă vizierele şi măştile logopedice, pentru ca elevii să le vadă feţele',\n",
       " 'ANOFM e activă la orice cheltuială de bani europeni',\n",
       " 'Zeci de percheziții în București și alte 19 județe într-un dosar legat de permise de conducere false. Peste o sută de persoane au obținut astfel de permise pentru care au plătit, fiecare, trei mii de euro.',\n",
       " 'Ori la Cernobal ori la spital',\n",
       " 'Real Madrid îl demite pe Lopetegui. Cine va fi noul antrenor',\n",
       " 'MHS și cele două oculiste',\n",
       " 'Medicul Radu Țincu explică ce efecte adverse ar putea să apară după tratamentul experimental luat de Trump',\n",
       " 'Biden îl atacă dur pe Trump. Actualul preşedinte nu este conectat cu americanii de rând şi îşi favorizează apropiaţii',\n",
       " 'Ce ne oferă vedetele de Black Friday',\n",
       " 'Silviu Lupescu: “Cine nu respectă proprietatea, fie ea și cea intelectuală, nu poate fi decît un exponent al caracatiței, al pușcăriabililor”',\n",
       " 'Un Oscar despre nimic',\n",
       " 'Coronavirus România. Numărul cazurilor zilnice a sărit pentru a treia oară de zece mii – 10.269 de persoane infectate, în ultimele 24 de ore, din 37.906 teste (27%). În acest interval 168 de persoane au decedat, iar la terapie intensivă sunt internați 1.174 de pacienți.',\n",
       " 'Fostul şef de la Hidroelectrica atentează la aburul braşovenilor',\n",
       " 'Un site a anulat Black Friday! A uitat să mărească prețurile și acum nu mai are de unde ...',\n",
       " 'Se schimbă legea. Dacă taximetristul are icoane în maşină, bacşişul lăsat de client se ...',\n",
       " 'Victor Ponta se reînscrie în PSD, scârbit de câte slugi pesediste au venit în Pro România',\n",
       " 'Analist financiar: Leul se va prăbuși, vor scădea toate veniturile',\n",
       " 'Scene revoltătoare într-o localitate din Timiș. Un bărbat întors de la o partidă de vânătoare a împușcat câinii unei vecine',\n",
       " 'Adio, măriri! De când a venit PNL la putere, românii primesc doar spam cu tăieri de penis',\n",
       " 'Păduchilor, dreptul nostru la viață nu poate fi anulat de imunitatea voastră!',\n",
       " 'Irina Onescu: ”Poate că oamenii de cultură precum Pleșu, Liiceanu sau Cărtărescu au realizat că implicarea în schimbare trebuie să înceapă de jos...”',\n",
       " 'Simona Halep, criticată în termeni duri de presa internațională: „Forţa mintală nu va fi niciodată suficientă dacă nu va crede în ea...',\n",
       " 'Alarmant! Dacă defrișările continuă în ritmul actual, în 2 ani nu vom mai avea unde ...',\n",
       " 'Bancomatele din Otopeni, jefuite de polițiști, că aveau datorii la clanuri',\n",
       " 'Trei cadre medicale de la Spitalul de Pediatrie din Iași au fost depistate cu coronavirus',\n",
       " 'Guvernul Orban a trecut. A primit 240 de voturi în Parlament, cu șapte peste numărul necesar pentru învestire. Miniștrii Cabinetului Orban vor depune jurământul în această seară, la Palatul Cotroceni.',\n",
       " 'Apar 11 noi tipuri de salarii minime, în funcție de studii. Cel mai mare salariu minim ajunge la 4 460 de lei',\n",
       " 'Succes de casă! La cererea publicului, Ducu Bertzi va mai fi audiat de 2 ori la Poliţie',\n",
       " 'Ministrul Cercetării s-a uitat la Badea şi acum recunoaşte: Omul se trage din maimuță',\n",
       " 'ANM a lansat prognoza meteo pe două săptămâni: Urmează zile călduroase, dar și ploi',\n",
       " 'A noua locație Emilia Cremeria s-a deschis în Promenada Mall',\n",
       " 'Rusia anunță că avionul militar dispărut de pe radare a fost doborât accidental de Siria, în timpul atacurilor Israelului și Franței: “Acțiunile iresponsabile ale Israelului au omorât 15 militari ruși”.',\n",
       " 'Cum se înțeleg un suprarealist și un copil',\n",
       " 'Raed Arafat: Vizăm creșterea capacității de ventilație la UPU pentru îngrijirea pacienților infectați cu COVID-19 până la preluarea acestora de ATI',\n",
       " 'FOTO. De când a apărut Ronda Rousey, vedetele din wrestling chiar vor să ia bătaie',\n",
       " 'Începe vaccinarea antigripală în Ardeal! Cetăţenii sunt aşteptaţi la medicul de familie ...',\n",
       " 'Ceaun cu jumări proaspete, amplasat la vama Nădlac pentru a-i momi pe români înapoi în ţară',\n",
       " 'Oastea invizibilă a matrozului zbanghiu',\n",
       " 'Englezii se tem de o nouă invazie nomadă',\n",
       " 'Vlad Moisescu, dizident PNL: \"Nu sînt cu Băsescu! Sînt cu mintea mea“',\n",
       " 'Patriarhul profită de legea anti-fumat: ”După slujbe, biserica se tranformă în bar de ...',\n",
       " 'Descarcă aplicația Beez și fii pregătit pentru experiența completă de shopping! Transport gratuit, indiferent de valoarea comenzii, primești bani înapoi de fiecare dată când cumperi ceva și poți alege să plătești produsul pe loc sau după câteva săptămâni. (P)',\n",
       " 'România va cumpăra o climă subtropicală de la Algeria',\n",
       " 'Scandalos! Un medic român, plimbat între mai multe spitale ca să ia şpagă de la pacienţi',\n",
       " 'Ilfov. Comuna Ciorogârla intră în carantină începând de azi, de la ora 20:00, pentru următoarele 14 zile. Rata de incidență cumulată a atins valoarea de 7,99 la mia de locuitori.',\n",
       " 'Poșta va ștampila cu tuș negru scrisorile electronice caligrafiate de mînă, cu aplicația Google',\n",
       " 'La a doua ediție, Răduleasca a uimit prin decența arătată: ”Andra, soțul tău Măruță ...',\n",
       " 'IOSIF KLEIN MEDEȘAN: „Net-ul a făcut posibil ca tot pămînteanul să se nască ziarist, chiar dacă este analfabet funcțional sau cultural”',\n",
       " 'Doar Ponta ne facturează din orice poziție',\n",
       " 'Elena Băsescu (fata cea mică a împăratului roșu la nas): “Aşa cum zice tata mereu: o zi cu copiii e ca o zi în mină.”',\n",
       " 'Barron, fiul lui Donald și al Melaniei Trump, a avut COVID-19',\n",
       " 'Tânără înjunghiată mortal de iubit, în casă. După crimă, bărbatul și-a tăiat gâtul',\n",
       " 'Abces de fixație cu cianuri',\n",
       " 'Autobuzele din Capitală vor transporta mascați',\n",
       " 'Numărul persoanelor în izolare în Botoşani s-a triplat în ultimele 24 de ore, pe fondul întoarcerilor masive din străinătate / O asistentă medicală de la spitalul județean, diagnosticată a doua oară cu virusul',\n",
       " 'Shopping pe bani publici: hîrtie, elastice pentru bani, șervețele verzi și telefoane mobile',\n",
       " 'Ca să-l parafrazez pe Strabon, cei mai viteji dintre români și-au cam vândut copiii',\n",
       " 'Alexe: Amenzi de 415.000 de lei pentru transport ilegal de lemn, în aprilie. Se caută soluții pentru confiscarea camioanelor',\n",
       " 'Ca să nu mai facă musulmanii moschee pe Expoziţiei, românii fac acolo o mega-catedrală',\n",
       " 'Raiffesen Bank a încheiat primul semestru cu un profit net de 423 de milioane de lei, cu 74% mai mult față de perioada similară a anului trecut.',\n",
       " 'Cumpărașii mei',\n",
       " 'Ambasada Israelului își exprimă “consternarea și dezamăgirea” cu privire la afirmațiile lui Petre Daea: Sperăm că o astfel de asociere a fost facută din pricina lipsei de informare aprofundată.',\n",
       " 'Poveste cu un viitor zombi',\n",
       " 'VIDEO Iohannis: Până la un vaccin eficient, nu există altă soluție decât impunerea unor noi restricții severe. România va beneficia în mod echitabil de aceste vaccinuri grație mecanismului UE din care face parte / Nu iau în calcul o carantinare totală, nici acum, nici de sărbători',\n",
       " 'SUA. Șeful Rezervelor Federale (FED) spune că economia și-a început redresarea, dar ea va arăta altfel decât înainte de pandemie. Productivitatea va fi mai mică și largi categorii se vor adapta greu.',\n",
       " 'Traian Berbeceanu, validat în funcția de prefect al Capitalei',\n",
       " 'Bărbații își iubesc mai mult mașinile decât nevestele',\n",
       " 'Federaţia Română de ŢOMANAP somează Macedonia să se hotărască mai repede care e numele ...',\n",
       " 'Zboară, Tibi, zboară!',\n",
       " 'ASF: Șoferii care nu prezintă polița RCA pe hârtie nu vor mai fi amendați. Un proiect va fi pus în dezbatere publică',\n",
       " '„Hop hop, Leroina!” Carla’s Dreams lucrează la un album de colinde',\n",
       " 'Comisia Europeană a lansat un portal dedicat comerțului în afara UE pentru IMM-uri. Access2Markets explică firmelor mai bine acordurile comerciale și anunță când anumite produse pot beneficia de reduceri de taxe.',\n",
       " 'Nord-Vest. Cod Galben de descărcări electrice, vijelii, grindină și averse ce vor avea și caracter torențial, astăzi, în intervalul orar 13.00 – 21.00.',\n",
       " 'O balustradă de oțel, lungă de 4 metri, „protecție” pentru călători la metrou. Lider sindical: Nu înseamnă nimic',\n",
       " 'Fotogalerie! 6 imagini clare cu patronul Hexi Pharma de pe camerele de supraveghere',\n",
       " 'Acţiunile Tesla au scăzut cu 75% după ce a circulat iar zvonul că Tesla era român',\n",
       " 'Soarta Autostrăzii Comarnic Braşov, decisă într-o lună. Orban spune că guvernul Dăncilă \"n-a făcut nimic\"',\n",
       " '<b>Insule pe care să naufragiezi în vacanță. Azi: Sardinia</b>',\n",
       " 'Connect-R anunţă lansarea următorul său hit: „Eu toamna dorm aşa şi-aşa“',\n",
       " 'Cine minte la urmă, minte mai bine',\n",
       " 'Indicele ROBOR la 3 luni a urcat la cel mai mare nivel din ultima jumătate de an',\n",
       " '<strong>Exclusiv: </strong>Autorul exploziilor de la Sighet este Doru Ioan Tărăcilă',\n",
       " 'Debăsificarea continuă!',\n",
       " 'Mihaela Buzărnescu în semifinale la BRD Bucharest Open',\n",
       " 'Vasile Blaga: „Nu poţi să lupţi dacă nu te invită cineva pe un post de televiziune.“',\n",
       " 'Liceenii R&B',\n",
       " 'Rusia. Sute de persoane au protestat la Moscova față de reforma constituțională care îi permite lui Vladimir Putin să rămână la putere.',\n",
       " 'Demolatul ăsta nu-i aşa de simplu cum crede lumea',\n",
       " 'DSP Sibiu cere scuze public familiei unui pacient decedat de COVID-19, sunată de un angajat care a întrebat cum se simte bolnavul care a murit',\n",
       " 'City Broke: Lille',\n",
       " 'Cocalarii de pe Valea Prahovei, încântaţi de standurile cu whisky şi Red Bull fiert de pe pârtii',\n",
       " 'Ludovic Orban: Presiunea de a comunica informații despre deschiderea școlilor acum este, mai degrabă, rezultatul inițiativei demagogice a PSD',\n",
       " 'Prințul Paul a câștigat în instanță titlul de rege al berii în România',\n",
       " 'Elev de clasa I, nesigur dacă să meargă să bea la şcoală sau să se ducă gata băut de acasă',\n",
       " 'Interviuri Imaginare - George Becali: Îngerul a strigat ”Gigi, ieși din anonimat!”',\n",
       " 'Cînd Sfinxul ajunge patruped de companie',\n",
       " 'Andreea Marin (zînă lirică): ”Puțin mai e pînă la cojoc, miroase a iarnă, în zori e rece”',\n",
       " 'Există piață după moarte?',\n",
       " 'Fumătorii minte n-are',\n",
       " 'Drama omului vînjos, cînd călare, cînd pe jos',\n",
       " 'Ce infracţiuni vă aduce noul Cod Rutier',\n",
       " 'Viorica Dăncilă: Președinția Consiliului UE nu va fi influențată de MCV. Președintele Juncker a promis că până la finalul mandatului său România nu va mai avea această monitorizare discriminatorie.',\n",
       " 'La soare te poți uita, dar în parcul-bibelou nu poți intra',\n",
       " 'Marius Copil, despre colaborarea cu Andrei Pavel: E mai bine să ne oprim',\n",
       " 'Motivul incredibil pentru care o femeie de serviciu s-a trezit cu 90.000 de lire sterline în cont',\n",
       " 'E criză de şaorma în România? Alina Mungiu Pippidi mănâncă de câteva zile doar căcat',\n",
       " 'Jean Castex a vizitat locul atacului din Paris, în semn de solidaritate faţă de victime',\n",
       " 'Un arheolog susţine că munţii Carpaţi au fost ridicaţi de daci acum 3000 de ani ca să-i ...',\n",
       " 'Asasinii cu arme vs. asasinii cu vorbe',\n",
       " 'O campioană mondială la bikini fitness candidează la Primăria Rădăuți. Iar noi la București tot cu sârma-n kur defilăm!',\n",
       " 'Efectele căldurii. Bucureştenii au aflat deja că autobuzele Otokar n-au aer condiţionat',\n",
       " 'Noaptea dintre cîini',\n",
       " 'SUA oferă recompensă de două milioane de dolari pentru capturarea a doi hackeri din Ucraina, care ar fi vândut informaţii confidenţiale după ce au piratat Comisia pentru valori mobiliare și burse',\n",
       " 'COMENTARIU Lelia Munteanu | Alegerile: de la bâtcarii interbelici la postacii postmoderni',\n",
       " 'Gălăţenii au găsit leacul pentru depresie: „Ne ţine în viaţă ura faţă de ...',\n",
       " 'Marcel Ciolacu, despre accidentul lui Bode: Trebuia demisia de onoare. Putem să spunem SPP cum să conducă',\n",
       " 'Cămiala guvernamentală, cadoul inedit pe care liberalii lui Orban îl pregătesc pentru fiecare bugetar, de Sfintele Paști!',\n",
       " 'Profeţia lui Nostradamus, pe cale de a se adeveri: Nu ne mai facem bine',\n",
       " 'Preafericitul Daniel s-a autoizolat la Țiriac Auto!',\n",
       " 'Iohannis poate trece la meditații pe net, dar nu-i plac plățile online',\n",
       " 'Tot omul e ca pistolarul',\n",
       " 'Pokemon sau provocare',\n",
       " 'Cluj: Regulament propus în premieră națională pentru trotinetele electrice, asemănător cu cele implementate la Paris și Bruxelles',\n",
       " 'Guvernul introduce Declaraţia 700, ca să impoziteze câinii care au luat bani de la Soros la ...',\n",
       " 'Iar am greșit',\n",
       " 'Ministrul Educației, despre cum se vor face cursurile: Decizia este la nivel de unitate de învăţământ',\n",
       " 'Top 3 subiecte de discuție în fiecare toamnă',\n",
       " 'Ce s-ar întâmpla dacă ne-ar vizita un extraterestru?',\n",
       " 'Vacile lesbiene de la Gheboieni - O iubire imposibilă',\n",
       " 'Câmpii, tâmpii şi maidanul',\n",
       " 'Viorica Dăncilă, despre OUG ce permite redeschiderea proceselor definitive: Am vorbit cu ministrul Justiției și această ordonanță trebuie dată. Oamenii care au suferit au dreptul la un proces corect.',\n",
       " 'Triumfător în lupte, un nume de Traian',\n",
       " 'Oprescu şi catedrala mânuirii neamului prost',\n",
       " '(P) Aho, aho! De Anul Nou, mergi cu FREE NOW, singura aplicație fără tarif dinamic!',\n",
       " 'Liga 1 de fotbal din România se mută în virtual. Toate echipele, incluse în unul dintre cele mai cunoscute jocuri video',\n",
       " 'România se apără: Avem mai puţine autostrăzi decât ungurii, dar de 2 ori mai mult spaţiu ...',\n",
       " 'BOR vrea să scoată prima bere cu tămîie',\n",
       " 'CFR dă garanţii ferme că studenţii vor ajunge acasă la timp pentru alegerile din 2020',\n",
       " 'Lumea fără oameni',\n",
       " 'WTA: Este lovitura zilei! Punctul spectaculos cu care Simona Halep a ridicat publicul în picioare',\n",
       " 'DOCUMENT Nunțile și botezurile, interzise în perioada următoare/ Când incidența depășește 3 la mie, purtarea măștii va fi obligatorie în toate spațiile deschise/ Noi reguli pentru teatre, cinematografe și restaurante, anunțate de ministrul Tătaru și Raed Arafat',\n",
       " 'Klaus Iohannis a promulgat legea privind emiterea de monedă electronică. Cine are dreptul să emită și în ce condiții',\n",
       " 'România sinistrată. Mii de români sunt blocaţi pe Facebook şi nu se pot plânge că s-a ...',\n",
       " 'N-avem autostrăzi, dar dăm milioane pe deszăpeziri băieților deștepți',\n",
       " 'Grupul Renault se va reorganiza în jurul a patru mărci, Dacia fiind una dintre ele',\n",
       " 'Un rechin-balenă a zdrobit cu coada o femeie care înota în largul Australiei',\n",
       " '16 lucruri pe care România ar trebui să le revendice de la alte țări',\n",
       " 'Surse: Poliția va face controale în civil printre cetățeni, pentru a vedea cine nu respectă măsurile anti-COVID',\n",
       " 'Câtă decenţă! Un preot şi-a acoperit turla de aur cu o prelată, ca să nu mai comenteze ...',\n",
       " 'O alternativă la endoscopie a fost dezvoltată de cercetătorii de la Cambridge',\n",
       " 'Mireasă pentru fiul meu',\n",
       " 'Reacția Loteriei Române, după ce a fost acuzată că și-a înșelat clienții',\n",
       " 'Pericol! Greva difuzorilor de presă ar putea lăsa milioane de borcane de murături ...',\n",
       " 'Camera Deputaților dezbate astăzi moțiunea simplă împotriva ministrului Educației, Monica Anisie',\n",
       " 'E pur SUV muove',\n",
       " 'Şantaj între două studente din Iaşi care practicau videochat-ul: \"Ştiu ce faci, dragă fată norocoasă\"',\n",
       " 'Un avion rusesc care survola Marea Neagră s-a prăbușit când a văzut prețurile din Mamaia',\n",
       " 'Parlamentul ucrainean a aprobat instaurarea Legii Marțiale pentru 30 de zile, pe fondul tensiunilor cu Rusia.',\n",
       " 'Șoapte: Se rupe lanțul de iubire',\n",
       " 'Să te foloseşti de numele lui Iuliu Maniu ca să te dai fost deținut politic, tu fiind condamnat de 2 ori pentru corupție - asta înseamnă să fii găinar',\n",
       " 'Morga Spitalului Județean din Sibiu nu mai face față numărului mare de decese. Județul are cea mai mare rată de infectare din țară',\n",
       " 'Revista presei din 19 noiembrie',\n",
       " 'Un român a terminat o lună de selfieuri la sală şi e gata să treacă la un telefon mai greu',\n",
       " 'Nea Costel, drojdier, candidează și el la preşedinţie, cu sloganul ”Dă-vă-n p… mea!”',\n",
       " 'Ministru',\n",
       " 'O ugit nepoata groasă...',\n",
       " 'MIRCIA DUMITRESCU: „Banii și afacerile îl jignesc încă o dată pe Brâncuși”',\n",
       " 'Figuri controversate în noul guvern francez: Ministrul de interne este acuzat de viol, cel al justiției l-a apărat pe Julian Assange',\n",
       " 'Te-ai hotărât să devii prost?',\n",
       " 'Înapoi în preistorie',\n",
       " 'Savanţii caracaleni au reuşit să comunice telepatic, prin telefon',\n",
       " 'Viorica Dăncilă: Se vor face stadioanele Giuleşti, Dinamo, Rapid şi Giuleşti',\n",
       " 'Cristian Diaconescu (fost ministru al Justiției): “Aș fi foarte interesat să știu unde sînt mapele noastre profesionale, pe unde zburdă ele în spațiul românesc.”',\n",
       " 'Ce să n-asculți la volan',\n",
       " '<strong>Futezătorul:</strong> Ghiciţi cine mă enervează azi',\n",
       " 'Tot ce trebuie să știi despre dosarul lui Radu Mazăre',\n",
       " 'Începe școala pe fugă și chiulul pe cartelă',\n",
       " 'Presa internațională: SUA iau în calcul interzicerea membrilor Partidului Comunist Chinez și familiilor acestora pe teritoriul american. Experții cred că măsura ar fi una dintre cele mai ambițioase împotriva Beijingului.',\n",
       " 'Strategia turistică a Brașovului, lovită în garaj de un autobuz turistic',\n",
       " 'Patriarhul dă o mână de ajutor la buget: “Luăm noi tot, să nu vă mai certaţi!”',\n",
       " 'Bianca Drăgușanu (femeie balon), despre relația ei cu Victor Slav: „Deci… el a vrut să mă repare… dar… Eu pur și simplu iubesc felul în care sînt stricată.\"',\n",
       " 'Mărturii din căminul de bătrâni din Craiova. Angajată: Nu erau protejaţi deloc! Erau în bătaia puştii, aşa cum era şi personalul',\n",
       " 'Burleanu a planificat epidemia pentru a termina stadioanele',\n",
       " 'România trimite o echipă de 42 de cadre medicale în Republica Moldova, pentru a ajuta la tratarea pacienților cu coronavirus.',\n",
       " 'Pușcaș, după semifinala cu Germania: De acum încolo vom demonstra și mai mult că România are calitate',\n",
       " 'Suceava: Două mămici infectate cu Covid-19 au cerut externarea la 3 zile după naştere. Alte două persoane infectate au refuzat internarea',\n",
       " '13 lucruri pe care trebuie să le ai neapărat la tine dacă ieşi cu maşina când ninge',\n",
       " 'Culisele inaugurării toaletei din Piatra Neamţ. Copiii n-au primit şi hârtie, aşa că s-au ...',\n",
       " 'Respingerea OUG de creştere etapizată a alocaţiilor e „nemotivată”, spune Iohannis: Ne dorim să mărim alocaţiile, dar dorinţa nu e suficientă',\n",
       " 'Fără cuvinte',\n",
       " 'De ce nu și o zi mondială a prostituatelor?',\n",
       " 'Șofer amendat pentru că a oprit pe trecerea de pietoni ca să-și ia shaorma fără să lase mașina pe avarii',\n",
       " 'Trăim decenii de împliniri mărețe: KGB-ul – afacerist de frunte și martor în proces la Slobozia!',\n",
       " 'Top 3 cîntărețe despre care ne spun tabloidele că sînt sexy deși nu sînt',\n",
       " 'De ce cred că Jason Bourne nu se mai întoarce',\n",
       " 'Spectaculos! Bianca Andreescu o învinge pe Karolina Pliskova și se califică în semifinalele Rogers Cup',\n",
       " 'ANPC a propus închiderea temporară a două magazine Carrefour. Neregulile găsite',\n",
       " 'Noile căşti Apple cad din urechi fiindcă le ţii greşit! Pe cutie scrie clar “A se ...',\n",
       " 'Dan Şova, rătăcit de trei zile într-un magazin de uşi: nu ştie pe unde să iasă',\n",
       " 'UE vrea să se alieze cu statele membre pentru a negocia achiziționarea vaccinurilor împotriva Covid-19',\n",
       " 'București. Incident la metrou. Un călător a pulverizat spray lacrimogen într-o garnitură de tren care circula între Pipera și Berceni.',\n",
       " 'Spania vrea să investească 30 de milioane de euro într-un plan de urgență pentru refugiați.',\n",
       " 'Un român ingenios şi-a umplut paltonul de parfumuri şi electronice şi aşteaptă legile ...',\n",
       " 'Restricțiile care intră în vigoare la depășirea ratei de infectare de 3 la mie: Masca obligatorie în toate spațiile deschise, se închid restaurantele, cafenelele, cinematografele, teatrele și sălile de jocuri de noroc / Școlile ar putea trece la predarea exclusiv online',\n",
       " 'Guvernul de tehnocrați n-are mamă, n-are frați',\n",
       " 'Ziua Intendenței – episodul 25 –',\n",
       " 'Doi cetăţeni străini, prinşi imediat după ce au furat 19.000 de euro dintr-un autoturism',\n",
       " 'Țiriac: \"Eu cred foarte mult în vaccinul ăla rusesc!\" E și normal, la câți mistreți ai împușcat cu el!',\n",
       " 'Babiuc, furios că nu sunt ştiri cu el: „Şi eu am furat, vreau puţină atenţie!”',\n",
       " 'Momente esențiale din viața lui Mirel Palada',\n",
       " 'Dăncilă: Am văzut atacul de ieri al președintelui Iohannis. Cred că domnul președinte trebuie să respecte voința populară exprimată prin vot.',\n",
       " 'Therme București. In Aqua Veritas',\n",
       " 'Să nu vorbim despre Omerta în casa Famigliei',\n",
       " 'Piţurcă pare sub efectul gayonului etnobotanic',\n",
       " 'Legea privind acordarea de tratament medical pe toată durata vieţii supravieţuitorilor de la Colectiv, promulgată de președintele Iohannis',\n",
       " 'Matt Hankcock a anunţat noi restricţii anti COVID-19 în Marea Britanie',\n",
       " 'Oana Zăvoranu își amintește cum făcea sex cu Mircea Badea: \"Primele 5 secunde erau mai grele, până adormea!\"',\n",
       " 'Povestea nespusă a banului public clujean e citită la Târgu Mureș',\n",
       " 'Proaspăt fondată, compania aeriană CocalAir oferă pasagerilor avioane tunate şi manele in-flight',\n",
       " 'E. Lovinescu şi cele trei graţii. Futilităţi literare',\n",
       " 'România barbarilor. Fapte mult mai grave decât violul rămân nepedepsite: Emisiunile lui ...',\n",
       " 'La oameni noi, tot voi!',\n",
       " 'Turcii despre ţeapa Otokar: „Credeaţi că am uitat de Călugăreni şi Podul Înalt?”',\n",
       " 'Îmbunătățirile Funciare își îmbunătățesc parcul auto',\n",
       " '1.527 de posturi se scot la concurs în Poliţia Penitenciară. 700 posturi de executie disponibile în sistemul operativ',\n",
       " 'Ludovic Orban, după promulgarea legii carantinei și izolării: Încă nu am văzut impactul tergiversării adoptării legii. Nu am avut nicio posibilitate de a împiedica persoanele bolnave să iasă din spital',\n",
       " 'Premieră pe torente: un film american a apărut pe net înainte de a fi turnat',\n",
       " 'Atunci când ești președinte, nu trebuie să urmărești banii. Te urmăresc ei pe tine!',\n",
       " 'Mărțișor, primul pas către alcool',\n",
       " 'Intră în Club Tefal alături de Adrian Hădean',\n",
       " 'Cîțu vrea amânarea plăţii ratelor și după 1 ianuarie 2021',\n",
       " 'Nu există gospodar fără o ţeavă, măcar!',\n",
       " 'Studiu! Oamenii cu cagulă şi Kalaşnikov, mult mai respectaţi în societate decât cei fără',\n",
       " 'O ambarcaţiune s-a scufundat în Dunăre, în zona Sulina. O persoană s-a salvat, alta e căutată - FOTO',\n",
       " 'La Kostas. Grecia profundă din mijlocul Bucureștiului',\n",
       " 'Țara motoarelor care nu se mai opresc',\n",
       " 'Tânărul Erling Haaland, fenomenul momentului în fotbalul internațional, dezvăluie secretul performanțelor sale',\n",
       " 'BOR refuză să returneze lumina sfîntă adusă de la Ierusalim',\n",
       " 'La închisoare, Felix s-ar putea apuca de yoga, ca să-şi deschidă al treilea ochi',\n",
       " 'Dacian Cioloș: USR PLUS va definitiva săptămâna viitoare listele pentru alegerile parlamentare',\n",
       " 'MAE: Bogdan Aurescu se simte foarte bine, nu a intrat în contact cu ministrul austriac. Luni se va afla la Washington',\n",
       " 'Jamila, una dintre cele mai cunoscute vloggerițe de rețete culinare din România, a avut COVID-19: „Nu îi tratați pe bolnavi ca pe niște ciumați” / „Este foarte important să ne protejăm și da, să purtăm mască”',\n",
       " 'UPDATE: BEC a respins cererea MAI de prelungire a votului după ora 21',\n",
       " 'Zeci de producători şi comercianţi au participat la un protest organizat în faţa Pieţei Mari din Brăila',\n",
       " 'Fosta soție a văzut că Bezos s-a îmbogățit la loc și vrea să se mărite iar cu el',\n",
       " 'Vladimir Putin: Moscova e gata să asigure sprijin președintelui belarus Aleksandr Lukașenko, inclusiv militar dacă va fi necesar',\n",
       " 'Despre cum profită șobolanii din București de interesele guzganilor din comisiile de licitație',\n",
       " 'Organizația Mondială a Sănătății atrage atenția că sunt bărbați trecuți de 30 de ani ...',\n",
       " 'Supererou modest pretinde că e un simplu erou',\n",
       " 'Cum a fost la cel mai asteptat eveniment al anului 2016: Intalnirea cu Dr. Oz la Bucuresti',\n",
       " 'Trei corporatişti şi-au pierdut viaţa personală în urma unui accident stupid de Powerpoint',\n",
       " 'Arestul la domiciliu, înlocuit pe timp de vară cu sejururi la all-inclusive!',\n",
       " 'Gafă monumentală: o jurnalistă l-a confundat pe Gabriel Oprea cu cineva căruia îi pasă',\n",
       " 'Andrea Boccele',\n",
       " 'Incidente grave la Iaşi. Angajaţii BGS au făcut exces de zel şi au batut mai multe moaşte',\n",
       " 'Partidul Populist Român',\n",
       " 'Urări',\n",
       " 'Alesul local „Cireşica“ suspendată. De pe vremea lui Băsescu',\n",
       " 'Trump vrea susţinerea alegătorilor. „Este ok să-l susţii pe Trump, chiar dacă nu-ţi place de el!”',\n",
       " 'De la Pămînt la… unde?',\n",
       " 'Ministerul Finanțelor lansează de luni o nouă ofertă de titluri de stat pentru populație',\n",
       " 'A divorțat „amiabil” tiza și fosta mea colegă de la Cotroceni',\n",
       " 'Năstase se întoarce cu spatele la trecut',\n",
       " 'Urlaub macht frei',\n",
       " 'Eurostat: Producția industrială din Uniunea Europeană a recuperat 4,1% în iulie față de iunie 2020, dar este încă mult sub nivelul de anul trecut. Industria românească stă mai prost decât media UE, dar mai bine decât cea a Zonei Euro.',\n",
       " 'Premierul Orban: Producătorii români își pot desfășura activitatea în continuare în piețe deschise și volante. Le cer scuze, dar trebuie să luăm aceste măsuri.',\n",
       " 'Femei liberale cu discurs conservator. Introducere în lesbianismul local (II)',\n",
       " 'Adevărul despre aşa-zisa moarte a liderului ISIS: s-a declarat mort ca să scape de cele 17 neveste',\n",
       " 'Dunărea trece, pietrarii rămân',\n",
       " 'Adrian Ţuţuianu: Moţiunea de cenzură a PSD are probleme de constituţionalitate',\n",
       " 'Cascadorii plînsului',\n",
       " 'Ce-a făcut Robert Turcescu cu o capră?',\n",
       " 'Tot mai multe românce apelează la operații de mărire de suflet',\n",
       " 'Orban: E foarte greu să îți dai seama când un grup reprezintă o familie. Putem impune reguli de distanțare pentru toți de pe plajă',\n",
       " 'După București, ilfovenii de la Pelican Taxi au ajuns și la Londra',\n",
       " 'Protestatară şi videochatistă. O susținem. Jos măştile! Și alea de sus, şi alea de jos!',\n",
       " 'Senatul dezbate astăzi proiectul de lege privind carantinarea și izolarea/ Ciolacu vorbește despre ”transformarea țării în lagăr medical”',\n",
       " 'Veşti bune! Germania ar putea începe să facă autostrăzi în România, că la ei nu mai e loc',\n",
       " 'Petrecem pentru că ne merge bine',\n",
       " 'Mircea Badea, dar nu se predă',\n",
       " 'Ministrul Nelu Tătaru, după o ședință de urgență la guvern, la câteva ore de la anunțarea unui număr zilnic al infectărilor de aproape trei mii: Aceste restricții reimpuse acum două zile își vor face efectul în 10-14 zile, dar până atunci hai să fim solidari și să ajungem unde voiam în iunie.',\n",
       " 'Orban, despre discuţia cu Florentin Pandele, soţul Gabrielei Firea : Eu când discut cu cineva nu bat toba în târg',\n",
       " 'Mihai Tudose critică Guvernul Orban pentru că nu a ridicat restricțiile pentru turism în Bulgaria, Grecia și Serbia, spunând că România are mai multe infectări și decese decât statele vecine',\n",
       " 'Explozie de cazuri covid în județul Harghita: în două zile s-a dublat numărul de cazuri / Managerul Spitalului Judeţean: Secția de boli infecțioase „se umple cu pacienţi în ritm alarmant”',\n",
       " 'Fostul președinte al Băncii Mondiale se teme că lumea s-ar putea întoarce la naționalismul și competiția dintre marile puteri de acum o sută de ani și acuză protecționismul lui Donald Trump.',\n",
       " 'Firma la care suge tatăl Robertei Anastase este în faliment de trei ani',\n",
       " 'Studiu. Cele mai eficiente măști sunt cele profesionale, destinate personalului medical, dar și măștile chirurgicale clasice și cele din bumbac asigură o protecție mare.',\n",
       " 'Record! Un caracalean a avut nevoie de cinci caracaleni pentru a-şi face un selfie',\n",
       " '5 motive pentru care Stelian Tănase a interzis accesul pe Facebook în TVR',\n",
       " 'Ceauşescu licitat, pentru preţul piperat',\n",
       " 'Şopîrla Deko a făcut pui',\n",
       " 'București. Viceprimarul sectorului 2 anunță că majoritatea parcurilor din subordine vor fi închise, ca măsură pentru combaterea răspândirii COVID-19. Lista parcurilor care rămân deschise.',\n",
       " 'Top 3 măsuri de combatere a COVID-19 în Belarus',\n",
       " 'De decorat doamna Irina Loghin',\n",
       " 'Te simţi cu adevărat român. Azi la şaorma cu de toate se dă şi fasole cu cârnaţi',\n",
       " 'Dosarul 10 august. Procurorul-șef al DIICOT a infirmat ordonanța de clasare a acuzațiilor împotriva șefilor Jandarmeriei. Se reia urmărirea penală față de Laurențiu Cazan, Sebastian Cucoș și Ionuț Sindile.',\n",
       " 'Top 3 oameni pe care-i întîlnești în concediu (II)',\n",
       " 'Corina Crețu (comisar european pentru Politică Regională): “Eu nu știu ce săptămînă anume a primit acel jurnalist din partea acelui frustrat din cabinetul meu care a oferit acel program.”',\n",
       " 'Coronavirus România. 1.298 de noi cazuri, în ultimele 24 de ore, din 26.816 teste (4,8%). În acest interval au decedat 40 de pacienți, iar numărul celor aflați în stare gravă a ajuns la 519.',\n",
       " 'Silviu Prigoană (tată model): “Copiii mei trebuie scăpați de mediul toxic în care trăiesc”',\n",
       " 'Kim Jong Un a vărsat lacrimi pentru criza COVID-19, în timpul unei parade a rachetelor balistice',\n",
       " 'O, ce veste eronată: Hipopotamul discordiei',\n",
       " 'Cristi Danileţ: „Ne-am obişnuit să fim la frontiera Europei, acum suntem chiar la coada ei!”',\n",
       " 'ULTIMA ORĂ 1059 de cazuri noi de COVID-19 depistate în România din 21978 de teste / Alte 45 de decese raportate / 496 de pacienți internați la Terapie Intensivă, cu peste 30 mai mulți decât luni',\n",
       " 'Monsters, Inc.',\n",
       " 'Se pregăteşte restructurarea ANAF în plin scandal al angajărilor în sistem',\n",
       " 'Vlad Alexandrescu: PSD și PNL au votat ca rectorii să nu fie limitați la un număr de mandate. Dacă legea va fi adoptată de Senat, rectorii vor putea candida toată cariera',\n",
       " '<b>China. Cei 4,7 milioane de locuitori ai orașului Kashgar, din provincia Xinjiang, vor fi testați pentru coronavirus, pe fondul răspândirii accentuate a virusului în zonă. Este al treilea oraș în care autoritățile testează integral populația, după Wuhan și Qingdao.</b>',\n",
       " 'GRAFIC Emilian Popovici: De la 1 august, rata de transmitere a coronavirusului este constantă în România, dar urmează trei evenimente inevitabile care pot duce la creștere',\n",
       " '30% din industria românească s-a oprit în perioada stării de urgență. În luna aprilie, încasările firmelor cu profil industrial au scăzut cu 40%. Chimia, industria ușoară, cea auto și cea a mobilei, cele mai afectate.',\n",
       " '9 lucruri pe care nu le știați despre gestul lui Meme Stoica',\n",
       " 'Victor Ponta, subiect de sondaj în rândurile USL',\n",
       " 'Liga I e de tot rahatul, așa că Burleanu o vrea în Turcia',\n",
       " 'Mark Zuckerberg roagă România să-i găsească un job lui Mîndruţă, că de când e şomer ...',\n",
       " 'Elevii, nederanjaţi de interzicerea telefoanelor în şcoli: ”Cât timp nu sunt interzise ...',\n",
       " 'Imagini compromițătoare cu șeful Asociației Nudiștilor în timp ce poartă pantaloni',\n",
       " 'Hora Unirii, în varianta lui Băsescu',\n",
       " 'Gabi Firea, inculpată pentru consum de stupefiante, după clipul postat pe Facebook',\n",
       " '“Nu mai candidez niciodată la președinție, este foarte plictisitor”',\n",
       " 'Șeful FBI: Rusia bate „toba dezinformării” în alegerile prezidențiale din SUA, pentru a-l submina pe Joe Biden',\n",
       " 'Restaurantele și barurile din Iași ar putea fi închise din nou, din cauza numărului mare de cazuri de COVID',\n",
       " 'De ce nu poartă lumea mască? Psiholog: Tipul de personalitate este narcisist, psihopat, machiavelic',\n",
       " 'Reportaj | Strada dezbinării din orașul Unirii, o poveste pur românească',\n",
       " 'Imaginea care a provocat o adevărată baie de sânge. Cum a fost descoperită tânăra în camera de hotel',\n",
       " 'Incendiar! Paula Iacob nu există, e doar Loredana Groza nemachiată',\n",
       " 'Prigoană s-a întors la Bahmu de foame',\n",
       " 'Guvernul României somează companiile europene să vândă alimente la fel de proaste și în Vest',\n",
       " 'Război total între PSD şi PNL! Leon Dănăilă i-a furat oaia lui Petre Daea',\n",
       " 'Stare de alertă maximă pentru salvarea și creșterea numărului de locuri de muncă',\n",
       " 'Roche, undă verde în SUA pentru un test care face diferenţa între COVID-19 şi gripă',\n",
       " 'România TV a reușit impasibilul',\n",
       " 'Citit, plăcut, poate vom reveni',\n",
       " '10 chestii cu Sebi și Victor în Dubai',\n",
       " 'Narcisa Iorga: “La CNA e altfel. Ne înțepăm între noi pentru că unii membri sînt solidari cu cei din afara «cuibului»”',\n",
       " 'De la exploatat lemne la exploatat șosele e doar un pas. Și un contract',\n",
       " 'Cozi la frontierele Bulgariei, timpul de așteptare poate ajunge la 6 ore',\n",
       " 'Miss Universe România 2012: Fericirea este intervalul de timp dintre atingerea unui obiectiv şi stabilirea altuia',\n",
       " 'Provocările Simonei Halep în 2019',\n",
       " 'Pentru că nu au votat cum a vrut el, un consilier și-a pedepsit finii: I-a lăsat fără banca de la poartă și iluminatul stradal',\n",
       " 'După ce a aflat că Dani Oțil e motociclist, Mircea Badea și-a cerut scuze pe hol, în genunchi',\n",
       " 'Ilfov, templul fotbalului european',\n",
       " 'Pițurcă nu vorbește Rusescu',\n",
       " 'În ce țări își testează China vaccinurile anti-Covid. Unul dintre ele ajunge la granița României',\n",
       " '#eftineală',\n",
       " 'Orban: O decizie privind amânarea ratelor trebuie luată în colaborare. De sănătatea sistemului bancar depinde sănătatea economiei',\n",
       " 'În judeţul Tulcea există deja 7 pescari care se laudă că au prins un TAB de 11 tone în Dunăre',\n",
       " 'Între timp, la scandalul cu Ponta…',\n",
       " 'Partidul e varză cu șnițeluț',\n",
       " 'Partidul Social-Duduianu',\n",
       " 'Popor mic, cu ochii oblici',\n",
       " 'Bendeac se laudă că a primit cel mai tare compliment: ”Am râs la tine mai mult decât la ...',\n",
       " 'Ecaterina Andronescu a pierdut alegerile la șefia Senatului Politehnicii București. Noul președinte este Tudor Prisecaru, doctor inginer în științe tehnice, specializarea Cazane de abur',\n",
       " 'Conservatorii țin la bani, mai ales dacă nu-s ai lor',\n",
       " 'Andreea Bălan: „Eu şi Keo? Niciodată împreună!\"',\n",
       " 'Palada, această femeie cu barbă a lui Ponta',\n",
       " 'Financial Times: Economia lumii este într-un moment periculos. Redeschiderea activității a reaprins pandemia, iar perspectiva unor noi restricții împiedică revenirea economică după prăbușirile istorice din Trimestrul II. Până la descoperirea unui vaccin statele vor fi nevoite să se împrumute în continuare, dar banii ieftini nu ajută prea mult.',\n",
       " 'BRD Bucharest Open 2018. Begu își păstrează titlul la dublu. Victorie alături de proaspăta mămică Andreea Mitu',\n",
       " 'România va organiza ”Loteria vizelor” pentru cetățenii americani',\n",
       " '<strong>The Gang:</strong> locul unde se duc copiii de bani gata cînd se duc',\n",
       " 'Ministrul Cercetării și Inovării a demisionat. Nicolae Burnete a precizat că demisia este irevocabilă, dar nu a motivat decizia.',\n",
       " 'Bugetari și bugetofagi. Schimb de terenuri cu finalizare pe yacht în Adriatica',\n",
       " 'Lecția de cultură generală',\n",
       " 'Cât mai costă bătaia',\n",
       " 'Şoapte: Legea sau viața?',\n",
       " 'Nou focar de coronavirus în Australia după ce angajații unui hotel de carantină ar fi făcut sex cu oaspeții din izolare',\n",
       " 'Parking Bad',\n",
       " 'Franța. Guvernul renunță la majorarea impozitului pe combustibil în 2019, în urma protestelor ample din întreaga țară. Anterior anunțase suspendarea majorării timp de șase luni.',\n",
       " 'Pentru al doilea an consecutiv, Daikin România a plantat mii de copaci pentru un viitor cu aer mai curat',\n",
       " 'Korposcultura',\n",
       " 'Universitatea din București anunță cele 3 scenarii pentru începerea cursurilor: activități față în față, blended cu o perioadă de „inducție” destinată studenților de anul I sau exclusiv online',\n",
       " 'Pentru că nu i-a ieşit cu Groenlanda, Trump a cumpărat Insula Iubirii',\n",
       " 'Iocan, scriitorii și cititorii, acum și după',\n",
       " 'Noua veche strategue de comunicare a lui Iohannis: Nu va comunica',\n",
       " 'De ce a fost Dan Voiculescu la Viena?',\n",
       " 'Cristian Popa, BNR: Printarea de bani creează inflaţie, care este cel mai parşiv impozit, îi împovărează exact pe cei cu venituri mici',\n",
       " 'Momente esențiale din viața lui Moise Guran',\n",
       " 'Zece butoane pe care am vrea ca Facebook-ul să le introducă la următorul update',\n",
       " 'Vor să fie primii la muncă! Corporatiștii așteaptă deja în fața clădirilor de birouri ...',\n",
       " '21 de tone de carne de pasăre din Polonia, contaminată cu Salmonella, au fost confiscate de inspectorii veterinari',\n",
       " 'Primarul PSD de la Sectorul 4, Daniel Băluță, îi laudă pe miniștrii Apărării și Economiei: „Pentru munca lor, tradusă în miliarde de euro pentru centrala de la Cernavodă şi întărirea securităţii României, îi felicit şi le mulţumesc!”',\n",
       " 'Darren Cahill: „Dacă mă voi întoarce să antrenez, Simona va fi prima persoană pe care o voi suna”',\n",
       " 'Centenarul Ceaușescu',\n",
       " 'A apărut masca îmbibată în whisky, singura pe care ar purta-o şi domnii Băse şi Orban!',\n",
       " 'Liviule, la mulți ani de 1 Iunie pentru aia mică și la mulți ani cu executare pentru tine!',\n",
       " 'SUA. Consilierul politic al lui Donald Trump a fost condamnat la trei ani și patru luni de închisoare. Roger Stone a fost găsit vinovat de mărturie mincinoasă, influențarea martorilor și obstrucționarea procesului de destituire a președintelui american.',\n",
       " 'Noi reguli de călătorie. Sfaturi pentru cetățenii români: „În această vară, nu vorbim despre o vacanță obișnuită”, spune Bogdan Aurescu',\n",
       " 'Foto! Revista Time celebrează printr-o copertă spectaculoasă condamnarea lui Dan Voiculescu',\n",
       " 'Halep, pe prima pagină a cotidianului Marca: E cea mai bună jucătoare din istoria turneului de la Madrid',\n",
       " 'Parada de 1 Decembrie anulată, că Primăria Bucureşti n-are firmă specializată în ...',\n",
       " 'Erdogan le-a cerut turcilor să nu mai cumpere produsele franțuzești',\n",
       " 'Ciulinii bădăranului',\n",
       " 'O ştire aparent banană',\n",
       " 'Alba. Accident grav pe autostrada A1, sensul Deva-Sibiu, între un microbuz și un autoturism. Din primele informații sunt 15 persoane implicate, iar una a decedat.',\n",
       " 'Taverne europene: Kyratso’s Kitchen, Skopelos',\n",
       " 'VIDEO Primul tronson de autostradă finalizat în acest an se inaugurează pe 4 septembrie: Lotul Biharia-Borș, de la granița cu Ungaria, cu o lungime de doar 5 km',\n",
       " 'Bilanțul Covid-19 pe județe. Cele mai multe cazuri se înregistrează în București. Unde au fost raportate cele mai puține infectări',\n",
       " 'Hrană pentru pești',\n",
       " 'Venezuela. Cel puțin 40 de persoane au fost ucise și 850 de persoane au fost reținute, ca urmare a violențelor din ultimele zile, potrivit unui raport al ONU.',\n",
       " 'Mandatul lui Clotilde Armand, pentru Primăria Sectorului 1, a fost validat de către Judecătorie',\n",
       " 'Ion Cristoiu: E vreo diferenţă între CPN-ul lui Marcel Ciolacu şi CEX-ul lui Liviu Dragnea?',\n",
       " 'Germania. O fermă din regiunea Dingolfing-Landau, unde lucrează sute de români, a fost plasată în carantină, iar toți angajații au fost testați pentru coronavirus. Rezultatele nu au fost anunțate deocamdată.',\n",
       " 'BALKANIK! FESTIVAL 2014: Vara nu se termină până nu ajungem la Grădina Uranus. PROGRAM CONCERTE',\n",
       " 'Poza zilei! Primul test al laserului de la Măgurele, un real succes. Vezi ce mesaj a fost ...',\n",
       " 'Doi dinți din față, la Călugăreni',\n",
       " 'Ghici cine vine la Parchetul General?',\n",
       " 'Eugen Teodorovici (ministrul Finanțelor): “Mai ales în zona de finanțe, șase luni sînt peste cîteva zile.”',\n",
       " 'Colindator, dezamăgit că nu mai are voie să meargă cu Steaua, doar cu FCSB',\n",
       " 'Competenții secretari ai competentului Ludovic',\n",
       " 'Mama poliţistului Bogdan Gigină, despre moartea fiului său în timp ce se afla în coloana care îl însoţea pe Gabriel Oprea: Au trecut cinci ani goi, pustii, plini de dor, amărăciune, durere, furie, revoltă, neputinţă',\n",
       " 'Cercetătorii chinezi susțin că genomul coronavirusului din focarul din Beijing arată că provine din Europa, dar este diferit și mai vechi decât virusul care se răspândește în această perioadă pe continent. Noile date, analizate și de OMS.',\n",
       " 'Arafat, despre transferul pacienţilor cu forme grave de COVID-19: Am transportat de peste tot, peste tot/ Şeful DSU anunţă că 319 ventilatoare erau libere marţi după-amiază, iar lipsa de locuri la ATI nu este o problemă la nivel naţional',\n",
       " 'Cartea despre care am scris de două ori',\n",
       " 'Studiu. 95% din români ar dori Unirea cu Basarabia că așa se mai dă o zi liberă de la stat',\n",
       " 'Funar, bătut cu argumente! Primarul din Caracal spune că de fapt Eminescu fura poezii de la ...',\n",
       " 'Ilie Năstase va servi pentru România',\n",
       " 'Aliații președintelui în exercițiu, Donald Trump, atrag atenția că scrutinul prezidențial nu s-a încheiat',\n",
       " 'Premierul îl apără pe consilierul Andi Manciu: Nu are obligația legală de a avea diplomă de licență',\n",
       " 'Cele mai tari felicitări de Sărbători GALERIE FOTO',\n",
       " 'Bursele europene au deschis în scădere, după prima dezbatere Trump-Biden',\n",
       " 'Top 10 propuneri ale Academiei Cațavencu pentru cine ar trebui să meargă la Bruxelles',\n",
       " 'Sunt alături de domnul Mircea Albulescu, în această grea încercare',\n",
       " 'Dan Barna: Responsabilitate înseamnă să îți asumi să schimbi România, nu să intri într-un guvern care nu are nicio soluție de schimbare a țării. Astăzi, un guvern va fi alcătuit și de Tăriceanu, și Ponta, oameni care au fost alături de PSD și Dragnea în anii în care România s-a îndepărtat de Europa.',\n",
       " 'Domnul Goe al fondurilor europene',\n",
       " '7 motive pentru care ar trebui să-ţi cumperi un cal, hipstere',\n",
       " 'Români de mâna a doua',\n",
       " 'Momente esențiale din viața lui Mircea Băsescu',\n",
       " 'Represalii. Maharajahul de Sri Lanka l-a călcat cu elefantul pe singurul ungur din ţară',\n",
       " 'Cea de-a doua dezbatere Trump-Biden a fost anulată. Donald Trump îşi reia campania electorală şi se vede cu susţinătorii',\n",
       " 'Compromis pe familia tradițională. Homosexualii au voie să facă nuntă, dar fără dansul ...',\n",
       " 'S-au scumpit pensiile',\n",
       " 'Top 3 emisiuni de care avem nevoie',\n",
       " 'Iar nu e clar cine fură voturile',\n",
       " 'Pe lângă Senat şi Camera Deputaţilor, Parlamentul va avea a treia cameră, cu câteva zeci ...',\n",
       " 'Austria interzice de joi cursele aeriene directe din zece state, inclusiv din România',\n",
       " 'Adrenalina Parc Brașov',\n",
       " 'Experiment într-o școală din Germania. Elevii și profesorii dau testul COVID',\n",
       " 'Finanțele Germaniei, marele câștigător al Brexit-ului. 45 de bănci părăsesc Marea Britanie',\n",
       " 'Pumnii și picioarele, cel mai bun salut între politicieni, pe timp de pandemie',\n",
       " 'Discursul regelui',\n",
       " 'Udrea, campanie agresivă: va fi prezentă în bordeluri, pentru a-și informa electoratul masculin',\n",
       " 'Șoarece de laborator, convins că experimentele noi te fac mai puternic',\n",
       " 'Karate tradiționale moldovenești, cu 1 danileț',\n",
       " 'Comoara din insulă',\n",
       " 'Japonia, avertizată să se pregătească de \"un dezastru major\" odată cu sosirea taifunului Maysak',\n",
       " 'Bărbat cu papion, deranjat că vizitiul nu a venit la ora stabilită',\n",
       " 'Cele mai bune răspunsuri la interviul de angajare ca român panicat de fenomenul Balena Albastră',\n",
       " 'Afenfie! Un nou ftudiu arată că Coca-Cola îfi difolfă dinfii',\n",
       " 'Belarus. Peste 200 de mii de manifestanți s-au adunat la Minsk, în cel mai mare protest de până acum împotriva președintelui Alexandr Lukașenko. După ce a acuzat NATO că desfășoară trupe în zonă, acesta a ordonat exerciții militare, chiar de mâine, la granița cu Polonia și Lituania.',\n",
       " 'După Endgame, Marvel se pregătește de colivă și pomană',\n",
       " 'Mircea Badea (chiar el): “Nu mai vreau nici să mă enervez, nici să mă inflamez, după cum vezi o ard cool”',\n",
       " 'Gabriela Firea (primar general al Capitalei): “Adică țînțarii au culoare politică?”',\n",
       " 'Ministru nou și calculatoare noi, luate de la o mai veche firmă prietenă',\n",
       " 'Update: Naomi Osaka (10 WTA) a revenit asupra deciziei de a se retrage din semifinala turneului de tenis de la Cincinnati. Meciul cu Elise Mertens se va juca vineri.',\n",
       " 'Nelu Tătaru: Cred că noi am lipit toate valurile',\n",
       " 'Ciucă, întrebat despre variantele pentru parada de 1 Decembrie: Cred că este foarte importantă calitatea activităţilor, nu dimensiunea lor. Căutăm soluţii să marcăm Ziua Naţională în conformitate cu restricţiile pandemiei Covid-19',\n",
       " 'Dar dacă pariem ca fraierii pe cîștigătorul Nobelului literar?',\n",
       " 'Omul lemnos',\n",
       " 'Haina îl face pe om',\n",
       " 'PSD, BOR, aceeași mizerie',\n",
       " 'Ministrul Agriculturii: Banii europeni alocaţi pentru construcţia bursei de peşte din Tulcea trebuie returnaţi',\n",
       " 'Poliția a destructurat o rețea de curve ai căror copii urcă în metrou înainte să coboare lumea',\n",
       " 'Trafic blocat pe Valea Oltului, după ce coloana lui Iohannis s-a oprit ca să facă Carmen pipi',\n",
       " 'Firea vrea să dea 7,8 milioane ca să afle ce și cu cît poate vinde sau cumpăra în București',\n",
       " 'Liviu Dragnea (președinte PSD): “Dom’le, pămîntul României îl iei și-l faci ca pe plastilină, îți vine să-l mănînci!”',\n",
       " '10.000 de tablete școlare stau în depozitele Inspectoratului București, la o lună de la începerea școlii. ISMB: Toată lumea se mișcă greoi. Dorim ca până la sfârșitul săptămânii să repartizăm aceste tablete',\n",
       " 'Fukuyama și noile origini ale ordinii politice',\n",
       " '#vrem crăciun!',\n",
       " 'Roverul Curiosity a împlinit opt ani de când se află pe Marte/ A parcurs peste 23 de kilometri, a excavat 26 de mostre de rocă şi 6 mostre de sol',\n",
       " 'File de istorie. De ce Podul Mogoşoaia s-a transformat în Calea Victoriei',\n",
       " 'Cercetătorii încearcă să prezică apariţia „furtunii de citokine”, care îi pune în pericol pe unii pacienţi cu COVID-19. Studiu',\n",
       " 'Ponta: “Vești bune! Transformat în franci elvețieni, costul autostrăzii Comarnic-Brașov pare mult mai mic”',\n",
       " 'Dezastru la proba de mate a Bacului! Elevii n-au știut nici măcar să numere corect banii de ...',\n",
       " 'Surpriză de proporții: Simona Halep, eliminată de la Wimbledon. Reacții și explicații',\n",
       " 'Alina Gorghiu acum 4 ani: \"Parlamentarii PNL vor renunţa la pensiile speciale din prima lună de mandat\". Suntem în a 47-a lună de mandat, pensiile rezistă cu tupeu',\n",
       " 'După ce i s-au îmbolnăvit atâtea vedete de Covid, Antena 1 îşi schimbă numele în Antena 5G!',\n",
       " 'Iliescu îşi serbează ziua cu cel mai bun prieten! Mausoleul lui Lenin va fi închis ...',\n",
       " 'Mihaela Rădulescu (divă de Monaco) despre ciorba pe care tocmai a făcut-o: „Iaca două limbi, ba chiar trei, căci morcovul e francez.” (Instagram, 22 mai)',\n",
       " 'Eliminarea roamingului se amână până când românii din străinătate găsesc altă scuză ...',\n",
       " 'Ministerul Muncii propune decontarea a 75% din diferenţa între salariul pentru timp normal de lucru al unui angajat şi cel pentru program redus, instituit de angajator în situaţii de criză',\n",
       " 'Numărul de salariați a scăzut în București cu aproape 4.000 de persoane în luna martie',\n",
       " 'Informații de ultimă oră despre buget. Soluția găsită pentru banii primăriilor',\n",
       " 'Incendiu la bordul unui submarin nuclear francez. Persoanele care erau în interior au fost evacuate',\n",
       " '#comunistovirusul',\n",
       " 'Luminița Anghel nu era ok?',\n",
       " 'Detestabilul Băsescu',\n",
       " 'Avioanele F-16 românești s-au antrenat cu un bombardier strategic al SUA în spațiul aerian al României',\n",
       " 'ACTA jalea est',\n",
       " 'Un seism de 3,4 grade s-a produs duminică dimineaţa, în judeţul Buzău',\n",
       " 'Susținătorii lui Donald Trump au ieșit și ei în stradă, acuzând că alegerile au fost furate',\n",
       " 'Academia Cațavencu nr. NR. 1 (1219) 30 Ianuarie - 12 Februarie 2017: STĂPÂNUL LICHELELOR',\n",
       " 'Coronavirus România. Numărul deceselor continuă să crească susținut – 203 în ultimele 24 de ore. Numărul cazurilor noi, în acest interval, a fost de 9.799, din 38.863 de teste (25%). La terapie intensivă sunt internați 1.092 de pacienți.',\n",
       " 'Viața în primul oraș din România intrat în carantină: „Ne deranjează, dar trebuie să acceptăm, asta e situația”',\n",
       " '20 de lucruri despre bătăile din școli',\n",
       " 'Ronaldo, primul fotbalist miliardar din istorie / A câștigat peste o sută de milioane într-un singur an',\n",
       " 'Direcția de Sănătate Publică Alba: Amenzi de 52.400 lei și o secție a Spitalului Sebeș închisă temporar, după depistarea cazurilor de Covid-19',\n",
       " 'Vrei să scapi de ţânţari? Porneşte o bormaşină! Nu-i omoară, dar îi deranjează!',\n",
       " '<strong>Irinel Columbeanu: </strong>„Eu am făcut pentru Monica ceea ce ar fi trebuit să facă Emil Gabor la timpul potrivit!“',\n",
       " 'Marcel Ciolacu: Analizăm posibilitatea de modificare a Hotărârii de Guvern privind prelungirea stării de alertă astfel încât să nu fie nicio problemă de constituţionalitate',\n",
       " 'Omul de afaceri Mohammad Murad, cercetat penal după ce a fost filmat împărţind pachete inscripţionate cu numele său',\n",
       " 'Trafic feroviar întrerupt în mai multe județe, din cauza condiţiilor meteorologice. Cinci trenuri, cu sute de călători, staţionează pe linii.',\n",
       " 'Renate Weber: “N-am mîncat carne de cal, în mod conștient”',\n",
       " 'Peste trei mii de persoane au protestat pașnic în Piața Victoriei din Capitală. Dispozitivul de jandarmi a fost redus.',\n",
       " 'Vâslește, mâine va fi mai rău',\n",
       " '”Românul mândru” Ponta e tot mândru, dar nu mai e român',\n",
       " 'Boc a intrat în secta iluminaților festivi',\n",
       " 'Forumul Judecătorilor, despre declarațiile lui Liviu Dragnea și Tudorel Toader: Oamenii politici să se abțină de la declarații care aduc atingere libertății de exprimare a magistraților și independenței justiției.',\n",
       " 'Prin cimitirul lucrurilor vechi',\n",
       " 'Cît de supărat e Antonescu pe Ponta?',\n",
       " 'Cine n-are o babă smintită, să se mute la mine în bloc',\n",
       " 'Cele mai bune răspunsuri pentru interviul de angajare ca polițist',\n",
       " 'VIDEO. Violențe ale suporterilor la Craiova. Nouă jandarmi au fost răniți',\n",
       " 'Desele războaie și fugi ale nefericitului Ghica Vodă',\n",
       " 'PSD își numără înfrîngerile: una la Primărie, două la școala din Băneasa',\n",
       " 'Marea junglificare națională',\n",
       " 'Secretarul Forţelor Navale ale SUA, Kenneth J. Braithwaite, în vizită în România',\n",
       " 'Ministrul Cîțu: Măsurile pe care le-am luat nu au fost perfecte din primul moment. Sunt primul care recunoaște asta',\n",
       " 'EXCLUSIVITATE ACADEMIA CAŢAVENCU: primul interviu cu ciobanul Cornel!',\n",
       " 'România trece la ora de iarnă, cu temperaturi de primăvară. Vor fi până la 25 de grade Celsius',\n",
       " 'Gorj. Doi muncitori au fost răniți, după ce o traversă a unui pod la care lucrau în localitatea Stoina s-a prăbușit peste ei.',\n",
       " 'Teodorovici: După schimbarea conducerii ANAF, rezultatele sunt foarte bune. Pe iunie au depășit planul',\n",
       " 'Bulgarii îl răpesc pe Sfîntul Dumitru',\n",
       " 'Noi arestări în dosarul “cofeină pentrui VIP-uri”',\n",
       " 'Senatorul PNL Florin Cîțu cere demisia ministrului Finanțelor, după ce agenția Fitch a avertizat că există riscul supraîncălzirii economiei românești, din cauza creșterii rapide a salariilor.',\n",
       " 'Simona Halep, decorată de preşedintele Klaus Iohannis, într-o ceremonie la Palatul Cotroceni',\n",
       " 'Dark side of the balloon',\n",
       " 'Horă de băieți',\n",
       " 'Festivalul Enescu, succes răsunător! Leo din Strehaia e deja hotărât să-l cheme pe Enescu ...',\n",
       " 'Poliția Capitalei a aplicat amenzi de până la 200.000 de lei în primul weekend în care terasele s-au închis la 23:00',\n",
       " 'Portretul canaliei la bătrînețe (III)',\n",
       " 'Ponta, acest Glumiță, om-sucit',\n",
       " 'Bianca Andreescu le-a dezvăluit jurnaliștilor secretul succesului ei: practică yoga și meditația',\n",
       " 'A apărut pălinca Centenar! Are 100 de grade, unul pentru fiecare an trecut de la Unire',\n",
       " 'Guvernul Grindeanu se mişcă rapid. A cerut extrădarea lui Ghiţă, dar nu în România, ci ...',\n",
       " 'Poza zilei! Teleormănenii au transformat statuia lui Liviu Vasilică într-una a lui Liviu Dragnea',\n",
       " 'Cât poate să ajungă cursul leu-euro?',\n",
       " 'Kerber, spulberată de Kasatkina la Indian Wells',\n",
       " 'Hexi Pharma și-a făcut colivă',\n",
       " 'Rezultate finale la alegerile europarlamentare, după numărarea totală a voturilor exprimate (România+Diaspora): PNL – 27%, PSD – 22.53%, USR-PLUS – 22.32%, PRO Romania – 6.45%, PMP – 5.76%, UDMR – 5.26%, ALDE – 4.12%.',\n",
       " 'Nelu Tătaru: Suntem într-un platou dinţat, a doua cocoaşă din primul val',\n",
       " '#fierea',\n",
       " 'Ofranda de 8 Martie',\n",
       " 'Complexul Dragonul Roșu se închide temporar din cauza pandemiei de coronavirus',\n",
       " 'Pan Basarabesky',\n",
       " 'Gala Premiilor Stand-Up Comedy – o degustare de glume bune',\n",
       " 'SENZAȚIONAL. Radu Mazăre, în locul lui Ashton Kutcher în „Two and a Half Men”',\n",
       " 'Momente esențiale din viața lui Mihai Tudose',\n",
       " 'Lady Gagă, Lady Gagă, ne băgaşi mortu-n desagă!',\n",
       " 'După ce s-a antrenat 20 de ani cu seminţe, un român poate sparge acum bolţari între dinţi',\n",
       " 'Băile Covora',\n",
       " 'Ce trebuie sa stii despre alegerea unui televizor si amenajarea unei zone pentru divertisment de calitate',\n",
       " 'Ludovic Orban, despre moțiunea de cenzură anunțată de PSD: Nu are în spate niciun fel de motivație solidă, e un gest electoral',\n",
       " '3.500 de companii dau în judecată administraţia Trump din cauza taxelor vamale impuse Chinei',\n",
       " 'Giuseppe Longobardi: „Este posibilă o limbă comună a lumii”',\n",
       " 'VIDEO INTERVIU Clotilde Armand, candidata Alianței USR PLUS, susținută și de PNL, la Primăria Sectorului 1: Vreau să fiu un primar care construiește. Vin cu o echipă extrem de bună la Primărie – Advertorial',\n",
       " 'Dezamagire! După 3 zile de test drive, Papa n-a cumpărat Logan-ul',\n",
       " 'Sula la prefectură',\n",
       " 'Șase lucruri pe care le-a mai învățat Năstase în închisoare',\n",
       " 'Cum a pompat Dragnea miliarde în PSD, folosindu-şi supuşii şi clientela pe post de bidoane',\n",
       " 'Apple vrea să reducă la zero emisiile de carbon la nivelul companiei, până în 2030. La începutul anului, Microsoft a anunțat o decizie similară.',\n",
       " 'Gabriel Oprea (vicepremier): “Doctrina Europei în momentul de față este interesul național.”',\n",
       " 'Mii de români vor primi 5 lei la intrarea în Grecia fiindcă erau peste 4 la coadă',\n",
       " 'Regizorul care cerșește la Romană, o nouă lovitură! Acum acolo cerșește și premierul Greciei',\n",
       " \"De Valentine's Day, inimi congelate\",\n",
       " 'Coronavirus România. 9.685 de noi cazuri, în ultimele 24 de ore, din 33.221 de teste. În acest interval, 160 de persoane au decedat. La terapie intensivă sunt 1.132 de pacienți în stare gravă.',\n",
       " 'Ciolacu a ieșit fals-pozitiv la un test IQ!',\n",
       " 'Epoca fraudală: Ori la spital, ori la bal',\n",
       " 'Ion Țiriac acuză Rusia că le vinde arme mistreților',\n",
       " 'Daniel explică de ce au fost italienii atât de loviți de Covid: Li s-au învechit catedralele!',\n",
       " 'Diana, clasa a XII-a E: Am reușit să îmi văd toți colegii pe ecran, în fața mea, în același timp, iar discursurile și chipurile lor familiare m-au emoționat până la lacrimi',\n",
       " 'Ciolacu speră ca majorarea pensiilor cu 40% să fie votată de PMP, UDMR, Pro România, ALDE şi independenţi',\n",
       " 'Academia de Folk recidivează! Serile ”Folk Q” în Quntic Pub 2 Grozăvești.',\n",
       " 'Mihai Radu vs Simona Tache',\n",
       " '<em>Arbeit</em> e pentru fraieri',\n",
       " 'De ce sunt atat de iubite aragazurile electrice cu plita pe inductie',\n",
       " 'Disident pe bune, dar fără acte',\n",
       " 'Român, revoltat că Robbie Williams a confundat Bucureștiul cu Budapesta sau cu Belgradul',\n",
       " 'Mama lui Orlando Teodorovici recunoaște: „Eu mi-aș fi dorit să fie băiat!”',\n",
       " 'Fanatismul: boala lumilor înguste',\n",
       " '\"Olguța era să ia bătaie de la alegători în Craiova!\" Deci e la fel de karatistă ca Mircea Badea',\n",
       " 'Ne batem joc de valorile neamului! Casa Memorială Dan Pulea zace în ruină',\n",
       " 'La resturile Marelui Mucenic Dimitrie: Moaştele de la cap se-mpute',\n",
       " '<strong>Cartea zilei:</strong> <em>Adio, arme</em>',\n",
       " 'Viorica Dăncilă, la aflarea scorului final: „I am thoroughly disappointed!”',\n",
       " 'Guvernul are liber la desființat “Prima casă”. Adevăratul șef al Executivului nu mai are, de mult, nevoie de acest program',\n",
       " 'Compania Blizzard amână lansarea „World of Warcraft: Shadowlands” pentru finalul anului. Jocul era programat să apară pe 27 octombrie, dar dezvoltarea sa a fost întârziată de pandemie.',\n",
       " 'Românii au depășit nemții la tehnologie de mult',\n",
       " 'Strategie: la următoarea confruntare TV, ACL va trimite un Iohannis de lemn',\n",
       " 'Peruca vînată de Securitate',\n",
       " 'După MasterChef urmează TaxiMeșter',\n",
       " 'Ospătar, am un caca în friptură',\n",
       " 'Două avioane de vânătoare americane s-au apropiat periculos de o aeronavă iraniană de pasageri',\n",
       " 'În ciuda restricțiilor privind protestele, israelienii au ieșit în stradă împotriva lui Netanyahu. Poliția a arestat 30 de persoane',\n",
       " 'Și Craiova intră în scenariul roșu. Școlile se închid pentru două săptămâni, masca de protecție este obligatorie în toate spațiile publice',\n",
       " 'Business Club: Guvernul se joacă periculos cu programul „Prima casă”',\n",
       " 'Agenturili e de vină',\n",
       " 'Cinci dintre cele 15 persoane confirmate cu coronavirus au fost declarate „vindecate”. La nivel național, 11 persoane sunt în carantină instituționalizată, iar aproape 13 mii în izolare la domiciliu.',\n",
       " 'Bătălia de la Ojogeni',\n",
       " 'După inaugurarea patinoarului uriaş, Ţiriac şi-a chemat prietenii să împuşte pinguini pe el',\n",
       " 'Efectele rămânerii Guvernului Dăncilă. Criza de sânge s-ar putea rezolva, că zeci de mii ...',\n",
       " 'Cânii care au atacat-o pe Andreea Marin au fost deja adoptați de Mihaela Rădulescu',\n",
       " '#free-tzandarei!',\n",
       " 'Grupul german Schaeffler anunță concedierea a 4400 de angajați până în 2022 și închiderea sau vinderea unor fabrici / Producătorul de componente auto are o fabrică la Brașov',\n",
       " 'România văzută prin ochii jurnaliștilor străini (3)',\n",
       " 'AC Milan este ultima calificată în grupele Europa League după un meci nebun disputat cu Rio Ave. Portughezii au fost învinşi cu greu la penalty-uri',\n",
       " 'Marcel Ciolacu nu știe când va depune moțiunea de cenzură, dar susține că guvernul trebuie să plece: Va fi un act de patriotism îndepărtarea PNL de la putere. Nu numai că e incompetent, dar este și rău / Vrem introducerea impozitării progresive',\n",
       " 'Top 5 cluburi în care să răcneşti ca o maimuţă la karaoke',\n",
       " 'Raport despre starea ficţiunii – Rechinul din Neajlov despre crocodilul din Lăpuş: „Un fals ordinar!“',\n",
       " 'Piei, Satană cu mustață: până și Preafericitul crede că ești prea lacom pentru țara asta!',\n",
       " 'Şoc în lumea muzicală! A fost găsită o manea compusă de Mozart, “Nebunia lui Wolfgang”',\n",
       " 'Somnul dinaintea lecturii',\n",
       " 'Deranj mare la Cluj! Un sinugaş a ameninaţat că va mînca pepene cu bere în faţa Primăriei.',\n",
       " 'Timișoara. Autoritățile anunță că femeia de 38 de ani depistată cu coronavirus a fost retestată de două ori, iar rezultatele au fost negative. Tânărul de 16 ani, reconfirmat pozitiv, iar colegul său de bancă, testat negativ. Bărbatul de 47 de ani, rezultat negativ.',\n",
       " 'O parlamentară a lovit un pieton pe trecere şi a fugit de la locul accidentului. Trecerea de pietoni a fost reținută pentru 30 de zile!',\n",
       " 'E. Teodorovici, către Opoziţie: Aţi transformat Parlamentul într-o scenă de spectacol. Au ajuns \"urât\" şi \"prost\" jigniri mai mari...',\n",
       " 'S-a stins cel mai bun dintre noi! A trecut în nefiinţă Dan Pulea',\n",
       " 'Singura şansă să mai avem ce lucra în România e să declarăm război Germaniei şi să ne predăm!',\n",
       " 'Alex Velea, chemat la DNA pentru a da explicații despre relația cu Antonia',\n",
       " 'Degeaba pornești de la Marele Zid, tot o chinezărie iese',\n",
       " 'ALDE şi Pro România vor fuziona înainte de alegerile parlamentare - surse. Membrii ALDE vor candida pe listele partidului lui Ponta',\n",
       " 'Ce trebuie să facem când mergem la cinematograf. Noile reguli publicate de Guvern',\n",
       " 'Conflict armat între două clanuri interlope din cauza unui spoiler la serialul Umbre',\n",
       " 'Etc., et c s-ț spn',\n",
       " '10 lucruri despre relaţia strânsă între IQOS şi ciorapi',\n",
       " '\"Vrem să le arătăm cehilor că le datorăm ceva românilor și că trebuie să-i ținem minte\"',\n",
       " 'Proiect controversat: USR adună semnături pentru campania “Fără fumători în funcții publice”',\n",
       " 'Ministrul de Externe al Austriei a fost depistat cu coronavirus după o întâlnire la nivel înalt în UE',\n",
       " 'VIDEO Europarlamentarul Siegfried Mureșan a votat împotriva rezoluției care incriminează corupția din Bulgaria, deși a susținut public mecanismul care condiționează fondurile europene de statul de drept',\n",
       " 'C. V. Tudor pregătește pentru 1 Decembrie o paradă de cunoștințe de cultură generală',\n",
       " 'SUA. Departamentul de Justiție a pus sub acuzare compania Huawei și pe directorul său financiar pentru fraudă bancară, obstrucţionarea justiţiei şi furt tehnologic. Huawei neagă acuzațiile.',\n",
       " 'In tendinte – living room-ul din curte',\n",
       " 'Cosette Chichirău, USR: ”Dacă Dacian Cioloș se va hotărî să intre în politică, USR mi se pare singura lui opțiune!”',\n",
       " 'Vitamin Well votat produsul anului 2018 în România',\n",
       " 'Amor cu motor în dormitor',\n",
       " 'Spații de cazare la mare înălțime. Hotel Coroana de Aur, Bistrița',\n",
       " 'Cine vrea un președinte neamț?',\n",
       " 'Fotbal pe pâine (episodul 2)',\n",
       " 'VIDEO Zeci de șoferi au fost opriți în trafic de polițiști azi-noapte, imediat după intrarea în vigoare a interdicției de circulație',\n",
       " 'Fiii Lupoaicei clădesc baze sportive în Bacău',\n",
       " 'Ce odios! Tudorel nu doar l-a eliberat pe violatorul care a agresat o fetiță, ci i-a fost și ...',\n",
       " 'Top 5 ştiri cu Adrian Năstase',\n",
       " 'China produce, dar şi aruncă. Din 26 de milioane de tone de haine aruncate anual la gunoi, doar 1% sunt refolosite sau reciclate',\n",
       " 'Orange a fost amendată cu cinci sute de mii de lei pentru incidentul din ianuarie, când serviciile de voce și date nu au funcționat în parametri normali. Au fost afectate aproape două milioane de conexiuni.',\n",
       " 'Puşcăriaşii vor primi primă de Paști!',\n",
       " 'România va trimite primul echipaj uman pe Mercur în retrograd',\n",
       " 'Zece lucruri senzaționale pe care nu le știai despre BREXIT',\n",
       " 'Pisicile roșii, gramatica limbii române și un șeic pentru Elena Udrea',\n",
       " 'Enigmă în Argentina: 57 de marinari contaminaţi după 35 de zile pe mare. Cazul pune problema celei mai lungi incubații a virusului',\n",
       " 'Bihor. Explozie la o secție de încărcare butelii din localitatea Stei. UPDATE: Șapte persoane au fost rănite, dintre care trei au suferit arsuri de gradul I și II. A fost activat Planul Roșu de Intervenție.',\n",
       " 'Volvo recheamă la service 2,2 milioane de automobile din cauza unei probleme tehnice',\n",
       " 'Gabriela Firea: Dacă cineva îmi dorește capul, eu îl pun pe tipsie cu drag',\n",
       " '(P) Cercetătorii au descoperit că nu ai nevoie de ulei, făină și găleți ca să câștigi ...',\n",
       " 'Inconsecvențele unei pandemii',\n",
       " 'Dictatorul Erdogan, cel mai îndrăgit sultan',\n",
       " 'Sectorul agricol Vâlcov',\n",
       " 'Adevărul scandalos despre venituri şi pensiile speciale. Analist financiar: Tudorel Toader câştigă mai mult decât Emmanuel Macron',\n",
       " 'Alegeri românești. În sensul cel mai ridicol cu putință',\n",
       " 'Buffon pleacă de la Juventus după 17 ani',\n",
       " 'Aderarea Italiei la noul Drum al Mătăsii împarte Uniunea Europeană în două',\n",
       " 'Mihai Tudose acuză „marele dezastru liberal”: „Generaţia pierdută” în „România educată”',\n",
       " 'Alegeri 2014: Klaus Iohannis se va converti la românism',\n",
       " 'La Bragadiru, unde marfă este stilu’',\n",
       " 'Arafat: \"Oamenii să calculeze că vor face vacanța în România!\" Pe bune? N-aveam noi bani de vacanță în România, oricât am calcula!',\n",
       " '24 de școli din București rămân închise, elevii vor învăța online. Lista completă a unităților de învățământ în scenariu roșu',\n",
       " 'Trebuie să recunoaştem că lui Dragnea îi stă bine la puşcărie. Trebuia băgat mai de mult!',\n",
       " 'Simple observații (II)',\n",
       " 'Cum furăm Vodafone-ul cu Telekomul? Românul care vorbea într-o zi cât alții în șapte',\n",
       " 'Programu cultur-al a agramatului Costel Alexe, ministru a-l Mediului şi mare mâncător de kkt',\n",
       " 'Noul proiect al guvernului: prima autostrada imaginară din lume!',\n",
       " 'Băsescu, Regele și prințul recent',\n",
       " 'Top 3 diplome pe care orice om ar trebui să și le dorească în viața asta',\n",
       " 'Emil Boc (primarul Clujului): “Acum din nou se încearcă sectorial să creăm pentru X, Z.”',\n",
       " 'Patriarhul nu l-a recunoscut pe Dragnea în hotelul din Elveţia şi i-a dat 10 euro ca să-i ...',\n",
       " 'Pămîntul doare',\n",
       " 'Pensionarii îi cer lui Băsescu să taie coronavirus cu 25%',\n",
       " 'Un arheolog din viitor a venit să ne întrebe de ce am făcut tunelul ăla din Drumul Taberei',\n",
       " 'Turcia amendează Google cu peste 25 de milioane de dolari, pentru abuz de poziţie dominantă pe piaţa căutărilor online',\n",
       " 'Polițistul Marian Godină va scrie și o carte de colorat, pentru bizonii din trafic!',\n",
       " 'Noi proteste în Madrid împotriva măsurilor de carantină impuse în unele părţi din regiune: „Nu este izolare, ci segregare!”',\n",
       " 'Restaurantele nu se deschid | Președintele HORA, după discuțiile cu Orban: Suntem la un pas de ATI. Facem apel să se respecte regulile!',\n",
       " 'Opriți masacrul brazilor de Crăciun! Închideți pisicile în balcon!',\n",
       " 'VIDEO. Cum a fost parodiată dezbaterea Trump-Biden la „Saturday Night Live”',\n",
       " 'O unitate mobilă de terapie intensivă este solicitată de autoritățile din Argeș. Spitalele din județ care tratează pacienți cu COVID-19 sunt aproape pline',\n",
       " 'Metrou și tren metropolitan la Cluj. Primele demersuri concrete',\n",
       " 'Elon Musk a bătut palma cu autoritățile din Vegas pentru un proiect de mare anvergură. Va fi operaţional „până la sfârşitul anului”',\n",
       " 'Mai multe organizații civice cer DIICOT să verifice afirmaţiile lui Liviu Dragnea, privind tentativa de omor din 2017.',\n",
       " 'Reacție promptă după Brexit! Buzăul vrea și el referendum, ca să iasă din Moldova',\n",
       " 'PSD a afișat la conferința Gabrielei Firea „scrisori” ale copiilor pentru Iohannis în care cer dublarea alocațiilor',\n",
       " 'Sumă record pentru plata în avans a subvenţiilor pentru fermieri - 1,37 miliarde de euro',\n",
       " 'Joe Biden îl critică pe Donald Trump: După ce a trecut prin ce a trecut, speram să transmită o lecţie bună americanilor',\n",
       " '10 reguli simple pentru masa de Centenar',\n",
       " 'Guvernul Boc, rezultate încă modeste la reducerea populaţiei',\n",
       " 'PSD vrea să organizeze congresul în 22 august, dar așteaptă lămuriri de la Raed Arafat',\n",
       " 'Cruduța simte lipsa iubitului croat. A rămas cu buzele neînroșite de Paște',\n",
       " 'Eurostat: România este țara din UE în care tinerele se mută cel mai devreme din casa părintească, în comparație cu băieții',\n",
       " 'Președintele interimar al PSD, Marcel Ciolacu: Scenarii pentru copii, certitudini pentru pedofili! Iohannis şi Guvernul său nu sunt în stare să le spună concret părinţilor cum vor învăţa copiii lor în acest an şcolar',\n",
       " 'Generalii prinși la furat l-au șantajat cu dosarul de Securitate pe Traian Băsescu',\n",
       " 'Tot ce trebuie să știți despre ziua votului: ce măsuri de protecție trebuie respectate, cum se poate solicita urna specială',\n",
       " 'Cele mai bune răspunsuri la interviul de angajare în trupa Iris',\n",
       " 'Argeșul, județul cu cea mai mică incidență a infectărilor cu coronavirus, introduce masca obligatorie în toate spațiile publice. Cine nu respectă măsura riscă o amendă între 500 și 2500 de lei',\n",
       " 'Ultima aroganță în videoclipurile de manele: se laudă că nu au rate la bănci',\n",
       " 'Klaus Iohannis: Aş sprijini angajarea răspunderii pe buget. Să reduci TVA de azi pe mâine nu e o măsură bună',\n",
       " 'Irina l-a certat ieri pe Dragnea că i-a zgâriat parchetul cu ghiuleaua legată de picior',\n",
       " 'Hotelierii din Mamaia, pregătiţi pentru mini-vacanţa de 1 Mai. Au mai adăugat un zero la preţuri',\n",
       " 'Cinci motive pentru care Băsescu ar putea fi din nou suspendat',\n",
       " 'Spitalul Clinic de Recuperare Cluj-Napoca redevine unitate de tratare a pacienţilor infectaţi cu noul coronavirus',\n",
       " 'Corectitudine politică! Nu se mai numesc câini maidanezi, ci câini freelanceri',\n",
       " 'Cretina care a vrut să omoare un polițist este PSD-istă și angajată la stat. Mai știți pe cineva zdravăn la cap în partidul ăla?',\n",
       " 'Mihail Neamțu dând o labă zdravănă pornografiei',\n",
       " 'Augustin Zegrean (președintele Curții Constituționale): “Noi am dat o decizie cu cîțiva ani în urmă, în care am explicat ce înseamnă afectare.”',\n",
       " 'Ludovic Orban se retrage! Noul lider al opoziţiei: Emil Mitrache, zis şi Americanu din „La ...',\n",
       " 'Efectul Maria Grapini: Învățământul devine obligatoriu și după 18 ani',\n",
       " 'Ministerul Sănătăţii clarifică: „Nu se acordă concediu medical dacă ai boală pe unguri”',\n",
       " 'Pasajul rutier Ciurel se va deschide sâmbătă',\n",
       " 'VIDEO Mii de femei în stradă la Varșovia, protestând împotriva interzicerii avortului',\n",
       " 'Sechele produse de LSD. Consumatorii ajung să spună „cu drag”',\n",
       " 'Mioara Mantale l-a ţinut la uşă pe Vosganian',\n",
       " 'Cerul înstelat deasupra noastră',\n",
       " '”Good Bye, Lenin” la Ministerul de Externe! Lui Meleșcanu încă nu i-au spus că a căzut ...',\n",
       " 'Se întorc jurnaliştii plecaţi în Spania la căpşuni, acum că s-a scos impozitul pe venit',\n",
       " 'Constituţia, noua ciupilică de vreme rea a lui Băsescu',\n",
       " 'Top 3 consecințe ale cercetării penale a lui Gabriel Oprea',\n",
       " 'România - Franța, 2-3, în semifinala Fed Cup. Am pierdut șansa unei finale istorice, după un efort remarcabil',\n",
       " 'Administrația Prezidențială: Decizia Congresului SUA de majorare a bugetului apărării arată angajamentul ferm pentru securitatea europeană. 13 mld. de dolari, alocate pentru sistemul antirachetă, care include și scutul de la Deveselu.',\n",
       " 'Senatoarea Gabriela Crețu, nevasta lui Buzatu de la Vaslui: \"Se extrag informații din noi. S-ar putea să fim acum controlați de inteligența artificială\"',\n",
       " 'Secretul murdar al trupei Voltaj. În 1994 aveau şi un toboşar, pe Liviu Dragnea',\n",
       " 'Ce se-ntîmplă cînd exagerezi cu hiturile de PR',\n",
       " 'Războiul-fulger de apărare a patriei',\n",
       " 'Dark side of the balloon',\n",
       " 'Campionatul European de handbal feminin. România a fost învinsă de Ungaria și depinde de meciul Germania - Olanda',\n",
       " 'De teama COVID-19, China interzice creşterea a 45 de specii de animale. Porcii spinoşi şi şobolanii de bambus sunt pe listă',\n",
       " 'Ăsta primar adevărat, nu ăla din Dolj! Sorin Oprescu are 10 consilieri locali care îi fac laba',\n",
       " 'Două avioane s-au ciocnit în zbor, în Franța. Cinci oameni au murit',\n",
       " 'Eroic ne e viitorul: doctorat la tot Poporul!',\n",
       " 'Cercetătorii au descoperit pentru prima dată sub straturile de gheață din Antarctica o importantă scurgere de metan. Poate schimba modelul climatic al regiunii.',\n",
       " 'Klaus Iohannis anunță că starea de alertă se prelungește încă 30 de zile: „Nu se introduc noi măsuri de relaxare, nici restricții. Atenție, protejați-vă pe voi și pe ceilalți!”.',\n",
       " 'Istoria toporului român',\n",
       " 'Cum poți vota la alegerile locale din 2020 dacă nu ai domiciliu în orașul unde locuiești',\n",
       " 'TNR amână următorul text despre Dragnea până pe 27 mai',\n",
       " 'Cum să-ți bați joc de un sat întreg',\n",
       " 'Ursul jucăuș de Dărmănești',\n",
       " 'Tot mai multe țări din Europa anunță o creștere importantă a numărului de cazuri de Covid-19',\n",
       " 'Cronici istorice şi istorii cronice',\n",
       " 'Se ceartă nimeni pentru nimic',\n",
       " 'Ziua Copilului în Moldova. Tradiția spune că azi toți copiii trebuie să bea 40 de pahare de vin',\n",
       " 'Bentley vrea să renunţe complet la motoarele cu combustie internă şi să tracă pe baterii în următorii 10 ani',\n",
       " 'Absurdul n-aude, dar le potrivește',\n",
       " 'Paști 2016: Oltenia, între tradiţional şi cirotic',\n",
       " 'La testul pentru Covid-19, Traian Băsescu a fost declarat sănătos-criță!',\n",
       " 'Ce făceau vedetele Antenei 1 la vârsta de 19 ani?',\n",
       " 'Atunci când un șut în fund e doar un șut în fund',\n",
       " 'Posibilă soluție la traficul infernal? La femei, școala de șoferi va dura 4 ani, ca facultatea',\n",
       " '“Gala Comedy” introduce o nouă formă de divertisment în România',\n",
       " 'Cornel Ilie de la Vunk divorțând. Ca un descreierat, fără să se bată la Măruță, fără să se înjure pe net!',\n",
       " 'Revista Tresei: USL trăiește, încă mai fură de la noi',\n",
       " 'Boicotați, boicotați, boicotați!',\n",
       " 'Marea victorie a rîului şi ramului la Călugăreni',\n",
       " 'Gafă! Viorica Dăncilă i-a trimis din greşeală lui Iohannis SMS-ul cu “Mă sună ...',\n",
       " 'Cluj-Napoca a ajuns la o rată de infectare Covid de peste 5 la mia de locuitori',\n",
       " 'Încă o lovitură pentru Firea! A fost părăsită și de Industria Sârmei Câmpia Turzii',\n",
       " 'Șoaptă: Extragerea președinților cu cianuri',\n",
       " 'Alexandru Rafila spune care este perioada favorabilă pentru vaccinare antigripală: Altfel, imunitatea se „termină” repede',\n",
       " 'Un român şi-a învăţat câinele să fumeze şi acum trebuie să strângă şi chiştoacele ...',\n",
       " 'Sorinavirus-7%',\n",
       " 'Prometeu că merită să încerci!',\n",
       " 'Cu barba nu te-ncurci! Alege cine e “Da sau Pa” și califică-te pentru premii',\n",
       " 'Comisia Europeană vrea să aloce opt miliarde de euro pentru supercomputere, pentru ca UE să își mențină rolul de lider în domeniul calculului de înaltă performanță.',\n",
       " 'CM 2018. Germania, campioana en titre, eliminată din faza grupelor',\n",
       " 'Fostul director general al CFR, demis din funcție de Răzvan Cuc, audiat la DNA',\n",
       " 'Președintele Iohannis refuză numirea Olguței Vasilescu la ministerul Transporturilor, după ce a emis decretul de revocare a acesteia de la ministerul Muncii. Refuză de asemenea revocarea lui Paul Stănescu de la ministerul Dezvoltării.',\n",
       " 'Korodi Attila, candidatul UDMR la Primăria Miercurea Ciuc: „O prioritate absolută este de a-i ajuta pe tinerii noştri să-şi însuşească limba română”',\n",
       " 'Directorul de campanie',\n",
       " 'Fuga cu taurii',\n",
       " 'Cartea Adrianei Săftoiu, pusă în umbră de cea a cameristei de la Cotroceni ”Sex între ...',\n",
       " 'Patru lăbuțe și cai-putere sălbatici',\n",
       " 'Mihaela Buzărnescu și Sorana Cîrstea merg mai departe la Rogers Cup',\n",
       " 'Premierul Ludovic Orban explică de ce a crescut euro și dă asigurări că Guvernul va veni cu soluții',\n",
       " 'Cioloș, după întâlnirea cu Iohannis: Fără o viziune clară riscăm să primim fonduri europene care să fie risipite pe proiecte inutile',\n",
       " 'În atenţia şoferiţelor. Dacă trimiţi o poză cu sânii tăi la 7577, treci gratis la Feteşti',\n",
       " 'România a luat aurul la canotaj cu spatele',\n",
       " 'Noul primar al Timișoarei, Dominic Fritz , a ieșit din izolare după ce i-a ieșit negativ și cel de-al doilea test Covid',\n",
       " 'Vine vara! Meteorologii vor publica și temperaturile probabile din autobuze',\n",
       " 'Nou caz de impostură: Un șmecher i-a scos figurile din cap unui fraier fără să aibă diplomă de neurochirurg',\n",
       " 'Inițiativa PSD-PNL de prelungire a mandatelor aleșilor locali a fost adoptată de Senat: Data alegerilor va fi stabilită de Parlament, candidaturile vor putea fi depuse online',\n",
       " 'Un tabloid anunţă că are poze cu Loredana nemachiată, că se închide şi că Dumnezeu nu există',\n",
       " 'Cum întreții sinecuriștii fără taxe?',\n",
       " 'Decizie surprinzătoare a Coaliţiei PSD -ALDE privind mandatul lui Mugur Isărescu la BNR',\n",
       " 'După interzicerea fumatului urmează avorturile şi călătoriile în străinătate',\n",
       " 'Ce căuta orbu’ la Londra?',\n",
       " 'Orașul, văzut de sus. De la nivelul procurorului-șef',\n",
       " 'Cel mai mare club din ţară: Centrul Vechi din Bucureşti',\n",
       " 'Anamaria Prodan, primită cu urale de şoferii de TIR macedoneni: „O ştim din ...',\n",
       " 'O fi furat, dar a și făcut…',\n",
       " 'Ce trebuie să știi despre ceea ce nu vei folosi niciodată',\n",
       " 'Dubița cârpită cu bandă adezivă și cartoane cu care un român a mers sute de km prin Europa. Ce s-a întâmplat când a intrat în țară',\n",
       " 'Membrii Noua Dreaptă, revoltați că tramvaiele mov din Cluj sunt „prea gay”',\n",
       " 'Bogdan Diaconu: “Politicienii care le plâng de milă imigranţilor arabi să-i ia acasă și să și-i țină!”',\n",
       " 'Senzaţional! Poliţia vine la locul faptei cu maşini tractate!',\n",
       " 'Doar 7.000 de români din străinătate s-au înregistrat pentru vot prin corespondență la alegerile parlamentare',\n",
       " 'Netflix a anulat un serial în Turcia din cauza unui personaj homosexual',\n",
       " 'SUA. Publicitatea electorală pe Facebook a depășit 250 de milioane de dolari în șase luni. Printre firmele care au plătit se află și nume mari, precum Exxon Mobil şi Unilever.',\n",
       " 'Mall-urile se redeschid, dar cu reguli stricte și multe. Nu veți mai avea voie să testați produsele cosmetice',\n",
       " 'Prefectul județului Argeș anunţă că nu mai sunt locuri în spitale pentru pacienţii cu COVID-19',\n",
       " 'Din culisele Rich Girls Studios: Frumusețea româncelor, monetizată cu ajutorul celor mai buni make-up artiști',\n",
       " 'Leoaică tînără, siluirea. Jurnal din anul glumei',\n",
       " 'ULUITOR: Iliescu i-a oferit jumătate din locuința de protocol lui Traian Băsescu!',\n",
       " 'Accident grav în Vaslui. Cinci persoane au decedat sâmbătă noapte, iar alte șapte au fost rănite în urma unei coliziuni dintre trei autoturisme pe DN24 Bârlad–Tecuci.',\n",
       " 'Mario Iorgulescu, transferat în Italia că e scump să cari cocaină de-acolo până aici',\n",
       " 'Dosarul Microsoft se pregătește să candideze',\n",
       " 'Avione de luptă americane de tip F-22 „Raptor” au interceptat două bombardiere TU-95 rusești, în apropiere de Alaska.',\n",
       " 'Cât te costă, de fapt, o casă luată pe credit',\n",
       " 'Un veac de discreţie',\n",
       " 'Gymboland Ploiești Shopping City – nouă destinație a distracției pentru copii',\n",
       " 'Mîndruță acuză: Niște asasini ruși au coborât dintr-o Volgă neagră și m-au scuipat de ...',\n",
       " 'Cînd sîngele se face apă colorată',\n",
       " 'O problemă solomonică',\n",
       " 'Interlopul neprins e infractor cinstit',\n",
       " 'Moartea loveşte ziarul',\n",
       " 'Verile ar putea deveni „prea fierbinţi pentru oameni”, iar stresul termic poate duce la moarte (experți)',\n",
       " 'Sistemul de alimentare cu oxigen a cedat în segmentul rus al Staţiei Spaţiale Internaţionale. Echipajul a utilizat oxigen din segmentul american',\n",
       " 'Petrini de la Petrila',\n",
       " 'Bacalaureat 2014: 10 lucruri pe care nu le ştiai despre proba la Limba Engleză',\n",
       " 'Ionuț Chiva:\"Femeile. Nu le înțeleg existența, sînt <em>alien</em> pentru mine\"',\n",
       " 'Am pierdut Eurovision, rămânem cu Euroevazion!',\n",
       " 'Doi deținuți au evadat dintr-o celulă aflată la etajul 12 al clădirii. Unul dintre ei a avut ghinion',\n",
       " 'Comisia Europeană acuză Ungaria de discriminare. Guvernul Viktor Orban a închis granițele, dar nu și pentru țările din Grupul Vișegrad',\n",
       " 'Inconştienţă la nivel înalt. Ce a făcut o deputată din Scoţia, suspectă de coronavirus şi ulterior confirmată cu SARS-CoV-2',\n",
       " '10 lucruri despre relaţia dintre Liviu Dragnea şi sluga lui, Tudorel Toader',\n",
       " 'Candidații DNA',\n",
       " 'Carantină prelungită la Melbourne, deși numărul de infectări a scăzut semnificativ. Cum motivează autoritățile',\n",
       " 'Ungaria închide frontierele pentru cetăţenii străini cel puțin o lună. Excepțiile de la regulă sunt puține',\n",
       " 'Ce-i mai mică și mai mică decât utilitatea publică?',\n",
       " 'Planul de investiții în infrastructură până în 2030: Alocare a 2% din PIB pe an pentru modernizarea și dezvoltarea infrastructurii. Fonduri necesare de peste 72 de miliarde de euro',\n",
       " 'Se poate cu avionul? Destinații românești fără stres pe drumuri',\n",
       " 'Omul care aduce zoaia',\n",
       " 'ANETA FELDMAN-SHAFIR: „Un sfert dintre proprietari își consideră cîinele mai inteligent decît majoritatea oamenilor”',\n",
       " 'Cele mai bune răspunsuri la interviul de angajare ca jurnalist român acreditat la Soci',\n",
       " 'Cum te <em>distrezi</em> în nordul Albaniei de Sud',\n",
       " 'Cu fotbalu’-n ceață: Dribling cu stadionul pe bani publici',\n",
       " 'Mortul Anghelache de la Dinamo',\n",
       " 'Cum au răspândit nudiștii coronavirusul într-o stațiune franceză',\n",
       " 'Wow! Click aici și vezi de ce o să ne omoare presa românească!',\n",
       " 'Pierdut control, găsitorului – recompensă',\n",
       " 'Für Valise',\n",
       " 'Un milion de moduri de a muri de plictiseală',\n",
       " 'Unii oameni pun prea ușor votul',\n",
       " 'Un sincer adio tuturor și mai ales ție, jurnalule!!!!',\n",
       " 'Oliviu Gherman: „De ce să mai vorbim despre trecut?”',\n",
       " 'Avertizare. După ploile torenţiale, Doamne-Doamne va da peste România cu Domestos şi cu ...',\n",
       " 'Studiu. Doar unul din zece furnizori de energie la nivel mondial acordă importanță mai mare surselor „verzi”, în defavoarea combustibililor fosili. În UE procentul este însă de 40%.',\n",
       " 'Pro Infrastructura: Guvernul se laudă cu rezolvarea procedurilor birocratice în 2018, pe proiecte începute în 2013-2015. Lucrările nu avansează din cauza blocajelor care țin de stat.',\n",
       " 'Nouă noi decese cauzate de coronavirus. Ultimii pacienți aveau vârste cuprinse între 31 și 74 de ani.',\n",
       " 'Proiect de lege: Deputații vor să acorde un stimulent de risc pentru profesori și angajații din învățământ',\n",
       " '<strong>Submarine:</strong> mai britanic decît Regina și totuși mai universal decît Coca-cola',\n",
       " 'A înnebunit de tot! Firea cere demisia Patriarhului Daniel, pentru că are mai multe zorzoane ...',\n",
       " 'Cel mai important zăcământ de moloz din lume, descoperit în Bucureşti',\n",
       " 'Dana Budeanu, un fenomen care a făcut doar primele 8 clase fără pile şi bani!',\n",
       " 'O asociație a procurorilor a inventariat toate dosarele din țară și contrazice Secţia de investigare a magistraţilor: A primit de la parchete spre soluționare 1025 de dosare, nu 1422, în ultimele cinci luni. Doar 38 de dosare au avut la bază o sesizare din oficiu a procurorilor, nu 70% din total.',\n",
       " 'La slujbele religioase de la bisericile și mănăstirile din judeţul Suceava vor putea participa doar localnicii',\n",
       " 'EXCLUSIV. Proiectele de lege care vor fi propuse de Gigi Becali în Parlament',\n",
       " 'Ministrul Muncii: De la 1 decembrie va crește salariul minim la 2080 de lei respectiv 2350 de lei pentru cei cu studii superioare sau cu 15 ani vechime. Posibile disponibilizări la stat în 2019.',\n",
       " 'Primăria Capitalei: Mare parte a instalaţiilor pentru iluminatul festiv sunt de anul trecut / Procesul de montare a instalaţiilor este laborios, timpul optim de începere ar fi fost luna septembrie',\n",
       " 'Nicuşor Constantinescu, aşteptat la DNA încă din 2013? Instituţia a prevăzut atunci ...',\n",
       " 'Ministru: Transporturile de banane, fructe exotice, care vin din alte zone decât UE, vor fi mult îngreunate în această perioadă',\n",
       " 'Gabi Firea explică de ce a închis școlile: ”Prin lipsa educației formăm votanții PSD de ...',\n",
       " 'Ion Țiriac: ”Am spus că între hoț și prost prefer hoțul pentru că-l aveam în față ...',\n",
       " 'ONG-urile din Italia care salvează migranţi din Marea Mediterană nu mai sunt pedepsite de guvern',\n",
       " 'Inconsecvențele unei pandemii (V)',\n",
       " 'Reacții interne la sărbătoarea Halloween-ului',\n",
       " '7 lucruri pe care nu le știați despre nebunul care înțeapă femei în tramvai',\n",
       " '10 lucruri pe care nu le știai despre Moș Nicolae',\n",
       " 'Cine nu e gunoi e împotriva noastră',\n",
       " 'Cozmin Infractorovici Gușă',\n",
       " 'Tanti Viorica, jurnal de sărbători',\n",
       " 'Cum se pregăteau polițiști și soldați germani din extrema dreaptă pentru sfârșitul ordinii sociale: saci de cadavre și liste cu inamici',\n",
       " 'Orban: Obiectivul meu este ca în maximum cinci ani România să depăşească Produsul Intern Brut mediu pe cap de locuitor la nivel european',\n",
       " 'COVID-19 se răspândește agresiv printre tinerii care s-au plictisit de distanțare socială',\n",
       " 'Pakistan. Atac armat la sediul bursei din Karachi, cel mai mare oraș al țării. Patru indivizi înarmați au deschis focul și au folosit grenade, în încercarea de a pătrunde în instituție. Au fost uciși de forțele de ordine.',\n",
       " 'Cele mai importante știri despre reintroducerea treptei a II-a',\n",
       " 'Alegeri SUA 2020. Echipa de campanie a lui Donald Trump anunță că deschide un proces federal în Nevada (stat în care Biden conduce) pentru fraudă electorală și cere oprirea numărării voturilor. Acuză că peste zece mii de voturi prin corespondeță au fost fraudate, dar fără a prezenta vreo dovadă. Acțiuni similare au deschis și în alte două state.',\n",
       " 'Cum se mai joacă contractele pentru locuri de joacă în Brașov',\n",
       " 'VIDEO Ludovic Orban, primele declarații după închiderea urnelor: Pentru noi este un rezultat istoric. Bucureștenii și-au dorit o schimbare, și-au dorit să elibereze Bucureștiul de caracatița PSD care a sufocat Capitala',\n",
       " 'City Broke: Bristol. Muzeele',\n",
       " 'Presse-à-porter',\n",
       " 'Radu Vancu: “Povestea poetului condamnat la moarte și interzis o jumătate de secol”',\n",
       " 'Robu, mai diabolic decât credeai! Nu doar că interzice manelele, face obligatoriu folkul',\n",
       " 'Achim Irimescu (ministrul Agriculturii): “Chiar în momentul în care eu făceam declarația, această brînză infestată cu E. coli putea face alte victime!”',\n",
       " 'Cocalarii cu BMW se plâng că din cauza dilatării şinelor de tramvai le ia de două ori mai ...',\n",
       " 'Radiografia unui eșec. Metroul din Drumul Taberei: 16 miniștri și 4 ani de întârzieri',\n",
       " 'Procurorii generali din mai multe state americane invocă o lege federală de acum 40 de ani, pentru a reduce prețul și a pentru a crește producția medicamentului Remdesivir, folosit în tratarea COVID-19. România primește mâine 25 de mii de doze, în urma demersurilor făcute de Comisia Europeană.',\n",
       " 'Simple observaţii (III)',\n",
       " 'Gugăle, mașină mică, unde-l duci automat pe Ionică?',\n",
       " 'La Şelimbăr, cînd Mihai Viteazul ne arată cămaşa',\n",
       " 'Franța. Incendiu la catedrala din Nantes. Fum gros emană din vitraliul amplasat între cele două turnuri ale clădirii gotice, care datează din secolul al XV-lea. Au fost identificate trei focare distincte, iar autorităţile tratează incidentul ca pe un act criminal.',\n",
       " 'City Broke: Istanbul. A treia zi',\n",
       " 'Peste o treime dintre gospodăriile din România suportă cu dificultate cheltuielile curente',\n",
       " 'Primăria Capitalei a suspendat autorizaţia de funcţionare pentru terasele din Herăstrău la care s-au adunat zeci de tineri sâmbătă seara',\n",
       " 'Exponatul „Bodegă tradiţională din zona autogării Militari”, inaugurat ieri la ...',\n",
       " '22 de cadre medicale de la Spitalul Judeţean Arad, infectate cu coronavirus la revenirea din concediu',\n",
       " 'Teme-te de Dragnea și când îți face daruri!',\n",
       " 'Manifestaţii timide în Germania împotriva restricţiilor antiepidemice',\n",
       " 'FOTO C. Pătrășcan: Cele mai bune caricaturi din 2013',\n",
       " 'Pentru că sunt prea agresivi, iubitorii de maidanezi vor fi sterilizaţi să nu se înmulţească',\n",
       " 'Două străzi din Suceava vor purta numele a doi foști consilieri locali, unul care a murit după infectarea cu Covid-19, altul care a murit de infract',\n",
       " 'Pregătiți-vă de noi dosare: DNA s-a pus pe cumpărat microfoane',\n",
       " 'Pandemia nu a clătinat piaţa imobiliară din Transilvania. Livrările de locuinţe au atins un nou record',\n",
       " 'OTV-ul va fi redeschis, fiindcă altă metodă de a ține românii în casă după ora 23 nu e!',\n",
       " 'Belarusul luptă cu elicoptere contra unor baloane',\n",
       " 'Scurtă dare de seamă despre cum am inventat un scriitor și l-am publicat în România literară',\n",
       " 'Efectele pandemiei de coronavirus. Revelion în destinaţii precum Turcia si Egipt cu 25% mai ieftine',\n",
       " 'Țigările cumpărate de 500.000 de oameni dispar din România în trei luni',\n",
       " 'Victor Ponta le dă românilor o veste bună: Economiile lui au crescut cu 5% în ultimul an',\n",
       " 'Banii noștri-acolo e!',\n",
       " 'Jurnalist dat afară pentru că nu a menționat în titlul unui articol că România se topește',\n",
       " 'ULTIMA ORĂ 3109 cazuri noi de coronavirus în România și alte 68 de decese / Record de pacienți la Terapie Intensivă – 651 / Rata de infectare în București anunțată de GCS – 2,69',\n",
       " 'De ce a refuzat Primăria Urziceni să primească librăria mobilă Humanitas: ”Pe raza localitatii noastre functineaza librarii”',\n",
       " 'ADVERTORIAL Liviu Negoiță: Personalitatea domnului președinte Traian Băsescu a contat foarte mult în revenirea mea în PMP',\n",
       " 'Disperarea avocaților',\n",
       " 'Luptătorul K1 Cătălin Moroșanu, poreclit „Moartea din Carpați” va deschide lista de consilieri județeni PNL la Galați',\n",
       " 'USR cere PSD să nu se mai joace cu sănătatea românilor și să permită adoptarea legii carantinei și izolării',\n",
       " 'Adamescu comunică prin contracte cu Autoritatea de Reglementare în Comunicații',\n",
       " 'DOCUMENT Ministerul Educației a condiționat participarea copiilor la Evaluarea Națională de un acord semnat de părinți, acuză Asociația Specialiștilor în Protecția Datelor: Consimțământul și condiționarea sunt ilegale și inutile',\n",
       " ...]"
      ]
     },
     "metadata": {},
     "execution_count": 44
    }
   ]
  },
  {
   "cell_type": "code",
   "source": [
    "#Sursa: https://towardsdatascience.com/text-classification-with-bert-in-pytorch-887965e5820f\n",
    "from transformers import BertTokenizer\n",
    "\n",
    "tokenizer = BertTokenizer.from_pretrained(\"dumitrescustefan/bert-base-romanian-uncased-v1\")\n",
    "\n",
    "class Dataset(torch.utils.data.Dataset):\n",
    "\n",
    "    def __init__(self, df):\n",
    "        self.labels = [label for label in df['class']]\n",
    "        self.titles = [tokenizer(str(text),\n",
    "                                 padding='max_length', max_length = 128, truncation=True,\n",
    "                                return_tensors=\"pt\") for text in df['title']]\n",
    "        self.contents = [tokenizer(str(text),\n",
    "                                   padding='max_length', max_length = 1024, truncation=True,\n",
    "                                return_tensors=\"pt\") for text in df['content']]\n",
    "\n",
    "    def classes(self):\n",
    "        return self.labels\n",
    "\n",
    "    def __len__(self):\n",
    "        return len(self.labels)\n",
    "\n",
    "    def get_batch_labels(self, idx):\n",
    "        # Fetch a batch of labels\n",
    "        return np.array(self.labels[idx])\n",
    "\n",
    "    def get_batch_title(self, idx):\n",
    "        # Fetch a batch of inputs\n",
    "        return self.titles[idx]\n",
    "\n",
    "    def get_batch_content(self, idx):\n",
    "        return self.contents[idx]\n",
    "\n",
    "    def __getitem__(self, idx):\n",
    "\n",
    "        batch_title = self.get_batch_title(idx)\n",
    "        batch_content = self.get_batch_content(idx)\n",
    "        batch_y = self.get_batch_labels(idx)\n",
    "\n",
    "        return batch_title, batch_content, batch_y"
   ],
   "metadata": {
    "id": "1TDPD6UHttUH",
    "colab": {
     "base_uri": "https://localhost:8080/",
     "height": 210,
     "referenced_widgets": [
      "c154e31907d144cfb2695a130b7f1f6b",
      "e42decdfcd464818be978104a5e199dc",
      "7f9de4b1b1f547c88debafe4e0122c1f",
      "2c4941774e564dfe9a64a41272cd795d",
      "f087b42295a24dc0b76f11527be157d7",
      "85e36b0fe8494d74b90e7aa9ea8830b2",
      "1b5b38740d144101a1fa8ee7e5805a9a",
      "3bc125bff1124ab494e645db222c347f",
      "486151649cd54816ab7fd9c63a676630",
      "c872a9ee8fd6494abe20b7263a8a3953",
      "df3aa061bbd44cd3a17e72e68a1a48e5",
      "b013bf088479422aa6c37778c1a8ef7c",
      "3caffd5dabd24e849aff3a3096f636f7",
      "2204a0e8bfa440cda6b65b6799ef2fde",
      "3feee1674be840cc8d040517920b4194",
      "9c37203ec932453ebccf2cebdbf8c289",
      "b9d62b219c0a4abb9489c42aa5719eaf",
      "e2059522294b4851a41a039a2101f0fd",
      "e0f23ddaf782485e9019d32ab65b3171",
      "eede1ec443f448f68ab3134739c71345",
      "59b02e90f319495785706201a1a5f806",
      "a1799e8883a04f2db95ba511e0028bad"
     ]
    },
    "outputId": "c0740e7c-245c-42da-d8a2-4680f596a94b"
   },
   "execution_count": null,
   "outputs": [
    {
     "output_type": "stream",
     "name": "stderr",
     "text": [
      "/usr/local/lib/python3.10/dist-packages/huggingface_hub/utils/_token.py:88: UserWarning: \n",
      "The secret `HF_TOKEN` does not exist in your Colab secrets.\n",
      "To authenticate with the Hugging Face Hub, create a token in your settings tab (https://huggingface.co/settings/tokens), set it as secret in your Google Colab and restart your session.\n",
      "You will be able to reuse this secret in all of your notebooks.\n",
      "Please note that authentication is recommended but still optional to access public models or datasets.\n",
      "  warnings.warn(\n"
     ]
    },
    {
     "output_type": "display_data",
     "data": {
      "text/plain": [
       "vocab.txt:   0%|          | 0.00/411k [00:00<?, ?B/s]"
      ],
      "application/vnd.jupyter.widget-view+json": {
       "version_major": 2,
       "version_minor": 0,
       "model_id": "c154e31907d144cfb2695a130b7f1f6b"
      }
     },
     "metadata": {}
    },
    {
     "output_type": "display_data",
     "data": {
      "text/plain": [
       "config.json:   0%|          | 0.00/385 [00:00<?, ?B/s]"
      ],
      "application/vnd.jupyter.widget-view+json": {
       "version_major": 2,
       "version_minor": 0,
       "model_id": "b013bf088479422aa6c37778c1a8ef7c"
      }
     },
     "metadata": {}
    }
   ]
  },
  {
   "cell_type": "code",
   "source": [
    "train_dataset = Dataset(df_train)"
   ],
   "metadata": {
    "id": "HDcZDZNurKjW"
   },
   "execution_count": null,
   "outputs": []
  },
  {
   "cell_type": "code",
   "source": [
    "validation_dataset = Dataset(df_test)"
   ],
   "metadata": {
    "id": "c5lZ6P0Y0UtU"
   },
   "execution_count": null,
   "outputs": []
  },
  {
   "cell_type": "code",
   "source": [
    "train_dataloader = torch.utils.data.DataLoader(\n",
    "    train_dataset,\n",
    "    batch_size=BATCH_SIZE,\n",
    "    shuffle=True)"
   ],
   "metadata": {
    "id": "mRIIOUss0XR0"
   },
   "execution_count": null,
   "outputs": []
  },
  {
   "cell_type": "code",
   "source": [
    "val_dataloader = torch.utils.data.DataLoader(\n",
    "    validation_dataset,\n",
    "    batch_size=BATCH_SIZE,\n",
    "    shuffle=True)"
   ],
   "metadata": {
    "id": "V-5Chk0X0Ync"
   },
   "execution_count": null,
   "outputs": []
  },
  {
   "cell_type": "code",
   "execution_count": null,
   "metadata": {
    "id": "2uq2eA5KAenh"
   },
   "outputs": [],
   "source": [
    "class SatireClassifier(nn.Module):\n",
    "    def __init__(self,\n",
    "                 input_size: int,\n",
    "                 hidden_size_1: int,\n",
    "                 hidden_size_2: int,\n",
    "                 hidden_size_3: int,\n",
    "                 device: torch.device,\n",
    "                 activation_fn: Callable,\n",
    "                 dropout_rate: float):\n",
    "        super().__init__()\n",
    "        self.input_size = input_size\n",
    "        self.hidden_size = hidden_size_1\n",
    "        self.hidden_size_2 = hidden_size_2\n",
    "        self.hidden_size_3 = hidden_size_3\n",
    "        self.hidden_layer_1 = nn.Linear(input_size, hidden_size_1)\n",
    "        self.hidden_layer_2 = nn.Linear(hidden_size_1, hidden_size_2)\n",
    "        self.hidden_layer_3 = nn.Linear(hidden_size_2, hidden_size_3)\n",
    "        self.output_layer = nn.Linear(hidden_size_2, 1) ####### Nu fi proasta si modifica\n",
    "        self.activation_fn = activation_fn\n",
    "        self.dropout = nn.Dropout(p=dropout_rate)\n",
    "        self.device = device\n",
    "\n",
    "    def forward(self, x):\n",
    "        x = x.to(torch.float32)\n",
    "\n",
    "        h1 = self.activation_fn(self.hidden_layer_1(x))\n",
    "        h2 = self.activation_fn(self.hidden_layer_2(h1))\n",
    "        #h3 = self.activation_fn(self.hidden_layer_3(h2))\n",
    "        #h = self.activation_fn(self.dropout(self.hidden_layer(x)))\n",
    "        out = self.output_layer(h2)\n",
    "\n",
    "        return out"
   ]
  },
  {
   "cell_type": "code",
   "execution_count": null,
   "metadata": {
    "id": "CSAFQf8AD-tU"
   },
   "outputs": [],
   "source": [
    "model = SatireClassifier(\n",
    "    input_size=1024,\n",
    "    hidden_size_1=256,\n",
    "    hidden_size_2=512,\n",
    "    hidden_size_3=512,\n",
    "    device=device,\n",
    "    activation_fn=nn.ReLU(),\n",
    "    dropout_rate=0.2\n",
    ")\n",
    "#model.to(device)\n",
    "optimizer = optim.Adam(model.parameters(), lr=3e-4)"
   ]
  },
  {
   "cell_type": "code",
   "execution_count": null,
   "metadata": {
    "id": "ngPhCBNCEy64"
   },
   "outputs": [],
   "source": [
    "for param in model. parameters ():\n",
    "  print(param)"
   ]
  },
  {
   "cell_type": "code",
   "execution_count": null,
   "metadata": {
    "id": "espZ2L_kFuj6"
   },
   "outputs": [],
   "source": [
    "loss_crt = nn.BCEWithLogitsLoss(\n",
    "\n",
    ")"
   ]
  },
  {
   "cell_type": "code",
   "execution_count": null,
   "metadata": {
    "id": "tAJC9J9UgDsH"
   },
   "outputs": [],
   "source": [
    "pos_weight = torch.tensor([17])\n",
    "loss_crct = torch.nn.BCEWithLogitsLoss(pos_weight=pos_weight)"
   ]
  },
  {
   "cell_type": "code",
   "execution_count": null,
   "metadata": {
    "id": "n8JsO9rnJhpy"
   },
   "outputs": [],
   "source": [
    "loss_crt = nn.CrossEntropyLoss()"
   ]
  },
  {
   "cell_type": "code",
   "execution_count": null,
   "metadata": {
    "colab": {
     "base_uri": "https://localhost:8080/"
    },
    "id": "I5mzs8o4GdS3",
    "outputId": "671e5cec-91bc-452f-c2a4-39ead91cebd9"
   },
   "outputs": [
    {
     "output_type": "stream",
     "name": "stderr",
     "text": [
      "100%|██████████| 442/442 [00:07<00:00, 56.97it/s]\n",
      "100%|██████████| 111/111 [00:00<00:00, 111.82it/s]\n"
     ]
    },
    {
     "output_type": "stream",
     "name": "stdout",
     "text": [
      "epoch 0, train loss=31.082527, val loss=5.240418, train acc=0.567304, val acc=0.519660\n"
     ]
    },
    {
     "output_type": "stream",
     "name": "stderr",
     "text": [
      "100%|██████████| 442/442 [00:05<00:00, 76.04it/s]\n",
      "100%|██████████| 111/111 [00:00<00:00, 164.34it/s]\n"
     ]
    },
    {
     "output_type": "stream",
     "name": "stdout",
     "text": [
      "epoch 1, train loss=2.628305, val loss=1.784867, train acc=0.582820, val acc=0.614028\n"
     ]
    },
    {
     "output_type": "stream",
     "name": "stderr",
     "text": [
      "100%|██████████| 442/442 [00:06<00:00, 72.32it/s]\n",
      "100%|██████████| 111/111 [00:00<00:00, 114.03it/s]\n"
     ]
    },
    {
     "output_type": "stream",
     "name": "stdout",
     "text": [
      "epoch 2, train loss=1.146527, val loss=1.200949, train acc=0.599734, val acc=0.603259\n"
     ]
    },
    {
     "output_type": "stream",
     "name": "stderr",
     "text": [
      "100%|██████████| 442/442 [00:06<00:00, 65.30it/s]\n",
      "100%|██████████| 111/111 [00:00<00:00, 154.55it/s]\n"
     ]
    },
    {
     "output_type": "stream",
     "name": "stdout",
     "text": [
      "epoch 3, train loss=0.809286, val loss=1.259236, train acc=0.622175, val acc=0.632589\n"
     ]
    },
    {
     "output_type": "stream",
     "name": "stderr",
     "text": [
      "100%|██████████| 442/442 [00:06<00:00, 64.63it/s]\n",
      "100%|██████████| 111/111 [00:00<00:00, 156.98it/s]\n"
     ]
    },
    {
     "output_type": "stream",
     "name": "stdout",
     "text": [
      "epoch 4, train loss=0.705539, val loss=1.181196, train acc=0.637814, val acc=0.526390\n"
     ]
    },
    {
     "output_type": "stream",
     "name": "stderr",
     "text": [
      "100%|██████████| 442/442 [00:05<00:00, 75.12it/s]\n",
      "100%|██████████| 111/111 [00:00<00:00, 163.19it/s]\n"
     ]
    },
    {
     "output_type": "stream",
     "name": "stdout",
     "text": [
      "epoch 5, train loss=0.654500, val loss=1.443847, train acc=0.650018, val acc=0.534892\n"
     ]
    },
    {
     "output_type": "stream",
     "name": "stderr",
     "text": [
      "100%|██████████| 442/442 [00:06<00:00, 64.78it/s]\n",
      "100%|██████████| 111/111 [00:00<00:00, 154.49it/s]\n"
     ]
    },
    {
     "output_type": "stream",
     "name": "stdout",
     "text": [
      "epoch 6, train loss=0.657237, val loss=1.066115, train acc=0.652072, val acc=0.635494\n"
     ]
    },
    {
     "output_type": "stream",
     "name": "stderr",
     "text": [
      "100%|██████████| 442/442 [00:05<00:00, 75.57it/s]\n",
      "100%|██████████| 111/111 [00:00<00:00, 157.62it/s]\n"
     ]
    },
    {
     "output_type": "stream",
     "name": "stdout",
     "text": [
      "epoch 7, train loss=0.625819, val loss=0.998461, train acc=0.659511, val acc=0.618562\n"
     ]
    },
    {
     "output_type": "stream",
     "name": "stderr",
     "text": [
      "100%|██████████| 442/442 [00:06<00:00, 63.71it/s]\n",
      "100%|██████████| 111/111 [00:01<00:00, 73.43it/s]\n"
     ]
    },
    {
     "output_type": "stream",
     "name": "stdout",
     "text": [
      "epoch 8, train loss=0.618681, val loss=0.944089, train acc=0.662168, val acc=0.636982\n"
     ]
    },
    {
     "output_type": "stream",
     "name": "stderr",
     "text": [
      "100%|██████████| 442/442 [00:05<00:00, 74.31it/s]\n",
      "100%|██████████| 111/111 [00:00<00:00, 126.97it/s]\n"
     ]
    },
    {
     "output_type": "stream",
     "name": "stdout",
     "text": [
      "epoch 9, train loss=0.624321, val loss=1.028524, train acc=0.662752, val acc=0.640595\n"
     ]
    },
    {
     "output_type": "stream",
     "name": "stderr",
     "text": [
      "100%|██████████| 442/442 [00:06<00:00, 65.22it/s]\n",
      "100%|██████████| 111/111 [00:00<00:00, 158.35it/s]\n"
     ]
    },
    {
     "output_type": "stream",
     "name": "stdout",
     "text": [
      "epoch 10, train loss=0.625125, val loss=0.945734, train acc=0.664807, val acc=0.639674\n"
     ]
    },
    {
     "output_type": "stream",
     "name": "stderr",
     "text": [
      "100%|██████████| 442/442 [00:06<00:00, 70.87it/s]\n",
      "100%|██████████| 111/111 [00:00<00:00, 114.66it/s]\n"
     ]
    },
    {
     "output_type": "stream",
     "name": "stdout",
     "text": [
      "epoch 11, train loss=0.628844, val loss=0.929273, train acc=0.664169, val acc=0.642721\n"
     ]
    },
    {
     "output_type": "stream",
     "name": "stderr",
     "text": [
      "100%|██████████| 442/442 [00:06<00:00, 68.86it/s]\n",
      "100%|██████████| 111/111 [00:00<00:00, 159.19it/s]\n"
     ]
    },
    {
     "output_type": "stream",
     "name": "stdout",
     "text": [
      "epoch 12, train loss=0.642489, val loss=0.888716, train acc=0.663479, val acc=0.630322\n"
     ]
    },
    {
     "output_type": "stream",
     "name": "stderr",
     "text": [
      "100%|██████████| 442/442 [00:07<00:00, 55.79it/s]\n",
      "100%|██████████| 111/111 [00:00<00:00, 158.85it/s]\n"
     ]
    },
    {
     "output_type": "stream",
     "name": "stdout",
     "text": [
      "epoch 13, train loss=0.641455, val loss=0.822811, train acc=0.661566, val acc=0.643146\n"
     ]
    },
    {
     "output_type": "stream",
     "name": "stderr",
     "text": [
      "100%|██████████| 442/442 [00:06<00:00, 72.02it/s]\n",
      "100%|██████████| 111/111 [00:00<00:00, 157.77it/s]\n"
     ]
    },
    {
     "output_type": "stream",
     "name": "stdout",
     "text": [
      "epoch 14, train loss=0.657108, val loss=0.797415, train acc=0.657846, val acc=0.647042\n"
     ]
    },
    {
     "output_type": "stream",
     "name": "stderr",
     "text": [
      "100%|██████████| 442/442 [00:08<00:00, 55.03it/s]\n",
      "100%|██████████| 111/111 [00:00<00:00, 158.29it/s]\n"
     ]
    },
    {
     "output_type": "stream",
     "name": "stdout",
     "text": [
      "epoch 15, train loss=0.657439, val loss=0.754529, train acc=0.659493, val acc=0.643429\n"
     ]
    },
    {
     "output_type": "stream",
     "name": "stderr",
     "text": [
      "100%|██████████| 442/442 [00:06<00:00, 69.09it/s]\n",
      "100%|██████████| 111/111 [00:00<00:00, 122.80it/s]\n"
     ]
    },
    {
     "output_type": "stream",
     "name": "stdout",
     "text": [
      "epoch 16, train loss=0.659641, val loss=0.772615, train acc=0.657545, val acc=0.646900\n"
     ]
    },
    {
     "output_type": "stream",
     "name": "stderr",
     "text": [
      "100%|██████████| 442/442 [00:07<00:00, 59.19it/s]\n",
      "100%|██████████| 111/111 [00:00<00:00, 116.48it/s]\n"
     ]
    },
    {
     "output_type": "stream",
     "name": "stdout",
     "text": [
      "epoch 17, train loss=0.637438, val loss=0.758818, train acc=0.657793, val acc=0.645271\n"
     ]
    },
    {
     "output_type": "stream",
     "name": "stderr",
     "text": [
      "100%|██████████| 442/442 [00:07<00:00, 56.23it/s]\n",
      "100%|██████████| 111/111 [00:00<00:00, 156.33it/s]\n"
     ]
    },
    {
     "output_type": "stream",
     "name": "stdout",
     "text": [
      "epoch 18, train loss=0.632965, val loss=0.757244, train acc=0.657829, val acc=0.643075\n"
     ]
    },
    {
     "output_type": "stream",
     "name": "stderr",
     "text": [
      "100%|██████████| 442/442 [00:06<00:00, 66.00it/s]\n",
      "100%|██████████| 111/111 [00:00<00:00, 158.20it/s]\n"
     ]
    },
    {
     "output_type": "stream",
     "name": "stdout",
     "text": [
      "epoch 19, train loss=0.634448, val loss=0.754693, train acc=0.657563, val acc=0.642579\n"
     ]
    },
    {
     "output_type": "stream",
     "name": "stderr",
     "text": [
      "100%|██████████| 442/442 [00:07<00:00, 57.50it/s]\n",
      "100%|██████████| 111/111 [00:01<00:00, 74.59it/s]\n"
     ]
    },
    {
     "output_type": "stream",
     "name": "stdout",
     "text": [
      "epoch 20, train loss=0.634850, val loss=0.775347, train acc=0.657156, val acc=0.644704\n"
     ]
    },
    {
     "output_type": "stream",
     "name": "stderr",
     "text": [
      "100%|██████████| 442/442 [00:07<00:00, 58.57it/s]\n",
      "100%|██████████| 111/111 [00:01<00:00, 110.55it/s]\n"
     ]
    },
    {
     "output_type": "stream",
     "name": "stdout",
     "text": [
      "epoch 21, train loss=0.639819, val loss=0.751188, train acc=0.657067, val acc=0.647113\n"
     ]
    },
    {
     "output_type": "stream",
     "name": "stderr",
     "text": [
      "100%|██████████| 442/442 [00:06<00:00, 63.35it/s]\n",
      "100%|██████████| 111/111 [00:00<00:00, 159.93it/s]\n"
     ]
    },
    {
     "output_type": "stream",
     "name": "stdout",
     "text": [
      "epoch 22, train loss=0.635781, val loss=0.874898, train acc=0.654162, val acc=0.639745\n"
     ]
    },
    {
     "output_type": "stream",
     "name": "stderr",
     "text": [
      " 90%|█████████ | 398/442 [00:07<00:00, 63.20it/s]"
     ]
    }
   ],
   "source": [
    "num_train_batches = len(train_dataloader)\n",
    "num_val_batches = len(val_dataloader)\n",
    "\n",
    "epoch_loss = 0.0\n",
    "train_losses, val_losses = [], []\n",
    "train_predictions, val_predictions = [], []\n",
    "train_labels, val_labels = [], []\n",
    "train_accuracies, val_accuracies = [], []\n",
    "\n",
    "NUM_EPOCHS = 40\n",
    "\n",
    "for epoch_idx in range(NUM_EPOCHS):\n",
    "    train_labels = []\n",
    "    val_labels = []\n",
    "    train_preds = []\n",
    "    val_preds = []\n",
    "\n",
    "    train_epoch_loss = 0.0\n",
    "    model.train()\n",
    "    for batch_titles, batch_content, batch_labels in tqdm(train_dataloader):\n",
    "        model.zero_grad()\n",
    "\n",
    "        batch_labels = batch_labels \\\n",
    "                  .type(torch.FloatTensor) \\\n",
    "                  .reshape((batch_labels.shape[0], 1))\n",
    "        batch_labels = batch_labels.to(device)\n",
    "\n",
    "        mask = batch_content['attention_mask'].to(device)\n",
    "        input_id = batch_content['input_ids'].squeeze(1).to(device)\n",
    "        # feedforward\n",
    "        out = model(input_id)\n",
    "\n",
    "        probabilities = torch.sigmoid(out.squeeze())  # Apply sigmoid activation\n",
    "        batch_predictions = (probabilities >= 0.5).long()\n",
    "\n",
    "        # compute loss\n",
    "        loss = loss_crt(out, batch_labels)\n",
    "        loss.backward()\n",
    "        optimizer.step()\n",
    "        train_epoch_loss += loss.item()\n",
    "        train_labels += batch_labels.to(int).tolist()\n",
    "        train_preds += batch_predictions.tolist()\n",
    "\n",
    "    val_preds = []\n",
    "    with torch.no_grad():\n",
    "        model.eval()\n",
    "        val_epoch_loss = 0.0\n",
    "        for batch_titles, batch_content, batch_labels in tqdm(val_dataloader):\n",
    "            batch_labels = batch_labels \\\n",
    "                  .type(torch.FloatTensor) \\\n",
    "                  .reshape((batch_labels.shape[0], 1))\n",
    "            batch_labels = batch_labels.to(device)\n",
    "\n",
    "            mask = batch_content['attention_mask'].to(device)\n",
    "            input_id = batch_content['input_ids'].squeeze(1).to(device)\n",
    "            # batch_size x 10\n",
    "            # feedforward\n",
    "            out = model(input_id)\n",
    "            probabilities = torch.sigmoid(out.squeeze())  # Apply sigmoid activation\n",
    "            batch_predictions = (probabilities >= 0.5).long()\n",
    "\n",
    "            # compute loss\n",
    "            loss = loss_crt(out, batch_labels)\n",
    "            val_epoch_loss += loss.item()\n",
    "            val_labels += batch_labels.to(int).tolist()\n",
    "            val_preds += batch_predictions.tolist()\n",
    "\n",
    "    train_epoch_loss /= num_train_batches\n",
    "    val_epoch_loss /= num_val_batches\n",
    "    train_acc = accuracy_score(train_labels, train_preds)\n",
    "    valid_acc = accuracy_score(val_labels, val_preds)\n",
    "\n",
    "    train_losses.append(train_epoch_loss)\n",
    "    val_losses.append(val_epoch_loss)\n",
    "    train_accuracies.append(train_acc)\n",
    "    val_accuracies.append(valid_acc)\n",
    "\n",
    "    print(\"epoch %d, train loss=%f, val loss=%f, train acc=%f, val acc=%f\" % (\n",
    "        epoch_idx, train_epoch_loss, val_epoch_loss, train_acc, valid_acc\n",
    "    ))"
   ]
  },
  {
   "cell_type": "code",
   "execution_count": null,
   "metadata": {
    "id": "IIFwCYDNhlyO"
   },
   "outputs": [],
   "source": []
  },
  {
   "cell_type": "code",
   "execution_count": null,
   "metadata": {
    "colab": {
     "base_uri": "https://localhost:8080/",
     "height": 472
    },
    "id": "l-OVYe3vKRBo",
    "outputId": "dcf0d2b9-f30a-47e4-edb4-8ca42d0a5680"
   },
   "outputs": [
    {
     "data": {
      "image/png": "[encoded data removed]",
      "text/plain": [
       "<Figure size 640x480 with 1 Axes>"
      ]
     },
     "metadata": {},
     "output_type": "display_data"
    }
   ],
   "source": [
    "%matplotlib inline\n",
    "plt.plot(range(0,len(train_losses)), train_losses, 'g', label='Training loss')\n",
    "plt.plot(range(0,len(train_losses)), val_losses, 'b', label='Validation loss')\n",
    "plt.title('Training and Validation loss')\n",
    "plt.xlabel('Epochs')\n",
    "plt.ylabel('Loss')\n",
    "plt.legend()\n",
    "plt.show()"
   ]
  },
  {
   "cell_type": "code",
   "execution_count": null,
   "metadata": {
    "colab": {
     "base_uri": "https://localhost:8080/",
     "height": 472
    },
    "id": "knTkc-oMNxGN",
    "outputId": "9fd03730-78f3-44b1-d6d2-241a6a26769c"
   },
   "outputs": [
    {
     "data": {
      "image/png": "[encoded data removed]",
      "text/plain": [
       "<Figure size 640x480 with 1 Axes>"
      ]
     },
     "metadata": {},
     "output_type": "display_data"
    }
   ],
   "source": [
    "plt.plot(range(0,len(train_accuracies)), train_accuracies, 'g', label='Training accuracy')\n",
    "plt.plot(range(0,len(train_accuracies)), val_accuracies, 'b', label='Validation accuracy')\n",
    "plt.title('Training and Validation accuracies')\n",
    "plt.xlabel('Epochs')\n",
    "plt.ylabel('Loss')\n",
    "plt.legend()\n",
    "plt.show()"
   ]
  },
  {
   "cell_type": "code",
   "execution_count": null,
   "metadata": {
    "id": "G0RJdVtQOD4x"
   },
   "outputs": [],
   "source": [
    "def compute_confusion_matrix(predictions: List[int], labels:List[int]) -> Tuple[int]:\n",
    "    \"\"\"\n",
    "    Compute the confusion matrix.\n",
    "    Arguments:\n",
    "        predictions: list of model predictions (0 for cats or 1 for dogs)\n",
    "        labels: list of ground truth labels (0 or 1)\n",
    "    \"\"\"\n",
    "    correct_cats = 0\n",
    "    correct_dogs = 0\n",
    "    wrong_cats = 0\n",
    "    wrong_dogs = 0\n",
    "    for (p,l) in zip(predictions, labels):\n",
    "        if p == 0 and l == 0:\n",
    "            correct_cats += 1\n",
    "        elif p == 0 and l == 1:\n",
    "            wrong_cats += 1\n",
    "        elif p == 1 and l == 1:\n",
    "            correct_dogs += 1\n",
    "        else:\n",
    "            wrong_dogs += 1\n",
    "\n",
    "    return (correct_cats, wrong_cats, correct_dogs, wrong_dogs)"
   ]
  },
  {
   "cell_type": "code",
   "execution_count": null,
   "metadata": {
    "id": "JW6GMLpuPJvA"
   },
   "outputs": [],
   "source": [
    "def eval_epoch(model, val_dataloader, loss_crt, device):\n",
    "    \"\"\"\n",
    "    model: Model object\n",
    "    val_dataloader: DataLoader over the validation dataset\n",
    "    loss_crt: loss function object\n",
    "    device: torch.device('cpu) or torch.device('cuda')\n",
    "\n",
    "    The function returns:\n",
    "     - the epoch validation loss, which is an average over the individual batch\n",
    "       losses\n",
    "     - the predictions made by the model\n",
    "     - the labels\n",
    "    \"\"\"\n",
    "    model.eval()\n",
    "    epoch_loss = 0.0\n",
    "    num_batches = len(val_dataloader)\n",
    "    predictions = []\n",
    "    labels = []\n",
    "    with torch.no_grad():\n",
    "        for idx, batch in tqdm(enumerate(val_dataloader)):\n",
    "            # batch_size x 3 x 32 x 32, batch_size x 1\n",
    "            batch_img, batch_labels = batch\n",
    "            current_batch_size = batch_img.size(0)\n",
    "\n",
    "            batch_labels = batch_labels \\\n",
    "                  .type(torch.FloatTensor) \\\n",
    "                  .reshape((batch_labels.shape[0], 1))\n",
    "            batch_labels = batch_labels.to(device)\n",
    "\n",
    "            # move data to GPU\n",
    "            batch_img = batch_img.to(device)\n",
    "\n",
    "            # resize images: batch_size x 3 x 32 x 32 => batch_size x (3 x 32 x 32)\n",
    "            batch_img = batch_img.view(current_batch_size, -1)\n",
    "\n",
    "            # batch_size x 1\n",
    "            output = model(batch_img)\n",
    "\n",
    "            # batch_size\n",
    "            probabilities = torch.sigmoid(output.squeeze())  # Apply sigmoid activation\n",
    "            batch_predictions = (probabilities >= 0.5).long()\n",
    "            predictions += batch_predictions.squeeze().tolist()\n",
    "            labels += batch_labels.squeeze().tolist()\n",
    "\n",
    "            loss = loss_crt(output, batch_labels)\n",
    "            loss_scalar = loss.item()\n",
    "\n",
    "            epoch_loss += loss_scalar\n",
    "\n",
    "    epoch_loss = epoch_loss/num_batches\n",
    "\n",
    "    return epoch_loss, predictions, labels"
   ]
  },
  {
   "cell_type": "code",
   "execution_count": null,
   "metadata": {
    "colab": {
     "base_uri": "https://localhost:8080/"
    },
    "id": "AapZlSVMPL-D",
    "outputId": "f950e759-4108-40b0-9114-ae3baabc9cd8"
   },
   "outputs": [
    {
     "name": "stderr",
     "output_type": "stream",
     "text": [
      "90it [00:00, 1288.09it/s]\n"
     ]
    }
   ],
   "source": [
    "fin_loss, preds, labels = eval_epoch(\n",
    "    model, val_dataloader, loss_crt, device)"
   ]
  },
  {
   "cell_type": "code",
   "execution_count": null,
   "metadata": {
    "colab": {
     "base_uri": "https://localhost:8080/"
    },
    "id": "qAhsT4VHurIN",
    "outputId": "fa7b1b19-704d-4236-df01-c409fc79ecbc"
   },
   "outputs": [
    {
     "data": {
      "text/plain": [
       "714"
      ]
     },
     "execution_count": 85,
     "metadata": {},
     "output_type": "execute_result"
    }
   ],
   "source": [
    "len(preds)"
   ]
  },
  {
   "cell_type": "code",
   "execution_count": null,
   "metadata": {
    "colab": {
     "background_save": true,
     "base_uri": "https://localhost:8080/",
     "height": 530
    },
    "id": "KFxWDSv6N6gI",
    "outputId": "7d374cd5-9511-4b54-e373-0bb940a5959d"
   },
   "outputs": [
    {
     "name": "stderr",
     "output_type": "stream",
     "text": [
      "357it [00:00, 1368.10it/s]\n"
     ]
    },
    {
     "data": {
      "image/png": "[encoded data removed]",
      "text/plain": [
       "<Figure size 640x480 with 2 Axes>"
      ]
     },
     "metadata": {},
     "output_type": "display_data"
    }
   ],
   "source": [
    "fin_loss, preds, labels = eval_epoch(\n",
    "    model, val_dataloader, loss_crt, device)\n",
    "\n",
    "\n",
    "correct_cats, wrong_cats, correct_dogs, wrong_dogs = compute_confusion_matrix(\n",
    "    preds,\n",
    "    labels\n",
    ")\n",
    "cf_matrix = [\n",
    "    [correct_cats, wrong_cats],\n",
    "    [correct_dogs, wrong_dogs]\n",
    "]\n",
    "import seaborn as sns\n",
    "\n",
    "ax = sns.heatmap(cf_matrix, annot=True, cmap='Blues', fmt='d')\n",
    "\n",
    "ax.set_title('Confusion Matrix\\n\\n');\n",
    "ax.set_xlabel('Actual Values')\n",
    "ax.set_ylabel('Predicted Values ');\n",
    "\n",
    "## Ticket labels - List must be in alphabetical order\n",
    "ax.xaxis.set_ticklabels(['0','1'])\n",
    "ax.yaxis.set_ticklabels(['0','1'])\n",
    "\n",
    "## Display the visualization of the Confusion Matrix.\n",
    "plt.show()"
   ]
  },
  {
   "cell_type": "code",
   "execution_count": null,
   "metadata": {
    "colab": {
     "base_uri": "https://localhost:8080/"
    },
    "id": "iwtqQ5GSqlcH",
    "outputId": "66a43157-6459-448a-dd2a-c0d57706d268"
   },
   "outputs": [
    {
     "data": {
      "text/plain": [
       "180"
      ]
     },
     "execution_count": 44,
     "metadata": {},
     "output_type": "execute_result"
    }
   ],
   "source": [
    "len(preds)"
   ]
  },
  {
   "cell_type": "code",
   "execution_count": null,
   "metadata": {
    "id": "vDtbWdBxb2gG"
   },
   "outputs": [],
   "source": [
    "model1 = model"
   ]
  },
  {
   "cell_type": "code",
   "execution_count": null,
   "metadata": {
    "colab": {
     "base_uri": "https://localhost:8080/"
    },
    "id": "DbanWdtzigiL",
    "outputId": "72ce9e60-0b98-480d-ecaa-6e7b2f38aa09"
   },
   "outputs": [
    {
     "name": "stderr",
     "output_type": "stream",
     "text": [
      "45it [00:00, 957.53it/s]\n"
     ]
    }
   ],
   "source": [
    "fin_loss, val_predictions, val_labels = eval_epoch(\n",
    "    model1, val_dataloader, loss_crt, device)"
   ]
  },
  {
   "cell_type": "code",
   "execution_count": null,
   "metadata": {
    "id": "3W6rxIwydF8i"
   },
   "outputs": [],
   "source": [
    "model2 = model ##### overfit nebun, 512, 1024, 1025 ---//----"
   ]
  },
  {
   "cell_type": "code",
   "execution_count": null,
   "metadata": {
    "id": "pX2ix_STeNHL"
   },
   "outputs": [],
   "source": [
    "model3 = model ###### 12 epoci, 256, 256, 256,      ...... , 20 376...."
   ]
  },
  {
   "cell_type": "code",
   "execution_count": null,
   "metadata": {
    "colab": {
     "base_uri": "https://localhost:8080/"
    },
    "id": "CF_3VmCjz0Hi",
    "outputId": "144ca222-4bec-4802-e89f-c7b993ee721b"
   },
   "outputs": [
    {
     "name": "stdout",
     "output_type": "stream",
     "text": [
      "tensor([2696,  156])\n"
     ]
    }
   ],
   "source": [
    "print(torch.bincount(y_train))"
   ]
  }
 ],
 "metadata": {
  "colab": {
   "provenance": []
  },
  "kernelspec": {
   "display_name": "Python 3",
   "name": "python3"
  },
  "language_info": {
   "name": "python"
  },
  "widgets": {
   "application/vnd.jupyter.widget-state+json": {
    "c154e31907d144cfb2695a130b7f1f6b": {
     "model_module": "@jupyter-widgets/controls",
     "model_name": "HBoxModel",
     "model_module_version": "1.5.0",
     "state": {
      "_dom_classes": [],
      "_model_module": "@jupyter-widgets/controls",
      "_model_module_version": "1.5.0",
      "_model_name": "HBoxModel",
      "_view_count": null,
      "_view_module": "@jupyter-widgets/controls",
      "_view_module_version": "1.5.0",
      "_view_name": "HBoxView",
      "box_style": "",
      "children": [
       "IPY_MODEL_e42decdfcd464818be978104a5e199dc",
       "IPY_MODEL_7f9de4b1b1f547c88debafe4e0122c1f",
       "IPY_MODEL_2c4941774e564dfe9a64a41272cd795d"
      ],
      "layout": "IPY_MODEL_f087b42295a24dc0b76f11527be157d7"
     }
    },
    "e42decdfcd464818be978104a5e199dc": {
     "model_module": "@jupyter-widgets/controls",
     "model_name": "HTMLModel",
     "model_module_version": "1.5.0",
     "state": {
      "_dom_classes": [],
      "_model_module": "@jupyter-widgets/controls",
      "_model_module_version": "1.5.0",
      "_model_name": "HTMLModel",
      "_view_count": null,
      "_view_module": "@jupyter-widgets/controls",
      "_view_module_version": "1.5.0",
      "_view_name": "HTMLView",
      "description": "",
      "description_tooltip": null,
      "layout": "IPY_MODEL_85e36b0fe8494d74b90e7aa9ea8830b2",
      "placeholder": "​",
      "style": "IPY_MODEL_1b5b38740d144101a1fa8ee7e5805a9a",
      "value": "vocab.txt: 100%"
     }
    },
    "7f9de4b1b1f547c88debafe4e0122c1f": {
     "model_module": "@jupyter-widgets/controls",
     "model_name": "FloatProgressModel",
     "model_module_version": "1.5.0",
     "state": {
      "_dom_classes": [],
      "_model_module": "@jupyter-widgets/controls",
      "_model_module_version": "1.5.0",
      "_model_name": "FloatProgressModel",
      "_view_count": null,
      "_view_module": "@jupyter-widgets/controls",
      "_view_module_version": "1.5.0",
      "_view_name": "ProgressView",
      "bar_style": "success",
      "description": "",
      "description_tooltip": null,
      "layout": "IPY_MODEL_3bc125bff1124ab494e645db222c347f",
      "max": 410806,
      "min": 0,
      "orientation": "horizontal",
      "style": "IPY_MODEL_486151649cd54816ab7fd9c63a676630",
      "value": 410806
     }
    },
    "2c4941774e564dfe9a64a41272cd795d": {
     "model_module": "@jupyter-widgets/controls",
     "model_name": "HTMLModel",
     "model_module_version": "1.5.0",
     "state": {
      "_dom_classes": [],
      "_model_module": "@jupyter-widgets/controls",
      "_model_module_version": "1.5.0",
      "_model_name": "HTMLModel",
      "_view_count": null,
      "_view_module": "@jupyter-widgets/controls",
      "_view_module_version": "1.5.0",
      "_view_name": "HTMLView",
      "description": "",
      "description_tooltip": null,
      "layout": "IPY_MODEL_c872a9ee8fd6494abe20b7263a8a3953",
      "placeholder": "​",
      "style": "IPY_MODEL_df3aa061bbd44cd3a17e72e68a1a48e5",
      "value": " 411k/411k [00:00&lt;00:00, 4.81MB/s]"
     }
    },
    "f087b42295a24dc0b76f11527be157d7": {
     "model_module": "@jupyter-widgets/base",
     "model_name": "LayoutModel",
     "model_module_version": "1.2.0",
     "state": {
      "_model_module": "@jupyter-widgets/base",
      "_model_module_version": "1.2.0",
      "_model_name": "LayoutModel",
      "_view_count": null,
      "_view_module": "@jupyter-widgets/base",
      "_view_module_version": "1.2.0",
      "_view_name": "LayoutView",
      "align_content": null,
      "align_items": null,
      "align_self": null,
      "border": null,
      "bottom": null,
      "display": null,
      "flex": null,
      "flex_flow": null,
      "grid_area": null,
      "grid_auto_columns": null,
      "grid_auto_flow": null,
      "grid_auto_rows": null,
      "grid_column": null,
      "grid_gap": null,
      "grid_row": null,
      "grid_template_areas": null,
      "grid_template_columns": null,
      "grid_template_rows": null,
      "height": null,
      "justify_content": null,
      "justify_items": null,
      "left": null,
      "margin": null,
      "max_height": null,
      "max_width": null,
      "min_height": null,
      "min_width": null,
      "object_fit": null,
      "object_position": null,
      "order": null,
      "overflow": null,
      "overflow_x": null,
      "overflow_y": null,
      "padding": null,
      "right": null,
      "top": null,
      "visibility": null,
      "width": null
     }
    },
    "85e36b0fe8494d74b90e7aa9ea8830b2": {
     "model_module": "@jupyter-widgets/base",
     "model_name": "LayoutModel",
     "model_module_version": "1.2.0",
     "state": {
      "_model_module": "@jupyter-widgets/base",
      "_model_module_version": "1.2.0",
      "_model_name": "LayoutModel",
      "_view_count": null,
      "_view_module": "@jupyter-widgets/base",
      "_view_module_version": "1.2.0",
      "_view_name": "LayoutView",
      "align_content": null,
      "align_items": null,
      "align_self": null,
      "border": null,
      "bottom": null,
      "display": null,
      "flex": null,
      "flex_flow": null,
      "grid_area": null,
      "grid_auto_columns": null,
      "grid_auto_flow": null,
      "grid_auto_rows": null,
      "grid_column": null,
      "grid_gap": null,
      "grid_row": null,
      "grid_template_areas": null,
      "grid_template_columns": null,
      "grid_template_rows": null,
      "height": null,
      "justify_content": null,
      "justify_items": null,
      "left": null,
      "margin": null,
      "max_height": null,
      "max_width": null,
      "min_height": null,
      "min_width": null,
      "object_fit": null,
      "object_position": null,
      "order": null,
      "overflow": null,
      "overflow_x": null,
      "overflow_y": null,
      "padding": null,
      "right": null,
      "top": null,
      "visibility": null,
      "width": null
     }
    },
    "1b5b38740d144101a1fa8ee7e5805a9a": {
     "model_module": "@jupyter-widgets/controls",
     "model_name": "DescriptionStyleModel",
     "model_module_version": "1.5.0",
     "state": {
      "_model_module": "@jupyter-widgets/controls",
      "_model_module_version": "1.5.0",
      "_model_name": "DescriptionStyleModel",
      "_view_count": null,
      "_view_module": "@jupyter-widgets/base",
      "_view_module_version": "1.2.0",
      "_view_name": "StyleView",
      "description_width": ""
     }
    },
    "3bc125bff1124ab494e645db222c347f": {
     "model_module": "@jupyter-widgets/base",
     "model_name": "LayoutModel",
     "model_module_version": "1.2.0",
     "state": {
      "_model_module": "@jupyter-widgets/base",
      "_model_module_version": "1.2.0",
      "_model_name": "LayoutModel",
      "_view_count": null,
      "_view_module": "@jupyter-widgets/base",
      "_view_module_version": "1.2.0",
      "_view_name": "LayoutView",
      "align_content": null,
      "align_items": null,
      "align_self": null,
      "border": null,
      "bottom": null,
      "display": null,
      "flex": null,
      "flex_flow": null,
      "grid_area": null,
      "grid_auto_columns": null,
      "grid_auto_flow": null,
      "grid_auto_rows": null,
      "grid_column": null,
      "grid_gap": null,
      "grid_row": null,
      "grid_template_areas": null,
      "grid_template_columns": null,
      "grid_template_rows": null,
      "height": null,
      "justify_content": null,
      "justify_items": null,
      "left": null,
      "margin": null,
      "max_height": null,
      "max_width": null,
      "min_height": null,
      "min_width": null,
      "object_fit": null,
      "object_position": null,
      "order": null,
      "overflow": null,
      "overflow_x": null,
      "overflow_y": null,
      "padding": null,
      "right": null,
      "top": null,
      "visibility": null,
      "width": null
     }
    },
    "486151649cd54816ab7fd9c63a676630": {
     "model_module": "@jupyter-widgets/controls",
     "model_name": "ProgressStyleModel",
     "model_module_version": "1.5.0",
     "state": {
      "_model_module": "@jupyter-widgets/controls",
      "_model_module_version": "1.5.0",
      "_model_name": "ProgressStyleModel",
      "_view_count": null,
      "_view_module": "@jupyter-widgets/base",
      "_view_module_version": "1.2.0",
      "_view_name": "StyleView",
      "bar_color": null,
      "description_width": ""
     }
    },
    "c872a9ee8fd6494abe20b7263a8a3953": {
     "model_module": "@jupyter-widgets/base",
     "model_name": "LayoutModel",
     "model_module_version": "1.2.0",
     "state": {
      "_model_module": "@jupyter-widgets/base",
      "_model_module_version": "1.2.0",
      "_model_name": "LayoutModel",
      "_view_count": null,
      "_view_module": "@jupyter-widgets/base",
      "_view_module_version": "1.2.0",
      "_view_name": "LayoutView",
      "align_content": null,
      "align_items": null,
      "align_self": null,
      "border": null,
      "bottom": null,
      "display": null,
      "flex": null,
      "flex_flow": null,
      "grid_area": null,
      "grid_auto_columns": null,
      "grid_auto_flow": null,
      "grid_auto_rows": null,
      "grid_column": null,
      "grid_gap": null,
      "grid_row": null,
      "grid_template_areas": null,
      "grid_template_columns": null,
      "grid_template_rows": null,
      "height": null,
      "justify_content": null,
      "justify_items": null,
      "left": null,
      "margin": null,
      "max_height": null,
      "max_width": null,
      "min_height": null,
      "min_width": null,
      "object_fit": null,
      "object_position": null,
      "order": null,
      "overflow": null,
      "overflow_x": null,
      "overflow_y": null,
      "padding": null,
      "right": null,
      "top": null,
      "visibility": null,
      "width": null
     }
    },
    "df3aa061bbd44cd3a17e72e68a1a48e5": {
     "model_module": "@jupyter-widgets/controls",
     "model_name": "DescriptionStyleModel",
     "model_module_version": "1.5.0",
     "state": {
      "_model_module": "@jupyter-widgets/controls",
      "_model_module_version": "1.5.0",
      "_model_name": "DescriptionStyleModel",
      "_view_count": null,
      "_view_module": "@jupyter-widgets/base",
      "_view_module_version": "1.2.0",
      "_view_name": "StyleView",
      "description_width": ""
     }
    },
    "b013bf088479422aa6c37778c1a8ef7c": {
     "model_module": "@jupyter-widgets/controls",
     "model_name": "HBoxModel",
     "model_module_version": "1.5.0",
     "state": {
      "_dom_classes": [],
      "_model_module": "@jupyter-widgets/controls",
      "_model_module_version": "1.5.0",
      "_model_name": "HBoxModel",
      "_view_count": null,
      "_view_module": "@jupyter-widgets/controls",
      "_view_module_version": "1.5.0",
      "_view_name": "HBoxView",
      "box_style": "",
      "children": [
       "IPY_MODEL_3caffd5dabd24e849aff3a3096f636f7",
       "IPY_MODEL_2204a0e8bfa440cda6b65b6799ef2fde",
       "IPY_MODEL_3feee1674be840cc8d040517920b4194"
      ],
      "layout": "IPY_MODEL_9c37203ec932453ebccf2cebdbf8c289"
     }
    },
    "3caffd5dabd24e849aff3a3096f636f7": {
     "model_module": "@jupyter-widgets/controls",
     "model_name": "HTMLModel",
     "model_module_version": "1.5.0",
     "state": {
      "_dom_classes": [],
      "_model_module": "@jupyter-widgets/controls",
      "_model_module_version": "1.5.0",
      "_model_name": "HTMLModel",
      "_view_count": null,
      "_view_module": "@jupyter-widgets/controls",
      "_view_module_version": "1.5.0",
      "_view_name": "HTMLView",
      "description": "",
      "description_tooltip": null,
      "layout": "IPY_MODEL_b9d62b219c0a4abb9489c42aa5719eaf",
      "placeholder": "​",
      "style": "IPY_MODEL_e2059522294b4851a41a039a2101f0fd",
      "value": "config.json: 100%"
     }
    },
    "2204a0e8bfa440cda6b65b6799ef2fde": {
     "model_module": "@jupyter-widgets/controls",
     "model_name": "FloatProgressModel",
     "model_module_version": "1.5.0",
     "state": {
      "_dom_classes": [],
      "_model_module": "@jupyter-widgets/controls",
      "_model_module_version": "1.5.0",
      "_model_name": "FloatProgressModel",
      "_view_count": null,
      "_view_module": "@jupyter-widgets/controls",
      "_view_module_version": "1.5.0",
      "_view_name": "ProgressView",
      "bar_style": "success",
      "description": "",
      "description_tooltip": null,
      "layout": "IPY_MODEL_e0f23ddaf782485e9019d32ab65b3171",
      "max": 385,
      "min": 0,
      "orientation": "horizontal",
      "style": "IPY_MODEL_eede1ec443f448f68ab3134739c71345",
      "value": 385
     }
    },
    "3feee1674be840cc8d040517920b4194": {
     "model_module": "@jupyter-widgets/controls",
     "model_name": "HTMLModel",
     "model_module_version": "1.5.0",
     "state": {
      "_dom_classes": [],
      "_model_module": "@jupyter-widgets/controls",
      "_model_module_version": "1.5.0",
      "_model_name": "HTMLModel",
      "_view_count": null,
      "_view_module": "@jupyter-widgets/controls",
      "_view_module_version": "1.5.0",
      "_view_name": "HTMLView",
      "description": "",
      "description_tooltip": null,
      "layout": "IPY_MODEL_59b02e90f319495785706201a1a5f806",
      "placeholder": "​",
      "style": "IPY_MODEL_a1799e8883a04f2db95ba511e0028bad",
      "value": " 385/385 [00:00&lt;00:00, 22.8kB/s]"
     }
    },
    "9c37203ec932453ebccf2cebdbf8c289": {
     "model_module": "@jupyter-widgets/base",
     "model_name": "LayoutModel",
     "model_module_version": "1.2.0",
     "state": {
      "_model_module": "@jupyter-widgets/base",
      "_model_module_version": "1.2.0",
      "_model_name": "LayoutModel",
      "_view_count": null,
      "_view_module": "@jupyter-widgets/base",
      "_view_module_version": "1.2.0",
      "_view_name": "LayoutView",
      "align_content": null,
      "align_items": null,
      "align_self": null,
      "border": null,
      "bottom": null,
      "display": null,
      "flex": null,
      "flex_flow": null,
      "grid_area": null,
      "grid_auto_columns": null,
      "grid_auto_flow": null,
      "grid_auto_rows": null,
      "grid_column": null,
      "grid_gap": null,
      "grid_row": null,
      "grid_template_areas": null,
      "grid_template_columns": null,
      "grid_template_rows": null,
      "height": null,
      "justify_content": null,
      "justify_items": null,
      "left": null,
      "margin": null,
      "max_height": null,
      "max_width": null,
      "min_height": null,
      "min_width": null,
      "object_fit": null,
      "object_position": null,
      "order": null,
      "overflow": null,
      "overflow_x": null,
      "overflow_y": null,
      "padding": null,
      "right": null,
      "top": null,
      "visibility": null,
      "width": null
     }
    },
    "b9d62b219c0a4abb9489c42aa5719eaf": {
     "model_module": "@jupyter-widgets/base",
     "model_name": "LayoutModel",
     "model_module_version": "1.2.0",
     "state": {
      "_model_module": "@jupyter-widgets/base",
      "_model_module_version": "1.2.0",
      "_model_name": "LayoutModel",
      "_view_count": null,
      "_view_module": "@jupyter-widgets/base",
      "_view_module_version": "1.2.0",
      "_view_name": "LayoutView",
      "align_content": null,
      "align_items": null,
      "align_self": null,
      "border": null,
      "bottom": null,
      "display": null,
      "flex": null,
      "flex_flow": null,
      "grid_area": null,
      "grid_auto_columns": null,
      "grid_auto_flow": null,
      "grid_auto_rows": null,
      "grid_column": null,
      "grid_gap": null,
      "grid_row": null,
      "grid_template_areas": null,
      "grid_template_columns": null,
      "grid_template_rows": null,
      "height": null,
      "justify_content": null,
      "justify_items": null,
      "left": null,
      "margin": null,
      "max_height": null,
      "max_width": null,
      "min_height": null,
      "min_width": null,
      "object_fit": null,
      "object_position": null,
      "order": null,
      "overflow": null,
      "overflow_x": null,
      "overflow_y": null,
      "padding": null,
      "right": null,
      "top": null,
      "visibility": null,
      "width": null
     }
    },
    "e2059522294b4851a41a039a2101f0fd": {
     "model_module": "@jupyter-widgets/controls",
     "model_name": "DescriptionStyleModel",
     "model_module_version": "1.5.0",
     "state": {
      "_model_module": "@jupyter-widgets/controls",
      "_model_module_version": "1.5.0",
      "_model_name": "DescriptionStyleModel",
      "_view_count": null,
      "_view_module": "@jupyter-widgets/base",
      "_view_module_version": "1.2.0",
      "_view_name": "StyleView",
      "description_width": ""
     }
    },
    "e0f23ddaf782485e9019d32ab65b3171": {
     "model_module": "@jupyter-widgets/base",
     "model_name": "LayoutModel",
     "model_module_version": "1.2.0",
     "state": {
      "_model_module": "@jupyter-widgets/base",
      "_model_module_version": "1.2.0",
      "_model_name": "LayoutModel",
      "_view_count": null,
      "_view_module": "@jupyter-widgets/base",
      "_view_module_version": "1.2.0",
      "_view_name": "LayoutView",
      "align_content": null,
      "align_items": null,
      "align_self": null,
      "border": null,
      "bottom": null,
      "display": null,
      "flex": null,
      "flex_flow": null,
      "grid_area": null,
      "grid_auto_columns": null,
      "grid_auto_flow": null,
      "grid_auto_rows": null,
      "grid_column": null,
      "grid_gap": null,
      "grid_row": null,
      "grid_template_areas": null,
      "grid_template_columns": null,
      "grid_template_rows": null,
      "height": null,
      "justify_content": null,
      "justify_items": null,
      "left": null,
      "margin": null,
      "max_height": null,
      "max_width": null,
      "min_height": null,
      "min_width": null,
      "object_fit": null,
      "object_position": null,
      "order": null,
      "overflow": null,
      "overflow_x": null,
      "overflow_y": null,
      "padding": null,
      "right": null,
      "top": null,
      "visibility": null,
      "width": null
     }
    },
    "eede1ec443f448f68ab3134739c71345": {
     "model_module": "@jupyter-widgets/controls",
     "model_name": "ProgressStyleModel",
     "model_module_version": "1.5.0",
     "state": {
      "_model_module": "@jupyter-widgets/controls",
      "_model_module_version": "1.5.0",
      "_model_name": "ProgressStyleModel",
      "_view_count": null,
      "_view_module": "@jupyter-widgets/base",
      "_view_module_version": "1.2.0",
      "_view_name": "StyleView",
      "bar_color": null,
      "description_width": ""
     }
    },
    "59b02e90f319495785706201a1a5f806": {
     "model_module": "@jupyter-widgets/base",
     "model_name": "LayoutModel",
     "model_module_version": "1.2.0",
     "state": {
      "_model_module": "@jupyter-widgets/base",
      "_model_module_version": "1.2.0",
      "_model_name": "LayoutModel",
      "_view_count": null,
      "_view_module": "@jupyter-widgets/base",
      "_view_module_version": "1.2.0",
      "_view_name": "LayoutView",
      "align_content": null,
      "align_items": null,
      "align_self": null,
      "border": null,
      "bottom": null,
      "display": null,
      "flex": null,
      "flex_flow": null,
      "grid_area": null,
      "grid_auto_columns": null,
      "grid_auto_flow": null,
      "grid_auto_rows": null,
      "grid_column": null,
      "grid_gap": null,
      "grid_row": null,
      "grid_template_areas": null,
      "grid_template_columns": null,
      "grid_template_rows": null,
      "height": null,
      "justify_content": null,
      "justify_items": null,
      "left": null,
      "margin": null,
      "max_height": null,
      "max_width": null,
      "min_height": null,
      "min_width": null,
      "object_fit": null,
      "object_position": null,
      "order": null,
      "overflow": null,
      "overflow_x": null,
      "overflow_y": null,
      "padding": null,
      "right": null,
      "top": null,
      "visibility": null,
      "width": null
     }
    },
    "a1799e8883a04f2db95ba511e0028bad": {
     "model_module": "@jupyter-widgets/controls",
     "model_name": "DescriptionStyleModel",
     "model_module_version": "1.5.0",
     "state": {
      "_model_module": "@jupyter-widgets/controls",
      "_model_module_version": "1.5.0",
      "_model_name": "DescriptionStyleModel",
      "_view_count": null,
      "_view_module": "@jupyter-widgets/base",
      "_view_module_version": "1.2.0",
      "_view_name": "StyleView",
      "description_width": ""
     }
    }
   }
  }
 },
 "nbformat": 4,
 "nbformat_minor": 0
}
