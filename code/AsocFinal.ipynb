{
  "cells": [
    {
      "cell_type": "code",
      "execution_count": 46,
      "metadata": {
        "id": "5sI4ZQzZKXy5"
      },
      "outputs": [],
      "source": [
        "### Imports\n",
        "\n",
        "import os\n",
        "import torch\n",
        "import random\n",
        "\n",
        "import numpy as np\n",
        "import pandas as pd\n",
        "import matplotlib.pyplot as plt\n",
        "from torch.utils.data import Dataset, DataLoader\n",
        "from torch.utils.data import RandomSampler, Sampler\n",
        "from torchvision import transforms, utils\n",
        "import torch.nn as nn\n",
        "\n",
        "import tensorflow as tf\n",
        "from sklearn.model_selection import train_test_split\n",
        "\n",
        "from torch.utils.data import Dataset, TensorDataset, DataLoader\n",
        "from typing import Iterator, Callable, List, Tuple\n",
        "import torch.optim as optim\n",
        "from sklearn.metrics import accuracy_score\n",
        "from tqdm import tqdm\n",
        "import random\n",
        "import collections\n",
        "from sklearn.metrics import accuracy_score, f1_score, recall_score, precision_score, r2_score"
      ]
    },
    {
      "cell_type": "code",
      "execution_count": 2,
      "metadata": {
        "id": "p-FVcgq0w_Ft"
      },
      "outputs": [],
      "source": [
        "random.seed(7757)"
      ]
    },
    {
      "cell_type": "code",
      "execution_count": 3,
      "metadata": {
        "colab": {
          "base_uri": "https://localhost:8080/"
        },
        "id": "jjOBsPGaLlfy",
        "outputId": "c7d9e334-8272-41ec-994a-1508fdd6363b"
      },
      "outputs": [
        {
          "output_type": "stream",
          "name": "stdout",
          "text": [
            "Drive already mounted at /content/drive; to attempt to forcibly remount, call drive.mount(\"/content/drive\", force_remount=True).\n"
          ]
        }
      ],
      "source": [
        "from google.colab import drive\n",
        "drive.mount('/content/drive')"
      ]
    },
    {
      "cell_type": "code",
      "execution_count": 4,
      "metadata": {
        "id": "ymgbQxvc5UJO"
      },
      "outputs": [],
      "source": [
        "read_data = pd.read_csv(\n",
        "    \"/content/drive/MyDrive/NLP3/train.csv\")\n"
      ]
    },
    {
      "cell_type": "code",
      "source": [
        "read_data"
      ],
      "metadata": {
        "colab": {
          "base_uri": "https://localhost:8080/",
          "height": 423
        },
        "id": "UY11bKPycvTn",
        "outputId": "eeeae961-9fa6-4118-fbef-1bbfcf31819d"
      },
      "execution_count": 8,
      "outputs": [
        {
          "output_type": "execute_result",
          "data": {
            "text/plain": [
              "          id                                              title  \\\n",
              "0          0                                      PSD în alertă   \n",
              "1          1  În amintirea Vioricăi, milioane de români beau...   \n",
              "2          2  Dramă! Când credea că nu se poate mai rău, un ...   \n",
              "3          3  Spania - România, 5-0. „Tricolorii”, îngenunch...   \n",
              "4          4              Campanie electorală, veselie generală   \n",
              "...      ...                                                ...   \n",
              "70570  70570  Spații de cazare la mare înălțime. Refugiul Ie...   \n",
              "70571  70571  Sfântul Vali, colanții de la mall și miorița n...   \n",
              "70572  70572  Banii sănătății unde e, banii sănătății ce-ați...   \n",
              "70573  70573  Pentru că nu poate da o lege să nu mai bată vâ...   \n",
              "70574  70574               Ascuțiți Facebook-ul, vin alegerile!   \n",
              "\n",
              "                                                 content  class  \n",
              "0      Prăbușirea PSD de la altitudinea sigură a celo...   True  \n",
              "1      Moțiunea de cenzură care a doborât guvernul Dă...   True  \n",
              "2      Credeai că ai ajuns la fundul sacului? Înseamn...   True  \n",
              "3      Echipa națională a României a fost umilită, lu...  False  \n",
              "4      Toate cresc în campania electorală, cît n-au c...   True  \n",
              "...                                                  ...    ...  \n",
              "70570  Pentru drumeția de azi, un echipaj de interven...   True  \n",
              "70571  Pe Mădălin nu l-a lăsat tac-su să termine opt ...   True  \n",
              "70572  Reforma sănătății a început, în România, pe vr...   True  \n",
              "70573  Premierul Mihai Tudose a fost, din nou, deranj...   True  \n",
              "70574  Visul oricărui politician, fie el local sau aj...   True  \n",
              "\n",
              "[70575 rows x 4 columns]"
            ],
            "text/html": [
              "\n",
              "  <div id=\"df-11f1649c-df77-4bf6-801a-e5da653d448e\" class=\"colab-df-container\">\n",
              "    <div>\n",
              "<style scoped>\n",
              "    .dataframe tbody tr th:only-of-type {\n",
              "        vertical-align: middle;\n",
              "    }\n",
              "\n",
              "    .dataframe tbody tr th {\n",
              "        vertical-align: top;\n",
              "    }\n",
              "\n",
              "    .dataframe thead th {\n",
              "        text-align: right;\n",
              "    }\n",
              "</style>\n",
              "<table border=\"1\" class=\"dataframe\">\n",
              "  <thead>\n",
              "    <tr style=\"text-align: right;\">\n",
              "      <th></th>\n",
              "      <th>id</th>\n",
              "      <th>title</th>\n",
              "      <th>content</th>\n",
              "      <th>class</th>\n",
              "    </tr>\n",
              "  </thead>\n",
              "  <tbody>\n",
              "    <tr>\n",
              "      <th>0</th>\n",
              "      <td>0</td>\n",
              "      <td>PSD în alertă</td>\n",
              "      <td>Prăbușirea PSD de la altitudinea sigură a celo...</td>\n",
              "      <td>True</td>\n",
              "    </tr>\n",
              "    <tr>\n",
              "      <th>1</th>\n",
              "      <td>1</td>\n",
              "      <td>În amintirea Vioricăi, milioane de români beau...</td>\n",
              "      <td>Moțiunea de cenzură care a doborât guvernul Dă...</td>\n",
              "      <td>True</td>\n",
              "    </tr>\n",
              "    <tr>\n",
              "      <th>2</th>\n",
              "      <td>2</td>\n",
              "      <td>Dramă! Când credea că nu se poate mai rău, un ...</td>\n",
              "      <td>Credeai că ai ajuns la fundul sacului? Înseamn...</td>\n",
              "      <td>True</td>\n",
              "    </tr>\n",
              "    <tr>\n",
              "      <th>3</th>\n",
              "      <td>3</td>\n",
              "      <td>Spania - România, 5-0. „Tricolorii”, îngenunch...</td>\n",
              "      <td>Echipa națională a României a fost umilită, lu...</td>\n",
              "      <td>False</td>\n",
              "    </tr>\n",
              "    <tr>\n",
              "      <th>4</th>\n",
              "      <td>4</td>\n",
              "      <td>Campanie electorală, veselie generală</td>\n",
              "      <td>Toate cresc în campania electorală, cît n-au c...</td>\n",
              "      <td>True</td>\n",
              "    </tr>\n",
              "    <tr>\n",
              "      <th>...</th>\n",
              "      <td>...</td>\n",
              "      <td>...</td>\n",
              "      <td>...</td>\n",
              "      <td>...</td>\n",
              "    </tr>\n",
              "    <tr>\n",
              "      <th>70570</th>\n",
              "      <td>70570</td>\n",
              "      <td>Spații de cazare la mare înălțime. Refugiul Ie...</td>\n",
              "      <td>Pentru drumeția de azi, un echipaj de interven...</td>\n",
              "      <td>True</td>\n",
              "    </tr>\n",
              "    <tr>\n",
              "      <th>70571</th>\n",
              "      <td>70571</td>\n",
              "      <td>Sfântul Vali, colanții de la mall și miorița n...</td>\n",
              "      <td>Pe Mădălin nu l-a lăsat tac-su să termine opt ...</td>\n",
              "      <td>True</td>\n",
              "    </tr>\n",
              "    <tr>\n",
              "      <th>70572</th>\n",
              "      <td>70572</td>\n",
              "      <td>Banii sănătății unde e, banii sănătății ce-ați...</td>\n",
              "      <td>Reforma sănătății a început, în România, pe vr...</td>\n",
              "      <td>True</td>\n",
              "    </tr>\n",
              "    <tr>\n",
              "      <th>70573</th>\n",
              "      <td>70573</td>\n",
              "      <td>Pentru că nu poate da o lege să nu mai bată vâ...</td>\n",
              "      <td>Premierul Mihai Tudose a fost, din nou, deranj...</td>\n",
              "      <td>True</td>\n",
              "    </tr>\n",
              "    <tr>\n",
              "      <th>70574</th>\n",
              "      <td>70574</td>\n",
              "      <td>Ascuțiți Facebook-ul, vin alegerile!</td>\n",
              "      <td>Visul oricărui politician, fie el local sau aj...</td>\n",
              "      <td>True</td>\n",
              "    </tr>\n",
              "  </tbody>\n",
              "</table>\n",
              "<p>70575 rows × 4 columns</p>\n",
              "</div>\n",
              "    <div class=\"colab-df-buttons\">\n",
              "\n",
              "  <div class=\"colab-df-container\">\n",
              "    <button class=\"colab-df-convert\" onclick=\"convertToInteractive('df-11f1649c-df77-4bf6-801a-e5da653d448e')\"\n",
              "            title=\"Convert this dataframe to an interactive table.\"\n",
              "            style=\"display:none;\">\n",
              "\n",
              "  <svg xmlns=\"http://www.w3.org/2000/svg\" height=\"24px\" viewBox=\"0 -960 960 960\">\n",
              "    <path d=\"M120-120v-720h720v720H120Zm60-500h600v-160H180v160Zm220 220h160v-160H400v160Zm0 220h160v-160H400v160ZM180-400h160v-160H180v160Zm440 0h160v-160H620v160ZM180-180h160v-160H180v160Zm440 0h160v-160H620v160Z\"/>\n",
              "  </svg>\n",
              "    </button>\n",
              "\n",
              "  <style>\n",
              "    .colab-df-container {\n",
              "      display:flex;\n",
              "      gap: 12px;\n",
              "    }\n",
              "\n",
              "    .colab-df-convert {\n",
              "      background-color: #E8F0FE;\n",
              "      border: none;\n",
              "      border-radius: 50%;\n",
              "      cursor: pointer;\n",
              "      display: none;\n",
              "      fill: #1967D2;\n",
              "      height: 32px;\n",
              "      padding: 0 0 0 0;\n",
              "      width: 32px;\n",
              "    }\n",
              "\n",
              "    .colab-df-convert:hover {\n",
              "      background-color: #E2EBFA;\n",
              "      box-shadow: 0px 1px 2px rgba(60, 64, 67, 0.3), 0px 1px 3px 1px rgba(60, 64, 67, 0.15);\n",
              "      fill: #174EA6;\n",
              "    }\n",
              "\n",
              "    .colab-df-buttons div {\n",
              "      margin-bottom: 4px;\n",
              "    }\n",
              "\n",
              "    [theme=dark] .colab-df-convert {\n",
              "      background-color: #3B4455;\n",
              "      fill: #D2E3FC;\n",
              "    }\n",
              "\n",
              "    [theme=dark] .colab-df-convert:hover {\n",
              "      background-color: #434B5C;\n",
              "      box-shadow: 0px 1px 3px 1px rgba(0, 0, 0, 0.15);\n",
              "      filter: drop-shadow(0px 1px 2px rgba(0, 0, 0, 0.3));\n",
              "      fill: #FFFFFF;\n",
              "    }\n",
              "  </style>\n",
              "\n",
              "    <script>\n",
              "      const buttonEl =\n",
              "        document.querySelector('#df-11f1649c-df77-4bf6-801a-e5da653d448e button.colab-df-convert');\n",
              "      buttonEl.style.display =\n",
              "        google.colab.kernel.accessAllowed ? 'block' : 'none';\n",
              "\n",
              "      async function convertToInteractive(key) {\n",
              "        const element = document.querySelector('#df-11f1649c-df77-4bf6-801a-e5da653d448e');\n",
              "        const dataTable =\n",
              "          await google.colab.kernel.invokeFunction('convertToInteractive',\n",
              "                                                    [key], {});\n",
              "        if (!dataTable) return;\n",
              "\n",
              "        const docLinkHtml = 'Like what you see? Visit the ' +\n",
              "          '<a target=\"_blank\" href=https://colab.research.google.com/notebooks/data_table.ipynb>data table notebook</a>'\n",
              "          + ' to learn more about interactive tables.';\n",
              "        element.innerHTML = '';\n",
              "        dataTable['output_type'] = 'display_data';\n",
              "        await google.colab.output.renderOutput(dataTable, element);\n",
              "        const docLink = document.createElement('div');\n",
              "        docLink.innerHTML = docLinkHtml;\n",
              "        element.appendChild(docLink);\n",
              "      }\n",
              "    </script>\n",
              "  </div>\n",
              "\n",
              "\n",
              "<div id=\"df-23c0ea31-3c2f-47ea-8f05-e9316fa02c84\">\n",
              "  <button class=\"colab-df-quickchart\" onclick=\"quickchart('df-23c0ea31-3c2f-47ea-8f05-e9316fa02c84')\"\n",
              "            title=\"Suggest charts\"\n",
              "            style=\"display:none;\">\n",
              "\n",
              "<svg xmlns=\"http://www.w3.org/2000/svg\" height=\"24px\"viewBox=\"0 0 24 24\"\n",
              "     width=\"24px\">\n",
              "    <g>\n",
              "        <path d=\"M19 3H5c-1.1 0-2 .9-2 2v14c0 1.1.9 2 2 2h14c1.1 0 2-.9 2-2V5c0-1.1-.9-2-2-2zM9 17H7v-7h2v7zm4 0h-2V7h2v10zm4 0h-2v-4h2v4z\"/>\n",
              "    </g>\n",
              "</svg>\n",
              "  </button>\n",
              "\n",
              "<style>\n",
              "  .colab-df-quickchart {\n",
              "      --bg-color: #E8F0FE;\n",
              "      --fill-color: #1967D2;\n",
              "      --hover-bg-color: #E2EBFA;\n",
              "      --hover-fill-color: #174EA6;\n",
              "      --disabled-fill-color: #AAA;\n",
              "      --disabled-bg-color: #DDD;\n",
              "  }\n",
              "\n",
              "  [theme=dark] .colab-df-quickchart {\n",
              "      --bg-color: #3B4455;\n",
              "      --fill-color: #D2E3FC;\n",
              "      --hover-bg-color: #434B5C;\n",
              "      --hover-fill-color: #FFFFFF;\n",
              "      --disabled-bg-color: #3B4455;\n",
              "      --disabled-fill-color: #666;\n",
              "  }\n",
              "\n",
              "  .colab-df-quickchart {\n",
              "    background-color: var(--bg-color);\n",
              "    border: none;\n",
              "    border-radius: 50%;\n",
              "    cursor: pointer;\n",
              "    display: none;\n",
              "    fill: var(--fill-color);\n",
              "    height: 32px;\n",
              "    padding: 0;\n",
              "    width: 32px;\n",
              "  }\n",
              "\n",
              "  .colab-df-quickchart:hover {\n",
              "    background-color: var(--hover-bg-color);\n",
              "    box-shadow: 0 1px 2px rgba(60, 64, 67, 0.3), 0 1px 3px 1px rgba(60, 64, 67, 0.15);\n",
              "    fill: var(--button-hover-fill-color);\n",
              "  }\n",
              "\n",
              "  .colab-df-quickchart-complete:disabled,\n",
              "  .colab-df-quickchart-complete:disabled:hover {\n",
              "    background-color: var(--disabled-bg-color);\n",
              "    fill: var(--disabled-fill-color);\n",
              "    box-shadow: none;\n",
              "  }\n",
              "\n",
              "  .colab-df-spinner {\n",
              "    border: 2px solid var(--fill-color);\n",
              "    border-color: transparent;\n",
              "    border-bottom-color: var(--fill-color);\n",
              "    animation:\n",
              "      spin 1s steps(1) infinite;\n",
              "  }\n",
              "\n",
              "  @keyframes spin {\n",
              "    0% {\n",
              "      border-color: transparent;\n",
              "      border-bottom-color: var(--fill-color);\n",
              "      border-left-color: var(--fill-color);\n",
              "    }\n",
              "    20% {\n",
              "      border-color: transparent;\n",
              "      border-left-color: var(--fill-color);\n",
              "      border-top-color: var(--fill-color);\n",
              "    }\n",
              "    30% {\n",
              "      border-color: transparent;\n",
              "      border-left-color: var(--fill-color);\n",
              "      border-top-color: var(--fill-color);\n",
              "      border-right-color: var(--fill-color);\n",
              "    }\n",
              "    40% {\n",
              "      border-color: transparent;\n",
              "      border-right-color: var(--fill-color);\n",
              "      border-top-color: var(--fill-color);\n",
              "    }\n",
              "    60% {\n",
              "      border-color: transparent;\n",
              "      border-right-color: var(--fill-color);\n",
              "    }\n",
              "    80% {\n",
              "      border-color: transparent;\n",
              "      border-right-color: var(--fill-color);\n",
              "      border-bottom-color: var(--fill-color);\n",
              "    }\n",
              "    90% {\n",
              "      border-color: transparent;\n",
              "      border-bottom-color: var(--fill-color);\n",
              "    }\n",
              "  }\n",
              "</style>\n",
              "\n",
              "  <script>\n",
              "    async function quickchart(key) {\n",
              "      const quickchartButtonEl =\n",
              "        document.querySelector('#' + key + ' button');\n",
              "      quickchartButtonEl.disabled = true;  // To prevent multiple clicks.\n",
              "      quickchartButtonEl.classList.add('colab-df-spinner');\n",
              "      try {\n",
              "        const charts = await google.colab.kernel.invokeFunction(\n",
              "            'suggestCharts', [key], {});\n",
              "      } catch (error) {\n",
              "        console.error('Error during call to suggestCharts:', error);\n",
              "      }\n",
              "      quickchartButtonEl.classList.remove('colab-df-spinner');\n",
              "      quickchartButtonEl.classList.add('colab-df-quickchart-complete');\n",
              "    }\n",
              "    (() => {\n",
              "      let quickchartButtonEl =\n",
              "        document.querySelector('#df-23c0ea31-3c2f-47ea-8f05-e9316fa02c84 button');\n",
              "      quickchartButtonEl.style.display =\n",
              "        google.colab.kernel.accessAllowed ? 'block' : 'none';\n",
              "    })();\n",
              "  </script>\n",
              "</div>\n",
              "    </div>\n",
              "  </div>\n"
            ],
            "application/vnd.google.colaboratory.intrinsic+json": {
              "type": "dataframe",
              "variable_name": "read_data",
              "summary": "{\n  \"name\": \"read_data\",\n  \"rows\": 70575,\n  \"fields\": [\n    {\n      \"column\": \"id\",\n      \"properties\": {\n        \"dtype\": \"number\",\n        \"std\": 20373,\n        \"min\": 0,\n        \"max\": 70574,\n        \"num_unique_values\": 70575,\n        \"samples\": [\n          46970,\n          50114,\n          53163\n        ],\n        \"semantic_type\": \"\",\n        \"description\": \"\"\n      }\n    },\n    {\n      \"column\": \"title\",\n      \"properties\": {\n        \"dtype\": \"string\",\n        \"num_unique_values\": 69997,\n        \"samples\": [\n          \"Orban: Aeronava cu medicul de la Piatra Neam\\u021b r\\u0103nit \\u00een timp ce \\u00eencerca s\\u0103 salveze pacien\\u0163ii a sosit la Bucure\\u015fti. \\u00cen cursul acestei dimine\\u0163i va fi transportat \\u00een Belgia cu aeronav\\u0103 militar\\u0103\",\n          \"Cum adic\\u0103 MJC?\",\n          \"Fudulul m\\u0103runt\"\n        ],\n        \"semantic_type\": \"\",\n        \"description\": \"\"\n      }\n    },\n    {\n      \"column\": \"content\",\n      \"properties\": {\n        \"dtype\": \"string\",\n        \"num_unique_values\": 68885,\n        \"samples\": [\n          \"O sut\\u0103 de institu\\u021bii media din Fran\\u021ba au lansat un apel la mobilizare \\u00een favoarea libert\\u0103\\u021bii de expresie, dup\\u0103 ce s\\u0103pt\\u0103m\\u00e2nalul Charlie Hebdo a fost din nou amenin\\u021bat de Al Qaida, dup\\u0103 retip\\u0103rirea unor caricaturi cu profetul Mahomed, informeaz\\u0103 Agerpres. Directoarea de resurse umane al publica\\u0163iei Charlie Hebdo, Marika Bret, a spus la \\u00eenceputul s\\u0103pt\\u0103m\\u00e2nii c\\u0103 a trebuit s\\u0103 fie evacuat\\u0103 de la domiciliul s\\u0103u din cauza amenin\\u0163\\u0103rilor considerate serioase. \\u00centre timp, are loc procesul, preconizat s\\u0103 dureze p\\u00e2n\\u0103 la 10 noiembrie, \\u00een cazul atacului asupra redac\\u0163iei Charlie Hebdo, soldat cu 12 mor\\u0163i, la 7 ianuarie 2015. \\u201eDup\\u0103 republicarea caricaturilor cu Mahomed la 2 septembrie 2020, Charlie Hebdo a fost din nou amenin\\u0163at de organiza\\u0163iile teroriste. Amenin\\u0163\\u0103ri care constituie o adev\\u0103rat\\u0103 provocare \\u00een plin proces al atentatelor din ianuarie 2015. Amenin\\u0163\\u0103ri care merg dincolo de Charlie, \\u00eentruc\\u00e2t vizeaz\\u0103 toate mass-media \\u015fi chiar pe pre\\u015fedintele Republicii\\u201d, afirm\\u0103 Laurent Sourisseau, cunoscut sub numele de Riss, directorul Charlie Hebdo, \\u00eentr-o declara\\u0163ie pentru France Presse. \\u201eNi s-a p\\u0103rut necesar s\\u0103 invit\\u0103m mass-media s\\u0103 reflecteze la un r\\u0103spuns colectiv care merit\\u0103 s\\u0103 fie dat acestei situa\\u0163ii\\u201d, a spus acesta, f\\u0103r\\u0103 a specifica natura amenin\\u0163\\u0103rilor. \\u201eGra\\u0163ie unei mobiliz\\u0103ri istorice a mass-media franceze, care public\\u0103 \\u00eempreun\\u0103 ast\\u0103zi aceast\\u0103 scrisoare adresat\\u0103 concet\\u0103\\u0163enilor no\\u015ftri, dorim s\\u0103 transmitem un mesaj puternic pentru a ne ap\\u0103ra concep\\u0163ia despre libertatea de expresie dar, dincolo de aceasta, libertatea tuturor cet\\u0103\\u0163enilor francezi\\u201d, explic\\u0103 directorul s\\u0103pt\\u0103m\\u00e2nalului, care public\\u0103 aceast\\u0103 scrisoare pe pagina \\u00eent\\u00e2i. \\u201eAst\\u0103zi, \\u00een 2020, unii dintre voi sunt amenin\\u0163a\\u0163i cu moartea pe re\\u0163elele sociale c\\u00e2nd expune\\u0163i opinii. Mass-media sunt desemnate deschis ca \\u0163inte de organiza\\u0163iile teroriste interna\\u0163ionale. Statele exercit\\u0103 presiuni asupra jurnali\\u015ftilor francezi 'vinova\\u0163i' c\\u0103 au publicat articole critice\\u201d, subliniaz\\u0103 scrisoarea deschis\\u0103 intitulat\\u0103 \\u201e\\u00cempreun\\u0103 s\\u0103 ap\\u0103r\\u0103m libertatea\\u201d. \\u201e\\u00centregul edificiu legal, dezvoltat timp de peste dou\\u0103 secole pentru a v\\u0103 proteja libertatea de exprimare, este atacat a\\u015fa cum nu a fost niciodat\\u0103 \\u00een 75 de ani. \\u015ei de data aceasta de ideologii totalitare noi, pretinz\\u00e2nd uneori c\\u0103 sunt inspirate din texte religioase\\u201d, continu\\u0103 textul. \\u201eAvem nevoie de voi. De mobilizarea voastr\\u0103. De puterea con\\u015ftiin\\u0163elor voastre. Trebuie ca inamicii libert\\u0103\\u0163ii s\\u0103 \\u00een\\u0163eleag\\u0103 c\\u0103 suntem cu to\\u0163ii adversarii lor hot\\u0103r\\u00e2\\u0163i, indiferent de opiniile noastre diferite sau de credin\\u0163e\\u201d, \\u00eendeamn\\u0103 semnatarii (presa na\\u0163ional\\u0103 \\u015fi regional\\u0103, principalele canale de televiziune, s\\u0103pt\\u0103m\\u00e2nale \\u015fi posturi de radio). Editor : M.L.\",\n          \"Mul\\u021bi dintre voi se \\u00eentreab\\u0103 cum era pe vremea aia, c\\u00e2nd era\\u021bi voi mici \\u0219i Ceau\\u015fescu mare. Iat\\u0103 \\u00een continuare, diferen\\u021bele \\u00eentre Atunci, pe vremea comuni\\u0219tilor, \\u0219i Acum, \\u00een vremea noastr\\u0103. Deci:- Atunci, mamele noastre st\\u0103teau ore \\u00eentregi la coad\\u0103, pentru un kil de banane, \\u00een frig \\u0219i ploaie. Acum, fetele primesc c\\u00e2te banane vor, iar la final strig\\u0103 dup\\u0103 tine \\\"O sut\\u0103 de lei ora! \\u0218i s\\u0103 pl\\u0103te\\u0219ti camera la hotel!\\\"- Atunci, magazinele erau goale. Nu exista carne. Toat\\u0103 lumea se b\\u0103tea pentru un salam. Acum, \\u00een multe case exist\\u0103 salam. Iar locatarii dau volumul la maxim, \\\"ca s\\u0103 se-aude bine manelile.\\\"- Atunci, Constantin Noica a primit 20 de ani de \\u00eenchisoare pentru c\\u0103 a scris c\\u0103r\\u021bi. Acum, Adrian Nastase iese din \\u00eenchisoare foarte repede, pentru c\\u0103 a scris c\\u0103r\\u021bi.- Atunci, existau multe bancuri cu mili\\u021bienii. Acum, exist\\u0103 foarte, foarte multe cu poli\\u021bi\\u0219ti.- Atunci, Rom\\u00e2nia era gr\\u00e2narul Europei. Gr\\u00e2ul \\u0219i porumbul aveau mare valoare. Acum, la mare valoare e Mazare. Edilul.- Atunci, noi eram condu\\u0219i de c\\u0103tre Ceau\\u015fescu. Acum, Ceau\\u015fescu \\u0219i-a schimbat doar numele.- Atunci, nu existau televiziuni care s\\u0103 manipuleze rom\\u00e2nii. Acum, da, exist\\u0103 Antena 3 sau B1 Tv.- Atunci, la u\\u0219\\u0103 b\\u0103tea Securitatea \\u0219i nu deschideam de fric\\u0103. Acum, tot de fric\\u0103 nu deschidem, c\\u00e2nd vine cu factura la Lumin\\u0103 sau Gaz.- Atunci, p\\u0103rin\\u021bii \\u00ee\\u0219i pl\\u00e2ngeau copiii lua\\u021bi de Securitate. Acum, p\\u0103rin\\u021bii \\u00ee\\u0219i pl\\u00e2ng copiii pleca\\u021bi din \\u021bar\\u0103, \\u00een Spania sau Italia, la munc\\u0103.- Atunci, Ilie Nastase era pe primul loc mondial la tenis iar Nadia Com\\u0103neci era pe primul loc mondial la gimnastic\\u0103. Acum, doar se ascult\\u0103 'Pe primul loc'. Interpret: Copilul de Aur. Vizualiz\\u0103ri YouTube: c\\u00e2teva milioane. Tr\\u0103iasc\\u0103 cultura!- Atunci, Mircea Badea era mic \\u0219i... Acum, el e mare.\",\n          \"\\u00cemi doream c\\u00e2teva zile tihnite, cu disperarea pe care numai iure\\u015ful vie\\u0163ii \\u00een Bucure\\u015fti mi-o poate da. Eram, deci, preg\\u0103tit\\u0103 pentru o poveste rural\\u0103, cu miresme de f\\u00e2n cald \\u015fi m\\u0103m\\u0103lig\\u0103 cu lapte. Mai mult, eram dispus\\u0103 pentru o comuniune total\\u0103 cu natura, s\\u0103 renun\\u0163 la cele 3 creme de fa\\u0163\\u0103, 4 lo\\u0163iuni de corp, la gelurile de du\\u015f cu toate aromele pe care le po\\u0163i g\\u0103si \\u00eentr-o pia\\u0163\\u0103, precum \\u015fi la toate instala\\u0163iile \\u015fi pomezile care compun un arsenal ce-mi pare \\u00eentr-at\\u00e2t de indispensabil \\u00eenc\\u00e2t s\\u0103-l car \\u00eentotdeauna dup\\u0103 mine, dar din care, dintr-un ata\\u015fament absurd fa\\u0163\\u0103 de unele componente, folosesc doar c\\u00e2teva. G\\u00e2ndul c\\u0103 \\u00eent\\u00e2lnirea cu ra\\u0163ele sau cu puii, ar fi putut fi compromis\\u0103 de \\u0163inuta mea necorespunzatoare, mi s-a p\\u0103rut de nesuportat \\u015fi astfel am ajuns la \\u0163ar\\u0103 cu bagajul potrivit pentru un sejur de 3 s\\u0103pt\\u0103m\\u00e2ni, de\\u015fi urma s\\u0103 stau doar 4 zile. \\u00cenc\\u0103 din prima zi, contactul cu aerul lipsit de praf, gaze de e\\u015fapament \\u015fi asfalt \\u00eencins, mi-a declan\\u015fat o foame care, nu numai c\\u0103 m-a f\\u0103cut s\\u0103 uit de Montignac cu toata familia lui de nutri\\u0163ioni\\u015fti, dar mi-a speriat \\u015fi gazdele care cur\\u00e2nd au \\u00eenceput s\\u0103 ascund\\u0103, pe la vecini, toate animalele importante, de fric\\u0103 s\\u0103 nu m\\u0103 n\\u0103pustesc asupra lor. Pe c\\u00e2nd to\\u0163i erau extazia\\u0163i \\u00een fa\\u0163a frumuse\\u0163ilor naturii \\u015fi se minunau duios de fiecare fir de iarb\\u0103, dar \\u015fi de insensibilitatea mea la toate acestea, ochii min\\u0163ii mele n\\u0103ucite, vedeau doar un a\\u015fternut alb fo\\u015fn\\u0103ind \\u015fi somnul meu lung c\\u00e2t s\\u0103pt\\u0103m\\u00e2na de dinaintea salariului. \\u00cen prima noapte n-am \\u00eenchis un ochi din pricina patului. Salteaua \\u00eemi p\\u0103rea f\\u0103cut\\u0103 din coji de nuc\\u0103 \\u015fi ori de c\\u00e2te ori m\\u0103 r\\u0103suceam c\\u0103ut\\u00e2nd un col\\u0163 mai bl\\u00e2nd, sc\\u00e2r\\u0163\\u00e2ieturi fantomatice \\u00eei trezeau pe to\\u0163i ai casei, a\\u015fa \\u00eenc\\u00e2t am \\u00een\\u0163epenit cu ochii in tavan p\\u00e2n\\u0103 pe la 5, c\\u00e2nd un c\\u00e2ntec de coco\\u015f isteric, repetat din 10 in 10 minute, m-a f\\u0103cut s\\u0103 urlu mocnit, \\u00een sinea mea. Pe la 6 am \\u00eenteles c\\u0103 pierdusem lupta \\u015fi am cobor\\u00e2t s\\u0103 preg\\u0103tesc cafeaua pentru toat\\u0103 lumea. \\u00cen a doua noapte, de\\u015fi m\\u0103 \\u00eemprietenisem cu patul, mi-am petrecut timpul lupt\\u00e2ndu-m\\u0103 cu un purice nemilos, luat pesemne de la pisica pe care c\\u0103zusem pe la amiaz\\u0103, dobor\\u00e2t\\u0103 de nesomn , de c\\u0103\\u0163\\u0103ratul pe dealuri \\u015fi de discu\\u0163iile despre p\\u0103m\\u00e2ntul din Cuculie. Primul c\\u00e2ntec al nenorocitului m-a g\\u0103sit sleit\\u0103 de puteri \\u015fi m-a trimis la buc\\u0103tarie, unde, p\\u00e2n\\u0103 s-au trezit ceilal\\u0163i, am avut timp suficient s\\u0103 pl\\u0103m\\u0103desc \\u015fi s\\u0103 coc niste cozonaci cu nuc\\u0103 M-am pl\\u00e2ns tuturor \\u015fi am f\\u0103cut trimiteri subtile la o ciorb\\u0103 acr\\u0103 de coco\\u015f, cu mult zarzavat, dar n-am reu\\u015fit dec\\u00e2t s\\u0103 fiu luat\\u0103 de urechi, pentru c\\u0103 nu m\\u0103 mai bucur de frumuse\\u0163ea vie\\u0163ii la \\u0163ar\\u0103 \\u015fi c\\u0103 ura mea violenta fa\\u0163\\u0103 de un biet coco\\u015f era de r\\u00e2sul curcilor. Cu ochii ro\\u015fii de nesomn, am ticluit un plan de supravie\\u0163uire. Am a\\u015fteptat sp\\u0103\\u015fit\\u0103 seara, am r\\u0103pit coco\\u015ful \\u015fi l-am \\u00eencuiat \\u00een portbagajul ma\\u015finii, eram sigur\\u0103 c\\u0103 de acolo nu mai putea razbate c\\u00e2ntecul odios! Apoi, am f\\u0103cut un pact cu puricele ( eu i-am promis c\\u0103 nu aveam s\\u0103-l mai vanez \\u015fi el a promis s\\u0103 m\\u0103 mu\\u015fte mai cu mila \\u015fi mai rar) \\u015fi mi-am \\u00eencropit un pat, direct pe podea! Toat\\u0103 noaptea m-a mustrat con\\u015ftiin\\u0163a \\u015fi mi-a fost fric\\u0103 s\\u0103 nu se sufoce nefericitul \\u00een portbagaj. Tocmai \\u00eemi \\u00eemi spuneam s\\u0103 stau lini\\u015ftit\\u0103 c\\u0103 fusesem \\u00een legitim\\u0103 ap\\u0103rare, c\\u0103 pe la 5 si 25 de minute, o g\\u0103ina a \\u00eenceput s\\u0103 urle \\u2018\\u2018S-a furat cocosul, s-a furat cocosul!\\u2019\\u2018 Acum nu-mi doresc dec\\u00e2t sa ajung acas\\u0103, s\\u0103 deschid larg geamul \\u015fi s\\u0103 adorm, \\u00een pace, \\u00een miros de motorin\\u0103 ars\\u0103 \\u015fi \\u00een sunet de claxoane, motoare turate, motociclete turbate, camioane duduitoare, l\\u0103trat de c\\u00e2ini \\u015fi miorl\\u0103ituri de pisici \\u00eendr\\u0103gostite! Ca orice s-ar zice, nic\\u0103ieri nu e mai bine ca acas\\u0103!\"\n        ],\n        \"semantic_type\": \"\",\n        \"description\": \"\"\n      }\n    },\n    {\n      \"column\": \"class\",\n      \"properties\": {\n        \"dtype\": \"boolean\",\n        \"num_unique_values\": 2,\n        \"samples\": [\n          false,\n          true\n        ],\n        \"semantic_type\": \"\",\n        \"description\": \"\"\n      }\n    }\n  ]\n}"
            }
          },
          "metadata": {},
          "execution_count": 8
        }
      ]
    },
    {
      "cell_type": "code",
      "source": [
        "read_data[\"content\"][2136]"
      ],
      "metadata": {
        "colab": {
          "base_uri": "https://localhost:8080/",
          "height": 244
        },
        "id": "Z7B1-aDBdYDJ",
        "outputId": "7e33a9f5-83d2-40bb-e245-651dd7144d91"
      },
      "execution_count": 22,
      "outputs": [
        {
          "output_type": "execute_result",
          "data": {
            "text/plain": [
              "'!>? Noi veşti de la Institutul Român de Studiere a Limbii Române. După o minuţioasă cercetare a mai multor texte s-a descoperit că semnul exclamării ridică mai multe semne de întrebare decît semnul întrebării. „?“ este folosit întotdeauna corect, însă „!“ apare unde te aştepţi mai puţin. De unde soare iepurele O reţea de schimbători de bancnote aniversare a fost anihilată de poliţiştii timişoreni. Infractorii colecţionau bancnote cu eclipsa de 2.000 de lei vechi pe care le transportau în Germania şi le schimbau în euro ca şi cum ar fi lei noi. O singură bancnotă cu eclipsa era schimbată cu o hîrtie de 500 de euro la mai multe case de schimb valutar germane afiliate reţelei. Acestea le revindeau apoi la preţ dublu turiştilor creduli. Luceafărul s-a prelungit Au mai fost descoperite încă patru strofe din „Luceafărul“, căzute în spatele unui sertar din scrinul poetului. Criticii au susţinut, pe bună dreptate, că „Luceafărul“ trebuia să aibă mai multe strofe, însă ele n-au fost de găsit pînă săptămîna trecută. Două din cele patru aduc lămuriri suplimentare în legătură cu provenienţa Demiurgului, iar celelalte două oferă cititorului o surpriză: pînă la urmă, Lucea\\xadfă\\xadrul şi fata rămîn împreună. 3G şi toţi 3 OPC anuntă că va amenda orice comerciant de mobilier din metal după ce s-a aflat că mesele, comodele şi dulapurile metalice preiau şi amplifică semnalul GSM la niveluri periculoase pentru să\\xadnă\\xadtate. Oricine are sau cumpără dulapuri din metal reprezintă un pericol pentru el şi pentru societate. Salonul de inventar În perioada 2-7 septembrie, întreaga staţiune Neptun va fi închisă pentru inventar. Turiştii sînt rugaţi să folo\\xadseas\\xadcă una din celelalte staţiuni asemănătoare de pe litoral, în special Jupiter şi Venus.'"
            ],
            "application/vnd.google.colaboratory.intrinsic+json": {
              "type": "string"
            }
          },
          "metadata": {},
          "execution_count": 22
        }
      ]
    },
    {
      "cell_type": "code",
      "execution_count": 5,
      "metadata": {
        "id": "hzVAM3M96l7R",
        "colab": {
          "base_uri": "https://localhost:8080/"
        },
        "outputId": "cbec9bdc-8a9f-4ce5-d642-bb99fd859a56"
      },
      "outputs": [
        {
          "output_type": "stream",
          "name": "stdout",
          "text": [
            "70575\n"
          ]
        }
      ],
      "source": [
        "\n",
        "print(len(read_data))\n",
        "X = []\n",
        "y = []\n",
        "\n",
        "for i, row in read_data.iterrows():\n",
        "  X.append([row['title'], row['content']])\n",
        "  if(row['class'] == True):\n",
        "    y.append(1)\n",
        "  elif (row['class'] == False):\n",
        "    y.append(0)\n",
        "\n"
      ]
    },
    {
      "cell_type": "markdown",
      "source": [
        "Pregatirea datelor:\n",
        "- Scoatem spatii multiple\n",
        "- Url, email?\n",
        "- greseli gramaticale?\n",
        "- non-utf8\n",
        "- procente?"
      ],
      "metadata": {
        "id": "WPpVMBObht7I"
      }
    },
    {
      "cell_type": "code",
      "execution_count": 6,
      "metadata": {
        "id": "GUGB7M6y-096"
      },
      "outputs": [],
      "source": [
        "X_train, X_test, y_train, y_test = train_test_split(X, y, test_size=0.20)"
      ]
    },
    {
      "cell_type": "code",
      "execution_count": 46,
      "metadata": {
        "id": "6EezHLUbEMeu"
      },
      "outputs": [],
      "source": [
        "num_features = 2"
      ]
    },
    {
      "cell_type": "code",
      "execution_count": null,
      "metadata": {
        "colab": {
          "base_uri": "https://localhost:8080/"
        },
        "id": "kNjEH82lEgVQ",
        "outputId": "05cc03ff-75a1-4507-ca60-c9e02cbc8164"
      },
      "outputs": [
        {
          "data": {
            "text/plain": [
              "12"
            ]
          },
          "execution_count": 70,
          "metadata": {},
          "output_type": "execute_result"
        }
      ],
      "source": [
        "num_features"
      ]
    },
    {
      "cell_type": "code",
      "execution_count": null,
      "metadata": {
        "colab": {
          "base_uri": "https://localhost:8080/"
        },
        "id": "-ZDRqSydr9jv",
        "outputId": "94a0b477-cf15-427b-bb8d-e311a13fc6ad"
      },
      "outputs": [
        {
          "data": {
            "text/plain": [
              "torch.Size([714])"
            ]
          },
          "execution_count": 71,
          "metadata": {},
          "output_type": "execute_result"
        }
      ],
      "source": [
        "y_test.shape"
      ]
    },
    {
      "cell_type": "code",
      "execution_count": 7,
      "metadata": {
        "colab": {
          "base_uri": "https://localhost:8080/"
        },
        "id": "-yw0TEtMAoXf",
        "outputId": "06841239-91e1-450f-81a6-24ac7faeaaf2"
      },
      "outputs": [
        {
          "output_type": "stream",
          "name": "stdout",
          "text": [
            "device =  cpu\n"
          ]
        }
      ],
      "source": [
        "device = torch.device('cuda') if torch.cuda.is_available() else torch.device('cpu')\n",
        "device = torch.device('cpu')\n",
        "print(\"device = \", device)"
      ]
    },
    {
      "cell_type": "code",
      "execution_count": 10,
      "metadata": {
        "id": "lGk2ppReAX72"
      },
      "outputs": [],
      "source": [
        "BATCH_SIZE=64"
      ]
    },
    {
      "cell_type": "code",
      "source": [
        "df_train = {}\n",
        "df_test = {}\n",
        "df_train['title'] = []\n",
        "df_train['content'] = []\n",
        "df_train['class'] = []\n",
        "df_test['title'] = []\n",
        "df_test['content'] = []\n",
        "df_test['class'] = []\n",
        "\n",
        "for i in range(len(X_train)):\n",
        "  df_train['title'].append(X_train[i][0])\n",
        "  df_train['content'].append(X_train[i][1])\n",
        "  df_train['class'].append(y_train[i])\n",
        "\n",
        "for i in range(len(X_test)):\n",
        "  df_test['title'].append(X_test[i][0])\n",
        "  df_test['content'].append(X_test[i][1])\n",
        "  df_test['class'].append(y_test[i])\n",
        "\n",
        "print(len(df_train['title']), len(df_test))"
      ],
      "metadata": {
        "colab": {
          "base_uri": "https://localhost:8080/"
        },
        "id": "X8RoWoxnqLec",
        "outputId": "c8b84db0-a979-4ce5-b41e-233317a3c2b4"
      },
      "execution_count": 9,
      "outputs": [
        {
          "output_type": "stream",
          "name": "stdout",
          "text": [
            "56460 3\n"
          ]
        }
      ]
    },
    {
      "cell_type": "code",
      "source": [
        "(df_test['title'])"
      ],
      "metadata": {
        "id": "AyEcqj9asrBh"
      },
      "execution_count": null,
      "outputs": []
    },
    {
      "cell_type": "code",
      "source": [
        "#Sursa: https://towardsdatascience.com/text-classification-with-bert-in-pytorch-887965e5820f\n",
        "from transformers import BertTokenizer\n",
        "\n",
        "tokenizer = BertTokenizer.from_pretrained(\"dumitrescustefan/bert-base-romanian-uncased-v1\")\n",
        "\n",
        "class Dataset(torch.utils.data.Dataset):\n",
        "\n",
        "    def __init__(self, df):\n",
        "        self.labels = [label for label in df['class']]\n",
        "        self.titles = [tokenizer(str(text),\n",
        "                                 padding='max_length', max_length = 128, truncation=True,\n",
        "                                return_tensors=\"pt\") for text in df['title']]\n",
        "        self.contents = [tokenizer(str(text),\n",
        "                                   padding='max_length', max_length = 1024, truncation=True,\n",
        "                                return_tensors=\"pt\") for text in df['content']]\n",
        "\n",
        "    def classes(self):\n",
        "        return self.labels\n",
        "\n",
        "    def __len__(self):\n",
        "        return len(self.labels)\n",
        "\n",
        "    def get_batch_labels(self, idx):\n",
        "        # Fetch a batch of labels\n",
        "        return np.array(self.labels[idx])\n",
        "\n",
        "    def get_batch_title(self, idx):\n",
        "        # Fetch a batch of inputs\n",
        "        return self.titles[idx]\n",
        "\n",
        "    def get_batch_content(self, idx):\n",
        "        return self.contents[idx]\n",
        "\n",
        "    def __getitem__(self, idx):\n",
        "\n",
        "        batch_title = self.get_batch_title(idx)\n",
        "        batch_content = self.get_batch_content(idx)\n",
        "        batch_y = self.get_batch_labels(idx)\n",
        "\n",
        "        return batch_title, batch_content, batch_y"
      ],
      "metadata": {
        "id": "1TDPD6UHttUH"
      },
      "execution_count": 54,
      "outputs": []
    },
    {
      "cell_type": "code",
      "source": [
        "train_dataset = Dataset(df_train)"
      ],
      "metadata": {
        "id": "HDcZDZNurKjW"
      },
      "execution_count": 12,
      "outputs": []
    },
    {
      "cell_type": "code",
      "source": [
        "validation_dataset = Dataset(df_test)"
      ],
      "metadata": {
        "id": "c5lZ6P0Y0UtU"
      },
      "execution_count": 13,
      "outputs": []
    },
    {
      "cell_type": "code",
      "source": [
        "train_dataloader = torch.utils.data.DataLoader(\n",
        "    train_dataset,\n",
        "    batch_size=BATCH_SIZE,\n",
        "    shuffle=True)"
      ],
      "metadata": {
        "id": "mRIIOUss0XR0"
      },
      "execution_count": 14,
      "outputs": []
    },
    {
      "cell_type": "code",
      "source": [
        "val_dataloader = torch.utils.data.DataLoader(\n",
        "    validation_dataset,\n",
        "    batch_size=BATCH_SIZE,\n",
        "    shuffle=True)"
      ],
      "metadata": {
        "id": "V-5Chk0X0Ync"
      },
      "execution_count": 15,
      "outputs": []
    },
    {
      "cell_type": "code",
      "execution_count": 16,
      "metadata": {
        "id": "2uq2eA5KAenh"
      },
      "outputs": [],
      "source": [
        "class SatireClassifier(nn.Module):\n",
        "    def __init__(self,\n",
        "                 input_size: int,\n",
        "                 hidden_size_1: int,\n",
        "                 hidden_size_2: int,\n",
        "                 hidden_size_3: int,\n",
        "                 device: torch.device,\n",
        "                 activation_fn: Callable,\n",
        "                 dropout_rate: float):\n",
        "        super().__init__()\n",
        "        self.input_size = input_size\n",
        "        self.hidden_size = hidden_size_1\n",
        "        self.hidden_size_2 = hidden_size_2\n",
        "        self.hidden_size_3 = hidden_size_3\n",
        "        self.hidden_layer_1 = nn.Linear(input_size, hidden_size_1)\n",
        "        self.hidden_layer_2 = nn.Linear(hidden_size_1, hidden_size_2)\n",
        "        self.hidden_layer_3 = nn.Linear(hidden_size_2, hidden_size_3)\n",
        "        self.output_layer = nn.Linear(hidden_size_2, 1) ####### Nu fi proasta si modifica\n",
        "        self.activation_fn = activation_fn\n",
        "        self.dropout = nn.Dropout(p=dropout_rate)\n",
        "        self.device = device\n",
        "\n",
        "    def forward(self, x):\n",
        "        x = x.to(torch.float32)\n",
        "\n",
        "        h1 = self.activation_fn(self.hidden_layer_1(x))\n",
        "        h2 = self.activation_fn(self.hidden_layer_2(h1))\n",
        "        #h3 = self.activation_fn(self.hidden_layer_3(h2))\n",
        "        #h = self.activation_fn(self.dropout(self.hidden_layer(x)))\n",
        "        out = self.output_layer(h2)\n",
        "\n",
        "        return out"
      ]
    },
    {
      "cell_type": "code",
      "execution_count": 37,
      "metadata": {
        "id": "CSAFQf8AD-tU"
      },
      "outputs": [],
      "source": [
        "model = SatireClassifier(\n",
        "    input_size=128,\n",
        "    hidden_size_1=256,\n",
        "    hidden_size_2=512,\n",
        "    hidden_size_3=512,\n",
        "    device=device,\n",
        "    activation_fn=nn.ReLU(),\n",
        "    dropout_rate=0.2\n",
        ")\n",
        "#model.to(device)\n",
        "optimizer = optim.Adam(model.parameters(), lr=3e-4)"
      ]
    },
    {
      "cell_type": "code",
      "execution_count": null,
      "metadata": {
        "id": "ngPhCBNCEy64"
      },
      "outputs": [],
      "source": [
        "for param in model. parameters ():\n",
        "  print(param)"
      ]
    },
    {
      "cell_type": "code",
      "execution_count": 18,
      "metadata": {
        "id": "espZ2L_kFuj6"
      },
      "outputs": [],
      "source": [
        "loss_crt = nn.BCEWithLogitsLoss(\n",
        "\n",
        ")"
      ]
    },
    {
      "cell_type": "code",
      "execution_count": 38,
      "metadata": {
        "id": "tAJC9J9UgDsH"
      },
      "outputs": [],
      "source": [
        "pos_weight = torch.tensor([1, 3])\n",
        "loss_crct = torch.nn.BCEWithLogitsLoss(pos_weight=pos_weight)"
      ]
    },
    {
      "cell_type": "code",
      "execution_count": null,
      "metadata": {
        "id": "n8JsO9rnJhpy"
      },
      "outputs": [],
      "source": [
        "loss_crt = nn.CrossEntropyLoss()"
      ]
    },
    {
      "cell_type": "code",
      "execution_count": 39,
      "metadata": {
        "colab": {
          "base_uri": "https://localhost:8080/"
        },
        "id": "I5mzs8o4GdS3",
        "outputId": "b9a9e18d-bac4-4b96-fff7-3c0071360178"
      },
      "outputs": [
        {
          "output_type": "stream",
          "name": "stderr",
          "text": [
            "100%|██████████| 883/883 [00:06<00:00, 131.29it/s]\n",
            "100%|██████████| 221/221 [00:00<00:00, 253.19it/s]\n"
          ]
        },
        {
          "output_type": "stream",
          "name": "stdout",
          "text": [
            "epoch 0, train loss=21.541392, val loss=11.459112, train acc=0.705632, val acc=0.658094\n"
          ]
        },
        {
          "output_type": "stream",
          "name": "stderr",
          "text": [
            "100%|██████████| 883/883 [00:07<00:00, 115.63it/s]\n",
            "100%|██████████| 221/221 [00:00<00:00, 319.12it/s]\n"
          ]
        },
        {
          "output_type": "stream",
          "name": "stdout",
          "text": [
            "epoch 1, train loss=7.530565, val loss=6.586783, train acc=0.724442, val acc=0.747078\n"
          ]
        },
        {
          "output_type": "stream",
          "name": "stderr",
          "text": [
            "100%|██████████| 883/883 [00:07<00:00, 123.49it/s]\n",
            "100%|██████████| 221/221 [00:02<00:00, 106.05it/s]\n"
          ]
        },
        {
          "output_type": "stream",
          "name": "stdout",
          "text": [
            "epoch 2, train loss=3.936797, val loss=3.112907, train acc=0.732501, val acc=0.723982\n"
          ]
        },
        {
          "output_type": "stream",
          "name": "stderr",
          "text": [
            "100%|██████████| 883/883 [00:06<00:00, 135.78it/s]\n",
            "100%|██████████| 221/221 [00:00<00:00, 299.91it/s]\n"
          ]
        },
        {
          "output_type": "stream",
          "name": "stdout",
          "text": [
            "epoch 3, train loss=2.122522, val loss=3.316214, train acc=0.747574, val acc=0.733546\n"
          ]
        },
        {
          "output_type": "stream",
          "name": "stderr",
          "text": [
            "100%|██████████| 883/883 [00:07<00:00, 116.20it/s]\n",
            "100%|██████████| 221/221 [00:00<00:00, 313.23it/s]\n"
          ]
        },
        {
          "output_type": "stream",
          "name": "stdout",
          "text": [
            "epoch 4, train loss=1.382063, val loss=1.785702, train acc=0.754924, val acc=0.736167\n"
          ]
        },
        {
          "output_type": "stream",
          "name": "stderr",
          "text": [
            "100%|██████████| 883/883 [00:06<00:00, 137.42it/s]\n",
            "100%|██████████| 221/221 [00:00<00:00, 323.66it/s]\n"
          ]
        },
        {
          "output_type": "stream",
          "name": "stdout",
          "text": [
            "epoch 5, train loss=0.960767, val loss=1.231886, train acc=0.764506, val acc=0.741552\n"
          ]
        },
        {
          "output_type": "stream",
          "name": "stderr",
          "text": [
            "100%|██████████| 883/883 [00:07<00:00, 118.45it/s]\n",
            "100%|██████████| 221/221 [00:00<00:00, 323.31it/s]\n"
          ]
        },
        {
          "output_type": "stream",
          "name": "stdout",
          "text": [
            "epoch 6, train loss=0.755579, val loss=0.997424, train acc=0.770209, val acc=0.740205\n"
          ]
        },
        {
          "output_type": "stream",
          "name": "stderr",
          "text": [
            "100%|██████████| 883/883 [00:06<00:00, 131.77it/s]\n",
            "100%|██████████| 221/221 [00:01<00:00, 218.16it/s]\n"
          ]
        },
        {
          "output_type": "stream",
          "name": "stdout",
          "text": [
            "epoch 7, train loss=0.631489, val loss=0.782578, train acc=0.776302, val acc=0.730429\n"
          ]
        },
        {
          "output_type": "stream",
          "name": "stderr",
          "text": [
            "100%|██████████| 883/883 [00:06<00:00, 126.18it/s]\n",
            "100%|██████████| 221/221 [00:01<00:00, 130.16it/s]\n"
          ]
        },
        {
          "output_type": "stream",
          "name": "stdout",
          "text": [
            "epoch 8, train loss=0.536963, val loss=0.667580, train acc=0.783546, val acc=0.747857\n"
          ]
        },
        {
          "output_type": "stream",
          "name": "stderr",
          "text": [
            "100%|██████████| 883/883 [00:07<00:00, 117.56it/s]\n",
            "100%|██████████| 221/221 [00:00<00:00, 323.15it/s]\n"
          ]
        },
        {
          "output_type": "stream",
          "name": "stdout",
          "text": [
            "epoch 9, train loss=0.493462, val loss=0.628841, train acc=0.791321, val acc=0.744952\n"
          ]
        },
        {
          "output_type": "stream",
          "name": "stderr",
          "text": [
            "100%|██████████| 883/883 [00:06<00:00, 136.58it/s]\n",
            "100%|██████████| 221/221 [00:00<00:00, 314.93it/s]\n"
          ]
        },
        {
          "output_type": "stream",
          "name": "stdout",
          "text": [
            "epoch 10, train loss=0.459911, val loss=0.592384, train acc=0.798371, val acc=0.754375\n"
          ]
        },
        {
          "output_type": "stream",
          "name": "stderr",
          "text": [
            "100%|██████████| 883/883 [00:07<00:00, 116.26it/s]\n",
            "100%|██████████| 221/221 [00:00<00:00, 321.56it/s]\n"
          ]
        },
        {
          "output_type": "stream",
          "name": "stdout",
          "text": [
            "epoch 11, train loss=0.439850, val loss=0.657782, train acc=0.805809, val acc=0.742331\n"
          ]
        },
        {
          "output_type": "stream",
          "name": "stderr",
          "text": [
            "100%|██████████| 883/883 [00:06<00:00, 135.84it/s]\n",
            "100%|██████████| 221/221 [00:00<00:00, 262.52it/s]\n"
          ]
        },
        {
          "output_type": "stream",
          "name": "stdout",
          "text": [
            "epoch 12, train loss=0.430061, val loss=0.558964, train acc=0.807970, val acc=0.762947\n"
          ]
        },
        {
          "output_type": "stream",
          "name": "stderr",
          "text": [
            "100%|██████████| 883/883 [00:07<00:00, 116.14it/s]\n",
            "100%|██████████| 221/221 [00:00<00:00, 308.86it/s]\n"
          ]
        },
        {
          "output_type": "stream",
          "name": "stdout",
          "text": [
            "epoch 13, train loss=0.414157, val loss=0.571068, train acc=0.815887, val acc=0.762735\n"
          ]
        },
        {
          "output_type": "stream",
          "name": "stderr",
          "text": [
            "100%|██████████| 883/883 [00:07<00:00, 116.98it/s]\n",
            "100%|██████████| 221/221 [00:02<00:00, 108.64it/s]\n"
          ]
        },
        {
          "output_type": "stream",
          "name": "stdout",
          "text": [
            "epoch 14, train loss=0.402561, val loss=0.584688, train acc=0.820191, val acc=0.771661\n"
          ]
        },
        {
          "output_type": "stream",
          "name": "stderr",
          "text": [
            "100%|██████████| 883/883 [00:06<00:00, 129.31it/s]\n",
            "100%|██████████| 221/221 [00:00<00:00, 317.60it/s]\n"
          ]
        },
        {
          "output_type": "stream",
          "name": "stdout",
          "text": [
            "epoch 15, train loss=0.392507, val loss=0.588168, train acc=0.825700, val acc=0.762239\n"
          ]
        },
        {
          "output_type": "stream",
          "name": "stderr",
          "text": [
            "100%|██████████| 883/883 [00:07<00:00, 113.12it/s]\n",
            "100%|██████████| 221/221 [00:00<00:00, 330.94it/s]\n"
          ]
        },
        {
          "output_type": "stream",
          "name": "stdout",
          "text": [
            "epoch 16, train loss=0.381451, val loss=0.594931, train acc=0.832536, val acc=0.765285\n"
          ]
        },
        {
          "output_type": "stream",
          "name": "stderr",
          "text": [
            "100%|██████████| 883/883 [00:06<00:00, 127.58it/s]\n",
            "100%|██████████| 221/221 [00:00<00:00, 231.18it/s]\n"
          ]
        },
        {
          "output_type": "stream",
          "name": "stdout",
          "text": [
            "epoch 17, train loss=0.372040, val loss=0.623305, train acc=0.837478, val acc=0.759972\n"
          ]
        },
        {
          "output_type": "stream",
          "name": "stderr",
          "text": [
            "100%|██████████| 883/883 [00:07<00:00, 117.92it/s]\n",
            "100%|██████████| 221/221 [00:00<00:00, 313.16it/s]\n"
          ]
        },
        {
          "output_type": "stream",
          "name": "stdout",
          "text": [
            "epoch 18, train loss=0.361104, val loss=0.634303, train acc=0.839621, val acc=0.766631\n"
          ]
        },
        {
          "output_type": "stream",
          "name": "stderr",
          "text": [
            "100%|██████████| 883/883 [00:07<00:00, 110.77it/s]\n",
            "100%|██████████| 221/221 [00:00<00:00, 272.41it/s]\n"
          ]
        },
        {
          "output_type": "stream",
          "name": "stdout",
          "text": [
            "epoch 19, train loss=0.351634, val loss=0.652759, train acc=0.845360, val acc=0.767836\n"
          ]
        }
      ],
      "source": [
        "num_train_batches = len(train_dataloader)\n",
        "num_val_batches = len(val_dataloader)\n",
        "\n",
        "epoch_loss = 0.0\n",
        "train_losses, val_losses = [], []\n",
        "train_predictions, val_predictions = [], []\n",
        "train_labels, val_labels = [], []\n",
        "train_accuracies, val_accuracies = [], []\n",
        "\n",
        "NUM_EPOCHS = 20\n",
        "\n",
        "for epoch_idx in range(NUM_EPOCHS):\n",
        "    train_labels = []\n",
        "    val_labels = []\n",
        "    train_preds = []\n",
        "    val_preds = []\n",
        "\n",
        "    train_epoch_loss = 0.0\n",
        "    model.train()\n",
        "    for batch_titles, batch_content, batch_labels in tqdm(train_dataloader):\n",
        "        model.zero_grad()\n",
        "\n",
        "        tu_use = batch_titles\n",
        "\n",
        "        batch_labels = batch_labels \\\n",
        "                  .type(torch.FloatTensor) \\\n",
        "                  .reshape((batch_labels.shape[0], 1))\n",
        "        batch_labels = batch_labels.to(device)\n",
        "\n",
        "        mask = tu_use['attention_mask'].to(device)\n",
        "        input_id = tu_use['input_ids'].squeeze(1).to(device)\n",
        "        # feedforward\n",
        "        out = model(input_id)\n",
        "\n",
        "        probabilities = torch.sigmoid(out.squeeze())  # Apply sigmoid activation\n",
        "        batch_predictions = (probabilities >= 0.5).long()\n",
        "\n",
        "        # compute loss\n",
        "        loss = loss_crt(out, batch_labels)\n",
        "        loss.backward()\n",
        "        optimizer.step()\n",
        "        train_epoch_loss += loss.item()\n",
        "        train_labels += batch_labels.to(int).tolist()\n",
        "        train_preds += batch_predictions.tolist()\n",
        "\n",
        "    val_preds = []\n",
        "    with torch.no_grad():\n",
        "        model.eval()\n",
        "        val_epoch_loss = 0.0\n",
        "        for batch_titles, batch_content, batch_labels in tqdm(val_dataloader):\n",
        "            tu_use = batch_titles\n",
        "            batch_labels = batch_labels \\\n",
        "                  .type(torch.FloatTensor) \\\n",
        "                  .reshape((batch_labels.shape[0], 1))\n",
        "            batch_labels = batch_labels.to(device)\n",
        "\n",
        "            mask = tu_use['attention_mask'].to(device)\n",
        "            input_id = tu_use['input_ids'].squeeze(1).to(device)\n",
        "            # batch_size x 10\n",
        "            # feedforward\n",
        "            out = model(input_id)\n",
        "            probabilities = torch.sigmoid(out.squeeze())  # Apply sigmoid activation\n",
        "            batch_predictions = (probabilities >= 0.5).long()\n",
        "\n",
        "            # compute loss\n",
        "            loss = loss_crt(out, batch_labels)\n",
        "            val_epoch_loss += loss.item()\n",
        "            val_labels += batch_labels.to(int).tolist()\n",
        "            val_preds += batch_predictions.tolist()\n",
        "\n",
        "    train_epoch_loss /= num_train_batches\n",
        "    val_epoch_loss /= num_val_batches\n",
        "    train_acc = accuracy_score(train_labels, train_preds)\n",
        "    valid_acc = accuracy_score(val_labels, val_preds)\n",
        "\n",
        "    train_losses.append(train_epoch_loss)\n",
        "    val_losses.append(val_epoch_loss)\n",
        "    train_accuracies.append(train_acc)\n",
        "    val_accuracies.append(valid_acc)\n",
        "\n",
        "    print(\"epoch %d, train loss=%f, val loss=%f, train acc=%f, val acc=%f\" % (\n",
        "        epoch_idx, train_epoch_loss, val_epoch_loss, train_acc, valid_acc\n",
        "    ))"
      ]
    },
    {
      "cell_type": "code",
      "execution_count": null,
      "metadata": {
        "id": "IIFwCYDNhlyO"
      },
      "outputs": [],
      "source": []
    },
    {
      "cell_type": "code",
      "execution_count": 40,
      "metadata": {
        "colab": {
          "base_uri": "https://localhost:8080/",
          "height": 472
        },
        "id": "l-OVYe3vKRBo",
        "outputId": "97777ab2-a3c4-44b1-eee7-beb11bdbb6e3"
      },
      "outputs": [
        {
          "output_type": "display_data",
          "data": {
            "text/plain": [
              "<Figure size 640x480 with 1 Axes>"
            ],
            "image/png": "[encoded data removed]"
          },
          "metadata": {}
        }
      ],
      "source": [
        "%matplotlib inline\n",
        "plt.plot(range(0,len(train_losses)), train_losses, 'g', label='Training loss')\n",
        "plt.plot(range(0,len(train_losses)), val_losses, 'b', label='Validation loss')\n",
        "plt.title('Training and Validation loss')\n",
        "plt.xlabel('Epochs')\n",
        "plt.ylabel('Loss')\n",
        "plt.legend()\n",
        "plt.show()"
      ]
    },
    {
      "cell_type": "code",
      "execution_count": 41,
      "metadata": {
        "colab": {
          "base_uri": "https://localhost:8080/",
          "height": 472
        },
        "id": "knTkc-oMNxGN",
        "outputId": "7b7e8129-e05c-4dae-bba7-ba0d1c46e0f7"
      },
      "outputs": [
        {
          "output_type": "display_data",
          "data": {
            "text/plain": [
              "<Figure size 640x480 with 1 Axes>"
            ],
            "image/png": "[encoded data removed]"
          },
          "metadata": {}
        }
      ],
      "source": [
        "plt.plot(range(0,len(train_accuracies)), train_accuracies, 'g', label='Training accuracy')\n",
        "plt.plot(range(0,len(train_accuracies)), val_accuracies, 'b', label='Validation accuracy')\n",
        "plt.title('Training and Validation accuracies')\n",
        "plt.xlabel('Epochs')\n",
        "plt.ylabel('Loss')\n",
        "plt.legend()\n",
        "plt.show()"
      ]
    },
    {
      "cell_type": "code",
      "execution_count": 22,
      "metadata": {
        "id": "G0RJdVtQOD4x"
      },
      "outputs": [],
      "source": [
        "def compute_confusion_matrix(predictions: List[int], labels:List[int]) -> Tuple[int]:\n",
        "    \"\"\"\n",
        "    Compute the confusion matrix.\n",
        "    Arguments:\n",
        "        predictions: list of model predictions (0 for cats or 1 for dogs)\n",
        "        labels: list of ground truth labels (0 or 1)\n",
        "    \"\"\"\n",
        "    correct_cats = 0\n",
        "    correct_dogs = 0\n",
        "    wrong_cats = 0\n",
        "    wrong_dogs = 0\n",
        "    for (p,l) in zip(predictions, labels):\n",
        "        if p == 0 and l == 0:\n",
        "            correct_cats += 1\n",
        "        elif p == 0 and l == 1:\n",
        "            wrong_cats += 1\n",
        "        elif p == 1 and l == 1:\n",
        "            correct_dogs += 1\n",
        "        else:\n",
        "            wrong_dogs += 1\n",
        "\n",
        "    return (correct_cats, wrong_cats, correct_dogs, wrong_dogs)"
      ]
    },
    {
      "cell_type": "code",
      "execution_count": 43,
      "metadata": {
        "id": "JW6GMLpuPJvA"
      },
      "outputs": [],
      "source": [
        "def eval_epoch(model, val_dataloader, loss_crt, device):\n",
        "    \"\"\"\n",
        "    model: Model object\n",
        "    val_dataloader: DataLoader over the validation dataset\n",
        "    loss_crt: loss function object\n",
        "    device: torch.device('cpu) or torch.device('cuda')\n",
        "\n",
        "    The function returns:\n",
        "     - the epoch validation loss, which is an average over the individual batch\n",
        "       losses\n",
        "     - the predictions made by the model\n",
        "     - the labels\n",
        "    \"\"\"\n",
        "    model.eval()\n",
        "    epoch_loss = 0.0\n",
        "    num_batches = len(val_dataloader)\n",
        "    predictions = []\n",
        "    labels = []\n",
        "    with torch.no_grad():\n",
        "        for batch_titles, batch_content, batch_labels in tqdm(val_dataloader):\n",
        "            batch_labels = batch_labels \\\n",
        "                  .type(torch.FloatTensor) \\\n",
        "                  .reshape((batch_labels.shape[0], 1))\n",
        "            batch_labels = batch_labels.to(device)\n",
        "\n",
        "            to_use = batch_titles\n",
        "\n",
        "            mask = to_use['attention_mask'].to(device)\n",
        "            input_id = to_use['input_ids'].squeeze(1).to(device)\n",
        "            # batch_size x 10\n",
        "            # feedforward\n",
        "            out = model(input_id)\n",
        "            probabilities = torch.sigmoid(out.squeeze())  # Apply sigmoid activation\n",
        "            batch_predictions = (probabilities >= 0.5).long()\n",
        "\n",
        "            predictions += batch_predictions.squeeze().tolist()\n",
        "            labels += batch_labels.squeeze().tolist()\n",
        "\n",
        "            loss = loss_crt(out, batch_labels)\n",
        "            loss_scalar = loss.item()\n",
        "\n",
        "            epoch_loss += loss_scalar\n",
        "\n",
        "    epoch_loss = epoch_loss/num_batches\n",
        "\n",
        "    return epoch_loss, predictions, labels"
      ]
    },
    {
      "cell_type": "code",
      "execution_count": null,
      "metadata": {
        "colab": {
          "base_uri": "https://localhost:8080/"
        },
        "id": "AapZlSVMPL-D",
        "outputId": "f950e759-4108-40b0-9114-ae3baabc9cd8"
      },
      "outputs": [
        {
          "name": "stderr",
          "output_type": "stream",
          "text": [
            "90it [00:00, 1288.09it/s]\n"
          ]
        }
      ],
      "source": [
        "fin_loss, preds, labels = eval_epoch(\n",
        "    model, val_dataloader, loss_crt, device)"
      ]
    },
    {
      "cell_type": "code",
      "execution_count": null,
      "metadata": {
        "colab": {
          "base_uri": "https://localhost:8080/"
        },
        "id": "qAhsT4VHurIN",
        "outputId": "fa7b1b19-704d-4236-df01-c409fc79ecbc"
      },
      "outputs": [
        {
          "data": {
            "text/plain": [
              "714"
            ]
          },
          "execution_count": 85,
          "metadata": {},
          "output_type": "execute_result"
        }
      ],
      "source": [
        "len(preds)"
      ]
    },
    {
      "cell_type": "code",
      "execution_count": 44,
      "metadata": {
        "colab": {
          "base_uri": "https://localhost:8080/",
          "height": 530
        },
        "id": "KFxWDSv6N6gI",
        "outputId": "70888ccd-4803-470d-b673-925a5a2d7b2e"
      },
      "outputs": [
        {
          "output_type": "stream",
          "name": "stderr",
          "text": [
            "100%|██████████| 221/221 [00:00<00:00, 253.50it/s]\n"
          ]
        },
        {
          "output_type": "display_data",
          "data": {
            "text/plain": [
              "<Figure size 640x480 with 2 Axes>"
            ],
            "image/png": "[encoded data removed]"
          },
          "metadata": {}
        }
      ],
      "source": [
        "fin_loss, preds, labels = eval_epoch(\n",
        "    model, val_dataloader, loss_crt, device)\n",
        "\n",
        "\n",
        "correct_cats, wrong_cats, correct_dogs, wrong_dogs = compute_confusion_matrix(\n",
        "    preds,\n",
        "    labels\n",
        ")\n",
        "cf_matrix = [\n",
        "    [correct_cats, wrong_cats],\n",
        "    [wrong_dogs, correct_dogs]\n",
        "]\n",
        "import seaborn as sns\n",
        "\n",
        "ax = sns.heatmap(cf_matrix, annot=True, cmap='Blues', fmt='d')\n",
        "\n",
        "ax.set_title('Confusion Matrix\\n\\n');\n",
        "ax.set_xlabel('Actual Values')\n",
        "ax.set_ylabel('Predicted Values ');\n",
        "\n",
        "## Ticket labels - List must be in alphabetical order\n",
        "ax.xaxis.set_ticklabels(['0','1'])\n",
        "ax.yaxis.set_ticklabels(['0','1'])\n",
        "\n",
        "## Display the visualization of the Confusion Matrix.\n",
        "plt.show()"
      ]
    },
    {
      "cell_type": "code",
      "source": [
        "f1_score(labels, preds)"
      ],
      "metadata": {
        "colab": {
          "base_uri": "https://localhost:8080/"
        },
        "id": "wmplsejhbcQw",
        "outputId": "72e50e1f-71a6-4686-dfe8-699f8f82e892"
      },
      "execution_count": 50,
      "outputs": [
        {
          "output_type": "execute_result",
          "data": {
            "text/plain": [
              "0.8272808728192694"
            ]
          },
          "metadata": {},
          "execution_count": 50
        }
      ]
    },
    {
      "cell_type": "code",
      "source": [
        "recall_score(labels, preds, average='macro')"
      ],
      "metadata": {
        "colab": {
          "base_uri": "https://localhost:8080/"
        },
        "id": "soQ3uF5YbvnK",
        "outputId": "36e3519a-2afd-44f3-adf9-4093477d112f"
      },
      "execution_count": 48,
      "outputs": [
        {
          "output_type": "execute_result",
          "data": {
            "text/plain": [
              "0.7282430923044437"
            ]
          },
          "metadata": {},
          "execution_count": 48
        }
      ]
    },
    {
      "cell_type": "code",
      "source": [
        "precision_score(labels, preds, average='macro')"
      ],
      "metadata": {
        "colab": {
          "base_uri": "https://localhost:8080/"
        },
        "id": "ApGhbUYTbwM5",
        "outputId": "f1e3995f-c323-4a20-9da2-8aa6af5db688"
      },
      "execution_count": 49,
      "outputs": [
        {
          "output_type": "execute_result",
          "data": {
            "text/plain": [
              "0.7545902458205831"
            ]
          },
          "metadata": {},
          "execution_count": 49
        }
      ]
    },
    {
      "cell_type": "code",
      "execution_count": null,
      "metadata": {
        "colab": {
          "base_uri": "https://localhost:8080/"
        },
        "id": "iwtqQ5GSqlcH",
        "outputId": "66a43157-6459-448a-dd2a-c0d57706d268"
      },
      "outputs": [
        {
          "data": {
            "text/plain": [
              "180"
            ]
          },
          "execution_count": 44,
          "metadata": {},
          "output_type": "execute_result"
        }
      ],
      "source": [
        "len(preds)"
      ]
    },
    {
      "cell_type": "code",
      "execution_count": null,
      "metadata": {
        "id": "vDtbWdBxb2gG"
      },
      "outputs": [],
      "source": [
        "model1 = model"
      ]
    },
    {
      "cell_type": "code",
      "execution_count": null,
      "metadata": {
        "colab": {
          "base_uri": "https://localhost:8080/"
        },
        "id": "DbanWdtzigiL",
        "outputId": "72ce9e60-0b98-480d-ecaa-6e7b2f38aa09"
      },
      "outputs": [
        {
          "name": "stderr",
          "output_type": "stream",
          "text": [
            "45it [00:00, 957.53it/s]\n"
          ]
        }
      ],
      "source": [
        "fin_loss, val_predictions, val_labels = eval_epoch(\n",
        "    model1, val_dataloader, loss_crt, device)"
      ]
    },
    {
      "cell_type": "code",
      "execution_count": null,
      "metadata": {
        "id": "3W6rxIwydF8i"
      },
      "outputs": [],
      "source": [
        "model2 = model ##### overfit nebun, 512, 1024, 1025 ---//----"
      ]
    },
    {
      "cell_type": "code",
      "execution_count": null,
      "metadata": {
        "id": "pX2ix_STeNHL"
      },
      "outputs": [],
      "source": [
        "model3 = model ###### 12 epoci, 256, 256, 256,      ...... , 20 376...."
      ]
    },
    {
      "cell_type": "code",
      "execution_count": null,
      "metadata": {
        "colab": {
          "base_uri": "https://localhost:8080/"
        },
        "id": "CF_3VmCjz0Hi",
        "outputId": "144ca222-4bec-4802-e89f-c7b993ee721b"
      },
      "outputs": [
        {
          "name": "stdout",
          "output_type": "stream",
          "text": [
            "tensor([2696,  156])\n"
          ]
        }
      ],
      "source": [
        "print(torch.bincount(y_train))"
      ]
    },
    {
      "cell_type": "code",
      "source": [
        "model1Bun = model ### Platou 76 - titlu, 526, 128, 4, cu weight 3, 20 epoci"
      ],
      "metadata": {
        "id": "7ctmutjvau6i"
      },
      "execution_count": 45,
      "outputs": []
    },
    {
      "cell_type": "code",
      "source": [],
      "metadata": {
        "id": "vcvyNWTtdofm"
      },
      "execution_count": null,
      "outputs": []
    },
    {
      "cell_type": "code",
      "source": [
        "\n",
        "test_data = pd.read_csv('/content/drive/MyDrive/NLP3/test.csv')\n",
        "test_data['class'] = [True for _ in range(len(test_data['title']))]\n",
        "print(test_data.head())\n",
        "# print(df_test.head())\n",
        "\n",
        "\n",
        "print(len(test_data))\n",
        "X = []\n",
        "y = []\n",
        "\n",
        "for i, row in test_data.iterrows():\n",
        "  X.append([row['title'], row['content']])\n",
        "  if(row['class'] == True):\n",
        "    y.append(1)\n",
        "  elif (row['class'] == False):\n",
        "    y.append(0)\n",
        "\n",
        "\n",
        "test_fin = {}\n",
        "test_fin['title'] = []\n",
        "test_fin['content'] = []\n",
        "test_fin['class'] = []\n",
        "\n",
        "for i in range(len(X)):\n",
        "  test_fin['title'].append(X_train[i][0])\n",
        "  test_fin['content'].append(X_train[i][1])\n",
        "  test_fin['class'].append(y_train[i])\n",
        "\n"
      ],
      "metadata": {
        "colab": {
          "base_uri": "https://localhost:8080/"
        },
        "id": "ntjBaabeb9hy",
        "outputId": "553ae598-9202-47f1-fee8-b8d8fddb7639"
      },
      "execution_count": 51,
      "outputs": [
        {
          "output_type": "stream",
          "name": "stdout",
          "text": [
            "   id                                              title  \\\n",
            "0   0  Financial Times: SUA, Japonia, Australia și In...   \n",
            "1   1  Guvernul poate muta Ziua Culturii Române de pe...   \n",
            "2   2  Ministrul ucrainean al Apărării susține că au ...   \n",
            "3   3  Amantul unei angajate ANAF s-a sinucis, nemais...   \n",
            "4   4  Boloş: Nu este vorba de o taxă nouă pe concedi...   \n",
            "\n",
            "                                             content  class  \n",
            "0  SUA, Japonia, Australia și India vor dezvălui ...   True  \n",
            "1  Guvernul ia în considerare să mute Ziua Cultur...   True  \n",
            "2  Aleksei Reznikov a afirmat în cadrul unui mesa...   True  \n",
            "3  Poliția anchetează cazul unei morți suspecte a...   True  \n",
            "4  „Ca ministru al Finanţelor, este important să ...   True  \n",
            "36669\n"
          ]
        }
      ]
    },
    {
      "cell_type": "code",
      "source": [
        "from sklearn.metrics import balanced_accuracy_score\n",
        "\n",
        "def balanced_accuracy_evaluate(model, test_data):\n",
        "    final_ans = []\n",
        "\n",
        "\n",
        "    fin_loss, preds, labels = eval_epoch(\n",
        "    model, test_dataloader, loss_crt, device)\n",
        "    return preds, labels"
      ],
      "metadata": {
        "id": "pEJ80myudxr3"
      },
      "execution_count": 57,
      "outputs": []
    },
    {
      "cell_type": "code",
      "source": [
        "test = Dataset(test_fin)\n",
        "\n",
        "test_dataloader = torch.utils.data.DataLoader(test, batch_size=BATCH_SIZE)"
      ],
      "metadata": {
        "id": "dBqGAqsfgkqD"
      },
      "execution_count": 58,
      "outputs": []
    },
    {
      "cell_type": "code",
      "source": [
        "\n",
        "predict, labels = balanced_accuracy_evaluate(model, test_fin)\n",
        "\n",
        "print(len(predict))\n"
      ],
      "metadata": {
        "colab": {
          "base_uri": "https://localhost:8080/"
        },
        "id": "wbYy-vGNdvA-",
        "outputId": "0811c58f-cacb-4a47-d37a-57e5d3e1adff"
      },
      "execution_count": 60,
      "outputs": [
        {
          "output_type": "stream",
          "name": "stderr",
          "text": [
            "100%|██████████| 573/573 [00:05<00:00, 104.47it/s]"
          ]
        },
        {
          "output_type": "stream",
          "name": "stdout",
          "text": [
            "36669\n"
          ]
        },
        {
          "output_type": "stream",
          "name": "stderr",
          "text": [
            "\n"
          ]
        }
      ]
    },
    {
      "cell_type": "code",
      "source": [
        "def code_to_text(code):\n",
        "  labels = [False, True]\n",
        "  return labels[code]"
      ],
      "metadata": {
        "id": "dMSIx2OljFPV"
      },
      "execution_count": 62,
      "outputs": []
    },
    {
      "cell_type": "code",
      "source": [
        "y_pred = []\n",
        "output = predict\n",
        "for i in range(len(output)):\n",
        "  try:\n",
        "    item0, item1 = output[i]\n",
        "    y_pred.extend([code_to_text(item0), code_to_text(item1)])\n",
        "  except:\n",
        "    item0 = output[i]\n",
        "    y_pred.append(code_to_text(item0))\n",
        "predict = y_pred"
      ],
      "metadata": {
        "id": "jgo-K1txe_oc"
      },
      "execution_count": 64,
      "outputs": []
    },
    {
      "cell_type": "code",
      "source": [
        "predict"
      ],
      "metadata": {
        "colab": {
          "base_uri": "https://localhost:8080/"
        },
        "id": "UFGE3wNakEeB",
        "outputId": "55533c1b-b59b-4e79-a86f-7fb5f1edacdc"
      },
      "execution_count": 66,
      "outputs": [
        {
          "output_type": "execute_result",
          "data": {
            "text/plain": [
              "[True,\n",
              " True,\n",
              " True,\n",
              " False,\n",
              " True,\n",
              " False,\n",
              " True,\n",
              " False,\n",
              " True,\n",
              " False,\n",
              " True,\n",
              " True,\n",
              " True,\n",
              " True,\n",
              " True,\n",
              " True,\n",
              " True,\n",
              " True,\n",
              " True,\n",
              " True,\n",
              " True,\n",
              " True,\n",
              " True,\n",
              " False,\n",
              " False,\n",
              " True,\n",
              " True,\n",
              " True,\n",
              " True,\n",
              " False,\n",
              " True,\n",
              " True,\n",
              " False,\n",
              " True,\n",
              " True,\n",
              " True,\n",
              " False,\n",
              " True,\n",
              " True,\n",
              " True,\n",
              " True,\n",
              " True,\n",
              " False,\n",
              " True,\n",
              " True,\n",
              " False,\n",
              " False,\n",
              " False,\n",
              " True,\n",
              " False,\n",
              " True,\n",
              " False,\n",
              " True,\n",
              " False,\n",
              " True,\n",
              " True,\n",
              " True,\n",
              " True,\n",
              " True,\n",
              " False,\n",
              " True,\n",
              " False,\n",
              " True,\n",
              " True,\n",
              " True,\n",
              " True,\n",
              " True,\n",
              " True,\n",
              " True,\n",
              " True,\n",
              " True,\n",
              " False,\n",
              " True,\n",
              " True,\n",
              " True,\n",
              " True,\n",
              " False,\n",
              " True,\n",
              " True,\n",
              " True,\n",
              " True,\n",
              " True,\n",
              " True,\n",
              " False,\n",
              " True,\n",
              " True,\n",
              " False,\n",
              " True,\n",
              " True,\n",
              " True,\n",
              " True,\n",
              " True,\n",
              " True,\n",
              " False,\n",
              " False,\n",
              " True,\n",
              " True,\n",
              " True,\n",
              " True,\n",
              " False,\n",
              " True,\n",
              " True,\n",
              " True,\n",
              " False,\n",
              " True,\n",
              " False,\n",
              " True,\n",
              " True,\n",
              " True,\n",
              " True,\n",
              " False,\n",
              " True,\n",
              " True,\n",
              " False,\n",
              " True,\n",
              " False,\n",
              " True,\n",
              " True,\n",
              " True,\n",
              " True,\n",
              " True,\n",
              " False,\n",
              " True,\n",
              " True,\n",
              " True,\n",
              " True,\n",
              " True,\n",
              " False,\n",
              " True,\n",
              " False,\n",
              " True,\n",
              " False,\n",
              " True,\n",
              " False,\n",
              " True,\n",
              " False,\n",
              " True,\n",
              " True,\n",
              " True,\n",
              " False,\n",
              " False,\n",
              " True,\n",
              " False,\n",
              " True,\n",
              " True,\n",
              " True,\n",
              " True,\n",
              " True,\n",
              " True,\n",
              " False,\n",
              " False,\n",
              " False,\n",
              " True,\n",
              " False,\n",
              " True,\n",
              " True,\n",
              " True,\n",
              " False,\n",
              " False,\n",
              " False,\n",
              " False,\n",
              " False,\n",
              " True,\n",
              " True,\n",
              " False,\n",
              " True,\n",
              " True,\n",
              " False,\n",
              " True,\n",
              " True,\n",
              " True,\n",
              " False,\n",
              " False,\n",
              " False,\n",
              " True,\n",
              " True,\n",
              " False,\n",
              " False,\n",
              " True,\n",
              " False,\n",
              " False,\n",
              " False,\n",
              " True,\n",
              " False,\n",
              " True,\n",
              " False,\n",
              " False,\n",
              " False,\n",
              " False,\n",
              " True,\n",
              " True,\n",
              " True,\n",
              " True,\n",
              " False,\n",
              " False,\n",
              " True,\n",
              " True,\n",
              " True,\n",
              " False,\n",
              " False,\n",
              " False,\n",
              " True,\n",
              " True,\n",
              " True,\n",
              " True,\n",
              " False,\n",
              " True,\n",
              " True,\n",
              " True,\n",
              " True,\n",
              " True,\n",
              " True,\n",
              " True,\n",
              " True,\n",
              " True,\n",
              " False,\n",
              " False,\n",
              " True,\n",
              " True,\n",
              " True,\n",
              " True,\n",
              " True,\n",
              " True,\n",
              " True,\n",
              " True,\n",
              " True,\n",
              " True,\n",
              " False,\n",
              " False,\n",
              " False,\n",
              " False,\n",
              " False,\n",
              " True,\n",
              " True,\n",
              " True,\n",
              " False,\n",
              " True,\n",
              " False,\n",
              " False,\n",
              " False,\n",
              " True,\n",
              " True,\n",
              " False,\n",
              " True,\n",
              " True,\n",
              " True,\n",
              " True,\n",
              " True,\n",
              " True,\n",
              " False,\n",
              " True,\n",
              " True,\n",
              " True,\n",
              " True,\n",
              " True,\n",
              " True,\n",
              " True,\n",
              " False,\n",
              " True,\n",
              " True,\n",
              " False,\n",
              " False,\n",
              " False,\n",
              " True,\n",
              " True,\n",
              " True,\n",
              " True,\n",
              " True,\n",
              " False,\n",
              " True,\n",
              " False,\n",
              " True,\n",
              " True,\n",
              " True,\n",
              " True,\n",
              " True,\n",
              " True,\n",
              " True,\n",
              " True,\n",
              " False,\n",
              " False,\n",
              " True,\n",
              " True,\n",
              " False,\n",
              " False,\n",
              " True,\n",
              " False,\n",
              " True,\n",
              " True,\n",
              " False,\n",
              " True,\n",
              " True,\n",
              " True,\n",
              " True,\n",
              " False,\n",
              " True,\n",
              " False,\n",
              " True,\n",
              " True,\n",
              " True,\n",
              " False,\n",
              " True,\n",
              " False,\n",
              " False,\n",
              " True,\n",
              " True,\n",
              " True,\n",
              " True,\n",
              " False,\n",
              " False,\n",
              " True,\n",
              " False,\n",
              " True,\n",
              " True,\n",
              " True,\n",
              " True,\n",
              " True,\n",
              " True,\n",
              " True,\n",
              " False,\n",
              " True,\n",
              " False,\n",
              " True,\n",
              " False,\n",
              " True,\n",
              " True,\n",
              " False,\n",
              " False,\n",
              " False,\n",
              " True,\n",
              " True,\n",
              " True,\n",
              " True,\n",
              " True,\n",
              " True,\n",
              " True,\n",
              " True,\n",
              " False,\n",
              " False,\n",
              " False,\n",
              " True,\n",
              " False,\n",
              " True,\n",
              " False,\n",
              " True,\n",
              " True,\n",
              " True,\n",
              " True,\n",
              " False,\n",
              " True,\n",
              " True,\n",
              " False,\n",
              " True,\n",
              " False,\n",
              " False,\n",
              " True,\n",
              " False,\n",
              " True,\n",
              " False,\n",
              " False,\n",
              " True,\n",
              " True,\n",
              " True,\n",
              " False,\n",
              " False,\n",
              " True,\n",
              " True,\n",
              " False,\n",
              " True,\n",
              " True,\n",
              " True,\n",
              " True,\n",
              " False,\n",
              " True,\n",
              " True,\n",
              " False,\n",
              " False,\n",
              " False,\n",
              " True,\n",
              " True,\n",
              " False,\n",
              " True,\n",
              " True,\n",
              " True,\n",
              " True,\n",
              " True,\n",
              " True,\n",
              " True,\n",
              " True,\n",
              " True,\n",
              " True,\n",
              " True,\n",
              " True,\n",
              " True,\n",
              " False,\n",
              " True,\n",
              " True,\n",
              " True,\n",
              " True,\n",
              " False,\n",
              " True,\n",
              " False,\n",
              " True,\n",
              " True,\n",
              " True,\n",
              " True,\n",
              " True,\n",
              " True,\n",
              " True,\n",
              " True,\n",
              " True,\n",
              " True,\n",
              " True,\n",
              " True,\n",
              " False,\n",
              " True,\n",
              " False,\n",
              " True,\n",
              " True,\n",
              " True,\n",
              " False,\n",
              " False,\n",
              " False,\n",
              " True,\n",
              " True,\n",
              " False,\n",
              " True,\n",
              " True,\n",
              " True,\n",
              " False,\n",
              " True,\n",
              " True,\n",
              " True,\n",
              " True,\n",
              " True,\n",
              " True,\n",
              " False,\n",
              " True,\n",
              " False,\n",
              " True,\n",
              " True,\n",
              " False,\n",
              " True,\n",
              " False,\n",
              " False,\n",
              " True,\n",
              " True,\n",
              " True,\n",
              " True,\n",
              " True,\n",
              " False,\n",
              " True,\n",
              " True,\n",
              " True,\n",
              " False,\n",
              " True,\n",
              " True,\n",
              " True,\n",
              " True,\n",
              " True,\n",
              " False,\n",
              " True,\n",
              " True,\n",
              " True,\n",
              " True,\n",
              " True,\n",
              " False,\n",
              " True,\n",
              " True,\n",
              " True,\n",
              " True,\n",
              " True,\n",
              " True,\n",
              " True,\n",
              " True,\n",
              " True,\n",
              " True,\n",
              " True,\n",
              " True,\n",
              " True,\n",
              " False,\n",
              " True,\n",
              " True,\n",
              " False,\n",
              " True,\n",
              " True,\n",
              " True,\n",
              " True,\n",
              " True,\n",
              " True,\n",
              " False,\n",
              " True,\n",
              " False,\n",
              " False,\n",
              " False,\n",
              " True,\n",
              " True,\n",
              " True,\n",
              " False,\n",
              " True,\n",
              " True,\n",
              " True,\n",
              " True,\n",
              " False,\n",
              " True,\n",
              " True,\n",
              " True,\n",
              " True,\n",
              " False,\n",
              " False,\n",
              " True,\n",
              " False,\n",
              " True,\n",
              " False,\n",
              " True,\n",
              " True,\n",
              " True,\n",
              " True,\n",
              " False,\n",
              " False,\n",
              " True,\n",
              " False,\n",
              " False,\n",
              " True,\n",
              " True,\n",
              " True,\n",
              " True,\n",
              " True,\n",
              " True,\n",
              " True,\n",
              " True,\n",
              " True,\n",
              " True,\n",
              " True,\n",
              " False,\n",
              " True,\n",
              " True,\n",
              " True,\n",
              " True,\n",
              " True,\n",
              " True,\n",
              " False,\n",
              " False,\n",
              " True,\n",
              " True,\n",
              " True,\n",
              " True,\n",
              " False,\n",
              " True,\n",
              " True,\n",
              " False,\n",
              " True,\n",
              " True,\n",
              " False,\n",
              " False,\n",
              " True,\n",
              " True,\n",
              " True,\n",
              " False,\n",
              " True,\n",
              " False,\n",
              " False,\n",
              " False,\n",
              " True,\n",
              " True,\n",
              " True,\n",
              " True,\n",
              " True,\n",
              " False,\n",
              " False,\n",
              " False,\n",
              " True,\n",
              " False,\n",
              " True,\n",
              " False,\n",
              " False,\n",
              " True,\n",
              " True,\n",
              " False,\n",
              " False,\n",
              " True,\n",
              " True,\n",
              " True,\n",
              " False,\n",
              " True,\n",
              " False,\n",
              " True,\n",
              " True,\n",
              " True,\n",
              " True,\n",
              " False,\n",
              " False,\n",
              " False,\n",
              " True,\n",
              " False,\n",
              " False,\n",
              " True,\n",
              " True,\n",
              " True,\n",
              " False,\n",
              " False,\n",
              " True,\n",
              " True,\n",
              " True,\n",
              " True,\n",
              " False,\n",
              " False,\n",
              " True,\n",
              " True,\n",
              " True,\n",
              " True,\n",
              " True,\n",
              " True,\n",
              " True,\n",
              " True,\n",
              " True,\n",
              " False,\n",
              " True,\n",
              " True,\n",
              " True,\n",
              " True,\n",
              " False,\n",
              " True,\n",
              " True,\n",
              " True,\n",
              " False,\n",
              " True,\n",
              " True,\n",
              " True,\n",
              " True,\n",
              " True,\n",
              " False,\n",
              " False,\n",
              " True,\n",
              " True,\n",
              " True,\n",
              " True,\n",
              " True,\n",
              " True,\n",
              " False,\n",
              " True,\n",
              " True,\n",
              " True,\n",
              " True,\n",
              " True,\n",
              " False,\n",
              " False,\n",
              " False,\n",
              " False,\n",
              " False,\n",
              " True,\n",
              " True,\n",
              " True,\n",
              " True,\n",
              " False,\n",
              " False,\n",
              " True,\n",
              " True,\n",
              " True,\n",
              " True,\n",
              " True,\n",
              " True,\n",
              " True,\n",
              " True,\n",
              " True,\n",
              " False,\n",
              " True,\n",
              " False,\n",
              " False,\n",
              " True,\n",
              " False,\n",
              " True,\n",
              " True,\n",
              " True,\n",
              " True,\n",
              " False,\n",
              " False,\n",
              " False,\n",
              " True,\n",
              " True,\n",
              " True,\n",
              " False,\n",
              " False,\n",
              " True,\n",
              " True,\n",
              " False,\n",
              " True,\n",
              " False,\n",
              " False,\n",
              " False,\n",
              " True,\n",
              " True,\n",
              " True,\n",
              " False,\n",
              " True,\n",
              " False,\n",
              " True,\n",
              " True,\n",
              " True,\n",
              " True,\n",
              " False,\n",
              " False,\n",
              " True,\n",
              " True,\n",
              " True,\n",
              " True,\n",
              " True,\n",
              " True,\n",
              " False,\n",
              " True,\n",
              " True,\n",
              " True,\n",
              " False,\n",
              " False,\n",
              " True,\n",
              " True,\n",
              " False,\n",
              " True,\n",
              " True,\n",
              " True,\n",
              " True,\n",
              " True,\n",
              " True,\n",
              " True,\n",
              " True,\n",
              " True,\n",
              " False,\n",
              " True,\n",
              " True,\n",
              " True,\n",
              " False,\n",
              " True,\n",
              " True,\n",
              " True,\n",
              " True,\n",
              " True,\n",
              " True,\n",
              " True,\n",
              " True,\n",
              " False,\n",
              " True,\n",
              " False,\n",
              " True,\n",
              " True,\n",
              " True,\n",
              " False,\n",
              " True,\n",
              " False,\n",
              " True,\n",
              " True,\n",
              " True,\n",
              " True,\n",
              " True,\n",
              " True,\n",
              " True,\n",
              " False,\n",
              " True,\n",
              " False,\n",
              " False,\n",
              " True,\n",
              " False,\n",
              " True,\n",
              " True,\n",
              " True,\n",
              " True,\n",
              " True,\n",
              " True,\n",
              " True,\n",
              " True,\n",
              " False,\n",
              " True,\n",
              " True,\n",
              " True,\n",
              " False,\n",
              " False,\n",
              " True,\n",
              " False,\n",
              " True,\n",
              " False,\n",
              " True,\n",
              " True,\n",
              " True,\n",
              " True,\n",
              " False,\n",
              " True,\n",
              " True,\n",
              " True,\n",
              " True,\n",
              " True,\n",
              " True,\n",
              " False,\n",
              " True,\n",
              " True,\n",
              " True,\n",
              " True,\n",
              " True,\n",
              " False,\n",
              " True,\n",
              " True,\n",
              " True,\n",
              " True,\n",
              " True,\n",
              " True,\n",
              " True,\n",
              " True,\n",
              " True,\n",
              " True,\n",
              " True,\n",
              " True,\n",
              " False,\n",
              " True,\n",
              " True,\n",
              " True,\n",
              " True,\n",
              " True,\n",
              " True,\n",
              " True,\n",
              " False,\n",
              " True,\n",
              " True,\n",
              " True,\n",
              " True,\n",
              " False,\n",
              " True,\n",
              " False,\n",
              " True,\n",
              " True,\n",
              " True,\n",
              " True,\n",
              " False,\n",
              " True,\n",
              " True,\n",
              " False,\n",
              " False,\n",
              " False,\n",
              " True,\n",
              " True,\n",
              " True,\n",
              " True,\n",
              " True,\n",
              " True,\n",
              " False,\n",
              " True,\n",
              " True,\n",
              " True,\n",
              " False,\n",
              " True,\n",
              " False,\n",
              " True,\n",
              " False,\n",
              " False,\n",
              " True,\n",
              " True,\n",
              " True,\n",
              " True,\n",
              " False,\n",
              " True,\n",
              " True,\n",
              " True,\n",
              " False,\n",
              " True,\n",
              " False,\n",
              " False,\n",
              " True,\n",
              " True,\n",
              " True,\n",
              " True,\n",
              " False,\n",
              " True,\n",
              " True,\n",
              " False,\n",
              " True,\n",
              " True,\n",
              " True,\n",
              " False,\n",
              " True,\n",
              " False,\n",
              " False,\n",
              " True,\n",
              " True,\n",
              " False,\n",
              " True,\n",
              " True,\n",
              " True,\n",
              " False,\n",
              " True,\n",
              " False,\n",
              " True,\n",
              " False,\n",
              " False,\n",
              " True,\n",
              " True,\n",
              " False,\n",
              " False,\n",
              " True,\n",
              " True,\n",
              " False,\n",
              " False,\n",
              " True,\n",
              " False,\n",
              " True,\n",
              " True,\n",
              " True,\n",
              " True,\n",
              " True,\n",
              " True,\n",
              " False,\n",
              " False,\n",
              " True,\n",
              " True,\n",
              " True,\n",
              " True,\n",
              " True,\n",
              " True,\n",
              " True,\n",
              " False,\n",
              " False,\n",
              " True,\n",
              " True,\n",
              " False,\n",
              " True,\n",
              " True,\n",
              " True,\n",
              " True,\n",
              " False,\n",
              " True,\n",
              " False,\n",
              " True,\n",
              " True,\n",
              " True,\n",
              " False,\n",
              " True,\n",
              " True,\n",
              " True,\n",
              " False,\n",
              " True,\n",
              " False,\n",
              " False,\n",
              " True,\n",
              " True,\n",
              " True,\n",
              " True,\n",
              " True,\n",
              " True,\n",
              " True,\n",
              " False,\n",
              " True,\n",
              " True,\n",
              " False,\n",
              " False,\n",
              " True,\n",
              " True,\n",
              " False,\n",
              " True,\n",
              " True,\n",
              " True,\n",
              " True,\n",
              " True,\n",
              " True,\n",
              " False,\n",
              " True,\n",
              " False,\n",
              " True,\n",
              " True,\n",
              " True,\n",
              " False,\n",
              " False,\n",
              " True,\n",
              " True,\n",
              " True,\n",
              " True,\n",
              " False,\n",
              " True,\n",
              " True,\n",
              " True,\n",
              " True,\n",
              " True,\n",
              " True,\n",
              " False,\n",
              " False,\n",
              " False,\n",
              " True,\n",
              " True,\n",
              " True,\n",
              " True,\n",
              " False,\n",
              " True,\n",
              " False,\n",
              " True,\n",
              " True,\n",
              " True,\n",
              " True,\n",
              " True,\n",
              " True,\n",
              " True,\n",
              " True,\n",
              " True,\n",
              " True,\n",
              " True,\n",
              " True,\n",
              " ...]"
            ]
          },
          "metadata": {},
          "execution_count": 66
        }
      ]
    },
    {
      "cell_type": "code",
      "source": [
        "i = range(len(predict))\n",
        "dict = {'id':i, 'class':predict}\n",
        "\n",
        "final = pd.DataFrame(dict)\n",
        "\n",
        "fc = final.columns[0]\n",
        "final = final.drop([fc], axis=1)\n",
        "# final.columns = ['Id', 'Label']\n",
        "final.to_csv('final.csv')"
      ],
      "metadata": {
        "id": "jC5w0MXKfCrm"
      },
      "execution_count": 67,
      "outputs": []
    }
  ],
  "metadata": {
    "accelerator": "GPU",
    "colab": {
      "gpuType": "T4",
      "provenance": []
    },
    "kernelspec": {
      "display_name": "Python 3",
      "name": "python3"
    },
    "language_info": {
      "name": "python"
    }
  },
  "nbformat": 4,
  "nbformat_minor": 0
}