{
  "nbformat": 4,
  "nbformat_minor": 0,
  "metadata": {
    "colab": {
      "provenance": []
    },
    "kernelspec": {
      "name": "python3",
      "display_name": "Python 3"
    },
    "language_info": {
      "name": "python"
    },
    "widgets": {
      "application/vnd.jupyter.widget-state+json": {
        "ae2357c0192d4682ba96f3303e938c8f": {
          "model_module": "@jupyter-widgets/controls",
          "model_name": "HBoxModel",
          "model_module_version": "1.5.0",
          "state": {
            "_dom_classes": [],
            "_model_module": "@jupyter-widgets/controls",
            "_model_module_version": "1.5.0",
            "_model_name": "HBoxModel",
            "_view_count": null,
            "_view_module": "@jupyter-widgets/controls",
            "_view_module_version": "1.5.0",
            "_view_name": "HBoxView",
            "box_style": "",
            "children": [
              "IPY_MODEL_53b6bce89c4f40ccaf2dd3975c43b939",
              "IPY_MODEL_59a807f5dfd14c2ba5623a0e36076c34",
              "IPY_MODEL_585b4e3373cf481f952d8c4187864e89"
            ],
            "layout": "IPY_MODEL_9a2e4a0aa4754f1e89fbf4d3e3bba36b"
          }
        },
        "53b6bce89c4f40ccaf2dd3975c43b939": {
          "model_module": "@jupyter-widgets/controls",
          "model_name": "HTMLModel",
          "model_module_version": "1.5.0",
          "state": {
            "_dom_classes": [],
            "_model_module": "@jupyter-widgets/controls",
            "_model_module_version": "1.5.0",
            "_model_name": "HTMLModel",
            "_view_count": null,
            "_view_module": "@jupyter-widgets/controls",
            "_view_module_version": "1.5.0",
            "_view_name": "HTMLView",
            "description": "",
            "description_tooltip": null,
            "layout": "IPY_MODEL_caba2f24ae2e424e8e251144892faffb",
            "placeholder": "​",
            "style": "IPY_MODEL_a88d5a93320947e38ea077614c7c9522",
            "value": "tokenizer_config.json: 100%"
          }
        },
        "59a807f5dfd14c2ba5623a0e36076c34": {
          "model_module": "@jupyter-widgets/controls",
          "model_name": "FloatProgressModel",
          "model_module_version": "1.5.0",
          "state": {
            "_dom_classes": [],
            "_model_module": "@jupyter-widgets/controls",
            "_model_module_version": "1.5.0",
            "_model_name": "FloatProgressModel",
            "_view_count": null,
            "_view_module": "@jupyter-widgets/controls",
            "_view_module_version": "1.5.0",
            "_view_name": "ProgressView",
            "bar_style": "success",
            "description": "",
            "description_tooltip": null,
            "layout": "IPY_MODEL_28dfd8e747b349e5bda7414e97d37277",
            "max": 367,
            "min": 0,
            "orientation": "horizontal",
            "style": "IPY_MODEL_b53e9b10e3a44033bfbbdd8dd4b1c024",
            "value": 367
          }
        },
        "585b4e3373cf481f952d8c4187864e89": {
          "model_module": "@jupyter-widgets/controls",
          "model_name": "HTMLModel",
          "model_module_version": "1.5.0",
          "state": {
            "_dom_classes": [],
            "_model_module": "@jupyter-widgets/controls",
            "_model_module_version": "1.5.0",
            "_model_name": "HTMLModel",
            "_view_count": null,
            "_view_module": "@jupyter-widgets/controls",
            "_view_module_version": "1.5.0",
            "_view_name": "HTMLView",
            "description": "",
            "description_tooltip": null,
            "layout": "IPY_MODEL_4c18487a608645089c7f7fe875152939",
            "placeholder": "​",
            "style": "IPY_MODEL_28ed40f306cb4cb084f16a1ffb6d5c65",
            "value": " 367/367 [00:00&lt;00:00, 9.91kB/s]"
          }
        },
        "9a2e4a0aa4754f1e89fbf4d3e3bba36b": {
          "model_module": "@jupyter-widgets/base",
          "model_name": "LayoutModel",
          "model_module_version": "1.2.0",
          "state": {
            "_model_module": "@jupyter-widgets/base",
            "_model_module_version": "1.2.0",
            "_model_name": "LayoutModel",
            "_view_count": null,
            "_view_module": "@jupyter-widgets/base",
            "_view_module_version": "1.2.0",
            "_view_name": "LayoutView",
            "align_content": null,
            "align_items": null,
            "align_self": null,
            "border": null,
            "bottom": null,
            "display": null,
            "flex": null,
            "flex_flow": null,
            "grid_area": null,
            "grid_auto_columns": null,
            "grid_auto_flow": null,
            "grid_auto_rows": null,
            "grid_column": null,
            "grid_gap": null,
            "grid_row": null,
            "grid_template_areas": null,
            "grid_template_columns": null,
            "grid_template_rows": null,
            "height": null,
            "justify_content": null,
            "justify_items": null,
            "left": null,
            "margin": null,
            "max_height": null,
            "max_width": null,
            "min_height": null,
            "min_width": null,
            "object_fit": null,
            "object_position": null,
            "order": null,
            "overflow": null,
            "overflow_x": null,
            "overflow_y": null,
            "padding": null,
            "right": null,
            "top": null,
            "visibility": null,
            "width": null
          }
        },
        "caba2f24ae2e424e8e251144892faffb": {
          "model_module": "@jupyter-widgets/base",
          "model_name": "LayoutModel",
          "model_module_version": "1.2.0",
          "state": {
            "_model_module": "@jupyter-widgets/base",
            "_model_module_version": "1.2.0",
            "_model_name": "LayoutModel",
            "_view_count": null,
            "_view_module": "@jupyter-widgets/base",
            "_view_module_version": "1.2.0",
            "_view_name": "LayoutView",
            "align_content": null,
            "align_items": null,
            "align_self": null,
            "border": null,
            "bottom": null,
            "display": null,
            "flex": null,
            "flex_flow": null,
            "grid_area": null,
            "grid_auto_columns": null,
            "grid_auto_flow": null,
            "grid_auto_rows": null,
            "grid_column": null,
            "grid_gap": null,
            "grid_row": null,
            "grid_template_areas": null,
            "grid_template_columns": null,
            "grid_template_rows": null,
            "height": null,
            "justify_content": null,
            "justify_items": null,
            "left": null,
            "margin": null,
            "max_height": null,
            "max_width": null,
            "min_height": null,
            "min_width": null,
            "object_fit": null,
            "object_position": null,
            "order": null,
            "overflow": null,
            "overflow_x": null,
            "overflow_y": null,
            "padding": null,
            "right": null,
            "top": null,
            "visibility": null,
            "width": null
          }
        },
        "a88d5a93320947e38ea077614c7c9522": {
          "model_module": "@jupyter-widgets/controls",
          "model_name": "DescriptionStyleModel",
          "model_module_version": "1.5.0",
          "state": {
            "_model_module": "@jupyter-widgets/controls",
            "_model_module_version": "1.5.0",
            "_model_name": "DescriptionStyleModel",
            "_view_count": null,
            "_view_module": "@jupyter-widgets/base",
            "_view_module_version": "1.2.0",
            "_view_name": "StyleView",
            "description_width": ""
          }
        },
        "28dfd8e747b349e5bda7414e97d37277": {
          "model_module": "@jupyter-widgets/base",
          "model_name": "LayoutModel",
          "model_module_version": "1.2.0",
          "state": {
            "_model_module": "@jupyter-widgets/base",
            "_model_module_version": "1.2.0",
            "_model_name": "LayoutModel",
            "_view_count": null,
            "_view_module": "@jupyter-widgets/base",
            "_view_module_version": "1.2.0",
            "_view_name": "LayoutView",
            "align_content": null,
            "align_items": null,
            "align_self": null,
            "border": null,
            "bottom": null,
            "display": null,
            "flex": null,
            "flex_flow": null,
            "grid_area": null,
            "grid_auto_columns": null,
            "grid_auto_flow": null,
            "grid_auto_rows": null,
            "grid_column": null,
            "grid_gap": null,
            "grid_row": null,
            "grid_template_areas": null,
            "grid_template_columns": null,
            "grid_template_rows": null,
            "height": null,
            "justify_content": null,
            "justify_items": null,
            "left": null,
            "margin": null,
            "max_height": null,
            "max_width": null,
            "min_height": null,
            "min_width": null,
            "object_fit": null,
            "object_position": null,
            "order": null,
            "overflow": null,
            "overflow_x": null,
            "overflow_y": null,
            "padding": null,
            "right": null,
            "top": null,
            "visibility": null,
            "width": null
          }
        },
        "b53e9b10e3a44033bfbbdd8dd4b1c024": {
          "model_module": "@jupyter-widgets/controls",
          "model_name": "ProgressStyleModel",
          "model_module_version": "1.5.0",
          "state": {
            "_model_module": "@jupyter-widgets/controls",
            "_model_module_version": "1.5.0",
            "_model_name": "ProgressStyleModel",
            "_view_count": null,
            "_view_module": "@jupyter-widgets/base",
            "_view_module_version": "1.2.0",
            "_view_name": "StyleView",
            "bar_color": null,
            "description_width": ""
          }
        },
        "4c18487a608645089c7f7fe875152939": {
          "model_module": "@jupyter-widgets/base",
          "model_name": "LayoutModel",
          "model_module_version": "1.2.0",
          "state": {
            "_model_module": "@jupyter-widgets/base",
            "_model_module_version": "1.2.0",
            "_model_name": "LayoutModel",
            "_view_count": null,
            "_view_module": "@jupyter-widgets/base",
            "_view_module_version": "1.2.0",
            "_view_name": "LayoutView",
            "align_content": null,
            "align_items": null,
            "align_self": null,
            "border": null,
            "bottom": null,
            "display": null,
            "flex": null,
            "flex_flow": null,
            "grid_area": null,
            "grid_auto_columns": null,
            "grid_auto_flow": null,
            "grid_auto_rows": null,
            "grid_column": null,
            "grid_gap": null,
            "grid_row": null,
            "grid_template_areas": null,
            "grid_template_columns": null,
            "grid_template_rows": null,
            "height": null,
            "justify_content": null,
            "justify_items": null,
            "left": null,
            "margin": null,
            "max_height": null,
            "max_width": null,
            "min_height": null,
            "min_width": null,
            "object_fit": null,
            "object_position": null,
            "order": null,
            "overflow": null,
            "overflow_x": null,
            "overflow_y": null,
            "padding": null,
            "right": null,
            "top": null,
            "visibility": null,
            "width": null
          }
        },
        "28ed40f306cb4cb084f16a1ffb6d5c65": {
          "model_module": "@jupyter-widgets/controls",
          "model_name": "DescriptionStyleModel",
          "model_module_version": "1.5.0",
          "state": {
            "_model_module": "@jupyter-widgets/controls",
            "_model_module_version": "1.5.0",
            "_model_name": "DescriptionStyleModel",
            "_view_count": null,
            "_view_module": "@jupyter-widgets/base",
            "_view_module_version": "1.2.0",
            "_view_name": "StyleView",
            "description_width": ""
          }
        },
        "d0650f94901f41279bf1220ee43e755a": {
          "model_module": "@jupyter-widgets/controls",
          "model_name": "HBoxModel",
          "model_module_version": "1.5.0",
          "state": {
            "_dom_classes": [],
            "_model_module": "@jupyter-widgets/controls",
            "_model_module_version": "1.5.0",
            "_model_name": "HBoxModel",
            "_view_count": null,
            "_view_module": "@jupyter-widgets/controls",
            "_view_module_version": "1.5.0",
            "_view_name": "HBoxView",
            "box_style": "",
            "children": [
              "IPY_MODEL_3822c809df8e429c82a08880cbfa93ba",
              "IPY_MODEL_bdf2719e22ea47dd8c840fd8e2d32525",
              "IPY_MODEL_faa24005fbe143bda349f8d628d3d7bd"
            ],
            "layout": "IPY_MODEL_4e71f433746c4fbb9e51c5b6cb01ffc3"
          }
        },
        "3822c809df8e429c82a08880cbfa93ba": {
          "model_module": "@jupyter-widgets/controls",
          "model_name": "HTMLModel",
          "model_module_version": "1.5.0",
          "state": {
            "_dom_classes": [],
            "_model_module": "@jupyter-widgets/controls",
            "_model_module_version": "1.5.0",
            "_model_name": "HTMLModel",
            "_view_count": null,
            "_view_module": "@jupyter-widgets/controls",
            "_view_module_version": "1.5.0",
            "_view_name": "HTMLView",
            "description": "",
            "description_tooltip": null,
            "layout": "IPY_MODEL_291881878533499ebf7854f58332c8a6",
            "placeholder": "​",
            "style": "IPY_MODEL_35717b497a94457089f32417abfb2482",
            "value": "config.json: 100%"
          }
        },
        "bdf2719e22ea47dd8c840fd8e2d32525": {
          "model_module": "@jupyter-widgets/controls",
          "model_name": "FloatProgressModel",
          "model_module_version": "1.5.0",
          "state": {
            "_dom_classes": [],
            "_model_module": "@jupyter-widgets/controls",
            "_model_module_version": "1.5.0",
            "_model_name": "FloatProgressModel",
            "_view_count": null,
            "_view_module": "@jupyter-widgets/controls",
            "_view_module_version": "1.5.0",
            "_view_name": "ProgressView",
            "bar_style": "success",
            "description": "",
            "description_tooltip": null,
            "layout": "IPY_MODEL_08bd874cefab41c8b910b8ab14d33d8e",
            "max": 469,
            "min": 0,
            "orientation": "horizontal",
            "style": "IPY_MODEL_b5467e7201fd4c529ec4d2ff95fb7bd4",
            "value": 469
          }
        },
        "faa24005fbe143bda349f8d628d3d7bd": {
          "model_module": "@jupyter-widgets/controls",
          "model_name": "HTMLModel",
          "model_module_version": "1.5.0",
          "state": {
            "_dom_classes": [],
            "_model_module": "@jupyter-widgets/controls",
            "_model_module_version": "1.5.0",
            "_model_name": "HTMLModel",
            "_view_count": null,
            "_view_module": "@jupyter-widgets/controls",
            "_view_module_version": "1.5.0",
            "_view_name": "HTMLView",
            "description": "",
            "description_tooltip": null,
            "layout": "IPY_MODEL_9c87a42be8a24f63acdd7ef4904918a1",
            "placeholder": "​",
            "style": "IPY_MODEL_e679034a3c9c47319a4273bfaf2ee2b0",
            "value": " 469/469 [00:00&lt;00:00, 12.7kB/s]"
          }
        },
        "4e71f433746c4fbb9e51c5b6cb01ffc3": {
          "model_module": "@jupyter-widgets/base",
          "model_name": "LayoutModel",
          "model_module_version": "1.2.0",
          "state": {
            "_model_module": "@jupyter-widgets/base",
            "_model_module_version": "1.2.0",
            "_model_name": "LayoutModel",
            "_view_count": null,
            "_view_module": "@jupyter-widgets/base",
            "_view_module_version": "1.2.0",
            "_view_name": "LayoutView",
            "align_content": null,
            "align_items": null,
            "align_self": null,
            "border": null,
            "bottom": null,
            "display": null,
            "flex": null,
            "flex_flow": null,
            "grid_area": null,
            "grid_auto_columns": null,
            "grid_auto_flow": null,
            "grid_auto_rows": null,
            "grid_column": null,
            "grid_gap": null,
            "grid_row": null,
            "grid_template_areas": null,
            "grid_template_columns": null,
            "grid_template_rows": null,
            "height": null,
            "justify_content": null,
            "justify_items": null,
            "left": null,
            "margin": null,
            "max_height": null,
            "max_width": null,
            "min_height": null,
            "min_width": null,
            "object_fit": null,
            "object_position": null,
            "order": null,
            "overflow": null,
            "overflow_x": null,
            "overflow_y": null,
            "padding": null,
            "right": null,
            "top": null,
            "visibility": null,
            "width": null
          }
        },
        "291881878533499ebf7854f58332c8a6": {
          "model_module": "@jupyter-widgets/base",
          "model_name": "LayoutModel",
          "model_module_version": "1.2.0",
          "state": {
            "_model_module": "@jupyter-widgets/base",
            "_model_module_version": "1.2.0",
            "_model_name": "LayoutModel",
            "_view_count": null,
            "_view_module": "@jupyter-widgets/base",
            "_view_module_version": "1.2.0",
            "_view_name": "LayoutView",
            "align_content": null,
            "align_items": null,
            "align_self": null,
            "border": null,
            "bottom": null,
            "display": null,
            "flex": null,
            "flex_flow": null,
            "grid_area": null,
            "grid_auto_columns": null,
            "grid_auto_flow": null,
            "grid_auto_rows": null,
            "grid_column": null,
            "grid_gap": null,
            "grid_row": null,
            "grid_template_areas": null,
            "grid_template_columns": null,
            "grid_template_rows": null,
            "height": null,
            "justify_content": null,
            "justify_items": null,
            "left": null,
            "margin": null,
            "max_height": null,
            "max_width": null,
            "min_height": null,
            "min_width": null,
            "object_fit": null,
            "object_position": null,
            "order": null,
            "overflow": null,
            "overflow_x": null,
            "overflow_y": null,
            "padding": null,
            "right": null,
            "top": null,
            "visibility": null,
            "width": null
          }
        },
        "35717b497a94457089f32417abfb2482": {
          "model_module": "@jupyter-widgets/controls",
          "model_name": "DescriptionStyleModel",
          "model_module_version": "1.5.0",
          "state": {
            "_model_module": "@jupyter-widgets/controls",
            "_model_module_version": "1.5.0",
            "_model_name": "DescriptionStyleModel",
            "_view_count": null,
            "_view_module": "@jupyter-widgets/base",
            "_view_module_version": "1.2.0",
            "_view_name": "StyleView",
            "description_width": ""
          }
        },
        "08bd874cefab41c8b910b8ab14d33d8e": {
          "model_module": "@jupyter-widgets/base",
          "model_name": "LayoutModel",
          "model_module_version": "1.2.0",
          "state": {
            "_model_module": "@jupyter-widgets/base",
            "_model_module_version": "1.2.0",
            "_model_name": "LayoutModel",
            "_view_count": null,
            "_view_module": "@jupyter-widgets/base",
            "_view_module_version": "1.2.0",
            "_view_name": "LayoutView",
            "align_content": null,
            "align_items": null,
            "align_self": null,
            "border": null,
            "bottom": null,
            "display": null,
            "flex": null,
            "flex_flow": null,
            "grid_area": null,
            "grid_auto_columns": null,
            "grid_auto_flow": null,
            "grid_auto_rows": null,
            "grid_column": null,
            "grid_gap": null,
            "grid_row": null,
            "grid_template_areas": null,
            "grid_template_columns": null,
            "grid_template_rows": null,
            "height": null,
            "justify_content": null,
            "justify_items": null,
            "left": null,
            "margin": null,
            "max_height": null,
            "max_width": null,
            "min_height": null,
            "min_width": null,
            "object_fit": null,
            "object_position": null,
            "order": null,
            "overflow": null,
            "overflow_x": null,
            "overflow_y": null,
            "padding": null,
            "right": null,
            "top": null,
            "visibility": null,
            "width": null
          }
        },
        "b5467e7201fd4c529ec4d2ff95fb7bd4": {
          "model_module": "@jupyter-widgets/controls",
          "model_name": "ProgressStyleModel",
          "model_module_version": "1.5.0",
          "state": {
            "_model_module": "@jupyter-widgets/controls",
            "_model_module_version": "1.5.0",
            "_model_name": "ProgressStyleModel",
            "_view_count": null,
            "_view_module": "@jupyter-widgets/base",
            "_view_module_version": "1.2.0",
            "_view_name": "StyleView",
            "bar_color": null,
            "description_width": ""
          }
        },
        "9c87a42be8a24f63acdd7ef4904918a1": {
          "model_module": "@jupyter-widgets/base",
          "model_name": "LayoutModel",
          "model_module_version": "1.2.0",
          "state": {
            "_model_module": "@jupyter-widgets/base",
            "_model_module_version": "1.2.0",
            "_model_name": "LayoutModel",
            "_view_count": null,
            "_view_module": "@jupyter-widgets/base",
            "_view_module_version": "1.2.0",
            "_view_name": "LayoutView",
            "align_content": null,
            "align_items": null,
            "align_self": null,
            "border": null,
            "bottom": null,
            "display": null,
            "flex": null,
            "flex_flow": null,
            "grid_area": null,
            "grid_auto_columns": null,
            "grid_auto_flow": null,
            "grid_auto_rows": null,
            "grid_column": null,
            "grid_gap": null,
            "grid_row": null,
            "grid_template_areas": null,
            "grid_template_columns": null,
            "grid_template_rows": null,
            "height": null,
            "justify_content": null,
            "justify_items": null,
            "left": null,
            "margin": null,
            "max_height": null,
            "max_width": null,
            "min_height": null,
            "min_width": null,
            "object_fit": null,
            "object_position": null,
            "order": null,
            "overflow": null,
            "overflow_x": null,
            "overflow_y": null,
            "padding": null,
            "right": null,
            "top": null,
            "visibility": null,
            "width": null
          }
        },
        "e679034a3c9c47319a4273bfaf2ee2b0": {
          "model_module": "@jupyter-widgets/controls",
          "model_name": "DescriptionStyleModel",
          "model_module_version": "1.5.0",
          "state": {
            "_model_module": "@jupyter-widgets/controls",
            "_model_module_version": "1.5.0",
            "_model_name": "DescriptionStyleModel",
            "_view_count": null,
            "_view_module": "@jupyter-widgets/base",
            "_view_module_version": "1.2.0",
            "_view_name": "StyleView",
            "description_width": ""
          }
        },
        "d09587df96e245cc9d51b34e6761ab78": {
          "model_module": "@jupyter-widgets/controls",
          "model_name": "HBoxModel",
          "model_module_version": "1.5.0",
          "state": {
            "_dom_classes": [],
            "_model_module": "@jupyter-widgets/controls",
            "_model_module_version": "1.5.0",
            "_model_name": "HBoxModel",
            "_view_count": null,
            "_view_module": "@jupyter-widgets/controls",
            "_view_module_version": "1.5.0",
            "_view_name": "HBoxView",
            "box_style": "",
            "children": [
              "IPY_MODEL_3cd77596a76d4601b9f718e22d22b677",
              "IPY_MODEL_88c744e7237047a39545509b2cbc4639",
              "IPY_MODEL_3f052299426d4d7e83d4d1524b2f1c9c"
            ],
            "layout": "IPY_MODEL_e04db83320394c27a1c62cab9ca11972"
          }
        },
        "3cd77596a76d4601b9f718e22d22b677": {
          "model_module": "@jupyter-widgets/controls",
          "model_name": "HTMLModel",
          "model_module_version": "1.5.0",
          "state": {
            "_dom_classes": [],
            "_model_module": "@jupyter-widgets/controls",
            "_model_module_version": "1.5.0",
            "_model_name": "HTMLModel",
            "_view_count": null,
            "_view_module": "@jupyter-widgets/controls",
            "_view_module_version": "1.5.0",
            "_view_name": "HTMLView",
            "description": "",
            "description_tooltip": null,
            "layout": "IPY_MODEL_cd8eeee8564245cf832d1ede6b03fe2a",
            "placeholder": "​",
            "style": "IPY_MODEL_27f785e79dfc405c9a0029b27fc12a42",
            "value": "vocab.txt: 100%"
          }
        },
        "88c744e7237047a39545509b2cbc4639": {
          "model_module": "@jupyter-widgets/controls",
          "model_name": "FloatProgressModel",
          "model_module_version": "1.5.0",
          "state": {
            "_dom_classes": [],
            "_model_module": "@jupyter-widgets/controls",
            "_model_module_version": "1.5.0",
            "_model_name": "FloatProgressModel",
            "_view_count": null,
            "_view_module": "@jupyter-widgets/controls",
            "_view_module_version": "1.5.0",
            "_view_name": "ProgressView",
            "bar_style": "success",
            "description": "",
            "description_tooltip": null,
            "layout": "IPY_MODEL_ff178014d8ef4ed8afa19c95e5570c6d",
            "max": 244937,
            "min": 0,
            "orientation": "horizontal",
            "style": "IPY_MODEL_0bc543b50c4f4dc3a064fc1502b4aef9",
            "value": 244937
          }
        },
        "3f052299426d4d7e83d4d1524b2f1c9c": {
          "model_module": "@jupyter-widgets/controls",
          "model_name": "HTMLModel",
          "model_module_version": "1.5.0",
          "state": {
            "_dom_classes": [],
            "_model_module": "@jupyter-widgets/controls",
            "_model_module_version": "1.5.0",
            "_model_name": "HTMLModel",
            "_view_count": null,
            "_view_module": "@jupyter-widgets/controls",
            "_view_module_version": "1.5.0",
            "_view_name": "HTMLView",
            "description": "",
            "description_tooltip": null,
            "layout": "IPY_MODEL_0eade7ab5f984985ab0e8fdb20fa9ca1",
            "placeholder": "​",
            "style": "IPY_MODEL_77dd8eea0b02446fb6f2688dc79374dd",
            "value": " 245k/245k [00:00&lt;00:00, 2.92MB/s]"
          }
        },
        "e04db83320394c27a1c62cab9ca11972": {
          "model_module": "@jupyter-widgets/base",
          "model_name": "LayoutModel",
          "model_module_version": "1.2.0",
          "state": {
            "_model_module": "@jupyter-widgets/base",
            "_model_module_version": "1.2.0",
            "_model_name": "LayoutModel",
            "_view_count": null,
            "_view_module": "@jupyter-widgets/base",
            "_view_module_version": "1.2.0",
            "_view_name": "LayoutView",
            "align_content": null,
            "align_items": null,
            "align_self": null,
            "border": null,
            "bottom": null,
            "display": null,
            "flex": null,
            "flex_flow": null,
            "grid_area": null,
            "grid_auto_columns": null,
            "grid_auto_flow": null,
            "grid_auto_rows": null,
            "grid_column": null,
            "grid_gap": null,
            "grid_row": null,
            "grid_template_areas": null,
            "grid_template_columns": null,
            "grid_template_rows": null,
            "height": null,
            "justify_content": null,
            "justify_items": null,
            "left": null,
            "margin": null,
            "max_height": null,
            "max_width": null,
            "min_height": null,
            "min_width": null,
            "object_fit": null,
            "object_position": null,
            "order": null,
            "overflow": null,
            "overflow_x": null,
            "overflow_y": null,
            "padding": null,
            "right": null,
            "top": null,
            "visibility": null,
            "width": null
          }
        },
        "cd8eeee8564245cf832d1ede6b03fe2a": {
          "model_module": "@jupyter-widgets/base",
          "model_name": "LayoutModel",
          "model_module_version": "1.2.0",
          "state": {
            "_model_module": "@jupyter-widgets/base",
            "_model_module_version": "1.2.0",
            "_model_name": "LayoutModel",
            "_view_count": null,
            "_view_module": "@jupyter-widgets/base",
            "_view_module_version": "1.2.0",
            "_view_name": "LayoutView",
            "align_content": null,
            "align_items": null,
            "align_self": null,
            "border": null,
            "bottom": null,
            "display": null,
            "flex": null,
            "flex_flow": null,
            "grid_area": null,
            "grid_auto_columns": null,
            "grid_auto_flow": null,
            "grid_auto_rows": null,
            "grid_column": null,
            "grid_gap": null,
            "grid_row": null,
            "grid_template_areas": null,
            "grid_template_columns": null,
            "grid_template_rows": null,
            "height": null,
            "justify_content": null,
            "justify_items": null,
            "left": null,
            "margin": null,
            "max_height": null,
            "max_width": null,
            "min_height": null,
            "min_width": null,
            "object_fit": null,
            "object_position": null,
            "order": null,
            "overflow": null,
            "overflow_x": null,
            "overflow_y": null,
            "padding": null,
            "right": null,
            "top": null,
            "visibility": null,
            "width": null
          }
        },
        "27f785e79dfc405c9a0029b27fc12a42": {
          "model_module": "@jupyter-widgets/controls",
          "model_name": "DescriptionStyleModel",
          "model_module_version": "1.5.0",
          "state": {
            "_model_module": "@jupyter-widgets/controls",
            "_model_module_version": "1.5.0",
            "_model_name": "DescriptionStyleModel",
            "_view_count": null,
            "_view_module": "@jupyter-widgets/base",
            "_view_module_version": "1.2.0",
            "_view_name": "StyleView",
            "description_width": ""
          }
        },
        "ff178014d8ef4ed8afa19c95e5570c6d": {
          "model_module": "@jupyter-widgets/base",
          "model_name": "LayoutModel",
          "model_module_version": "1.2.0",
          "state": {
            "_model_module": "@jupyter-widgets/base",
            "_model_module_version": "1.2.0",
            "_model_name": "LayoutModel",
            "_view_count": null,
            "_view_module": "@jupyter-widgets/base",
            "_view_module_version": "1.2.0",
            "_view_name": "LayoutView",
            "align_content": null,
            "align_items": null,
            "align_self": null,
            "border": null,
            "bottom": null,
            "display": null,
            "flex": null,
            "flex_flow": null,
            "grid_area": null,
            "grid_auto_columns": null,
            "grid_auto_flow": null,
            "grid_auto_rows": null,
            "grid_column": null,
            "grid_gap": null,
            "grid_row": null,
            "grid_template_areas": null,
            "grid_template_columns": null,
            "grid_template_rows": null,
            "height": null,
            "justify_content": null,
            "justify_items": null,
            "left": null,
            "margin": null,
            "max_height": null,
            "max_width": null,
            "min_height": null,
            "min_width": null,
            "object_fit": null,
            "object_position": null,
            "order": null,
            "overflow": null,
            "overflow_x": null,
            "overflow_y": null,
            "padding": null,
            "right": null,
            "top": null,
            "visibility": null,
            "width": null
          }
        },
        "0bc543b50c4f4dc3a064fc1502b4aef9": {
          "model_module": "@jupyter-widgets/controls",
          "model_name": "ProgressStyleModel",
          "model_module_version": "1.5.0",
          "state": {
            "_model_module": "@jupyter-widgets/controls",
            "_model_module_version": "1.5.0",
            "_model_name": "ProgressStyleModel",
            "_view_count": null,
            "_view_module": "@jupyter-widgets/base",
            "_view_module_version": "1.2.0",
            "_view_name": "StyleView",
            "bar_color": null,
            "description_width": ""
          }
        },
        "0eade7ab5f984985ab0e8fdb20fa9ca1": {
          "model_module": "@jupyter-widgets/base",
          "model_name": "LayoutModel",
          "model_module_version": "1.2.0",
          "state": {
            "_model_module": "@jupyter-widgets/base",
            "_model_module_version": "1.2.0",
            "_model_name": "LayoutModel",
            "_view_count": null,
            "_view_module": "@jupyter-widgets/base",
            "_view_module_version": "1.2.0",
            "_view_name": "LayoutView",
            "align_content": null,
            "align_items": null,
            "align_self": null,
            "border": null,
            "bottom": null,
            "display": null,
            "flex": null,
            "flex_flow": null,
            "grid_area": null,
            "grid_auto_columns": null,
            "grid_auto_flow": null,
            "grid_auto_rows": null,
            "grid_column": null,
            "grid_gap": null,
            "grid_row": null,
            "grid_template_areas": null,
            "grid_template_columns": null,
            "grid_template_rows": null,
            "height": null,
            "justify_content": null,
            "justify_items": null,
            "left": null,
            "margin": null,
            "max_height": null,
            "max_width": null,
            "min_height": null,
            "min_width": null,
            "object_fit": null,
            "object_position": null,
            "order": null,
            "overflow": null,
            "overflow_x": null,
            "overflow_y": null,
            "padding": null,
            "right": null,
            "top": null,
            "visibility": null,
            "width": null
          }
        },
        "77dd8eea0b02446fb6f2688dc79374dd": {
          "model_module": "@jupyter-widgets/controls",
          "model_name": "DescriptionStyleModel",
          "model_module_version": "1.5.0",
          "state": {
            "_model_module": "@jupyter-widgets/controls",
            "_model_module_version": "1.5.0",
            "_model_name": "DescriptionStyleModel",
            "_view_count": null,
            "_view_module": "@jupyter-widgets/base",
            "_view_module_version": "1.2.0",
            "_view_name": "StyleView",
            "description_width": ""
          }
        },
        "fd0dfe0ffa374c8fbec72a25d4481aa6": {
          "model_module": "@jupyter-widgets/controls",
          "model_name": "HBoxModel",
          "model_module_version": "1.5.0",
          "state": {
            "_dom_classes": [],
            "_model_module": "@jupyter-widgets/controls",
            "_model_module_version": "1.5.0",
            "_model_name": "HBoxModel",
            "_view_count": null,
            "_view_module": "@jupyter-widgets/controls",
            "_view_module_version": "1.5.0",
            "_view_name": "HBoxView",
            "box_style": "",
            "children": [
              "IPY_MODEL_0732acd57fcd4493ab3b3a96e6a1f68d",
              "IPY_MODEL_bd0c9b820e8f428482deffc7ded62073",
              "IPY_MODEL_a428dc0db2584de3896d9167ca8c7d7b"
            ],
            "layout": "IPY_MODEL_85dd2672b4584d308a42fe23c1c07d54"
          }
        },
        "0732acd57fcd4493ab3b3a96e6a1f68d": {
          "model_module": "@jupyter-widgets/controls",
          "model_name": "HTMLModel",
          "model_module_version": "1.5.0",
          "state": {
            "_dom_classes": [],
            "_model_module": "@jupyter-widgets/controls",
            "_model_module_version": "1.5.0",
            "_model_name": "HTMLModel",
            "_view_count": null,
            "_view_module": "@jupyter-widgets/controls",
            "_view_module_version": "1.5.0",
            "_view_name": "HTMLView",
            "description": "",
            "description_tooltip": null,
            "layout": "IPY_MODEL_dc26dc110a834be19e32b7c18659b46c",
            "placeholder": "​",
            "style": "IPY_MODEL_db5e86852ef34cbb9a6dc32ba295c35a",
            "value": "special_tokens_map.json: 100%"
          }
        },
        "bd0c9b820e8f428482deffc7ded62073": {
          "model_module": "@jupyter-widgets/controls",
          "model_name": "FloatProgressModel",
          "model_module_version": "1.5.0",
          "state": {
            "_dom_classes": [],
            "_model_module": "@jupyter-widgets/controls",
            "_model_module_version": "1.5.0",
            "_model_name": "FloatProgressModel",
            "_view_count": null,
            "_view_module": "@jupyter-widgets/controls",
            "_view_module_version": "1.5.0",
            "_view_name": "ProgressView",
            "bar_style": "success",
            "description": "",
            "description_tooltip": null,
            "layout": "IPY_MODEL_ec1e65297efd41adae992e343f8e14ff",
            "max": 112,
            "min": 0,
            "orientation": "horizontal",
            "style": "IPY_MODEL_05a3e71331934f8185f93e19efe106c8",
            "value": 112
          }
        },
        "a428dc0db2584de3896d9167ca8c7d7b": {
          "model_module": "@jupyter-widgets/controls",
          "model_name": "HTMLModel",
          "model_module_version": "1.5.0",
          "state": {
            "_dom_classes": [],
            "_model_module": "@jupyter-widgets/controls",
            "_model_module_version": "1.5.0",
            "_model_name": "HTMLModel",
            "_view_count": null,
            "_view_module": "@jupyter-widgets/controls",
            "_view_module_version": "1.5.0",
            "_view_name": "HTMLView",
            "description": "",
            "description_tooltip": null,
            "layout": "IPY_MODEL_f7721f7eba6647a68b97b68944d998cd",
            "placeholder": "​",
            "style": "IPY_MODEL_fa06bd1c2ee44fdc9fc8529d7db003d4",
            "value": " 112/112 [00:00&lt;00:00, 1.73kB/s]"
          }
        },
        "85dd2672b4584d308a42fe23c1c07d54": {
          "model_module": "@jupyter-widgets/base",
          "model_name": "LayoutModel",
          "model_module_version": "1.2.0",
          "state": {
            "_model_module": "@jupyter-widgets/base",
            "_model_module_version": "1.2.0",
            "_model_name": "LayoutModel",
            "_view_count": null,
            "_view_module": "@jupyter-widgets/base",
            "_view_module_version": "1.2.0",
            "_view_name": "LayoutView",
            "align_content": null,
            "align_items": null,
            "align_self": null,
            "border": null,
            "bottom": null,
            "display": null,
            "flex": null,
            "flex_flow": null,
            "grid_area": null,
            "grid_auto_columns": null,
            "grid_auto_flow": null,
            "grid_auto_rows": null,
            "grid_column": null,
            "grid_gap": null,
            "grid_row": null,
            "grid_template_areas": null,
            "grid_template_columns": null,
            "grid_template_rows": null,
            "height": null,
            "justify_content": null,
            "justify_items": null,
            "left": null,
            "margin": null,
            "max_height": null,
            "max_width": null,
            "min_height": null,
            "min_width": null,
            "object_fit": null,
            "object_position": null,
            "order": null,
            "overflow": null,
            "overflow_x": null,
            "overflow_y": null,
            "padding": null,
            "right": null,
            "top": null,
            "visibility": null,
            "width": null
          }
        },
        "dc26dc110a834be19e32b7c18659b46c": {
          "model_module": "@jupyter-widgets/base",
          "model_name": "LayoutModel",
          "model_module_version": "1.2.0",
          "state": {
            "_model_module": "@jupyter-widgets/base",
            "_model_module_version": "1.2.0",
            "_model_name": "LayoutModel",
            "_view_count": null,
            "_view_module": "@jupyter-widgets/base",
            "_view_module_version": "1.2.0",
            "_view_name": "LayoutView",
            "align_content": null,
            "align_items": null,
            "align_self": null,
            "border": null,
            "bottom": null,
            "display": null,
            "flex": null,
            "flex_flow": null,
            "grid_area": null,
            "grid_auto_columns": null,
            "grid_auto_flow": null,
            "grid_auto_rows": null,
            "grid_column": null,
            "grid_gap": null,
            "grid_row": null,
            "grid_template_areas": null,
            "grid_template_columns": null,
            "grid_template_rows": null,
            "height": null,
            "justify_content": null,
            "justify_items": null,
            "left": null,
            "margin": null,
            "max_height": null,
            "max_width": null,
            "min_height": null,
            "min_width": null,
            "object_fit": null,
            "object_position": null,
            "order": null,
            "overflow": null,
            "overflow_x": null,
            "overflow_y": null,
            "padding": null,
            "right": null,
            "top": null,
            "visibility": null,
            "width": null
          }
        },
        "db5e86852ef34cbb9a6dc32ba295c35a": {
          "model_module": "@jupyter-widgets/controls",
          "model_name": "DescriptionStyleModel",
          "model_module_version": "1.5.0",
          "state": {
            "_model_module": "@jupyter-widgets/controls",
            "_model_module_version": "1.5.0",
            "_model_name": "DescriptionStyleModel",
            "_view_count": null,
            "_view_module": "@jupyter-widgets/base",
            "_view_module_version": "1.2.0",
            "_view_name": "StyleView",
            "description_width": ""
          }
        },
        "ec1e65297efd41adae992e343f8e14ff": {
          "model_module": "@jupyter-widgets/base",
          "model_name": "LayoutModel",
          "model_module_version": "1.2.0",
          "state": {
            "_model_module": "@jupyter-widgets/base",
            "_model_module_version": "1.2.0",
            "_model_name": "LayoutModel",
            "_view_count": null,
            "_view_module": "@jupyter-widgets/base",
            "_view_module_version": "1.2.0",
            "_view_name": "LayoutView",
            "align_content": null,
            "align_items": null,
            "align_self": null,
            "border": null,
            "bottom": null,
            "display": null,
            "flex": null,
            "flex_flow": null,
            "grid_area": null,
            "grid_auto_columns": null,
            "grid_auto_flow": null,
            "grid_auto_rows": null,
            "grid_column": null,
            "grid_gap": null,
            "grid_row": null,
            "grid_template_areas": null,
            "grid_template_columns": null,
            "grid_template_rows": null,
            "height": null,
            "justify_content": null,
            "justify_items": null,
            "left": null,
            "margin": null,
            "max_height": null,
            "max_width": null,
            "min_height": null,
            "min_width": null,
            "object_fit": null,
            "object_position": null,
            "order": null,
            "overflow": null,
            "overflow_x": null,
            "overflow_y": null,
            "padding": null,
            "right": null,
            "top": null,
            "visibility": null,
            "width": null
          }
        },
        "05a3e71331934f8185f93e19efe106c8": {
          "model_module": "@jupyter-widgets/controls",
          "model_name": "ProgressStyleModel",
          "model_module_version": "1.5.0",
          "state": {
            "_model_module": "@jupyter-widgets/controls",
            "_model_module_version": "1.5.0",
            "_model_name": "ProgressStyleModel",
            "_view_count": null,
            "_view_module": "@jupyter-widgets/base",
            "_view_module_version": "1.2.0",
            "_view_name": "StyleView",
            "bar_color": null,
            "description_width": ""
          }
        },
        "f7721f7eba6647a68b97b68944d998cd": {
          "model_module": "@jupyter-widgets/base",
          "model_name": "LayoutModel",
          "model_module_version": "1.2.0",
          "state": {
            "_model_module": "@jupyter-widgets/base",
            "_model_module_version": "1.2.0",
            "_model_name": "LayoutModel",
            "_view_count": null,
            "_view_module": "@jupyter-widgets/base",
            "_view_module_version": "1.2.0",
            "_view_name": "LayoutView",
            "align_content": null,
            "align_items": null,
            "align_self": null,
            "border": null,
            "bottom": null,
            "display": null,
            "flex": null,
            "flex_flow": null,
            "grid_area": null,
            "grid_auto_columns": null,
            "grid_auto_flow": null,
            "grid_auto_rows": null,
            "grid_column": null,
            "grid_gap": null,
            "grid_row": null,
            "grid_template_areas": null,
            "grid_template_columns": null,
            "grid_template_rows": null,
            "height": null,
            "justify_content": null,
            "justify_items": null,
            "left": null,
            "margin": null,
            "max_height": null,
            "max_width": null,
            "min_height": null,
            "min_width": null,
            "object_fit": null,
            "object_position": null,
            "order": null,
            "overflow": null,
            "overflow_x": null,
            "overflow_y": null,
            "padding": null,
            "right": null,
            "top": null,
            "visibility": null,
            "width": null
          }
        },
        "fa06bd1c2ee44fdc9fc8529d7db003d4": {
          "model_module": "@jupyter-widgets/controls",
          "model_name": "DescriptionStyleModel",
          "model_module_version": "1.5.0",
          "state": {
            "_model_module": "@jupyter-widgets/controls",
            "_model_module_version": "1.5.0",
            "_model_name": "DescriptionStyleModel",
            "_view_count": null,
            "_view_module": "@jupyter-widgets/base",
            "_view_module_version": "1.2.0",
            "_view_name": "StyleView",
            "description_width": ""
          }
        },
        "7981160536db48fd971c69cd7f49896c": {
          "model_module": "@jupyter-widgets/controls",
          "model_name": "HBoxModel",
          "model_module_version": "1.5.0",
          "state": {
            "_dom_classes": [],
            "_model_module": "@jupyter-widgets/controls",
            "_model_module_version": "1.5.0",
            "_model_name": "HBoxModel",
            "_view_count": null,
            "_view_module": "@jupyter-widgets/controls",
            "_view_module_version": "1.5.0",
            "_view_name": "HBoxView",
            "box_style": "",
            "children": [
              "IPY_MODEL_9da801eb1dd84a279859435ed010f813",
              "IPY_MODEL_324614216f054c978f0b2470e3f978b9",
              "IPY_MODEL_4a4374b7810f45a695f91114babcb83b"
            ],
            "layout": "IPY_MODEL_f5019a43d5a2471191883d1f491dbfdb"
          }
        },
        "9da801eb1dd84a279859435ed010f813": {
          "model_module": "@jupyter-widgets/controls",
          "model_name": "HTMLModel",
          "model_module_version": "1.5.0",
          "state": {
            "_dom_classes": [],
            "_model_module": "@jupyter-widgets/controls",
            "_model_module_version": "1.5.0",
            "_model_name": "HTMLModel",
            "_view_count": null,
            "_view_module": "@jupyter-widgets/controls",
            "_view_module_version": "1.5.0",
            "_view_name": "HTMLView",
            "description": "",
            "description_tooltip": null,
            "layout": "IPY_MODEL_a833f8b589a4484c9c0580ea82222980",
            "placeholder": "​",
            "style": "IPY_MODEL_3384a0b54b1b4ada9800b86cb68291b4",
            "value": "pytorch_model.bin: 100%"
          }
        },
        "324614216f054c978f0b2470e3f978b9": {
          "model_module": "@jupyter-widgets/controls",
          "model_name": "FloatProgressModel",
          "model_module_version": "1.5.0",
          "state": {
            "_dom_classes": [],
            "_model_module": "@jupyter-widgets/controls",
            "_model_module_version": "1.5.0",
            "_model_name": "FloatProgressModel",
            "_view_count": null,
            "_view_module": "@jupyter-widgets/controls",
            "_view_module_version": "1.5.0",
            "_view_name": "ProgressView",
            "bar_style": "success",
            "description": "",
            "description_tooltip": null,
            "layout": "IPY_MODEL_f0e417d579984f61add685f637134a3f",
            "max": 1374793954,
            "min": 0,
            "orientation": "horizontal",
            "style": "IPY_MODEL_bc8c38f710ca42f3b0b700e3c8d62199",
            "value": 1374793954
          }
        },
        "4a4374b7810f45a695f91114babcb83b": {
          "model_module": "@jupyter-widgets/controls",
          "model_name": "HTMLModel",
          "model_module_version": "1.5.0",
          "state": {
            "_dom_classes": [],
            "_model_module": "@jupyter-widgets/controls",
            "_model_module_version": "1.5.0",
            "_model_name": "HTMLModel",
            "_view_count": null,
            "_view_module": "@jupyter-widgets/controls",
            "_view_module_version": "1.5.0",
            "_view_name": "HTMLView",
            "description": "",
            "description_tooltip": null,
            "layout": "IPY_MODEL_4c0ad177d0194e579b72d7b1bc687043",
            "placeholder": "​",
            "style": "IPY_MODEL_9eff1facc1614c6d93680551fd545a09",
            "value": " 1.37G/1.37G [00:16&lt;00:00, 121MB/s]"
          }
        },
        "f5019a43d5a2471191883d1f491dbfdb": {
          "model_module": "@jupyter-widgets/base",
          "model_name": "LayoutModel",
          "model_module_version": "1.2.0",
          "state": {
            "_model_module": "@jupyter-widgets/base",
            "_model_module_version": "1.2.0",
            "_model_name": "LayoutModel",
            "_view_count": null,
            "_view_module": "@jupyter-widgets/base",
            "_view_module_version": "1.2.0",
            "_view_name": "LayoutView",
            "align_content": null,
            "align_items": null,
            "align_self": null,
            "border": null,
            "bottom": null,
            "display": null,
            "flex": null,
            "flex_flow": null,
            "grid_area": null,
            "grid_auto_columns": null,
            "grid_auto_flow": null,
            "grid_auto_rows": null,
            "grid_column": null,
            "grid_gap": null,
            "grid_row": null,
            "grid_template_areas": null,
            "grid_template_columns": null,
            "grid_template_rows": null,
            "height": null,
            "justify_content": null,
            "justify_items": null,
            "left": null,
            "margin": null,
            "max_height": null,
            "max_width": null,
            "min_height": null,
            "min_width": null,
            "object_fit": null,
            "object_position": null,
            "order": null,
            "overflow": null,
            "overflow_x": null,
            "overflow_y": null,
            "padding": null,
            "right": null,
            "top": null,
            "visibility": null,
            "width": null
          }
        },
        "a833f8b589a4484c9c0580ea82222980": {
          "model_module": "@jupyter-widgets/base",
          "model_name": "LayoutModel",
          "model_module_version": "1.2.0",
          "state": {
            "_model_module": "@jupyter-widgets/base",
            "_model_module_version": "1.2.0",
            "_model_name": "LayoutModel",
            "_view_count": null,
            "_view_module": "@jupyter-widgets/base",
            "_view_module_version": "1.2.0",
            "_view_name": "LayoutView",
            "align_content": null,
            "align_items": null,
            "align_self": null,
            "border": null,
            "bottom": null,
            "display": null,
            "flex": null,
            "flex_flow": null,
            "grid_area": null,
            "grid_auto_columns": null,
            "grid_auto_flow": null,
            "grid_auto_rows": null,
            "grid_column": null,
            "grid_gap": null,
            "grid_row": null,
            "grid_template_areas": null,
            "grid_template_columns": null,
            "grid_template_rows": null,
            "height": null,
            "justify_content": null,
            "justify_items": null,
            "left": null,
            "margin": null,
            "max_height": null,
            "max_width": null,
            "min_height": null,
            "min_width": null,
            "object_fit": null,
            "object_position": null,
            "order": null,
            "overflow": null,
            "overflow_x": null,
            "overflow_y": null,
            "padding": null,
            "right": null,
            "top": null,
            "visibility": null,
            "width": null
          }
        },
        "3384a0b54b1b4ada9800b86cb68291b4": {
          "model_module": "@jupyter-widgets/controls",
          "model_name": "DescriptionStyleModel",
          "model_module_version": "1.5.0",
          "state": {
            "_model_module": "@jupyter-widgets/controls",
            "_model_module_version": "1.5.0",
            "_model_name": "DescriptionStyleModel",
            "_view_count": null,
            "_view_module": "@jupyter-widgets/base",
            "_view_module_version": "1.2.0",
            "_view_name": "StyleView",
            "description_width": ""
          }
        },
        "f0e417d579984f61add685f637134a3f": {
          "model_module": "@jupyter-widgets/base",
          "model_name": "LayoutModel",
          "model_module_version": "1.2.0",
          "state": {
            "_model_module": "@jupyter-widgets/base",
            "_model_module_version": "1.2.0",
            "_model_name": "LayoutModel",
            "_view_count": null,
            "_view_module": "@jupyter-widgets/base",
            "_view_module_version": "1.2.0",
            "_view_name": "LayoutView",
            "align_content": null,
            "align_items": null,
            "align_self": null,
            "border": null,
            "bottom": null,
            "display": null,
            "flex": null,
            "flex_flow": null,
            "grid_area": null,
            "grid_auto_columns": null,
            "grid_auto_flow": null,
            "grid_auto_rows": null,
            "grid_column": null,
            "grid_gap": null,
            "grid_row": null,
            "grid_template_areas": null,
            "grid_template_columns": null,
            "grid_template_rows": null,
            "height": null,
            "justify_content": null,
            "justify_items": null,
            "left": null,
            "margin": null,
            "max_height": null,
            "max_width": null,
            "min_height": null,
            "min_width": null,
            "object_fit": null,
            "object_position": null,
            "order": null,
            "overflow": null,
            "overflow_x": null,
            "overflow_y": null,
            "padding": null,
            "right": null,
            "top": null,
            "visibility": null,
            "width": null
          }
        },
        "bc8c38f710ca42f3b0b700e3c8d62199": {
          "model_module": "@jupyter-widgets/controls",
          "model_name": "ProgressStyleModel",
          "model_module_version": "1.5.0",
          "state": {
            "_model_module": "@jupyter-widgets/controls",
            "_model_module_version": "1.5.0",
            "_model_name": "ProgressStyleModel",
            "_view_count": null,
            "_view_module": "@jupyter-widgets/base",
            "_view_module_version": "1.2.0",
            "_view_name": "StyleView",
            "bar_color": null,
            "description_width": ""
          }
        },
        "4c0ad177d0194e579b72d7b1bc687043": {
          "model_module": "@jupyter-widgets/base",
          "model_name": "LayoutModel",
          "model_module_version": "1.2.0",
          "state": {
            "_model_module": "@jupyter-widgets/base",
            "_model_module_version": "1.2.0",
            "_model_name": "LayoutModel",
            "_view_count": null,
            "_view_module": "@jupyter-widgets/base",
            "_view_module_version": "1.2.0",
            "_view_name": "LayoutView",
            "align_content": null,
            "align_items": null,
            "align_self": null,
            "border": null,
            "bottom": null,
            "display": null,
            "flex": null,
            "flex_flow": null,
            "grid_area": null,
            "grid_auto_columns": null,
            "grid_auto_flow": null,
            "grid_auto_rows": null,
            "grid_column": null,
            "grid_gap": null,
            "grid_row": null,
            "grid_template_areas": null,
            "grid_template_columns": null,
            "grid_template_rows": null,
            "height": null,
            "justify_content": null,
            "justify_items": null,
            "left": null,
            "margin": null,
            "max_height": null,
            "max_width": null,
            "min_height": null,
            "min_width": null,
            "object_fit": null,
            "object_position": null,
            "order": null,
            "overflow": null,
            "overflow_x": null,
            "overflow_y": null,
            "padding": null,
            "right": null,
            "top": null,
            "visibility": null,
            "width": null
          }
        },
        "9eff1facc1614c6d93680551fd545a09": {
          "model_module": "@jupyter-widgets/controls",
          "model_name": "DescriptionStyleModel",
          "model_module_version": "1.5.0",
          "state": {
            "_model_module": "@jupyter-widgets/controls",
            "_model_module_version": "1.5.0",
            "_model_name": "DescriptionStyleModel",
            "_view_count": null,
            "_view_module": "@jupyter-widgets/base",
            "_view_module_version": "1.2.0",
            "_view_name": "StyleView",
            "description_width": ""
          }
        }
      }
    }
  },
  "cells": [
    {
      "cell_type": "markdown",
      "source": [
        "# seed"
      ],
      "metadata": {
        "id": "TvDueUE_i7Qz"
      }
    },
    {
      "cell_type": "code",
      "source": [
        "import random\n",
        "\n",
        "\n",
        "def reset_numpy_seed(seed_value=42):\n",
        "  try:\n",
        "    # Set NumPy random seed\n",
        "    import numpy as np\n",
        "    np.random.seed(seed_value)\n",
        "    print(f'NumPy random seed set with value: {seed_value}')\n",
        "  except Exception as e:\n",
        "    print(f'NumPy random seed was not set: {e}')\n",
        "  return\n",
        "\n",
        "\n",
        "def reset_tensorflow_seed(seed_value=42):\n",
        "  try:\n",
        "    # Set TensorFlow random seed\n",
        "    import tensorflow as tf\n",
        "    success = False\n",
        "    # Here we have 2 different ways to set the seed\n",
        "    # depending on the version of TensorFlow\n",
        "    try:\n",
        "      tf.random.set_seed(seed_value)\n",
        "      success = True\n",
        "    except Exception as e:\n",
        "      pass\n",
        "    try:\n",
        "      tf.set_random_seed(seed_value)\n",
        "      success = True\n",
        "    except Exception as e:\n",
        "      pass\n",
        "    if success:\n",
        "      print(f'TensorFlow random seed set with value: {seed_value}')\n",
        "    else:\n",
        "      print(f'TensorFlow random seed was not set')\n",
        "  except Exception as e:\n",
        "    print(f'TensorFlow random seed was not set: {e}')\n",
        "  return\n",
        "\n",
        "\n",
        "def reset_torch_seed(seed_value=42):\n",
        "  try:\n",
        "    # Set PyTorch random seed\n",
        "    import torch\n",
        "    torch.manual_seed(seed_value)\n",
        "    if torch.cuda.is_available():\n",
        "      torch.cuda.manual_seed(seed_value)\n",
        "      torch.cuda.manual_seed_all(seed_value)  # if you are using multiple GPUs\n",
        "    print(f'PyTorch random seed set with value: {seed_value}')\n",
        "  except Exception as e:\n",
        "    print(f'PyTorch random seed was not set: {e}')\n",
        "  return\n",
        "\n",
        "\n",
        "def set_random_seeds(seed_value=42):\n",
        "  # Set Python random seed\n",
        "  random.seed(seed_value)\n",
        "  reset_numpy_seed(seed_value)\n",
        "  reset_tensorflow_seed(seed_value)\n",
        "  reset_torch_seed(seed_value)\n",
        "  return\n",
        "\n",
        "\n",
        "if __name__ == '__main__':\n",
        "  # Set the desired seed value\n",
        "  seed = 7757\n",
        "\n",
        "  # Set random seeds\n",
        "  set_random_seeds(seed)"
      ],
      "metadata": {
        "colab": {
          "base_uri": "https://localhost:8080/"
        },
        "id": "XqOKkZfGBa9k",
        "outputId": "a0ee8ff5-2388-4ff8-812e-eecf67250d41"
      },
      "execution_count": 2,
      "outputs": [
        {
          "output_type": "stream",
          "name": "stdout",
          "text": [
            "NumPy random seed set with value: 7757\n",
            "TensorFlow random seed set with value: 7757\n",
            "PyTorch random seed set with value: 7757\n"
          ]
        }
      ]
    },
    {
      "cell_type": "markdown",
      "source": [
        "# intro"
      ],
      "metadata": {
        "id": "Hk9jYZ9bkBJz"
      }
    },
    {
      "cell_type": "code",
      "source": [
        "import pandas as pd\n",
        "from sklearn.model_selection import train_test_split\n",
        "from transformers import AutoTokenizer, AutoModel\n",
        "import torch\n",
        "from sklearn.feature_extraction.text import TfidfVectorizer\n",
        "from sklearn import svm\n",
        "from sklearn.metrics import accuracy_score"
      ],
      "metadata": {
        "id": "Yvgg9UtrBue1"
      },
      "execution_count": 3,
      "outputs": []
    },
    {
      "cell_type": "code",
      "source": [
        "from google.colab import drive\n",
        "drive.mount('/content/drive')"
      ],
      "metadata": {
        "colab": {
          "base_uri": "https://localhost:8080/"
        },
        "id": "aTKYEUMaBgFZ",
        "outputId": "bcf264bd-5857-4c04-dd05-d4ad240b1f53"
      },
      "execution_count": 4,
      "outputs": [
        {
          "output_type": "stream",
          "name": "stdout",
          "text": [
            "Drive already mounted at /content/drive; to attempt to forcibly remount, call drive.mount(\"/content/drive\", force_remount=True).\n"
          ]
        }
      ]
    },
    {
      "cell_type": "code",
      "source": [
        "read_data = pd.read_csv(\n",
        "    \"/content/drive/MyDrive/NLP3/train.csv\")\n"
      ],
      "metadata": {
        "id": "buOlW107AS6k"
      },
      "execution_count": 5,
      "outputs": []
    },
    {
      "cell_type": "code",
      "source": [
        "val_data = pd.read_csv('/content/drive/MyDrive/NLP3/test.csv')\n",
        "val_data['class'] = [True for _ in range(len(val_data['title']))]\n",
        "\n",
        "print(len(val_data))"
      ],
      "metadata": {
        "colab": {
          "base_uri": "https://localhost:8080/"
        },
        "id": "VlPO6payYLz8",
        "outputId": "14c1303a-7a29-45b5-888b-804767797e36"
      },
      "execution_count": 17,
      "outputs": [
        {
          "output_type": "stream",
          "name": "stdout",
          "text": [
            "36669\n"
          ]
        }
      ]
    },
    {
      "cell_type": "code",
      "source": [
        "# class Stire:\n",
        "#   def __init__(self, title, content, satire):\n",
        "#     self.title = title\n",
        "#     self.content = content\n",
        "#     self.satire = satire"
      ],
      "metadata": {
        "id": "mCf5SM0dB_jo"
      },
      "execution_count": 7,
      "outputs": []
    },
    {
      "cell_type": "markdown",
      "source": [
        "# preprocesare"
      ],
      "metadata": {
        "id": "amrWRQBRkNGB"
      }
    },
    {
      "cell_type": "code",
      "source": [
        "import nltk\n",
        "from nltk.stem.snowball import stopwords\n",
        "nltk.download('stopwords')\n",
        "import re\n",
        "\n",
        "def preprocess(text):\n",
        "    if type(text) is str:\n",
        "        # Remove words with more than half numbers\n",
        "        # text = re.sub(r'\\b(?=\\w\\d)\\w\\d\\w\\b', ' ', text)\n",
        "\n",
        "        # Correct badly hyphened words, badly hyphened measure units, and badly formatted numbers.\n",
        "        text = re.sub(r'(?<=\\S)-(?=\\S)', '', text) # remove bad hyphens\n",
        "        text = re.sub(r'(\\d+)(\\s)(%|°|€|¥|£|$|cm|mm|m|km|in|ft|yd|mi|g|kg|lb|oz)(?!\\w)', r'\\1\\3', text) # correct badly hyphened measure units\n",
        "        text = re.sub(r'(\\d),(\\d)', r'\\1.\\2', text) # correct badly formatted numbers\n",
        "\n",
        "        # URLs\n",
        "        text = re.sub(r'\\(?\\s*https?\\S*\\s*\\)?', r' ', text)\n",
        "\n",
        "        # Sites\n",
        "        text = re.sub(r'\\s*\\s', r' ', text)\n",
        "\n",
        "        text = re.sub(r'\\(?\\s*@\\S*\\s*\\)?', r' Persoană ', text)\n",
        "\n",
        "        # text = re.sub(r'@\\w+', '', text)\n",
        "        # text = text.replace('@', '') # remove soft hyphens\n",
        "        # text = text.replace('\\xad', '') # remove soft hyphens\n",
        "\n",
        "        # Normalize dashes and other characters.\n",
        "        text = text.replace('–', '-') # normalize dashes\n",
        "        text = text.replace('—', '-') # normalize dashes\n",
        "        text = text.replace('−', '-') # normalize dashes\n",
        "        text = text.replace('‑', '-') # normalize dashes\n",
        "        text = text.replace('“', '\"') # normalize quotation marks\n",
        "        text = text.replace('”', '\"') # normalize quotation marks\n",
        "        text = text.replace('„', '\"') # normalize quotation marks\n",
        "        text = re.sub(r'(?<=[.,;:])(?=[^\\s])', r' ', text)\n",
        "\n",
        "        # Reduce multiple spaces.\n",
        "        text = re.sub(' +',' ',text)\n",
        "\n",
        "        if text[0]==' ':\n",
        "            text = text[1:]\n",
        "\n",
        "        # diacritice = 'âăîțșÎĂȚȘÂ'\n",
        "        # normale = 'aaitsiatsa'\n",
        "        # for i in range(len(diacritice)):\n",
        "        #     text = text.replace(diacritice[i], normale[i])\n",
        "\n",
        "        return text\n",
        "\n",
        "# numere de telefon\n",
        "# hastaguri\n",
        "# pic.twiter\n",
        "# ++, --\n",
        "#\n"
      ],
      "metadata": {
        "colab": {
          "base_uri": "https://localhost:8080/"
        },
        "id": "jaejS9UVkMQ4",
        "outputId": "a73f8bec-d337-4d12-e464-71247a8fc481"
      },
      "execution_count": 8,
      "outputs": [
        {
          "output_type": "stream",
          "name": "stderr",
          "text": [
            "[nltk_data] Downloading package stopwords to /root/nltk_data...\n",
            "[nltk_data]   Package stopwords is already up-to-date!\n"
          ]
        }
      ]
    },
    {
      "cell_type": "markdown",
      "source": [
        "# titlu + content"
      ],
      "metadata": {
        "id": "z4R4MHHwI6gx"
      }
    },
    {
      "cell_type": "code",
      "source": [],
      "metadata": {
        "id": "hr-VdKPwksTl"
      },
      "execution_count": null,
      "outputs": []
    },
    {
      "cell_type": "code",
      "source": [
        "title_train, title_test, content_train, content_test, satire_train, satire_test = train_test_split(read_data['title'], read_data['content'], read_data['class'], test_size=0.20)\n",
        "\n",
        "\n",
        "# Concatenate title and content for training and testing data\n",
        "train_data = [str(title) + ' ' + str(content) for title, content in zip(title_train, content_train)]\n",
        "test_data = [str(title) + ' ' + str(content) for title, content in zip(title_test, content_test)]\n",
        "\n",
        "# Vectorize the text data using TF-IDF\n",
        "vectorizer = TfidfVectorizer()\n",
        "train_data_vectors = vectorizer.fit_transform(train_data)\n",
        "test_data_vectors = vectorizer.transform(test_data)\n"
      ],
      "metadata": {
        "id": "pg8BWBVoBw_A"
      },
      "execution_count": 12,
      "outputs": []
    },
    {
      "cell_type": "code",
      "source": [
        "# Create SVM classifier with a linear kernel\n",
        "clf_svm = svm.SVC(kernel='linear')\n",
        "\n",
        "# Train the SVM classifier\n",
        "clf_svm.fit(train_data_vectors, satire_train)\n",
        "\n",
        "# Predict the labels for the test data\n",
        "predicted_labels = clf_svm.predict(test_data_vectors)\n",
        "\n",
        "# Calculate accuracy\n",
        "accuracy = accuracy_score(satire_test, predicted_labels)\n",
        "print(\"Accuracy:\", accuracy)"
      ],
      "metadata": {
        "id": "fOmOa3BpISsf"
      },
      "execution_count": null,
      "outputs": []
    },
    {
      "cell_type": "markdown",
      "source": [
        "# titlu"
      ],
      "metadata": {
        "id": "ymJPOJlkI8Ze"
      }
    },
    {
      "cell_type": "code",
      "source": [],
      "metadata": {
        "id": "39eeF1B9opY1"
      },
      "execution_count": null,
      "outputs": []
    },
    {
      "cell_type": "code",
      "source": [
        "# title_train, title_test, satire_train, satire_test = train_test_split(read_data['title'].apply(lambda text: preprocess(text)), read_data['class'], test_size=0.20)\n",
        "title_train = read_data['title']\n",
        "satire_train = read_data['class']\n",
        "title_val = val_data['title']\n",
        "\n",
        "train_data = [str(title) for title in title_train]\n",
        "# test_data = [str(title) for title in title_test]\n",
        "val_data = [str(title) for title in title_val]\n",
        "\n",
        "vectorizer = TfidfVectorizer()\n",
        "train_data_vectors = vectorizer.fit_transform(train_data)\n",
        "# test_data_vectors = vectorizer.transform(test_data)\n",
        "val_data_vectors = vectorizer.transform(val_data)"
      ],
      "metadata": {
        "id": "okLqCJLdI9j5"
      },
      "execution_count": 18,
      "outputs": []
    },
    {
      "cell_type": "code",
      "source": [
        "# train - 22min\n",
        "svm_classifier = svm.SVC(kernel='linear')\n",
        "svm_classifier.fit(train_data_vectors, satire_train)"
      ],
      "metadata": {
        "colab": {
          "base_uri": "https://localhost:8080/",
          "height": 74
        },
        "id": "f6cA5C74llu-",
        "outputId": "781ecbd5-a4f1-4a00-8d77-6f567eafdd30"
      },
      "execution_count": 19,
      "outputs": [
        {
          "output_type": "execute_result",
          "data": {
            "text/plain": [
              "SVC(kernel='linear')"
            ],
            "text/html": [
              "<style>#sk-container-id-2 {color: black;background-color: white;}#sk-container-id-2 pre{padding: 0;}#sk-container-id-2 div.sk-toggleable {background-color: white;}#sk-container-id-2 label.sk-toggleable__label {cursor: pointer;display: block;width: 100%;margin-bottom: 0;padding: 0.3em;box-sizing: border-box;text-align: center;}#sk-container-id-2 label.sk-toggleable__label-arrow:before {content: \"▸\";float: left;margin-right: 0.25em;color: #696969;}#sk-container-id-2 label.sk-toggleable__label-arrow:hover:before {color: black;}#sk-container-id-2 div.sk-estimator:hover label.sk-toggleable__label-arrow:before {color: black;}#sk-container-id-2 div.sk-toggleable__content {max-height: 0;max-width: 0;overflow: hidden;text-align: left;background-color: #f0f8ff;}#sk-container-id-2 div.sk-toggleable__content pre {margin: 0.2em;color: black;border-radius: 0.25em;background-color: #f0f8ff;}#sk-container-id-2 input.sk-toggleable__control:checked~div.sk-toggleable__content {max-height: 200px;max-width: 100%;overflow: auto;}#sk-container-id-2 input.sk-toggleable__control:checked~label.sk-toggleable__label-arrow:before {content: \"▾\";}#sk-container-id-2 div.sk-estimator input.sk-toggleable__control:checked~label.sk-toggleable__label {background-color: #d4ebff;}#sk-container-id-2 div.sk-label input.sk-toggleable__control:checked~label.sk-toggleable__label {background-color: #d4ebff;}#sk-container-id-2 input.sk-hidden--visually {border: 0;clip: rect(1px 1px 1px 1px);clip: rect(1px, 1px, 1px, 1px);height: 1px;margin: -1px;overflow: hidden;padding: 0;position: absolute;width: 1px;}#sk-container-id-2 div.sk-estimator {font-family: monospace;background-color: #f0f8ff;border: 1px dotted black;border-radius: 0.25em;box-sizing: border-box;margin-bottom: 0.5em;}#sk-container-id-2 div.sk-estimator:hover {background-color: #d4ebff;}#sk-container-id-2 div.sk-parallel-item::after {content: \"\";width: 100%;border-bottom: 1px solid gray;flex-grow: 1;}#sk-container-id-2 div.sk-label:hover label.sk-toggleable__label {background-color: #d4ebff;}#sk-container-id-2 div.sk-serial::before {content: \"\";position: absolute;border-left: 1px solid gray;box-sizing: border-box;top: 0;bottom: 0;left: 50%;z-index: 0;}#sk-container-id-2 div.sk-serial {display: flex;flex-direction: column;align-items: center;background-color: white;padding-right: 0.2em;padding-left: 0.2em;position: relative;}#sk-container-id-2 div.sk-item {position: relative;z-index: 1;}#sk-container-id-2 div.sk-parallel {display: flex;align-items: stretch;justify-content: center;background-color: white;position: relative;}#sk-container-id-2 div.sk-item::before, #sk-container-id-2 div.sk-parallel-item::before {content: \"\";position: absolute;border-left: 1px solid gray;box-sizing: border-box;top: 0;bottom: 0;left: 50%;z-index: -1;}#sk-container-id-2 div.sk-parallel-item {display: flex;flex-direction: column;z-index: 1;position: relative;background-color: white;}#sk-container-id-2 div.sk-parallel-item:first-child::after {align-self: flex-end;width: 50%;}#sk-container-id-2 div.sk-parallel-item:last-child::after {align-self: flex-start;width: 50%;}#sk-container-id-2 div.sk-parallel-item:only-child::after {width: 0;}#sk-container-id-2 div.sk-dashed-wrapped {border: 1px dashed gray;margin: 0 0.4em 0.5em 0.4em;box-sizing: border-box;padding-bottom: 0.4em;background-color: white;}#sk-container-id-2 div.sk-label label {font-family: monospace;font-weight: bold;display: inline-block;line-height: 1.2em;}#sk-container-id-2 div.sk-label-container {text-align: center;}#sk-container-id-2 div.sk-container {/* jupyter's `normalize.less` sets `[hidden] { display: none; }` but bootstrap.min.css set `[hidden] { display: none !important; }` so we also need the `!important` here to be able to override the default hidden behavior on the sphinx rendered scikit-learn.org. See: https://github.com/scikit-learn/scikit-learn/issues/21755 */display: inline-block !important;position: relative;}#sk-container-id-2 div.sk-text-repr-fallback {display: none;}</style><div id=\"sk-container-id-2\" class=\"sk-top-container\"><div class=\"sk-text-repr-fallback\"><pre>SVC(kernel=&#x27;linear&#x27;)</pre><b>In a Jupyter environment, please rerun this cell to show the HTML representation or trust the notebook. <br />On GitHub, the HTML representation is unable to render, please try loading this page with nbviewer.org.</b></div><div class=\"sk-container\" hidden><div class=\"sk-item\"><div class=\"sk-estimator sk-toggleable\"><input class=\"sk-toggleable__control sk-hidden--visually\" id=\"sk-estimator-id-2\" type=\"checkbox\" checked><label for=\"sk-estimator-id-2\" class=\"sk-toggleable__label sk-toggleable__label-arrow\">SVC</label><div class=\"sk-toggleable__content\"><pre>SVC(kernel=&#x27;linear&#x27;)</pre></div></div></div></div></div>"
            ]
          },
          "metadata": {},
          "execution_count": 19
        }
      ]
    },
    {
      "cell_type": "code",
      "source": [
        "# predictions test\n",
        "predicted_labels_title = svm_classifier.predict(test_data_vectors)\n",
        "\n",
        "# Calculate accuracy\n",
        "accuracy = accuracy_score(satire_test, predicted_labels_title)\n",
        "print(\"Accuracy:\", accuracy)"
      ],
      "metadata": {
        "id": "dwDuF0Z8I9hD"
      },
      "execution_count": null,
      "outputs": []
    },
    {
      "cell_type": "code",
      "source": [
        "from sklearn.metrics import confusion_matrix\n",
        "import seaborn as sns\n",
        "import matplotlib.pyplot as plt\n",
        "\n",
        "# Create confusion matrix\n",
        "cm = confusion_matrix(satire_test, predicted_labels_title)\n",
        "\n",
        "# Plot confusion matrix\n",
        "plt.figure(figsize=(8, 6))\n",
        "sns.heatmap(cm, annot=True, fmt='d', cmap='Blues', xticklabels=['Non-satire', 'Satire'], yticklabels=['Non-satire', 'Satire'])\n",
        "plt.xlabel('Predicted labels')\n",
        "plt.ylabel('True labels')\n",
        "plt.title('Confusion Matrix')\n",
        "plt.show()\n"
      ],
      "metadata": {
        "id": "ZpLrzL1SbYry"
      },
      "execution_count": null,
      "outputs": []
    },
    {
      "cell_type": "code",
      "source": [
        "predicted_labels_title = svm_classifier.predict(val_data_vectors)"
      ],
      "metadata": {
        "id": "hEU4F8yNZd75"
      },
      "execution_count": 20,
      "outputs": []
    },
    {
      "cell_type": "code",
      "source": [
        "len(predicted_labels_title)"
      ],
      "metadata": {
        "colab": {
          "base_uri": "https://localhost:8080/"
        },
        "id": "1qixQ8HnabIC",
        "outputId": "35a1f59f-c95c-48dd-82be-0ac05859a77a"
      },
      "execution_count": 21,
      "outputs": [
        {
          "output_type": "execute_result",
          "data": {
            "text/plain": [
              "36669"
            ]
          },
          "metadata": {},
          "execution_count": 21
        }
      ]
    },
    {
      "cell_type": "code",
      "source": [
        "def code_to_text(code):\n",
        "  labels = [False, True]\n",
        "  return labels[code]\n",
        "\n",
        "\n",
        "\n",
        "\n",
        "y_pred = []\n",
        "output = predicted_labels_title\n",
        "for i in range(len(output)):\n",
        "  try:\n",
        "    item0, item1 = output[i]\n",
        "    y_pred.extend([code_to_text(item0), code_to_text(item1)])\n",
        "  except:\n",
        "    item0 = output[i]\n",
        "    y_pred.append(code_to_text(item0))\n",
        "predict = y_pred\n",
        "\n",
        "\n",
        "i = range(len(predict))\n",
        "dict = {'id':i, 'class':predict}\n",
        "\n",
        "final = pd.DataFrame(dict)\n",
        "\n",
        "fc = final.columns[0]\n",
        "final = final.drop([fc], axis=1)\n",
        "# final.columns = ['Id', 'Label']\n",
        "final.to_csv('final_labels2.csv')"
      ],
      "metadata": {
        "colab": {
          "base_uri": "https://localhost:8080/"
        },
        "id": "_6Rfwj9EZ9bS",
        "outputId": "20198ae2-2be7-4781-ab84-1a7445d6d118"
      },
      "execution_count": 23,
      "outputs": [
        {
          "output_type": "stream",
          "name": "stderr",
          "text": [
            "<ipython-input-23-3ad4e681d823>:3: DeprecationWarning: In future, it will be an error for 'np.bool_' scalars to be interpreted as an index\n",
            "  return labels[code]\n"
          ]
        }
      ]
    },
    {
      "cell_type": "markdown",
      "source": [
        "# content"
      ],
      "metadata": {
        "id": "0r7TlWimJJNR"
      }
    },
    {
      "cell_type": "code",
      "source": [
        "title_train, title_test, content_train, content_test, satire_train, satire_test = train_test_split(read_data['title'], read_data['content'], read_data['class'], test_size=0.20)\n",
        "\n",
        "# Vectorize the text data using TF-IDF\n",
        "vectorizer = TfidfVectorizer()\n",
        "train_data_vectors = vectorizer.fit_transform(content_train)\n",
        "test_data_vectors = vectorizer.transform(content_test)\n"
      ],
      "metadata": {
        "id": "o2siYRAiI9eL"
      },
      "execution_count": null,
      "outputs": []
    },
    {
      "cell_type": "code",
      "source": [
        "# Create SVM classifier with a linear kernel\n",
        "clf_svm = svm.SVC(kernel='linear')\n",
        "\n",
        "# Train the SVM classifier\n",
        "clf_svm.fit(train_data_vectors, satire_train)\n",
        "\n",
        "# Predict the labels for the test data\n",
        "predicted_labels_content = clf_svm.predict(test_data_vectors)\n",
        "\n",
        "# Calculate accuracy\n",
        "accuracy = accuracy_score(satire_test, predicted_labels_content)\n",
        "print(\"Accuracy:\", accuracy)"
      ],
      "metadata": {
        "id": "ysNs53hRI9ct"
      },
      "execution_count": null,
      "outputs": []
    },
    {
      "cell_type": "markdown",
      "source": [
        "# restu"
      ],
      "metadata": {
        "id": "37v194YmYRkS"
      }
    },
    {
      "cell_type": "code",
      "source": [],
      "metadata": {
        "id": "QfLVSiTQJVN3"
      },
      "execution_count": null,
      "outputs": []
    },
    {
      "cell_type": "code",
      "source": [],
      "metadata": {
        "id": "Vv5TvwV9JVK6"
      },
      "execution_count": null,
      "outputs": []
    },
    {
      "cell_type": "code",
      "source": [
        "# file_name = \"/content/train_data.csv\"\n",
        "\n",
        "# reviews = pd.read_csv(file_name)\n",
        "\n",
        "# text = reviews.Text\n",
        "# trr = reviews[\"Final Labels\"]\n",
        "# trr = [str(x) for x in trr]\n",
        "\n",
        "# reviews = []\n",
        "\n",
        "# for i in range(len(trr)):\n",
        "#   reviews.append(Review(text[i], trr[i]))\n",
        "\n",
        "# reviews[5].text\n"
      ],
      "metadata": {
        "colab": {
          "base_uri": "https://localhost:8080/",
          "height": 35
        },
        "id": "WGIAxltyQ_nj",
        "outputId": "06745a9a-6e7d-4cb2-f3f6-ac231ea22bb6"
      },
      "execution_count": null,
      "outputs": [
        {
          "output_type": "execute_result",
          "data": {
            "text/plain": [
              "'@ALETTAOCEANXXXX Ce prințesă frumoasă și sexxxxyyy ești'"
            ],
            "application/vnd.google.colaboratory.intrinsic+json": {
              "type": "string"
            }
          },
          "metadata": {},
          "execution_count": 14
        }
      ]
    },
    {
      "cell_type": "code",
      "source": [
        "\n",
        "# train, test = train_test_split(reviews, test_size = 0.2, random_state = 42)\n",
        "# train = reviews\n",
        "# train_x = [x.text for x in train]\n",
        "# train_y = [x.sentiment for x in train]\n",
        "\n",
        "# test_x = [x.text for x  in test]\n",
        "# test_y = [x.sentiment for x in test]\n",
        "\n"
      ],
      "metadata": {
        "id": "YI6I0LCWQ9PE"
      },
      "execution_count": null,
      "outputs": []
    },
    {
      "cell_type": "code",
      "source": [
        "# vectorizer = TfidfVectorizer()\n",
        "# train_x_vectors = vectorizer.fit_transform(stire_train_df)\n",
        "# test_x_vectors = vectorizer.transform(stire_test_df)\n",
        "# tokenizer = AutoTokenizer.from_pretrained('readerbench/RoBERT-large')\n",
        "# model = AutoModel.from_pretrained('readerbench/RoBERT-large')\n",
        "# print(train_x_vectors[0])"
      ],
      "metadata": {
        "id": "w7Kr5jToQ6XK",
        "colab": {
          "base_uri": "https://localhost:8080/",
          "height": 325,
          "referenced_widgets": [
            "ae2357c0192d4682ba96f3303e938c8f",
            "53b6bce89c4f40ccaf2dd3975c43b939",
            "59a807f5dfd14c2ba5623a0e36076c34",
            "585b4e3373cf481f952d8c4187864e89",
            "9a2e4a0aa4754f1e89fbf4d3e3bba36b",
            "caba2f24ae2e424e8e251144892faffb",
            "a88d5a93320947e38ea077614c7c9522",
            "28dfd8e747b349e5bda7414e97d37277",
            "b53e9b10e3a44033bfbbdd8dd4b1c024",
            "4c18487a608645089c7f7fe875152939",
            "28ed40f306cb4cb084f16a1ffb6d5c65",
            "d0650f94901f41279bf1220ee43e755a",
            "3822c809df8e429c82a08880cbfa93ba",
            "bdf2719e22ea47dd8c840fd8e2d32525",
            "faa24005fbe143bda349f8d628d3d7bd",
            "4e71f433746c4fbb9e51c5b6cb01ffc3",
            "291881878533499ebf7854f58332c8a6",
            "35717b497a94457089f32417abfb2482",
            "08bd874cefab41c8b910b8ab14d33d8e",
            "b5467e7201fd4c529ec4d2ff95fb7bd4",
            "9c87a42be8a24f63acdd7ef4904918a1",
            "e679034a3c9c47319a4273bfaf2ee2b0",
            "d09587df96e245cc9d51b34e6761ab78",
            "3cd77596a76d4601b9f718e22d22b677",
            "88c744e7237047a39545509b2cbc4639",
            "3f052299426d4d7e83d4d1524b2f1c9c",
            "e04db83320394c27a1c62cab9ca11972",
            "cd8eeee8564245cf832d1ede6b03fe2a",
            "27f785e79dfc405c9a0029b27fc12a42",
            "ff178014d8ef4ed8afa19c95e5570c6d",
            "0bc543b50c4f4dc3a064fc1502b4aef9",
            "0eade7ab5f984985ab0e8fdb20fa9ca1",
            "77dd8eea0b02446fb6f2688dc79374dd",
            "fd0dfe0ffa374c8fbec72a25d4481aa6",
            "0732acd57fcd4493ab3b3a96e6a1f68d",
            "bd0c9b820e8f428482deffc7ded62073",
            "a428dc0db2584de3896d9167ca8c7d7b",
            "85dd2672b4584d308a42fe23c1c07d54",
            "dc26dc110a834be19e32b7c18659b46c",
            "db5e86852ef34cbb9a6dc32ba295c35a",
            "ec1e65297efd41adae992e343f8e14ff",
            "05a3e71331934f8185f93e19efe106c8",
            "f7721f7eba6647a68b97b68944d998cd",
            "fa06bd1c2ee44fdc9fc8529d7db003d4",
            "7981160536db48fd971c69cd7f49896c",
            "9da801eb1dd84a279859435ed010f813",
            "324614216f054c978f0b2470e3f978b9",
            "4a4374b7810f45a695f91114babcb83b",
            "f5019a43d5a2471191883d1f491dbfdb",
            "a833f8b589a4484c9c0580ea82222980",
            "3384a0b54b1b4ada9800b86cb68291b4",
            "f0e417d579984f61add685f637134a3f",
            "bc8c38f710ca42f3b0b700e3c8d62199",
            "4c0ad177d0194e579b72d7b1bc687043",
            "9eff1facc1614c6d93680551fd545a09"
          ]
        },
        "outputId": "beec5536-a59e-44c9-aba2-8ae84f40443f"
      },
      "execution_count": 18,
      "outputs": [
        {
          "output_type": "stream",
          "name": "stderr",
          "text": [
            "/usr/local/lib/python3.10/dist-packages/huggingface_hub/utils/_token.py:88: UserWarning: \n",
            "The secret `HF_TOKEN` does not exist in your Colab secrets.\n",
            "To authenticate with the Hugging Face Hub, create a token in your settings tab (https://huggingface.co/settings/tokens), set it as secret in your Google Colab and restart your session.\n",
            "You will be able to reuse this secret in all of your notebooks.\n",
            "Please note that authentication is recommended but still optional to access public models or datasets.\n",
            "  warnings.warn(\n"
          ]
        },
        {
          "output_type": "display_data",
          "data": {
            "text/plain": [
              "tokenizer_config.json:   0%|          | 0.00/367 [00:00<?, ?B/s]"
            ],
            "application/vnd.jupyter.widget-view+json": {
              "version_major": 2,
              "version_minor": 0,
              "model_id": "ae2357c0192d4682ba96f3303e938c8f"
            }
          },
          "metadata": {}
        },
        {
          "output_type": "display_data",
          "data": {
            "text/plain": [
              "config.json:   0%|          | 0.00/469 [00:00<?, ?B/s]"
            ],
            "application/vnd.jupyter.widget-view+json": {
              "version_major": 2,
              "version_minor": 0,
              "model_id": "d0650f94901f41279bf1220ee43e755a"
            }
          },
          "metadata": {}
        },
        {
          "output_type": "display_data",
          "data": {
            "text/plain": [
              "vocab.txt:   0%|          | 0.00/245k [00:00<?, ?B/s]"
            ],
            "application/vnd.jupyter.widget-view+json": {
              "version_major": 2,
              "version_minor": 0,
              "model_id": "d09587df96e245cc9d51b34e6761ab78"
            }
          },
          "metadata": {}
        },
        {
          "output_type": "display_data",
          "data": {
            "text/plain": [
              "special_tokens_map.json:   0%|          | 0.00/112 [00:00<?, ?B/s]"
            ],
            "application/vnd.jupyter.widget-view+json": {
              "version_major": 2,
              "version_minor": 0,
              "model_id": "fd0dfe0ffa374c8fbec72a25d4481aa6"
            }
          },
          "metadata": {}
        },
        {
          "output_type": "display_data",
          "data": {
            "text/plain": [
              "pytorch_model.bin:   0%|          | 0.00/1.37G [00:00<?, ?B/s]"
            ],
            "application/vnd.jupyter.widget-view+json": {
              "version_major": 2,
              "version_minor": 0,
              "model_id": "7981160536db48fd971c69cd7f49896c"
            }
          },
          "metadata": {}
        },
        {
          "output_type": "stream",
          "name": "stdout",
          "text": [
            "  (0, 2)\t1.0\n"
          ]
        }
      ]
    },
    {
      "cell_type": "code",
      "source": [
        "# clf_svm = svm.SVC(kernel  = 'linear')\n",
        "\n",
        "# clf_svm.fit(train_x_vectors, train_y)\n",
        "\n",
        "# clf_svm.predict(test_x_vectors[0])\n",
        "\n"
      ],
      "metadata": {
        "id": "FMLl5Z5_Q2SD",
        "colab": {
          "base_uri": "https://localhost:8080/",
          "height": 219
        },
        "outputId": "e8d3f5b3-2a75-483f-ebf8-702d81b38c4d"
      },
      "execution_count": 20,
      "outputs": [
        {
          "output_type": "error",
          "ename": "NameError",
          "evalue": "name 'train_y' is not defined",
          "traceback": [
            "\u001b[0;31m---------------------------------------------------------------------------\u001b[0m",
            "\u001b[0;31mNameError\u001b[0m                                 Traceback (most recent call last)",
            "\u001b[0;32m<ipython-input-20-b333a13522f1>\u001b[0m in \u001b[0;36m<cell line: 3>\u001b[0;34m()\u001b[0m\n\u001b[1;32m      1\u001b[0m \u001b[0mclf_svm\u001b[0m \u001b[0;34m=\u001b[0m \u001b[0msvm\u001b[0m\u001b[0;34m.\u001b[0m\u001b[0mSVC\u001b[0m\u001b[0;34m(\u001b[0m\u001b[0mkernel\u001b[0m  \u001b[0;34m=\u001b[0m \u001b[0;34m'linear'\u001b[0m\u001b[0;34m)\u001b[0m\u001b[0;34m\u001b[0m\u001b[0;34m\u001b[0m\u001b[0m\n\u001b[1;32m      2\u001b[0m \u001b[0;34m\u001b[0m\u001b[0m\n\u001b[0;32m----> 3\u001b[0;31m \u001b[0mclf_svm\u001b[0m\u001b[0;34m.\u001b[0m\u001b[0mfit\u001b[0m\u001b[0;34m(\u001b[0m\u001b[0mtrain_x_vectors\u001b[0m\u001b[0;34m,\u001b[0m \u001b[0mtrain_y\u001b[0m\u001b[0;34m)\u001b[0m\u001b[0;34m\u001b[0m\u001b[0;34m\u001b[0m\u001b[0m\n\u001b[0m\u001b[1;32m      4\u001b[0m \u001b[0;34m\u001b[0m\u001b[0m\n\u001b[1;32m      5\u001b[0m \u001b[0mclf_svm\u001b[0m\u001b[0;34m.\u001b[0m\u001b[0mpredict\u001b[0m\u001b[0;34m(\u001b[0m\u001b[0mtest_x_vectors\u001b[0m\u001b[0;34m[\u001b[0m\u001b[0;36m0\u001b[0m\u001b[0;34m]\u001b[0m\u001b[0;34m)\u001b[0m\u001b[0;34m\u001b[0m\u001b[0;34m\u001b[0m\u001b[0m\n",
            "\u001b[0;31mNameError\u001b[0m: name 'train_y' is not defined"
          ]
        }
      ]
    },
    {
      "cell_type": "code",
      "source": [
        "# from sklearn import svm\n",
        "\n",
        "# # Create SVM classifier with a linear kernel\n",
        "# clf_svm = svm.SVC(kernel='linear')\n",
        "\n",
        "# satire_list = [stire.satire for stire in stire_train_instances]\n",
        "# # Fit the classifier using TF-IDF vectors of training data\n",
        "# clf_svm.fit(train_x_vectors, satire_list)\n",
        "\n",
        "# # Predict the class label for the first sample in the test set\n",
        "# predicted_label = clf_svm.predict(test_x_vectors[0])\n",
        "\n",
        "# print(\"Predicted label:\", predicted_label)\n"
      ],
      "metadata": {
        "id": "UiUD-nN0FQ_Q"
      },
      "execution_count": null,
      "outputs": []
    },
    {
      "cell_type": "code",
      "source": [
        "# test_data = pd.read_csv('/content/test_data.csv')\n",
        "\n",
        "# test_x = test_data.Text\n",
        "# test_x = vectorizer.transform(test_x)\n",
        "\n",
        "\n",
        "\n"
      ],
      "metadata": {
        "id": "713HOSRgQzWj"
      },
      "execution_count": null,
      "outputs": []
    },
    {
      "cell_type": "code",
      "source": [
        "# predict = []\n",
        "\n",
        "# predict = clf_svm.predict(test_x)"
      ],
      "metadata": {
        "id": "LLwtUF0lQxFL"
      },
      "execution_count": null,
      "outputs": []
    },
    {
      "cell_type": "code",
      "source": [
        "# i = range(len(predict))\n",
        "# dict = {'Id':i, 'Label':predict}\n",
        "\n",
        "# final = pd.DataFrame(dict)\n",
        "\n",
        "# fc = final.columns[0]\n",
        "# final = final.drop([fc], axis=1)\n",
        "# # final.columns = ['Id', 'Label']\n",
        "# final.to_csv('final.csv')\n",
        "\n",
        "# #from sklearn.metrics import balanced_accuracy_score as bas\n",
        "# #bas(test_y, clf_svm.predict(test_x_vectors))\n"
      ],
      "metadata": {
        "id": "toZ9arCgQsYD"
      },
      "execution_count": null,
      "outputs": []
    },
    {
      "cell_type": "code",
      "source": [
        "# from sklearn.metrics import f1_score\n",
        "\n",
        "# f1_score(test_y, clf_svm.predict(test_x_vectors), average = None, labels = [Sentiment.Sexist_direct, Sentiment.Sexist_descriptiv, Sentiment.Sexist_reporting, Sentiment.Non_sexist_offensive, Sentiment.Non_sexist_non_offensive])\n"
      ],
      "metadata": {
        "id": "F1mpREX5Qpqz"
      },
      "execution_count": null,
      "outputs": []
    },
    {
      "cell_type": "code",
      "source": [
        "from sklearn.metrics import balanced_accuracy_score\n",
        "\n",
        "def balanced_accuracy_evaluate(model, test_data):\n",
        "    final_ans = []\n",
        "\n",
        "\n",
        "    fin_loss, preds, labels = eval_epoch(\n",
        "    model, test_dataloader, loss_crt, device)\n",
        "    return preds, labels"
      ],
      "metadata": {
        "id": "SpW0lmevYWh0"
      },
      "execution_count": 15,
      "outputs": []
    },
    {
      "cell_type": "code",
      "source": [
        "test = Dataset(test_data)\n",
        "\n",
        "test_dataloader = torch.utils.data.DataLoader(test, batch_size=BATCH_SIZE)\n",
        "\n",
        "predict, labels = balanced_accuracy_evaluate(model, test)\n",
        "\n",
        "print(len(predict))"
      ],
      "metadata": {
        "colab": {
          "base_uri": "https://localhost:8080/",
          "height": 219
        },
        "id": "l71YVH5rYazV",
        "outputId": "43de8cb6-1061-4e9d-ddaa-5cc38f416ea5"
      },
      "execution_count": 16,
      "outputs": [
        {
          "output_type": "error",
          "ename": "NameError",
          "evalue": "name 'Dataset' is not defined",
          "traceback": [
            "\u001b[0;31m---------------------------------------------------------------------------\u001b[0m",
            "\u001b[0;31mNameError\u001b[0m                                 Traceback (most recent call last)",
            "\u001b[0;32m<ipython-input-16-6dfb99d5ad32>\u001b[0m in \u001b[0;36m<cell line: 1>\u001b[0;34m()\u001b[0m\n\u001b[0;32m----> 1\u001b[0;31m \u001b[0mtest\u001b[0m \u001b[0;34m=\u001b[0m \u001b[0mDataset\u001b[0m\u001b[0;34m(\u001b[0m\u001b[0mtest_data\u001b[0m\u001b[0;34m)\u001b[0m\u001b[0;34m\u001b[0m\u001b[0;34m\u001b[0m\u001b[0m\n\u001b[0m\u001b[1;32m      2\u001b[0m \u001b[0;34m\u001b[0m\u001b[0m\n\u001b[1;32m      3\u001b[0m \u001b[0mtest_dataloader\u001b[0m \u001b[0;34m=\u001b[0m \u001b[0mtorch\u001b[0m\u001b[0;34m.\u001b[0m\u001b[0mutils\u001b[0m\u001b[0;34m.\u001b[0m\u001b[0mdata\u001b[0m\u001b[0;34m.\u001b[0m\u001b[0mDataLoader\u001b[0m\u001b[0;34m(\u001b[0m\u001b[0mtest\u001b[0m\u001b[0;34m,\u001b[0m \u001b[0mbatch_size\u001b[0m\u001b[0;34m=\u001b[0m\u001b[0mBATCH_SIZE\u001b[0m\u001b[0;34m)\u001b[0m\u001b[0;34m\u001b[0m\u001b[0;34m\u001b[0m\u001b[0m\n\u001b[1;32m      4\u001b[0m \u001b[0;34m\u001b[0m\u001b[0m\n\u001b[1;32m      5\u001b[0m \u001b[0mpredict\u001b[0m\u001b[0;34m,\u001b[0m \u001b[0mlabels\u001b[0m \u001b[0;34m=\u001b[0m \u001b[0mbalanced_accuracy_evaluate\u001b[0m\u001b[0;34m(\u001b[0m\u001b[0mmodel\u001b[0m\u001b[0;34m,\u001b[0m \u001b[0mtest\u001b[0m\u001b[0;34m)\u001b[0m\u001b[0;34m\u001b[0m\u001b[0;34m\u001b[0m\u001b[0m\n",
            "\u001b[0;31mNameError\u001b[0m: name 'Dataset' is not defined"
          ]
        }
      ]
    },
    {
      "cell_type": "code",
      "source": [
        "def code_to_text(code):\n",
        "  labels = [False, True]\n",
        "  return labels[code]\n",
        "\n",
        "\n",
        "\n",
        "\n",
        "y_pred = []\n",
        "output = predict\n",
        "for i in range(len(output)):\n",
        "  try:\n",
        "    item0, item1 = output[i]\n",
        "    y_pred.extend([code_to_text(item0), code_to_text(item1)])\n",
        "  except:\n",
        "    item0 = output[i]\n",
        "    y_pred.append(code_to_text(item0))\n",
        "predict = y_pred\n",
        "\n",
        "\n",
        "i = range(len(predict))\n",
        "dict = {'id':i, 'class':predict}\n",
        "\n",
        "final = pd.DataFrame(dict)\n",
        "\n",
        "fc = final.columns[0]\n",
        "final = final.drop([fc], axis=1)\n",
        "# final.columns = ['Id', 'Label']\n",
        "final.to_csv('final.csv')"
      ],
      "metadata": {
        "id": "vYCuICxzYgeZ"
      },
      "execution_count": null,
      "outputs": []
    }
  ]
}